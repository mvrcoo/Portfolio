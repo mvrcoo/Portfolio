{
  "cells": [
    {
      "cell_type": "markdown",
      "source": [],
      "metadata": {
        "id": "nsMQv5_gneV1"
      },
      "id": "nsMQv5_gneV1"
    },
    {
      "cell_type": "markdown",
      "id": "392b3aa9-d680-4856-996b-2c5335e75c13",
      "metadata": {
        "id": "392b3aa9-d680-4856-996b-2c5335e75c13"
      },
      "source": [
        "\n",
        "\n",
        "**Investing in Construction and Infastructure Companies Including Commercial Aerospace and Defense Industries**\n",
        "\n",
        "There has been a recurring importance of maintaining infrastructure for not only our highways but also buildings that must be up to code. A multitude of construction and infrustructure companies can see this as an opportunity to cooperate with cities to develop plans in mainting the infrastructure of commercial buildings and roads. In addition, investing in our defence and aerospace sector can help strengthen strategic objectives when necessary. It is also pertinent to specialize and ashieve new benchmarks in both defence and aerospace industries. These industries will be of importance in the long-term.\n",
        "\n",
        "There has been increasing amounts of people who are retiring from these sectors. It has become incresaingly important for these industries to maintain the highest standard of work. However, not many people find it lucrative in joining these industries. It is essential to recognize the importance of these sectors. It also important that technology to be improved in the long run. That is why it is necessary for funding to take shape for these companies.\n",
        "\n",
        "**Why focus on aerospace and defence?**\n",
        "\n",
        "It is essential to focus on these types of industries because these are invaluable assets that help the country. Additionally, we must understand that the importance of these industries are relevant in justifying the investments made to upgrade aging technology.\n"
      ]
    },
    {
      "cell_type": "markdown",
      "id": "803361df-9af3-49bb-ac6c-488996cd5988",
      "metadata": {
        "id": "803361df-9af3-49bb-ac6c-488996cd5988"
      },
      "source": [
        "**Using Cluster Matrices to Study Covariant, Affine Price Behaviors between Construction/Infastruture Companies and Aerospace/Defence**\n",
        "\n",
        "This study samples the recent price behavior of 10 companies, then traces the covariant, linear behavior, matrix style. Affine, or common mover groups are established, and presented interactively, for the viewer in a visual milieu.\n",
        "\n",
        "Discussion of data pipeline used, and the subsequent data transformations needed in order to create this affine matrix, as well as the technical tools to facilitate this."
      ]
    },
    {
      "cell_type": "markdown",
      "id": "bbc02ad0-58d3-4281-aa10-06db35e8b94a",
      "metadata": {
        "id": "bbc02ad0-58d3-4281-aa10-06db35e8b94a"
      },
      "source": [
        "**Overview of Data Science Techniques**\n",
        "\n",
        "The pipeline includes downloading data, introducing processing efficiencies, model building and cross validation, and cluster expression. I outline my steps as I take them, to arrive at a matrix of pricing which affords the following advantages.\n",
        "\n",
        "The experiement was adapted from scikit-learn's own documentation, where the techniques were applied to the US stock market. My rendition creates several departures while adapting the advantage of Varoquaux's pipeline.[1]\n",
        "\n",
        "1. The data ingest is fast, efficient, updateable and portable. Anyone may use this code to build a working model of US-traded stocks, and add symbols they wish to see, where I have missed them.\n",
        "2. Data represent public, recently settled trades.\n",
        "3. Local CPU resources are used in order to use notebook memory efficiently, and leverage local Linux resources.\n",
        "4. Data remains in perpetuity for the analyst, or it may be rebuilt, using updated, daily trade series.\n",
        "5. Data is built as a time series, in the OHLC format, where Opening, Closing, High and daily Low prices are located.\n",
        "6. Clustering is aimed toward predictive use, where clusters can achieve whatever size is needed, to cluster affine, covariant items\n",
        "7. Every company under consideration is measured for covariance against each other and to locate other trades in the same linear way\n",
        "8. Sparse Inverse Covariance is the technique used to identify relationships between every item in the Matrix, and thus explose clusters of products, trading similarly. This is a list of connected items, trading conditionally upon the others.Thus the list is a useable, probable list of items which trade in the same way, over a week of US business.\n",
        "9. An edge model exposes the borders for classification, and locates clusters at its discretion. Thus, no supervised limits are imposed in cluster formation.\n",
        "10. Hyperparameters are determined via search with a predetermined number of folds, where each subset is used to locate model parameters, which are averaged at the close of the run.\n",
        "11. Given the large volume of colinear features, a cross validation technique is used to 'lasso' model features."
      ]
    },
    {
      "cell_type": "markdown",
      "id": "e6584e36-196d-4eb9-99e3-50ec0a45def7",
      "metadata": {
        "id": "e6584e36-196d-4eb9-99e3-50ec0a45def7"
      },
      "source": [
        "**Building the Data Science Environment for Linux and Python**\n",
        "\n",
        "Use the following commands to interface with your underlying linux environment. These may not need to be commented out, but will remain necessary each time a new kernel boot, in your notebook, takes place."
      ]
    },
    {
      "cell_type": "code",
      "execution_count": null,
      "id": "073d549f-d5fe-4a53-b6ab-f0fd80ec5bde",
      "metadata": {
        "colab": {
          "base_uri": "https://localhost:8080/"
        },
        "id": "073d549f-d5fe-4a53-b6ab-f0fd80ec5bde",
        "outputId": "6d81cc88-d93e-4141-98de-5a4922a12598"
      },
      "outputs": [
        {
          "output_type": "stream",
          "name": "stdout",
          "text": [
            "Looking in indexes: https://pypi.org/simple, https://us-python.pkg.dev/colab-wheels/public/simple/\n",
            "Requirement already satisfied: yfinance in /usr/local/lib/python3.10/dist-packages (0.2.18)\n",
            "Requirement already satisfied: pandas>=1.3.0 in /usr/local/lib/python3.10/dist-packages (from yfinance) (1.5.3)\n",
            "Requirement already satisfied: numpy>=1.16.5 in /usr/local/lib/python3.10/dist-packages (from yfinance) (1.22.4)\n",
            "Requirement already satisfied: requests>=2.26 in /usr/local/lib/python3.10/dist-packages (from yfinance) (2.27.1)\n",
            "Requirement already satisfied: multitasking>=0.0.7 in /usr/local/lib/python3.10/dist-packages (from yfinance) (0.0.11)\n",
            "Requirement already satisfied: lxml>=4.9.1 in /usr/local/lib/python3.10/dist-packages (from yfinance) (4.9.2)\n",
            "Requirement already satisfied: appdirs>=1.4.4 in /usr/local/lib/python3.10/dist-packages (from yfinance) (1.4.4)\n",
            "Requirement already satisfied: pytz>=2022.5 in /usr/local/lib/python3.10/dist-packages (from yfinance) (2022.7.1)\n",
            "Requirement already satisfied: frozendict>=2.3.4 in /usr/local/lib/python3.10/dist-packages (from yfinance) (2.3.7)\n",
            "Requirement already satisfied: cryptography>=3.3.2 in /usr/local/lib/python3.10/dist-packages (from yfinance) (40.0.2)\n",
            "Requirement already satisfied: beautifulsoup4>=4.11.1 in /usr/local/lib/python3.10/dist-packages (from yfinance) (4.11.2)\n",
            "Requirement already satisfied: html5lib>=1.1 in /usr/local/lib/python3.10/dist-packages (from yfinance) (1.1)\n",
            "Requirement already satisfied: soupsieve>1.2 in /usr/local/lib/python3.10/dist-packages (from beautifulsoup4>=4.11.1->yfinance) (2.4.1)\n",
            "Requirement already satisfied: cffi>=1.12 in /usr/local/lib/python3.10/dist-packages (from cryptography>=3.3.2->yfinance) (1.15.1)\n",
            "Requirement already satisfied: six>=1.9 in /usr/local/lib/python3.10/dist-packages (from html5lib>=1.1->yfinance) (1.16.0)\n",
            "Requirement already satisfied: webencodings in /usr/local/lib/python3.10/dist-packages (from html5lib>=1.1->yfinance) (0.5.1)\n",
            "Requirement already satisfied: python-dateutil>=2.8.1 in /usr/local/lib/python3.10/dist-packages (from pandas>=1.3.0->yfinance) (2.8.2)\n",
            "Requirement already satisfied: urllib3<1.27,>=1.21.1 in /usr/local/lib/python3.10/dist-packages (from requests>=2.26->yfinance) (1.26.15)\n",
            "Requirement already satisfied: certifi>=2017.4.17 in /usr/local/lib/python3.10/dist-packages (from requests>=2.26->yfinance) (2022.12.7)\n",
            "Requirement already satisfied: charset-normalizer~=2.0.0 in /usr/local/lib/python3.10/dist-packages (from requests>=2.26->yfinance) (2.0.12)\n",
            "Requirement already satisfied: idna<4,>=2.5 in /usr/local/lib/python3.10/dist-packages (from requests>=2.26->yfinance) (3.4)\n",
            "Requirement already satisfied: pycparser in /usr/local/lib/python3.10/dist-packages (from cffi>=1.12->cryptography>=3.3.2->yfinance) (2.21)\n",
            "Looking in indexes: https://pypi.org/simple, https://us-python.pkg.dev/colab-wheels/public/simple/\n",
            "Requirement already satisfied: vega_datasets in /usr/local/lib/python3.10/dist-packages (0.9.0)\n",
            "Requirement already satisfied: pandas in /usr/local/lib/python3.10/dist-packages (from vega_datasets) (1.5.3)\n",
            "Requirement already satisfied: python-dateutil>=2.8.1 in /usr/local/lib/python3.10/dist-packages (from pandas->vega_datasets) (2.8.2)\n",
            "Requirement already satisfied: pytz>=2020.1 in /usr/local/lib/python3.10/dist-packages (from pandas->vega_datasets) (2022.7.1)\n",
            "Requirement already satisfied: numpy>=1.21.0 in /usr/local/lib/python3.10/dist-packages (from pandas->vega_datasets) (1.22.4)\n",
            "Requirement already satisfied: six>=1.5 in /usr/local/lib/python3.10/dist-packages (from python-dateutil>=2.8.1->pandas->vega_datasets) (1.16.0)\n"
          ]
        }
      ],
      "source": [
        "!pip install yfinance\n",
        "!pip install vega_datasets"
      ]
    },
    {
      "cell_type": "markdown",
      "id": "e57d2105-6753-404e-b0c3-9d64531ffa65",
      "metadata": {
        "id": "e57d2105-6753-404e-b0c3-9d64531ffa65"
      },
      "source": [
        "**Data Ingest from Public Markets**\n",
        "\n",
        "The free, common Yahoo Finace API is used to download data from all commodites you wish to see studied. This data will be stored persistently next to your notebook in common environments such as Binder.\n",
        "\n",
        "Please note that if you deploy this notebook in Google Collab that the 37+ files downloaded will be erased between uses, but can be rebuilt easily each time you operate this notebook.\n",
        "\n",
        "The data you download becomes permanently usable, and the ingest request below can be customized in order to grab more, or less data and at different intervals.[2]\n",
        "\n",
        "I have included several exceptions to the download and renaming technique, in order to tolerate stocks with differing ticker symbols."
      ]
    },
    {
      "cell_type": "code",
      "execution_count": null,
      "id": "14283c99-4df9-46a4-8696-153e91a6da8a",
      "metadata": {
        "id": "14283c99-4df9-46a4-8696-153e91a6da8a"
      },
      "outputs": [],
      "source": [
        "import yfinance as yf\n",
        "from time import time,ctime, clock_gettime\n",
        "from time import gmtime, time, time_ns\n",
        "\n",
        "def ifs(input):\n",
        "    ni = ''\n",
        "    if input =='gff':\n",
        "        input = 'GFF'\n",
        "        ni = \"GF=F\"\n",
        "    elif input == 'zff':\n",
        "        input = 'ZFF'\n",
        "        ni = \"ZF=F\"\n",
        "    else:\n",
        "        input = input.upper()\n",
        "        ins = \"=\"\n",
        "        before = \"F\"\n",
        "        ni = input.replace(before, ins + before , 1)\n",
        "    print(ni)\n",
        "    data = yf.download(\n",
        "        tickers = ni,\n",
        "        period = \"500d\",\n",
        "        interval = \"1d\",\n",
        "        group_by = 'ticker',\n",
        "        auto_adjust = True,\n",
        "        prepost = True,\n",
        "        threads = True,\n",
        "        proxy = None\n",
        "    )\n",
        "    epoch = ctime()\n",
        "    filename = input\n",
        "    data.to_csv(filename)\n",
        "#!ls #only in jupy"
      ]
    },
    {
      "cell_type": "markdown",
      "id": "765eed9a-8928-40c7-b35c-7095cdba1989",
      "metadata": {
        "id": "765eed9a-8928-40c7-b35c-7095cdba1989"
      },
      "source": [
        "**Trigger Data Downloads**\n",
        "\n",
        "The following code customizes the stocks under investigation. In order to compare every commodity's price history versus the rest in your matrix, the lengths of the data captures are minimized to the length of the smallest data set. Thus, larger sets are only captured at the length of the smallest set.\n",
        "\n",
        "The volatility of every price tick is calculated via [close price minus open price]."
      ]
    },
    {
      "cell_type": "code",
      "execution_count": null,
      "id": "235a9b6c-d3f8-490d-bd67-1e129d2e7ffc",
      "metadata": {
        "colab": {
          "base_uri": "https://localhost:8080/",
          "height": 133
        },
        "id": "235a9b6c-d3f8-490d-bd67-1e129d2e7ffc",
        "outputId": "9d8ee7b2-9afd-4c2d-865f-f99e71c540f6"
      },
      "outputs": [
        {
          "output_type": "error",
          "ename": "IndentationError",
          "evalue": "ignored",
          "traceback": [
            "\u001b[0;36m  File \u001b[0;32m\"<ipython-input-4-4055c055a9fd>\"\u001b[0;36m, line \u001b[0;32m11\u001b[0m\n\u001b[0;31m    ifs\u001b[0m\n\u001b[0m    ^\u001b[0m\n\u001b[0;31mIndentationError\u001b[0m\u001b[0;31m:\u001b[0m expected an indented block after 'for' statement on line 10\n"
          ]
        }
      ],
      "source": [
        "#read in csv data from each commodity capture, gather\n",
        "#assign 'open' to an array, create df from arrays\n",
        "import numpy as np\n",
        "import pandas as pd\n",
        "from  scipy.stats import pearsonr\n",
        "symbol_dict = {\"VLO\":\"Valero Energy\", \"XOM\":\"Exxon Corp\", \"JPM\":\"JP Morgan\", \"TGT\":\"Target Corp\", \"INTC\":\"Intel Corporation\", \"AMZN\":\"Amazon.com, Inc.\", \"CAT\":\"Caterpillar Inc.\", \"RTX\":\"Raytheon Technologies Corp\", \"HD\":\"Home Depot Inc\", \"LMT\":\"Lockheed Martin Corp\"} #QQ, SPY , TNX, VIX\n",
        "\n",
        "sym, names = np.array(sorted(symbol_dict.items())).T\n",
        "\n",
        "for i in sym:    #build all symbol csvs, will populate/appear in your binder. Use linux for efficient dp\n",
        "ifs\n",
        "\n",
        "quotes = []\n",
        "lens = []\n",
        "for symbol in sym:\n",
        "    symbol = symbol.upper()\n",
        "    t = pd.read_csv(symbol)\n",
        "    lens.append(t.shape[0])\n",
        "mm = np.amin(lens)-1\n",
        "print(\"min length of data: \",mm)\n",
        "\n",
        "for symbol in sym:\n",
        "    symbol = symbol.upper()\n",
        "    t = pd.read_csv(symbol)\n",
        "    t= t.truncate(after=mm)\n",
        "    quotes.append(t)\n",
        "mi = np.vstack([q[\"Close\"] for q in quotes]) #min\n",
        "ma = np.vstack([q[\"Open\"] for q in quotes]) #max\n",
        "\n",
        "volatility = ma - mi\n"
      ]
    },
    {
      "cell_type": "code",
      "source": [],
      "metadata": {
        "id": "3NQCrmm2DWq4"
      },
      "id": "3NQCrmm2DWq4",
      "execution_count": null,
      "outputs": []
    },
    {
      "cell_type": "markdown",
      "id": "95d403b1-19a4-41cb-92a0-fbbd9db0d87d",
      "metadata": {
        "id": "95d403b1-19a4-41cb-92a0-fbbd9db0d87d"
      },
      "source": [
        "**Data Format**\n",
        "\n",
        "After downloading this massive store of data, you should click on a file, in your project. Using the file browser, you will see a large quantity of new files.\n",
        "\n",
        "When you open one, you will see the rows of new data.\n"
      ]
    },
    {
      "cell_type": "markdown",
      "id": "856530ae-2745-4a90-82ce-714af3afe78f",
      "metadata": {
        "id": "856530ae-2745-4a90-82ce-714af3afe78f"
      },
      "source": [
        "**Cross Validate for Optimal Parameters: the Lasso**\n",
        "\n",
        "Varoquaux's pipeline involves steps in the following two cells.\n",
        "\n",
        "A set of clusters is built using a set of predefined edges, called the edge model. The volatility of every OHLC tick is fed into the edge model, in order to establish a covariance to each other.\n",
        "\n",
        "The advantages of the Graphical Lasso model is that a cross validated average set of hyperparameters is located, then applied to cluster each stock. Thus, every stock is identified with other stockss which move in tandem, together, over seven days. I print the alpha edges below, and visualize this group.\n",
        "\n",
        "Depending upon the markets when you run this study, more intensive clustering may take place at either end of the spectrum. This exposes the covariance between different groups, while exposing outlier clusters.\n",
        "\n",
        "**Using the Interactive Graph**\n",
        "\n",
        "Feel free to move your mouse into the graph, then roll your mouse. This will drill in/out and allow you to hover over data points. They will mape to the edges of the clusters, under investigation.\n",
        "\n",
        "\n"
      ]
    },
    {
      "cell_type": "code",
      "execution_count": null,
      "id": "a9c414d9-220d-4e89-867a-663f6e92c7bb",
      "metadata": {
        "colab": {
          "base_uri": "https://localhost:8080/",
          "height": 780
        },
        "id": "a9c414d9-220d-4e89-867a-663f6e92c7bb",
        "outputId": "cc201930-51ad-4d51-c0bb-c1367c9ac35a"
      },
      "outputs": [
        {
          "output_type": "stream",
          "name": "stdout",
          "text": [
            "<class 'numpy.ndarray'>\n",
            "0.03162277660168379\n",
            "0.047705826961439296\n",
            "0.07196856730011521\n",
            "0.10857111194022041\n",
            "0.16378937069540642\n",
            "0.2470911227985605\n",
            "0.372759372031494\n",
            "0.5623413251903491\n",
            "0.8483428982440722\n",
            "1.279802213997954\n",
            "1.9306977288832505\n",
            "2.9126326549087382\n",
            "4.39397056076079\n",
            "6.628703161826448\n",
            "10.0\n"
          ]
        },
        {
          "output_type": "execute_result",
          "data": {
            "text/html": [
              "\n",
              "<div id=\"altair-viz-075b2ef65dde4226a931ecea53215d92\"></div>\n",
              "<script type=\"text/javascript\">\n",
              "  var VEGA_DEBUG = (typeof VEGA_DEBUG == \"undefined\") ? {} : VEGA_DEBUG;\n",
              "  (function(spec, embedOpt){\n",
              "    let outputDiv = document.currentScript.previousElementSibling;\n",
              "    if (outputDiv.id !== \"altair-viz-075b2ef65dde4226a931ecea53215d92\") {\n",
              "      outputDiv = document.getElementById(\"altair-viz-075b2ef65dde4226a931ecea53215d92\");\n",
              "    }\n",
              "    const paths = {\n",
              "      \"vega\": \"https://cdn.jsdelivr.net/npm//vega@5?noext\",\n",
              "      \"vega-lib\": \"https://cdn.jsdelivr.net/npm//vega-lib?noext\",\n",
              "      \"vega-lite\": \"https://cdn.jsdelivr.net/npm//vega-lite@4.17.0?noext\",\n",
              "      \"vega-embed\": \"https://cdn.jsdelivr.net/npm//vega-embed@6?noext\",\n",
              "    };\n",
              "\n",
              "    function maybeLoadScript(lib, version) {\n",
              "      var key = `${lib.replace(\"-\", \"\")}_version`;\n",
              "      return (VEGA_DEBUG[key] == version) ?\n",
              "        Promise.resolve(paths[lib]) :\n",
              "        new Promise(function(resolve, reject) {\n",
              "          var s = document.createElement('script');\n",
              "          document.getElementsByTagName(\"head\")[0].appendChild(s);\n",
              "          s.async = true;\n",
              "          s.onload = () => {\n",
              "            VEGA_DEBUG[key] = version;\n",
              "            return resolve(paths[lib]);\n",
              "          };\n",
              "          s.onerror = () => reject(`Error loading script: ${paths[lib]}`);\n",
              "          s.src = paths[lib];\n",
              "        });\n",
              "    }\n",
              "\n",
              "    function showError(err) {\n",
              "      outputDiv.innerHTML = `<div class=\"error\" style=\"color:red;\">${err}</div>`;\n",
              "      throw err;\n",
              "    }\n",
              "\n",
              "    function displayChart(vegaEmbed) {\n",
              "      vegaEmbed(outputDiv, spec, embedOpt)\n",
              "        .catch(err => showError(`Javascript Error: ${err.message}<br>This usually means there's a typo in your chart specification. See the javascript console for the full traceback.`));\n",
              "    }\n",
              "\n",
              "    if(typeof define === \"function\" && define.amd) {\n",
              "      requirejs.config({paths});\n",
              "      require([\"vega-embed\"], displayChart, err => showError(`Error loading script: ${err.message}`));\n",
              "    } else {\n",
              "      maybeLoadScript(\"vega\", \"5\")\n",
              "        .then(() => maybeLoadScript(\"vega-lite\", \"4.17.0\"))\n",
              "        .then(() => maybeLoadScript(\"vega-embed\", \"6\"))\n",
              "        .catch(showError)\n",
              "        .then(() => displayChart(vegaEmbed));\n",
              "    }\n",
              "  })({\"config\": {\"view\": {\"continuousWidth\": 400, \"continuousHeight\": 300}}, \"data\": {\"name\": \"data-e00b725f47bb04e84b24a287207abc43\"}, \"mark\": {\"type\": \"point\", \"filled\": true, \"size\": 100}, \"encoding\": {\"tooltip\": [{\"field\": \"alpha\", \"type\": \"quantitative\"}], \"x\": {\"field\": \"alpha\", \"type\": \"quantitative\"}, \"y\": {\"field\": \"idx\", \"type\": \"quantitative\"}}, \"height\": 400, \"selection\": {\"selector006\": {\"type\": \"interval\", \"bind\": \"scales\", \"encodings\": [\"x\", \"y\"]}}, \"title\": \"Edges Present Within the Graphical Lasso Model\", \"width\": 800, \"$schema\": \"https://vega.github.io/schema/vega-lite/v4.17.0.json\", \"datasets\": {\"data-e00b725f47bb04e84b24a287207abc43\": [{\"idx\": 0, \"alpha\": 0.03162277660168379}, {\"idx\": 1, \"alpha\": 0.047705826961439296}, {\"idx\": 2, \"alpha\": 0.07196856730011521}, {\"idx\": 3, \"alpha\": 0.10857111194022041}, {\"idx\": 4, \"alpha\": 0.16378937069540642}, {\"idx\": 5, \"alpha\": 0.2470911227985605}, {\"idx\": 6, \"alpha\": 0.372759372031494}, {\"idx\": 7, \"alpha\": 0.5623413251903491}, {\"idx\": 8, \"alpha\": 0.8483428982440722}, {\"idx\": 9, \"alpha\": 1.279802213997954}, {\"idx\": 10, \"alpha\": 1.9306977288832505}, {\"idx\": 11, \"alpha\": 2.9126326549087382}, {\"idx\": 12, \"alpha\": 4.39397056076079}, {\"idx\": 13, \"alpha\": 6.628703161826448}, {\"idx\": 14, \"alpha\": 10.0}]}}, {\"mode\": \"vega-lite\"});\n",
              "</script>"
            ],
            "text/plain": [
              "alt.Chart(...)"
            ]
          },
          "metadata": {},
          "execution_count": 72
        }
      ],
      "source": [
        "from sklearn import covariance\n",
        "import altair as alt\n",
        "alphas = np.logspace(-1.5, 1, num=15)\n",
        "edge_model = covariance.GraphicalLassoCV(alphas=alphas)\n",
        "X = volatility.copy().T\n",
        "X /= X.std(axis=0)\n",
        "l =edge_model.fit(X)\n",
        "n= []\n",
        "print(type(l.alphas))\n",
        "for  i in range(len(l.alphas)):\n",
        "    print(l.alphas[i])\n",
        "    dict = {\"idx\":i , \"alpha\":l.alphas[i]}\n",
        "    n.append(dict)\n",
        "\n",
        "dd = pd.DataFrame(n)\n",
        "alt.Chart(dd).mark_point(filled=True, size=100).encode(\n",
        "    y=alt.Y('idx'),\n",
        "    x=alt.X('alpha'),tooltip=['alpha'],).properties(\n",
        "        width=800,\n",
        "        height=400,\n",
        "        title=\"Edges Present Within the Graphical Lasso Model\"\n",
        "    ).interactive()"
      ]
    },
    {
      "cell_type": "markdown",
      "id": "da9140ae-9ecd-4988-a3a7-b19dbf7ed23d",
      "metadata": {
        "id": "da9140ae-9ecd-4988-a3a7-b19dbf7ed23d"
      },
      "source": [
        "**Definining cluster Membership, by Covariant Affinity**\n",
        "\n",
        "Clusters of covariant, affine moving stocks are established. This group is then passed into a dataframe so that the buckets of symbols can become visible."
      ]
    },
    {
      "cell_type": "code",
      "execution_count": null,
      "id": "2ce0b55e-e43a-4203-b640-3f7bb59802eb",
      "metadata": {
        "id": "2ce0b55e-e43a-4203-b640-3f7bb59802eb",
        "outputId": "fb45198a-9644-4f08-97cd-ed3f116b846a",
        "colab": {
          "base_uri": "https://localhost:8080/",
          "height": 419
        }
      },
      "outputs": [
        {
          "output_type": "stream",
          "name": "stdout",
          "text": [
            "Cluster 1: AMZN, HD, INTC, TGT\n",
            "Cluster 2: JPM, LMT, RTX\n",
            "Cluster 3: CAT, VLO, XOM\n"
          ]
        },
        {
          "output_type": "stream",
          "name": "stderr",
          "text": [
            "<ipython-input-73-3e2cbe7f4ace>:12: FutureWarning:\n",
            "\n",
            "The frame.append method is deprecated and will be removed from pandas in a future version. Use pandas.concat instead.\n",
            "\n",
            "<ipython-input-73-3e2cbe7f4ace>:12: FutureWarning:\n",
            "\n",
            "The frame.append method is deprecated and will be removed from pandas in a future version. Use pandas.concat instead.\n",
            "\n",
            "<ipython-input-73-3e2cbe7f4ace>:12: FutureWarning:\n",
            "\n",
            "The frame.append method is deprecated and will be removed from pandas in a future version. Use pandas.concat instead.\n",
            "\n"
          ]
        },
        {
          "output_type": "execute_result",
          "data": {
            "text/plain": [
              "   cluster                                              names  size  \\\n",
              "0        1  [Amazon.com, Inc., Home Depot Inc, Intel Corpo...     4   \n",
              "1        2  [JP Morgan, Lockheed Martin Corp, Raytheon Tec...     3   \n",
              "2        3      [Caterpillar Inc., Valero Energy, Exxon Corp]     3   \n",
              "\n",
              "                 symbols  \n",
              "0  [AMZN, HD, INTC, TGT]  \n",
              "1        [JPM, LMT, RTX]  \n",
              "2        [CAT, VLO, XOM]  "
            ],
            "text/html": [
              "\n",
              "  <div id=\"df-ce5c94df-918a-490d-8cad-cd49b4c44b2b\">\n",
              "    <div class=\"colab-df-container\">\n",
              "      <div>\n",
              "<style scoped>\n",
              "    .dataframe tbody tr th:only-of-type {\n",
              "        vertical-align: middle;\n",
              "    }\n",
              "\n",
              "    .dataframe tbody tr th {\n",
              "        vertical-align: top;\n",
              "    }\n",
              "\n",
              "    .dataframe thead th {\n",
              "        text-align: right;\n",
              "    }\n",
              "</style>\n",
              "<table border=\"1\" class=\"dataframe\">\n",
              "  <thead>\n",
              "    <tr style=\"text-align: right;\">\n",
              "      <th></th>\n",
              "      <th>cluster</th>\n",
              "      <th>names</th>\n",
              "      <th>size</th>\n",
              "      <th>symbols</th>\n",
              "    </tr>\n",
              "  </thead>\n",
              "  <tbody>\n",
              "    <tr>\n",
              "      <th>0</th>\n",
              "      <td>1</td>\n",
              "      <td>[Amazon.com, Inc., Home Depot Inc, Intel Corpo...</td>\n",
              "      <td>4</td>\n",
              "      <td>[AMZN, HD, INTC, TGT]</td>\n",
              "    </tr>\n",
              "    <tr>\n",
              "      <th>1</th>\n",
              "      <td>2</td>\n",
              "      <td>[JP Morgan, Lockheed Martin Corp, Raytheon Tec...</td>\n",
              "      <td>3</td>\n",
              "      <td>[JPM, LMT, RTX]</td>\n",
              "    </tr>\n",
              "    <tr>\n",
              "      <th>2</th>\n",
              "      <td>3</td>\n",
              "      <td>[Caterpillar Inc., Valero Energy, Exxon Corp]</td>\n",
              "      <td>3</td>\n",
              "      <td>[CAT, VLO, XOM]</td>\n",
              "    </tr>\n",
              "  </tbody>\n",
              "</table>\n",
              "</div>\n",
              "      <button class=\"colab-df-convert\" onclick=\"convertToInteractive('df-ce5c94df-918a-490d-8cad-cd49b4c44b2b')\"\n",
              "              title=\"Convert this dataframe to an interactive table.\"\n",
              "              style=\"display:none;\">\n",
              "        \n",
              "  <svg xmlns=\"http://www.w3.org/2000/svg\" height=\"24px\"viewBox=\"0 0 24 24\"\n",
              "       width=\"24px\">\n",
              "    <path d=\"M0 0h24v24H0V0z\" fill=\"none\"/>\n",
              "    <path d=\"M18.56 5.44l.94 2.06.94-2.06 2.06-.94-2.06-.94-.94-2.06-.94 2.06-2.06.94zm-11 1L8.5 8.5l.94-2.06 2.06-.94-2.06-.94L8.5 2.5l-.94 2.06-2.06.94zm10 10l.94 2.06.94-2.06 2.06-.94-2.06-.94-.94-2.06-.94 2.06-2.06.94z\"/><path d=\"M17.41 7.96l-1.37-1.37c-.4-.4-.92-.59-1.43-.59-.52 0-1.04.2-1.43.59L10.3 9.45l-7.72 7.72c-.78.78-.78 2.05 0 2.83L4 21.41c.39.39.9.59 1.41.59.51 0 1.02-.2 1.41-.59l7.78-7.78 2.81-2.81c.8-.78.8-2.07 0-2.86zM5.41 20L4 18.59l7.72-7.72 1.47 1.35L5.41 20z\"/>\n",
              "  </svg>\n",
              "      </button>\n",
              "      \n",
              "  <style>\n",
              "    .colab-df-container {\n",
              "      display:flex;\n",
              "      flex-wrap:wrap;\n",
              "      gap: 12px;\n",
              "    }\n",
              "\n",
              "    .colab-df-convert {\n",
              "      background-color: #E8F0FE;\n",
              "      border: none;\n",
              "      border-radius: 50%;\n",
              "      cursor: pointer;\n",
              "      display: none;\n",
              "      fill: #1967D2;\n",
              "      height: 32px;\n",
              "      padding: 0 0 0 0;\n",
              "      width: 32px;\n",
              "    }\n",
              "\n",
              "    .colab-df-convert:hover {\n",
              "      background-color: #E2EBFA;\n",
              "      box-shadow: 0px 1px 2px rgba(60, 64, 67, 0.3), 0px 1px 3px 1px rgba(60, 64, 67, 0.15);\n",
              "      fill: #174EA6;\n",
              "    }\n",
              "\n",
              "    [theme=dark] .colab-df-convert {\n",
              "      background-color: #3B4455;\n",
              "      fill: #D2E3FC;\n",
              "    }\n",
              "\n",
              "    [theme=dark] .colab-df-convert:hover {\n",
              "      background-color: #434B5C;\n",
              "      box-shadow: 0px 1px 3px 1px rgba(0, 0, 0, 0.15);\n",
              "      filter: drop-shadow(0px 1px 2px rgba(0, 0, 0, 0.3));\n",
              "      fill: #FFFFFF;\n",
              "    }\n",
              "  </style>\n",
              "\n",
              "      <script>\n",
              "        const buttonEl =\n",
              "          document.querySelector('#df-ce5c94df-918a-490d-8cad-cd49b4c44b2b button.colab-df-convert');\n",
              "        buttonEl.style.display =\n",
              "          google.colab.kernel.accessAllowed ? 'block' : 'none';\n",
              "\n",
              "        async function convertToInteractive(key) {\n",
              "          const element = document.querySelector('#df-ce5c94df-918a-490d-8cad-cd49b4c44b2b');\n",
              "          const dataTable =\n",
              "            await google.colab.kernel.invokeFunction('convertToInteractive',\n",
              "                                                     [key], {});\n",
              "          if (!dataTable) return;\n",
              "\n",
              "          const docLinkHtml = 'Like what you see? Visit the ' +\n",
              "            '<a target=\"_blank\" href=https://colab.research.google.com/notebooks/data_table.ipynb>data table notebook</a>'\n",
              "            + ' to learn more about interactive tables.';\n",
              "          element.innerHTML = '';\n",
              "          dataTable['output_type'] = 'display_data';\n",
              "          await google.colab.output.renderOutput(dataTable, element);\n",
              "          const docLink = document.createElement('div');\n",
              "          docLink.innerHTML = docLinkHtml;\n",
              "          element.appendChild(docLink);\n",
              "        }\n",
              "      </script>\n",
              "    </div>\n",
              "  </div>\n",
              "  "
            ]
          },
          "metadata": {},
          "execution_count": 73
        }
      ],
      "source": [
        "from sklearn import cluster\n",
        "                                                    #each symbol, at index, is labeled with a cluster id:\n",
        "_, labels = cluster.affinity_propagation(edge_model.covariance_, random_state=0)\n",
        "n_labels = labels.max()                             #integer limit to list of clusters ids\n",
        "# print(\"names: \",names,\"  symbols: \",sym)\n",
        "gdf = pd.DataFrame()\n",
        "for i in range(n_labels + 1):\n",
        "    print(f\"Cluster {i + 1}: {', '.join(np.array(sym)[labels == i])}\")\n",
        "    l = np.array(sym)[labels == i]\n",
        "    ss = np.array(names)[labels == i]\n",
        "    dict = {\"cluster\":(i+1), \"symbols\":l, \"size\":len(l), \"names\":ss}\n",
        "    gdf = gdf.append(dict, ignore_index=True, sort=True)\n",
        "\n",
        "gdf.head(15)\n"
      ]
    },
    {
      "cell_type": "markdown",
      "id": "8288af93-98fc-4bf6-86e1-63f14329185d",
      "metadata": {
        "id": "8288af93-98fc-4bf6-86e1-63f14329185d"
      },
      "source": [
        "**Visualizing cluster and affine securities, by volatility**\n",
        "\n",
        "The interactive graphic requires the user to hover over each dot, in teh scatter chart. The size of the security cluster pushes it to the top, where the user can study the members, whose prices move in covariant fashion.\n",
        "\n",
        "I have experimented with laying the text of the securities cluster over the dots, but I find that the above table is most helpful, in identifying markets which move in tandem, and with similar price graphs. Also, as groups expand and contract, overlaying text on the chart below may prevent certain clusters from appearing. I appreciate spacing them out, and not congesting the chart.\n",
        "\n",
        "The user is free to study where his or her chosen security may sit, in close relation to other globally relevant securities."
      ]
    },
    {
      "cell_type": "code",
      "execution_count": null,
      "id": "5aef26d7-c4d9-45e7-86fd-1cdcdad04f68",
      "metadata": {
        "id": "5aef26d7-c4d9-45e7-86fd-1cdcdad04f68",
        "outputId": "e9d8564b-54cf-49ab-f399-a9ec379b3c85",
        "colab": {
          "base_uri": "https://localhost:8080/"
        }
      },
      "outputs": [
        {
          "output_type": "stream",
          "name": "stdout",
          "text": [
            "cluster  1\n",
            "['Amazon.com, Inc.' 'Home Depot Inc' 'Intel Corporation' 'Target Corp'] , \n",
            "cluster  2\n",
            "['JP Morgan' 'Lockheed Martin Corp' 'Raytheon Technologies Corp'] , \n",
            "cluster  3\n",
            "['Caterpillar Inc.' 'Valero Energy' 'Exxon Corp'] , \n"
          ]
        }
      ],
      "source": [
        "for i in gdf['cluster']:\n",
        "    print(\"cluster \",i)\n",
        "    d = gdf[gdf['cluster'].eq(i)]\n",
        "    for j in d.names:\n",
        "        print(j, \", \")"
      ]
    },
    {
      "cell_type": "code",
      "execution_count": null,
      "id": "e9fc3447-18c9-4a13-96dc-b3a1e54eaf3f",
      "metadata": {
        "id": "e9fc3447-18c9-4a13-96dc-b3a1e54eaf3f",
        "outputId": "8a3351c2-403c-4ed6-c12c-29af022044da",
        "colab": {
          "base_uri": "https://localhost:8080/",
          "height": 482
        }
      },
      "outputs": [
        {
          "output_type": "execute_result",
          "data": {
            "text/html": [
              "\n",
              "<div id=\"altair-viz-e564d9a3750d405d816500a67573d2f8\"></div>\n",
              "<script type=\"text/javascript\">\n",
              "  var VEGA_DEBUG = (typeof VEGA_DEBUG == \"undefined\") ? {} : VEGA_DEBUG;\n",
              "  (function(spec, embedOpt){\n",
              "    let outputDiv = document.currentScript.previousElementSibling;\n",
              "    if (outputDiv.id !== \"altair-viz-e564d9a3750d405d816500a67573d2f8\") {\n",
              "      outputDiv = document.getElementById(\"altair-viz-e564d9a3750d405d816500a67573d2f8\");\n",
              "    }\n",
              "    const paths = {\n",
              "      \"vega\": \"https://cdn.jsdelivr.net/npm//vega@5?noext\",\n",
              "      \"vega-lib\": \"https://cdn.jsdelivr.net/npm//vega-lib?noext\",\n",
              "      \"vega-lite\": \"https://cdn.jsdelivr.net/npm//vega-lite@4.17.0?noext\",\n",
              "      \"vega-embed\": \"https://cdn.jsdelivr.net/npm//vega-embed@6?noext\",\n",
              "    };\n",
              "\n",
              "    function maybeLoadScript(lib, version) {\n",
              "      var key = `${lib.replace(\"-\", \"\")}_version`;\n",
              "      return (VEGA_DEBUG[key] == version) ?\n",
              "        Promise.resolve(paths[lib]) :\n",
              "        new Promise(function(resolve, reject) {\n",
              "          var s = document.createElement('script');\n",
              "          document.getElementsByTagName(\"head\")[0].appendChild(s);\n",
              "          s.async = true;\n",
              "          s.onload = () => {\n",
              "            VEGA_DEBUG[key] = version;\n",
              "            return resolve(paths[lib]);\n",
              "          };\n",
              "          s.onerror = () => reject(`Error loading script: ${paths[lib]}`);\n",
              "          s.src = paths[lib];\n",
              "        });\n",
              "    }\n",
              "\n",
              "    function showError(err) {\n",
              "      outputDiv.innerHTML = `<div class=\"error\" style=\"color:red;\">${err}</div>`;\n",
              "      throw err;\n",
              "    }\n",
              "\n",
              "    function displayChart(vegaEmbed) {\n",
              "      vegaEmbed(outputDiv, spec, embedOpt)\n",
              "        .catch(err => showError(`Javascript Error: ${err.message}<br>This usually means there's a typo in your chart specification. See the javascript console for the full traceback.`));\n",
              "    }\n",
              "\n",
              "    if(typeof define === \"function\" && define.amd) {\n",
              "      requirejs.config({paths});\n",
              "      require([\"vega-embed\"], displayChart, err => showError(`Error loading script: ${err.message}`));\n",
              "    } else {\n",
              "      maybeLoadScript(\"vega\", \"5\")\n",
              "        .then(() => maybeLoadScript(\"vega-lite\", \"4.17.0\"))\n",
              "        .then(() => maybeLoadScript(\"vega-embed\", \"6\"))\n",
              "        .catch(showError)\n",
              "        .then(() => displayChart(vegaEmbed));\n",
              "    }\n",
              "  })({\"config\": {\"view\": {\"continuousWidth\": 400, \"continuousHeight\": 300}}, \"data\": {\"name\": \"data-88a1ea2e957a5cf595a4c497d31dc6c1\"}, \"mark\": {\"type\": \"circle\", \"size\": 60}, \"encoding\": {\"color\": {\"field\": \"size\", \"type\": \"quantitative\"}, \"size\": {\"field\": \"size\", \"type\": \"quantitative\"}, \"tooltip\": [{\"field\": \"names\", \"type\": \"nominal\"}], \"x\": {\"field\": \"cluster\", \"type\": \"nominal\"}, \"y\": {\"field\": \"size\", \"type\": \"quantitative\"}}, \"height\": 400, \"selection\": {\"selector007\": {\"type\": \"interval\", \"bind\": \"scales\", \"encodings\": [\"x\", \"y\"]}}, \"title\": \"40 Top Global Commodities, Clustered by Affine Covariance\", \"width\": 800, \"$schema\": \"https://vega.github.io/schema/vega-lite/v4.17.0.json\", \"datasets\": {\"data-88a1ea2e957a5cf595a4c497d31dc6c1\": [{\"cluster\": 1, \"names\": [\"Amazon.com, Inc.\", \"Home Depot Inc\", \"Intel Corporation\", \"Target Corp\"], \"size\": 4, \"symbols\": [\"AMZN\", \"HD\", \"INTC\", \"TGT\"]}, {\"cluster\": 2, \"names\": [\"JP Morgan\", \"Lockheed Martin Corp\", \"Raytheon Technologies Corp\"], \"size\": 3, \"symbols\": [\"JPM\", \"LMT\", \"RTX\"]}, {\"cluster\": 3, \"names\": [\"Caterpillar Inc.\", \"Valero Energy\", \"Exxon Corp\"], \"size\": 3, \"symbols\": [\"CAT\", \"VLO\", \"XOM\"]}]}}, {\"mode\": \"vega-lite\"});\n",
              "</script>"
            ],
            "text/plain": [
              "alt.Chart(...)"
            ]
          },
          "metadata": {},
          "execution_count": 75
        }
      ],
      "source": [
        "import altair as alt\n",
        "def runCluster():\n",
        "    c = alt.Chart(gdf).mark_circle(size=60).encode(\n",
        "        x= alt.X('cluster:N'),\n",
        "        y= alt.Y('size:Q'),\n",
        "        color='size:Q',\n",
        "        tooltip=['names'],\n",
        "        size=alt.Size('size:Q')\n",
        "    ).properties(\n",
        "        width=800,\n",
        "        height=400,\n",
        "        title=\"40 Top Global Commodities, Clustered by Affine Covariance\"\n",
        "    ).interactive()\n",
        "    #.configure_title(\"40 Top Global Commodities, Clustered by Affine Covariance\")\n",
        "\n",
        "    chart =c\n",
        "    return chart\n",
        "runCluster()\n"
      ]
    },
    {
      "cell_type": "markdown",
      "id": "5079bf29-0361-4c9b-9919-87291a0d5418",
      "metadata": {
        "id": "5079bf29-0361-4c9b-9919-87291a0d5418"
      },
      "source": []
    },
    {
      "cell_type": "markdown",
      "id": "1ffdcdd3-d682-420d-9b97-4513126f4802",
      "metadata": {
        "id": "1ffdcdd3-d682-420d-9b97-4513126f4802"
      },
      "source": [
        "**References**\n",
        "\n",
        "1. Gael Varoquaux. Visualizing the Stock Market Structure. Scikit-Learn documentation pages, https://scikit-learn.org/stable/auto_examples/applications/plot_stock_market.html\n",
        "2. Ran Aroussi. YFinance API documents. https://github.com/ranaroussi/yfinance\n",
        "3. The Altair Charting Toolkit. https://altair-viz.github.io/index.html"
      ]
    },
    {
      "cell_type": "code",
      "source": [
        "!pip install plotly"
      ],
      "metadata": {
        "id": "-SGY7b8lHs7S",
        "outputId": "0855a331-b95e-4c93-e34e-08407dd8dba9",
        "colab": {
          "base_uri": "https://localhost:8080/"
        }
      },
      "id": "-SGY7b8lHs7S",
      "execution_count": null,
      "outputs": [
        {
          "output_type": "stream",
          "name": "stdout",
          "text": [
            "Looking in indexes: https://pypi.org/simple, https://us-python.pkg.dev/colab-wheels/public/simple/\n",
            "Requirement already satisfied: plotly in /usr/local/lib/python3.10/dist-packages (5.13.1)\n",
            "Requirement already satisfied: tenacity>=6.2.0 in /usr/local/lib/python3.10/dist-packages (from plotly) (8.2.2)\n"
          ]
        }
      ]
    },
    {
      "cell_type": "code",
      "source": [
        "import plotly.graph_objects as go\n",
        "import pandas as pd\n",
        "from datetime import datetime\n",
        "\n",
        "df_symbol = pd.read_csv('AMZN')    #no .csv"
      ],
      "metadata": {
        "id": "ZpUoUD1rHppJ"
      },
      "id": "ZpUoUD1rHppJ",
      "execution_count": null,
      "outputs": []
    },
    {
      "cell_type": "code",
      "source": [
        "df_symbol.columns"
      ],
      "metadata": {
        "colab": {
          "base_uri": "https://localhost:8080/"
        },
        "id": "wlyoT3dLIyow",
        "outputId": "9b4a9e9d-e0c0-48c5-ce7b-95ba9c665d7c"
      },
      "id": "wlyoT3dLIyow",
      "execution_count": null,
      "outputs": [
        {
          "output_type": "execute_result",
          "data": {
            "text/plain": [
              "Index(['Date', 'Open', 'High', 'Low', 'Close', 'Volume'], dtype='object')"
            ]
          },
          "metadata": {},
          "execution_count": 78
        }
      ]
    },
    {
      "cell_type": "code",
      "source": [
        "df_symbol.head(2)"
      ],
      "metadata": {
        "colab": {
          "base_uri": "https://localhost:8080/",
          "height": 112
        },
        "id": "obHrsWBCI-8H",
        "outputId": "707e537a-982b-4fb3-c747-503983617a04"
      },
      "id": "obHrsWBCI-8H",
      "execution_count": null,
      "outputs": [
        {
          "output_type": "execute_result",
          "data": {
            "text/plain": [
              "         Date        Open        High         Low       Close    Volume\n",
              "0  2021-05-17  162.296494  164.637497  161.729507  163.519501  74478000\n",
              "1  2021-05-18  164.628998  165.600006  161.518494  161.613998  56568000"
            ],
            "text/html": [
              "\n",
              "  <div id=\"df-3644d0d4-12f3-4557-ac29-d0e9139d6211\">\n",
              "    <div class=\"colab-df-container\">\n",
              "      <div>\n",
              "<style scoped>\n",
              "    .dataframe tbody tr th:only-of-type {\n",
              "        vertical-align: middle;\n",
              "    }\n",
              "\n",
              "    .dataframe tbody tr th {\n",
              "        vertical-align: top;\n",
              "    }\n",
              "\n",
              "    .dataframe thead th {\n",
              "        text-align: right;\n",
              "    }\n",
              "</style>\n",
              "<table border=\"1\" class=\"dataframe\">\n",
              "  <thead>\n",
              "    <tr style=\"text-align: right;\">\n",
              "      <th></th>\n",
              "      <th>Date</th>\n",
              "      <th>Open</th>\n",
              "      <th>High</th>\n",
              "      <th>Low</th>\n",
              "      <th>Close</th>\n",
              "      <th>Volume</th>\n",
              "    </tr>\n",
              "  </thead>\n",
              "  <tbody>\n",
              "    <tr>\n",
              "      <th>0</th>\n",
              "      <td>2021-05-17</td>\n",
              "      <td>162.296494</td>\n",
              "      <td>164.637497</td>\n",
              "      <td>161.729507</td>\n",
              "      <td>163.519501</td>\n",
              "      <td>74478000</td>\n",
              "    </tr>\n",
              "    <tr>\n",
              "      <th>1</th>\n",
              "      <td>2021-05-18</td>\n",
              "      <td>164.628998</td>\n",
              "      <td>165.600006</td>\n",
              "      <td>161.518494</td>\n",
              "      <td>161.613998</td>\n",
              "      <td>56568000</td>\n",
              "    </tr>\n",
              "  </tbody>\n",
              "</table>\n",
              "</div>\n",
              "      <button class=\"colab-df-convert\" onclick=\"convertToInteractive('df-3644d0d4-12f3-4557-ac29-d0e9139d6211')\"\n",
              "              title=\"Convert this dataframe to an interactive table.\"\n",
              "              style=\"display:none;\">\n",
              "        \n",
              "  <svg xmlns=\"http://www.w3.org/2000/svg\" height=\"24px\"viewBox=\"0 0 24 24\"\n",
              "       width=\"24px\">\n",
              "    <path d=\"M0 0h24v24H0V0z\" fill=\"none\"/>\n",
              "    <path d=\"M18.56 5.44l.94 2.06.94-2.06 2.06-.94-2.06-.94-.94-2.06-.94 2.06-2.06.94zm-11 1L8.5 8.5l.94-2.06 2.06-.94-2.06-.94L8.5 2.5l-.94 2.06-2.06.94zm10 10l.94 2.06.94-2.06 2.06-.94-2.06-.94-.94-2.06-.94 2.06-2.06.94z\"/><path d=\"M17.41 7.96l-1.37-1.37c-.4-.4-.92-.59-1.43-.59-.52 0-1.04.2-1.43.59L10.3 9.45l-7.72 7.72c-.78.78-.78 2.05 0 2.83L4 21.41c.39.39.9.59 1.41.59.51 0 1.02-.2 1.41-.59l7.78-7.78 2.81-2.81c.8-.78.8-2.07 0-2.86zM5.41 20L4 18.59l7.72-7.72 1.47 1.35L5.41 20z\"/>\n",
              "  </svg>\n",
              "      </button>\n",
              "      \n",
              "  <style>\n",
              "    .colab-df-container {\n",
              "      display:flex;\n",
              "      flex-wrap:wrap;\n",
              "      gap: 12px;\n",
              "    }\n",
              "\n",
              "    .colab-df-convert {\n",
              "      background-color: #E8F0FE;\n",
              "      border: none;\n",
              "      border-radius: 50%;\n",
              "      cursor: pointer;\n",
              "      display: none;\n",
              "      fill: #1967D2;\n",
              "      height: 32px;\n",
              "      padding: 0 0 0 0;\n",
              "      width: 32px;\n",
              "    }\n",
              "\n",
              "    .colab-df-convert:hover {\n",
              "      background-color: #E2EBFA;\n",
              "      box-shadow: 0px 1px 2px rgba(60, 64, 67, 0.3), 0px 1px 3px 1px rgba(60, 64, 67, 0.15);\n",
              "      fill: #174EA6;\n",
              "    }\n",
              "\n",
              "    [theme=dark] .colab-df-convert {\n",
              "      background-color: #3B4455;\n",
              "      fill: #D2E3FC;\n",
              "    }\n",
              "\n",
              "    [theme=dark] .colab-df-convert:hover {\n",
              "      background-color: #434B5C;\n",
              "      box-shadow: 0px 1px 3px 1px rgba(0, 0, 0, 0.15);\n",
              "      filter: drop-shadow(0px 1px 2px rgba(0, 0, 0, 0.3));\n",
              "      fill: #FFFFFF;\n",
              "    }\n",
              "  </style>\n",
              "\n",
              "      <script>\n",
              "        const buttonEl =\n",
              "          document.querySelector('#df-3644d0d4-12f3-4557-ac29-d0e9139d6211 button.colab-df-convert');\n",
              "        buttonEl.style.display =\n",
              "          google.colab.kernel.accessAllowed ? 'block' : 'none';\n",
              "\n",
              "        async function convertToInteractive(key) {\n",
              "          const element = document.querySelector('#df-3644d0d4-12f3-4557-ac29-d0e9139d6211');\n",
              "          const dataTable =\n",
              "            await google.colab.kernel.invokeFunction('convertToInteractive',\n",
              "                                                     [key], {});\n",
              "          if (!dataTable) return;\n",
              "\n",
              "          const docLinkHtml = 'Like what you see? Visit the ' +\n",
              "            '<a target=\"_blank\" href=https://colab.research.google.com/notebooks/data_table.ipynb>data table notebook</a>'\n",
              "            + ' to learn more about interactive tables.';\n",
              "          element.innerHTML = '';\n",
              "          dataTable['output_type'] = 'display_data';\n",
              "          await google.colab.output.renderOutput(dataTable, element);\n",
              "          const docLink = document.createElement('div');\n",
              "          docLink.innerHTML = docLinkHtml;\n",
              "          element.appendChild(docLink);\n",
              "        }\n",
              "      </script>\n",
              "    </div>\n",
              "  </div>\n",
              "  "
            ]
          },
          "metadata": {},
          "execution_count": 79
        }
      ]
    },
    {
      "cell_type": "code",
      "source": [
        "fig = go.Figure(data=[go.Candlestick(x=df_symbol['Date'],\n",
        "                open=df_symbol['Open'],\n",
        "                high=df_symbol['High'],\n",
        "                low=df_symbol['Low'],\n",
        "                close=df_symbol['Close'])])\n",
        "fig.show()"
      ],
      "metadata": {
        "colab": {
          "base_uri": "https://localhost:8080/",
          "height": 542
        },
        "id": "9fQGEnT9It6o",
        "outputId": "670e92fc-2755-4c23-eb06-1e59f22eca58"
      },
      "id": "9fQGEnT9It6o",
      "execution_count": null,
      "outputs": [
        {
          "output_type": "display_data",
          "data": {
            "text/html": [
              "<html>\n",
              "<head><meta charset=\"utf-8\" /></head>\n",
              "<body>\n",
              "    <div>            <script src=\"https://cdnjs.cloudflare.com/ajax/libs/mathjax/2.7.5/MathJax.js?config=TeX-AMS-MML_SVG\"></script><script type=\"text/javascript\">if (window.MathJax && window.MathJax.Hub && window.MathJax.Hub.Config) {window.MathJax.Hub.Config({SVG: {font: \"STIX-Web\"}});}</script>                <script type=\"text/javascript\">window.PlotlyConfig = {MathJaxConfig: 'local'};</script>\n",
              "        <script src=\"https://cdn.plot.ly/plotly-2.18.2.min.js\"></script>                <div id=\"b8f690a7-6cc1-487c-aa3f-b4d1cb2e0b14\" class=\"plotly-graph-div\" style=\"height:525px; width:100%;\"></div>            <script type=\"text/javascript\">                                    window.PLOTLYENV=window.PLOTLYENV || {};                                    if (document.getElementById(\"b8f690a7-6cc1-487c-aa3f-b4d1cb2e0b14\")) {                    Plotly.newPlot(                        \"b8f690a7-6cc1-487c-aa3f-b4d1cb2e0b14\",                        [{\"close\":[163.51950073242188,161.61399841308594,161.58999633789062,162.38400268554688,160.1540069580078,162.24949645996094,162.95249938964844,163.25799560546875,161.5054931640625,161.15350341796875,160.9324951171875,161.69949340820312,159.35049438476562,160.31100463867188,159.90049743652344,163.20550537109375,164.0574951171875,167.4824981689453,167.3415069580078,169.19349670410156,169.156494140625,170.7624969482422,174.46200561523438,174.34500122070312,172.697998046875,175.27200317382812,175.1909942626953,172.45399475097656,170.072998046875,172.1945037841797,172.40699768066406,172.00799560546875,171.64849853515625,175.5489959716797,183.78700256347656,184.82899475097656,186.57049560546875,185.9669952392578,185.9275054931641,183.8679962158203,184.08399963378903,181.55999755859372,178.68150329589844,177.47950744628906,178.6595001220703,179.25999450683594,181.9015045166016,182.83200073242188,184.99099731445312,181.3195037841797,181.51600646972656,179.99600219726562,166.37950134277344,166.57400512695312,168.31199645996094,167.73599243164062,168.79949951171875,167.2469940185547,167.093505859375,166.03399658203125,164.60549926757812,165.1750030517578,164.69850158691406,164.94949340820312,162.09800720214844,160.06100463867188,159.3874969482422,159.99749755859375,163.2935028076172,165.28900146484375,164.95899963378906,165.8000030517578,167.48150634765625,171.07850646972656,173.5395050048828,173.9499969482422,173.156005859375,173.90249633789062,175.46449279785156,176.27499389648438,174.20799255371094,173.45750427246094,172.85850524902344,172.5,173.7895050048828,174.41200256347656,173.12600708007812,167.7864990234375,167.18150329589844,169.00250244140625,170.8000030517578,171.2760009765625,170.2899932861328,165.79800415039062,165.05599975585938,164.2519989013672,164.16299438476562,159.48899841308594,161.0500030517578,163.10049438476562,165.1215057373047,164.43099975585938,162.31500244140625,162.3665008544922,164.21400451660156,164.9929962158203,170.4510040283203,172.33700561523438,172.20750427246094,170.7530059814453,171.75050354003906,166.77749633789062,166.01849365234375,168.80349731445312,169.62449645996094,172.32850646972656,168.6215057373047,165.90550231933594,165.6374969482422,169.1999969482422,173.85000610351562,175.94949340820312,174.44900512695312,178.81149291992188,174.1024932861328,173.625,176.25750732421875,177.28399658203125,177.03500366210938,177.4499969482422,184.8029937744141,183.82850646972656,178.6284942626953,179.0019989013672,179.02049255371094,175.22799682617188,178.07850646972656,175.35350036621094,172.18600463867188,171.8679962158203,169.489501953125,171.36849975585938,176.1645050048828,176.1580047607422,174.17100524902344,172.21200561523438,169.5675048828125,169.0915069580078,173.31500244140625,168.87100219726562,170.0175018310547,167.07899475097656,170.41700744628906,171.03700256347656,171.06849670410156,169.66949462890625,170.66099548339844,169.2010040283203,168.64450073242188,166.7169952392578,170.4044952392578,167.52200317382812,164.35699462890625,163.25399780273438,162.5540008544922,161.48599243164062,165.36199951171875,165.20700073242188,161.21400451660156,162.13800048828125,158.91749572753906,156.2989959716797,151.66749572753906,142.64300537109375,144.54400634765625,139.98599243164062,138.87249755859375,139.6374969482422,143.97799682617188,149.57350158691406,151.19349670410156,150.6125030517578,138.8455047607422,157.63949584960938,157.9355010986328,161.4134979248047,161.1894989013672,159.0034942626953,153.2935028076172,155.16700744628906,156.510498046875,158.10049438476562,154.65249633789062,152.60150146484375,150.19749450683594,144.82699584960938,151.35800170898438,153.7884979248047,153.56300354003906,151.14199829101562,152.05250549316406,147.89849853515625,145.64100646972656,137.4530029296875,136.01449584960938,139.2790069580078,146.8175048828125,145.52450561523438,141.85299682617188,147.3665008544922,153.10400390625,157.23899841308594,161.25050354003906,161.4915008544922,164.88900756835938,163.4080047607422,163.64950561523438,164.77349853515625,168.99049377441406,169.31500244140625,166.30099487304688,162.99749755859375,163.55999755859375,168.34649658203125,164.05499267578125,158.75599670410156,157.7845001220703,154.4604949951172,151.1219940185547,150.78750610351562,155.54100036621094,151.7064971923828,152.78500366210938,158.11549377441406,153.9980010986328,148.29600524902344,144.35000610351562,146.07400512695312,139.39100646972656,138.16700744628906,144.59649658203125,124.28150177001952,124.5,124.25350189208984,125.92849731445312,116.40699768066406,114.77249908447266,108.78900146484376,108.85900115966795,105.37200164794922,106.93049621582033,113.05500030517578,110.8105010986328,115.36849975585938,107.1125030517578,107.31900024414062,107.59100341796876,107.55699920654295,104.0999984741211,106.7750015258789,111.07749938964844,115.14649963378906,120.20950317382812,121.68399810791016,125.51100158691406,122.3499984741211,124.79000091552734,123.0,121.18000030517578,116.1500015258789,109.6500015258789,103.66999816894533,102.30999755859376,107.66999816894533,103.66000366210938,106.22000122070312,108.68000030517578,108.9499969482422,112.44000244140624,116.45999908447266,113.22000122070312,107.4000015258789,108.91999816894533,106.20999908447266,109.55999755859376,113.5,114.33000183105467,116.33000183105467,115.54000091552734,111.75,109.22000122070312,110.4000015258789,110.62999725341795,113.5500030517578,113.76000213623048,118.20999908447266,122.7699966430664,124.62999725341795,122.41999816894533,121.13999938964844,114.80999755859376,120.97000122070312,122.27999877929688,134.9499969482422,135.38999938964844,134.16000366210938,139.52000427246094,142.57000732421875,140.8000030517578,139.41000366210938,137.8300018310547,142.69000244140625,140.63999938964844,143.5500030517578,143.17999267578125,144.77999877929688,142.10000610351562,142.3000030517578,138.22999572753906,133.22000122070312,133.6199951171875,133.8000030517578,137.27999877929688,130.75,129.7899932861328,128.72999572753906,126.7699966430664,127.81999969482422,127.51000213623048,126.11000061035156,129.47999572753906,129.82000732421875,133.27000427246094,136.4499969482422,126.81999969482422,128.5500030517578,126.27999877929688,123.52999877929688,124.66000366210938,122.19000244140624,118.54000091552734,117.30999755859376,113.77999877929688,115.1500015258789,114.41000366210938,118.01000213623048,114.8000030517578,113.0,115.87999725341795,121.08999633789062,120.9499969482422,120.3000030517578,114.55999755859376,113.66999816894533,112.20999908447266,112.9000015258789,112.52999877929688,106.9000015258789,113.79000091552734,116.36000061035156,115.06999969482422,115.25,119.31999969482422,119.81999969482422,120.5999984741211,115.66000366210938,110.95999908447266,103.41000366210938,102.44000244140624,96.79000091552734,92.12000274658205,89.30000305175781,90.9800033569336,90.52999877929688,89.9800033569336,86.13999938964844,96.62999725341795,100.79000091552734,98.48999786376952,98.94000244140624,97.12000274658205,94.8499984741211,94.13999938964844,92.45999908447266,93.1999969482422,94.12999725341795,93.41000366210938,93.9499969482422,92.41999816894533,96.54000091552734,95.5,94.12999725341795,91.01000213623048,88.25,88.45999908447266,90.3499984741211,89.08999633789062,90.5500030517578,92.48999786376952,91.58000183105467,88.44999694824219,87.86000061035156,84.91999816894531,85.19000244140625,86.7699966430664,83.79000091552734,85.25,83.04000091552734,81.81999969482422,84.18000030517578,84.0,85.81999969482422,85.13999938964844,83.12000274658203,86.08000183105469,87.36000061035156,89.87000274658203,95.08999633789062,95.2699966430664,98.12000274658205,96.0500030517578,95.45999908447266,93.68000030517578,97.25,97.5199966430664,96.31999969482422,97.18000030517578,99.22000122070312,102.23999786376952,100.5500030517578,103.12999725341795,105.1500015258789,112.91000366210938,103.38999938964844,102.18000030517578,102.11000061035156,100.0500030517578,98.23999786376952,97.61000061035156,99.54000091552734,99.6999969482422,101.16000366210938,98.1500015258789,97.1999969482422,94.58000183105467,95.79000091552734,95.81999969482422,93.5,93.76000213623048,94.2300033569336,92.16999816894533,92.12999725341795,94.9000015258789,93.75,93.5500030517578,93.91999816894533,92.25,90.7300033569336,92.43000030517578,94.87999725341795,96.1999969482422,100.04000091552734,98.9499969482422,97.70999908447266,100.61000061035156,98.6999969482422,98.70999908447266,98.12999725341795,98.04000091552734,97.23999786376952,100.25,102.0,103.29000091552734,102.41000366210938,103.9499969482422,101.0999984741211,102.05999755859376,102.16999816894533,99.91999816894533,97.83000183105467,102.4000015258789,102.51000213623048,102.73999786376952,102.3000030517578,104.3000030517578,103.80999755859376,106.95999908447266,106.20999908447266,102.56999969482422,104.9800033569336,109.81999969482422,105.4499969482422,102.0500030517578,103.62999725341795,103.6500015258789,104.0,105.66000366210938,105.83000183105467,106.62000274658205,110.19000244140624],\"high\":[164.6374969482422,165.60000610351562,161.7375030517578,162.98399353027344,162.83450317382812,162.8975067138672,163.99099731445312,164.7864990234375,163.01800537109375,162.39950561523438,162.5489959716797,161.75,160.7220001220703,161.0500030517578,160.39999389648438,163.97650146484375,164.87899780273438,167.5500030517578,168.32899475097656,169.25,169.84950256347656,171.3175048828125,174.86000061035156,175.35000610351562,174.10000610351562,176.18899536132812,176.0500030517578,176.2429962158203,173.24099731445312,172.39999389648438,172.80149841308594,173.5800018310547,172.85000610351562,175.58599853515625,184.2740020751953,186.7100067138672,187.9994964599609,187.3999938964844,187.864501953125,188.6540069580078,185.88299560546875,184.7700042724609,182.3029937744141,177.510498046875,179.60000610351562,179.32249450683594,182.00100708007807,183.3054962158203,185.60400390625,184.9250030517578,182.92100524902344,181.8975067138672,168.40699768066406,167.9459991455078,169.5500030517578,169.44400024414062,169.4499969482422,168.75,167.74400329589844,167.89999389648438,166.88499450683594,165.72549438476562,165.30349731445312,165.0,164.02450561523438,162.7050018310547,161.64999389648438,160.3905029296875,164.0449981689453,165.77450561523438,166.0500030517578,166.60000610351562,167.61599731445312,172.25,173.62899780273438,176.35000610351562,175.59800720214844,174.1334991455078,176.4044952392578,177.281494140625,177.49949645996094,175.42250061035156,174.8979949951172,174.3404998779297,174.27099609375,174.62750244140625,174.87049865722656,170.9499969482422,168.98500061035156,169.4499969482422,171.447998046875,171.46299743652344,170.77850341796875,168.45950317382812,167.56500244140625,166.3925018310547,165.45849609375,163.99949645996094,163.0364990234375,163.2169952392578,166.28750610351562,166.07150268554688,164.62950134277344,163.37649536132812,164.41900634765625,165.6300048828125,170.52099609375,172.45849609375,172.7344970703125,173.14300537109375,172.01400756835938,171.49200439453125,167.38999938964844,170.80599975585938,171.85000610351562,173.9499969482422,168.74099731445312,168.79299926757812,166.55599975585938,169.74600219726562,174.93150329589844,178.3125,178.9499969482422,179.68850708007812,180.2725067138672,177.16200256347656,177.0364990234375,179.69400024414062,178.8249969482422,179.3625030517578,185.2100067138672,188.1074981689453,185.67300415039065,181.0525054931641,180.6820068359375,181.6750030517578,179.8000030517578,179.2884979248047,177.99400329589844,174.63499450683594,173.49349975585938,173.69549560546875,177.49949645996094,177.17999267578125,176.96949768066406,175.927001953125,172.10000610351562,169.49899291992188,173.60000610351562,174.16600036621094,170.89849853515625,167.87449645996094,170.7165069580078,172.0500030517578,171.97500610351562,172.9429931640625,172.17599487304688,171.21200561523438,170.88800048828125,169.35000610351562,170.70350646972656,171.39999389648438,167.12649536132812,164.8000030517578,165.24349975585938,161.6614990234375,166.35000610351562,166.8780059814453,166.22149658203125,162.25,159.7344970703125,159.25,158.0,150.89999389648438,144.94500732421875,143.60000610351562,145.18499755859375,144.24349975585938,143.9980010986328,150.36050415039062,151.70799255371094,155.0749969482422,144.24749755859375,161.1999969482422,162.6909942626953,161.79249572753906,163.83450317382812,160.7165069580078,159.0,158.44850158691406,158.0070037841797,158.83399963378906,160.3489990234375,155.49949645996094,152.9824981689453,151.76300048828125,151.74899291992188,153.99000549316406,154.4499969482422,154.0989990234375,152.99949645996094,153.9290008544922,147.85000610351562,146.09449768066406,140.69949340820312,140.25,148.67449951171875,149.6750030517578,147.4499969482422,147.98500061035156,153.14999389648438,157.49850463867188,161.593994140625,163.08399963378906,166.16700744628906,166.3699951171875,164.11849975585938,165.36849975585938,169.03750610351562,170.8314971923828,168.95050048828125,166.4949951171875,165.82699584960938,168.39450073242188,168.11050415039062,162.1999969482422,160.07899475097656,157.36849975585938,154.13650512695312,155.0989990234375,156.02499389648438,155.89700317382812,154.0395050048828,158.6490020751953,157.6024932861328,156.73800659179688,149.61500549316406,146.22149658203125,144.8560028076172,141.94850158691406,145.9375,130.76100158691406,124.66799926757812,126.22049713134766,126.0,123.4990005493164,119.05049896240234,114.0,112.64250183105467,110.15599822998048,110.78050231933594,113.18399810791016,113.99250030517578,115.8000030517578,112.85299682617188,110.03399658203124,109.89800262451172,108.81900024414062,105.4000015258789,108.1750030517578,112.66549682617188,115.18699645996094,121.99449920654295,125.1790008544922,125.61000061035156,124.4000015258789,128.99000549316406,124.0999984741211,123.75,121.3000030517578,114.5,106.54000091552734,104.87999725341795,109.05999755859376,104.58000183105467,106.9800033569336,111.62999725341795,112.12999725341795,113.0,116.70999908447266,117.9800033569336,114.8499984741211,110.98999786376952,108.18000030517578,109.75,114.08000183105467,115.4800033569336,116.98999786376952,116.58000183105467,114.3000030517578,113.2300033569336,111.77999877929688,111.18000030517578,115.58999633789062,117.23999786376952,118.9499969482422,123.4800033569336,124.8499984741211,125.5,123.63999938964844,118.1500015258789,121.9000015258789,122.83999633789062,137.64999389648438,138.8300018310547,137.44000244140625,140.49000549316406,143.55999755859375,142.86000061035156,144.22999572753906,138.9499969482422,144.60000610351562,144.49000549316406,143.57000732421875,143.75999450683594,146.57000732421875,143.3800048828125,142.77000427246094,141.11000061035156,136.32000732421875,134.99000549316406,135.47000122070312,137.4199981689453,137.8300018310547,131.9499969482422,132.07000732421875,130.58999633789062,128.02000427246094,131.3800048828125,128.6199951171875,129.82000732421875,130.27999877929688,133.69000244140625,136.49000549316406,131.39999389648438,128.83999633789062,130.3699951171875,123.87000274658205,124.70999908447266,124.4000015258789,123.76000213623048,118.79000091552734,116.0500030517578,117.33999633789062,118.31999969482422,118.6999969482422,116.06999969482422,116.91999816894533,116.91000366210938,123.0,121.75,121.52999877929688,118.16999816894533,116.25,115.4800033569336,113.83000183105467,113.44000244140624,114.95999908447266,114.19000244140624,119.5199966430664,116.58999633789062,118.23999786376952,119.58999633789062,120.38999938964844,121.31999969482422,119.3499984741211,114.12000274658205,103.95999908447266,104.87000274658205,104.58000183105467,97.73999786376952,93.5,92.44000244140624,92.0999984741211,91.72000122070312,89.4800033569336,98.69000244140624,101.19000244140624,100.12000274658205,103.79000091552734,98.48999786376952,96.97000122070312,95.98999786376952,95.0199966430664,93.3499984741211,94.58000183105467,94.43000030517578,96.4000015258789,94.41000366210938,96.54000091552734,97.2300033569336,95.36000061035156,94.05999755859376,91.04000091552734,89.88999938964844,90.86000061035156,90.3000030517578,90.58000183105467,96.25,93.45999908447266,89.97000122070312,89.3499984741211,87.62999725341797,86.61000061035156,87.2300033569336,85.68000030517578,85.77999877929688,85.3499984741211,83.4800033569336,84.55000305175781,84.05000305175781,86.95999908447266,86.9800033569336,85.41999816894531,86.4000015258789,89.4800033569336,90.19000244140624,95.26000213623048,97.19000244140624,98.37000274658205,98.88999938964844,99.31999969482422,95.44000244140624,97.3499984741211,97.77999877929688,98.08999633789062,97.23999786376952,99.48999786376952,103.48999786376952,101.73999786376952,103.3499984741211,106.23999786376952,114.0,108.77999877929688,103.9499969482422,102.41000366210938,102.66999816894533,101.77999877929688,98.81999969482422,99.68000030517578,100.91999816894533,101.16999816894533,100.62999725341795,97.94000244140624,95.61000061035156,97.01000213623048,96.43000030517578,94.13999938964844,94.77999877929688,94.69000244140624,94.68000030517578,92.2300033569336,94.94000244140624,96.5500030517578,95.08999633789062,94.16999816894533,96.20999908447266,93.56999969482422,94.0199966430664,95.06999969482422,96.66999816894533,100.98999786376952,100.66000366210938,98.4800033569336,100.8499984741211,102.0999984741211,101.05999755859376,98.3000030517578,99.33999633789062,98.44000244140624,100.41999816894533,103.04000091552734,103.48999786376952,103.29000091552734,104.1999969482422,103.91000366210938,102.37999725341795,102.1999969482422,101.0,100.51000213623048,102.56999969482422,103.1999969482422,103.7300033569336,104.1999969482422,105.12000274658205,105.25,108.1500015258789,109.2300033569336,105.4499969482422,106.62000274658205,110.86000061035156,109.4800033569336,105.2300033569336,103.9000015258789,105.95999908447266,105.38999938964844,105.76000213623048,106.0999984741211,106.79000091552734,110.66999816894533],\"low\":[161.72950744628906,161.51849365234375,159.1999969482422,161.8090057373047,159.85049438476562,160.52499389648438,160.68800354003906,162.92550659179688,161.5019989013672,160.98500061035156,160.4530029296875,160.39999389648438,159.20150756835938,159.9405059814453,158.61000061035156,160.90049743652344,163.53500366210938,164.0574951171875,166.67250061035156,166.77499389648438,168.15550231933594,168.02650451660156,170.0500030517578,173.6855010986328,171.6999969482422,172.80450439453125,174.16000366210938,171.54249572753906,169.70899963378906,170.67550659179688,171.15150451660156,171.75,170.4709930419922,171.8459930419922,176.4499969482422,183.94549560546875,181.05599975585935,184.6699981689453,184.8394927978516,183.5659942626953,183.04150390625,181.04600524902344,178.5229949951172,174.95799255371094,175.89999389648438,177.1820068359375,179.11349487304688,181.1020050048828,182.3625030517578,179.3074951171875,180.0500030517578,179.00050354003906,165.3489990234375,165.85000610351562,164.98849487304688,167.2779998779297,167.04600524902344,166.45199584960938,166.42599487304688,165.75,163.88949584960938,163.48350524902344,164.14999389648438,160.55650329589844,161.28399658203125,160.0,159.1230010986328,158.78799438476562,160.50050354003906,163.72900390625,164.3074951171875,164.8000030517578,165.6875,167.76100158691406,169.7794952392578,173.76199340820312,172.75,171.82200622558594,173.8470001220703,174.7834930419922,174.01849365234375,173.14549255371094,171.89999389648438,171.885498046875,170.10049438476562,172.3070068359375,172.60650634765625,165.25050354003906,166.6195068359375,167.05250549316406,169.00250244140625,169.6699981689453,166.98049926757812,164.5050048828125,164.89349365234375,163.69949340820312,162.7969970703125,158.8125,160.1230010986328,159.93099975585938,164.1529998779297,164.41000366210938,161.90499877929688,161.81399536132812,163.05450439453125,164.53900146484375,165.1999969482422,169.2550048828125,171.10000610351562,170.01849365234375,170.14999389648438,166.56500244140625,164.88499450683594,167.19900512695312,168.57249450683594,169.3000030517578,163.66600036621094,164.6009979248047,164.17750549316406,164.87600708007812,168.25,173.8489990234375,174.39300537109375,175.07150268554688,173.1544952392578,173.37350463867188,172.3524932861328,176.29049682617188,176.25750732421875,177.2675018310547,178.0500030517578,183.78599548339844,178.375,176.385498046875,176.84249877929688,175.20750427246094,176.5749969482422,174.60049438476562,172.0800018310547,171.1875,166.92999267578125,166.9344940185547,173.33450317382812,174.75050354003906,174.13949584960938,170.5,169.1300048828125,166.44000244140625,165.19500732421875,168.16050720214844,165.61349487304688,165.60000610351562,165.6475067138672,168.50050354003906,170.14999389648438,169.2154998779297,169.135498046875,168.60049438476562,168.5240020751953,166.55850219726562,166.16050720214844,166.34950256347656,164.35699462890625,161.93699645996094,162.031005859375,156.30450439453125,160.70150756835938,164.41700744628906,161.09100341796875,159.80050659179688,157.6645050048828,156.25,151.3509979248047,142.07049560546875,135.3520050048828,138.14500427246094,137.31849670410156,139.35000610351562,137.92950439453125,144.30050659179688,147.62750244140625,148.86349487304688,138.33299255371094,150.60800170898438,157.25,155.55050659179688,160.25,157.75,152.73399353027344,151.64999389648438,154.6374969482422,154.7344970703125,154.5,150.89300537109375,148.48550415039062,144.6510009765625,139.5,149.2135009765625,150.85000610351562,149.9770050048828,148.75,146.8560028076172,143.8070068359375,137.41650390625,133.57249450683594,136.8280029296875,143.97799682617188,145.36900329589844,140.88400268554688,142.0,147.35350036621094,152.13999938964844,156.01100158691406,159.55299377441406,161.69900512695312,162.68699645996094,160.0500030517578,162.25,164.89999389648438,167.86849975585938,165.5,162.95350646972656,162.3195037841797,163.20550537109375,163.26600646972656,157.25450134277344,154.51150512695312,154.2310028076172,150.5345001220703,150.38299560546875,149.60000610351562,151.4720001220703,150.25050354003906,151.55050659179688,153.60350036621094,147.58949279785156,143.69749450683594,142.30650329589844,138.92950439453125,135.7834930419922,140.3000030517578,121.625,118.375,122.8249969482422,119.18299865722656,115.07250213623048,113.0814971923828,107.95700073242188,107.1709976196289,104.42849731445312,102.40550231933594,107.8000030517578,110.35399627685548,111.27649688720705,106.2490005493164,106.19300079345705,105.0094985961914,103.9499969482422,101.26000213623048,103.6500015258789,107.45349884033205,112.62799835205078,115.6750030517578,120.62249755859376,120.04499816894533,121.04650115966795,123.80999755859376,120.62999725341795,120.75,116.0999984741211,109.0500030517578,101.86000061035156,101.43000030517578,103.52999877929688,102.01000213623048,102.51000213623048,103.55999755859376,107.0199966430664,107.93000030517578,111.43000030517578,112.6999969482422,107.04000091552734,106.91000366210938,102.5199966430664,105.8499984741211,106.31999969482422,112.01000213623048,113.48999786376952,113.69000244140624,110.87000274658205,108.33999633789062,106.01000213623048,107.58000183105467,111.58999633789062,113.1500015258789,114.02999877929688,118.31999969482422,121.26000213623048,121.3499984741211,120.02999877929688,114.52999877929688,117.16000366210938,118.08000183105467,132.41000366210938,133.50999450683594,134.08999633789062,136.0500030517578,139.5500030517578,139.60000610351562,138.2899932861328,136.2100067138672,141.00999450683594,139.75999450683594,140.1199951171875,141.49000549316406,142.0,140.77999877929688,140.3800048828125,137.91000366210938,132.85000610351562,132.9499969482422,132.10000610351562,134.27999877929688,130.5,128.77000427246094,126.8499984741211,126.73999786376952,123.66000366210938,126.38999938964844,124.73999786376952,125.4000015258789,127.0999984741211,130.75999450683594,134.0,126.2699966430664,126.33000183105467,125.5,120.6999969482422,121.8000030517578,121.13999938964844,118.4499969482422,116.26000213623048,112.05999755859376,113.12999725341795,113.0500030517578,113.8000030517578,113.05999755859376,112.83999633789062,112.4499969482422,119.79000091552734,117.69000244140624,119.5,113.87999725341795,112.43000030517578,110.38999938964844,111.4000015258789,105.3499984741211,106.5999984741211,110.08999633789062,114.79000091552734,113.22000122070312,113.51000213623048,114.5,116.56999969482422,118.9499969482422,114.76000213623048,109.7699966430664,97.66000366210938,100.73999786376952,96.05999755859376,92.01000213623048,89.0199966430664,88.04000091552734,89.04000091552734,88.2300033569336,85.87000274658203,91.6500015258789,96.66000366210938,97.29000091552734,97.33999633789062,95.54000091552734,94.02999877929688,92.4800033569336,90.58999633789062,90.87000274658205,92.83000183105467,93.06999969482422,93.43000030517578,91.44000244140624,91.52999877929688,94.91999816894533,93.77999877929688,90.81999969482422,87.9000015258789,87.4800033569336,87.87999725341797,88.62999725341797,87.87000274658203,90.5199966430664,89.87000274658203,87.47000122070312,86.7300033569336,84.51000213623047,84.33000183105469,85.20999908447266,82.25,82.93000030517578,83.0,81.69000244140625,82.55000305175781,82.47000122070312,84.20999908447266,83.36000061035156,83.06999969482422,81.43000030517578,87.08000183105469,87.29000091552734,90.93000030517578,93.5,94.12000274658205,95.7300033569336,95.37999725341795,92.86000061035156,93.1999969482422,95.86000061035156,96.0,91.5199966430664,96.91999816894533,99.52999877929688,99.01000213623048,101.13999938964844,101.23999786376952,108.87999725341795,102.5199966430664,100.6500015258789,98.08000183105467,98.77999877929688,97.56999969482422,96.2300033569336,96.91000366210938,97.5199966430664,98.4499969482422,98.0999984741211,95.6500015258789,94.2699966430664,94.8000030517578,93.66999816894533,92.31999969482422,93.13999938964844,92.91999816894533,91.58999633789062,90.38999938964844,92.66000366210938,93.73999786376952,92.77999877929688,92.18000030517578,92.18000030517578,90.25,88.12000274658203,92.70999908447266,93.06999969482422,95.61000061035156,97.45999908447266,95.6999969482422,98.0,98.61000061035156,97.62000274658205,96.4000015258789,97.08000183105467,96.29000091552734,98.55999755859376,101.01000213623048,101.9499969482422,101.43000030517578,102.11000061035156,100.75,99.8000030517578,99.56999969482422,99.01000213623048,97.70999908447266,98.70999908447266,101.11000061035156,101.58999633789062,101.5199966430664,101.38999938964844,103.20999908447266,105.08000183105467,105.06999969482422,102.4499969482422,104.0999984741211,106.8000030517578,104.33000183105467,101.81999969482422,101.1500015258789,103.27999877929688,103.30999755859376,103.5500030517578,104.6999969482422,105.16000366210938,108.0500030517578],\"open\":[162.29649353027344,164.62899780273438,159.75,162.22000122070312,162.5,160.77499389648438,163.33349609375,163.72950744628906,162.8000030517578,162.10000610351562,162.1750030517578,161.15499877929688,160.2115020751953,160.60000610351562,159.8665008544922,161.1304931640625,163.64349365234375,164.10049438476562,167.4824981689453,167.3415069580078,169.1999969482422,169.60000610351562,170.15899658203125,173.99949645996094,173.8209991455078,172.9029998779297,175.25,175.3820037841797,173.1999969482422,170.8000030517578,171.9409942626953,172.05299377441406,171.73049926757812,172.58200073242188,176.5054931640625,185.86900329589844,182.1779937744141,186.12600708007807,187.1999969482422,185.10499572753903,185.4425048828125,184.7100067138672,181.66549682617188,176.62899780273438,178.36599731445312,178.81900024414062,179.3614959716797,182.0,183.6584930419922,184.9250030517578,181.68899536132807,181.3874969482422,167.3975067138672,167.65499877929688,167.03599548339844,168.96749877929688,167.81100463867188,168.75,167.1804962158203,167.25050354003906,166.57249450683594,164.5,165.2834930419922,164.14999389648438,163.875,162.09950256347656,159.7010040283203,160.19349670410156,160.59500122070312,164.0,165.49349975585938,164.9499969482422,166.6614990234375,167.8715057373047,171.24000549316406,174.82000732421875,174.73800659179688,172.60000610351562,173.89999389648438,175.58250427246094,176.30099487304688,175.0915069580078,174.13999938964844,173.77749633789062,172.12600708007812,172.9980010986328,174.42050170898438,169.8000030517578,168.75,167.5500030517578,169.00250244140625,170.10049438476562,168.5749969482422,167.885498046875,166.10549926757812,165.8000030517578,164.45050048828125,163.96949768066406,160.22500610351562,160.67649841308594,164.57699584960938,165.85000610351562,163.75,162.85000610351562,163.48550415039062,165.12249755859375,165.5709991455078,169.41799926757812,171.71449279785156,172.63299560546875,170.71249389648438,171.0500030517578,166.75,167.47549438476562,169.39999389648438,170.10499572753906,165.00100708007812,168.08999633789062,165.75050354003906,165.4499969482422,168.5,173.85000610351562,176.16200256347656,175.7624969482422,178.19349670410156,175.64999389648438,174.25,176.85000610351562,176.9499969482422,178.23599243164062,178.3175048828125,185.63450622558597,183.81900024414065,179.2519989013672,178.1334991455078,180.10499572753906,177.3820037841797,178.1750030517578,177.25,173.0,172.75,169.64999389648438,174.60000610351562,176.15049743652344,175.75,175.41700744628906,172.0,167.5500030517578,168.59800720214844,173.36849975585938,167.7104949951172,166.85000610351562,167.85049438476562,169.27000427246094,170.42799377441406,171.03700256347656,170.1824951171875,170.83999633789062,169.6999969482422,168.95599365234375,167.5500030517578,170.43800354003906,166.88299560546875,163.45050048828125,163.83900451660156,160.5854949951172,161.5,166.5749969482422,165.25050354003906,160.14999389648438,159.10499572753906,158.76199340820312,156.76600646972656,149.9499969482422,139.0,142.24249267578125,144.75,140.8000030517578,140.86050415039062,144.75,150.0,155.05050659179688,141.7375030517578,155.60650634765625,158.52000427246094,156.75050354003906,162.87350463867188,158.35000610351562,158.13450622558594,151.75100708007812,157.60549926757812,155.79049682617188,158.14599609375,155.49949645996094,150.47850036621094,151.65049743652344,139.83749389648438,150.5500030517578,152.4250030517578,152.7324981689453,150.8489990234375,153.531494140625,147.15899658203125,145.44349670410156,136.68350219726562,139.5,145.68499755859375,149.57449340820312,145.9810028076172,142.85000610351562,148.5,152.6405029296875,156.81300354003906,161.12100219726562,161.8054962158203,163.7050018310547,163.74949645996094,164.0,164.97500610351562,170.38400268554688,168.50950622558594,166.44500732421875,164.14950561523438,164.125,167.7415008544922,161.65049743652344,158.39999389648438,156.75,152.71299743652344,153.6925048828125,150.01849365234375,155.38999938964844,151.52349853515625,152.0294952392578,157.6024932861328,154.71400451660156,148.25,144.0229949951172,144.8000030517578,140.19149780273438,142.17799377441406,129.8489990234375,122.4010009765625,124.05349731445312,123.5999984741211,123.0,114.8499984741211,111.3125,111.25,108.10350036621094,102.75,109.06900024414062,113.0999984741211,113.2750015258789,111.4394989013672,106.28050231933594,109.56849670410156,108.46099853515624,104.0250015258789,103.65550231933594,107.97000122070312,113.5500030517578,116.27999877929688,122.25599670410156,121.68399810791016,124.1999969482422,125.25,122.01000213623048,122.61000061035156,119.98999786376952,113.41999816894533,104.19000244140624,104.19000244140624,103.86000061035156,104.47000122070312,102.8000030517578,108.1999969482422,107.43000030517578,110.38999938964844,112.37999725341795,117.08999633789062,113.5,107.37999725341795,108.11000061035156,106.29000091552734,107.5999984741211,113.20999908447266,113.8499984741211,114.5999984741211,114.08000183105467,112.16000366210938,107.02999877929688,110.23999786376952,112.5,115.0,115.6999969482422,118.62000274658205,123.1999969482422,125.01000213623048,122.6999969482422,115.79000091552734,117.30999755859376,121.56999969482422,134.89999389648438,134.9600067138672,134.72000122070312,136.2100067138672,140.5800018310547,140.10000610351562,142.0500030517578,138.0500030517578,142.89999389648438,143.86000061035156,142.0500030517578,142.8000030517578,143.91000366210938,142.69000244140625,141.32000732421875,140.47000122070312,135.72000122070312,133.41000366210938,132.75,135.25999450683594,136.5500030517578,129.89999389648438,131.25,129.4499969482422,126.0,129.5,127.91999816894533,126.12000274658205,127.72000122070312,130.91000366210938,134.10000610351562,131.00999450683594,127.36000061035156,127.37999725341795,122.77999877929688,122.16000366210938,123.3499984741211,122.48999786376952,117.08000183105467,116.0,113.3000030517578,117.1999969482422,114.37999725341795,115.5999984741211,114.08000183105467,113.58000183105467,119.88999938964844,118.58000183105467,120.7699966430664,118.0,115.0999984741211,112.70999908447266,112.48999786376952,107.87999725341795,114.0999984741211,110.11000061035156,119.05999755859376,114.70999908447266,113.83000183105467,114.79000091552734,119.9800033569336,119.6500015258789,116.0,113.91999816894533,97.91000366210938,103.55999755859376,103.98999786376952,97.31999969482422,92.47000122070312,91.48999786376952,91.9499969482422,90.79000091552734,89.47000122070312,92.94000244140624,97.87999725341795,98.7699966430664,103.20999908447266,96.8499984741211,95.37000274658205,95.9499969482422,93.97000122070312,92.62000274658205,93.23999786376952,93.79000091552734,93.93000030517578,94.04000091552734,92.47000122070312,96.98999786376952,94.4800033569336,93.0500030517578,90.5,88.33999633789062,89.23999786376953,88.9000015258789,89.20999908447266,95.2300033569336,92.5,89.88999938964844,88.2699966430664,87.51000213623047,85.33000183105469,86.18000030517578,85.5199966430664,83.25,84.97000122070312,82.80000305175781,82.87000274658203,83.12000274658203,85.45999908447266,86.55000305175781,85.33000183105469,83.02999877929688,87.45999908447266,87.56999969482422,90.93000030517578,96.93000030517578,94.18000030517578,98.68000030517578,97.25,94.73999786376952,93.86000061035156,97.55999755859376,96.93000030517578,92.55999755859376,98.23999786376952,99.52999877929688,101.08999633789062,101.16000366210938,102.52999877929688,110.25,105.26000213623048,102.93000030517578,101.16999816894533,102.04000091552734,101.31999969482422,97.55999755859376,97.8499984741211,98.41000366210938,99.08999633789062,99.20999908447266,97.8000030517578,95.33999633789062,95.0999984741211,96.12000274658205,93.52999877929688,94.27999877929688,93.13999938964844,93.87000274658205,91.41000366210938,92.73999786376952,95.19000244140624,94.05999755859376,93.5999984741211,93.68000030517578,92.66999816894533,89.97000122070312,93.83000183105467,93.22000122070312,95.75,99.79000091552734,98.41000366210938,98.13999938964844,100.4499969482422,100.43000030517578,98.06999969482422,99.06999969482422,98.11000061035156,98.69000244140624,101.5500030517578,102.16000366210938,102.3000030517578,102.75,103.91000366210938,100.75,100.95999908447266,100.8000030517578,100.4000015258789,98.9499969482422,102.06999969482422,103.16000366210938,103.9499969482422,101.58000183105467,103.52999877929688,106.0999984741211,107.66000366210938,104.91000366210938,105.04000091552734,108.16000366210938,107.7300033569336,104.9499969482422,101.47000122070312,103.73999786376952,104.04000091552734,104.2699966430664,105.04000091552734,105.4800033569336,108.0999984741211],\"x\":[\"2021-05-17\",\"2021-05-18\",\"2021-05-19\",\"2021-05-20\",\"2021-05-21\",\"2021-05-24\",\"2021-05-25\",\"2021-05-26\",\"2021-05-27\",\"2021-05-28\",\"2021-06-01\",\"2021-06-02\",\"2021-06-03\",\"2021-06-04\",\"2021-06-07\",\"2021-06-08\",\"2021-06-09\",\"2021-06-10\",\"2021-06-11\",\"2021-06-14\",\"2021-06-15\",\"2021-06-16\",\"2021-06-17\",\"2021-06-18\",\"2021-06-21\",\"2021-06-22\",\"2021-06-23\",\"2021-06-24\",\"2021-06-25\",\"2021-06-28\",\"2021-06-29\",\"2021-06-30\",\"2021-07-01\",\"2021-07-02\",\"2021-07-06\",\"2021-07-07\",\"2021-07-08\",\"2021-07-09\",\"2021-07-12\",\"2021-07-13\",\"2021-07-14\",\"2021-07-15\",\"2021-07-16\",\"2021-07-19\",\"2021-07-20\",\"2021-07-21\",\"2021-07-22\",\"2021-07-23\",\"2021-07-26\",\"2021-07-27\",\"2021-07-28\",\"2021-07-29\",\"2021-07-30\",\"2021-08-02\",\"2021-08-03\",\"2021-08-04\",\"2021-08-05\",\"2021-08-06\",\"2021-08-09\",\"2021-08-10\",\"2021-08-11\",\"2021-08-12\",\"2021-08-13\",\"2021-08-16\",\"2021-08-17\",\"2021-08-18\",\"2021-08-19\",\"2021-08-20\",\"2021-08-23\",\"2021-08-24\",\"2021-08-25\",\"2021-08-26\",\"2021-08-27\",\"2021-08-30\",\"2021-08-31\",\"2021-09-01\",\"2021-09-02\",\"2021-09-03\",\"2021-09-07\",\"2021-09-08\",\"2021-09-09\",\"2021-09-10\",\"2021-09-13\",\"2021-09-14\",\"2021-09-15\",\"2021-09-16\",\"2021-09-17\",\"2021-09-20\",\"2021-09-21\",\"2021-09-22\",\"2021-09-23\",\"2021-09-24\",\"2021-09-27\",\"2021-09-28\",\"2021-09-29\",\"2021-09-30\",\"2021-10-01\",\"2021-10-04\",\"2021-10-05\",\"2021-10-06\",\"2021-10-07\",\"2021-10-08\",\"2021-10-11\",\"2021-10-12\",\"2021-10-13\",\"2021-10-14\",\"2021-10-15\",\"2021-10-18\",\"2021-10-19\",\"2021-10-20\",\"2021-10-21\",\"2021-10-22\",\"2021-10-25\",\"2021-10-26\",\"2021-10-27\",\"2021-10-28\",\"2021-10-29\",\"2021-11-01\",\"2021-11-02\",\"2021-11-03\",\"2021-11-04\",\"2021-11-05\",\"2021-11-08\",\"2021-11-09\",\"2021-11-10\",\"2021-11-11\",\"2021-11-12\",\"2021-11-15\",\"2021-11-16\",\"2021-11-17\",\"2021-11-18\",\"2021-11-19\",\"2021-11-22\",\"2021-11-23\",\"2021-11-24\",\"2021-11-26\",\"2021-11-29\",\"2021-11-30\",\"2021-12-01\",\"2021-12-02\",\"2021-12-03\",\"2021-12-06\",\"2021-12-07\",\"2021-12-08\",\"2021-12-09\",\"2021-12-10\",\"2021-12-13\",\"2021-12-14\",\"2021-12-15\",\"2021-12-16\",\"2021-12-17\",\"2021-12-20\",\"2021-12-21\",\"2021-12-22\",\"2021-12-23\",\"2021-12-27\",\"2021-12-28\",\"2021-12-29\",\"2021-12-30\",\"2021-12-31\",\"2022-01-03\",\"2022-01-04\",\"2022-01-05\",\"2022-01-06\",\"2022-01-07\",\"2022-01-10\",\"2022-01-11\",\"2022-01-12\",\"2022-01-13\",\"2022-01-14\",\"2022-01-18\",\"2022-01-19\",\"2022-01-20\",\"2022-01-21\",\"2022-01-24\",\"2022-01-25\",\"2022-01-26\",\"2022-01-27\",\"2022-01-28\",\"2022-01-31\",\"2022-02-01\",\"2022-02-02\",\"2022-02-03\",\"2022-02-04\",\"2022-02-07\",\"2022-02-08\",\"2022-02-09\",\"2022-02-10\",\"2022-02-11\",\"2022-02-14\",\"2022-02-15\",\"2022-02-16\",\"2022-02-17\",\"2022-02-18\",\"2022-02-22\",\"2022-02-23\",\"2022-02-24\",\"2022-02-25\",\"2022-02-28\",\"2022-03-01\",\"2022-03-02\",\"2022-03-03\",\"2022-03-04\",\"2022-03-07\",\"2022-03-08\",\"2022-03-09\",\"2022-03-10\",\"2022-03-11\",\"2022-03-14\",\"2022-03-15\",\"2022-03-16\",\"2022-03-17\",\"2022-03-18\",\"2022-03-21\",\"2022-03-22\",\"2022-03-23\",\"2022-03-24\",\"2022-03-25\",\"2022-03-28\",\"2022-03-29\",\"2022-03-30\",\"2022-03-31\",\"2022-04-01\",\"2022-04-04\",\"2022-04-05\",\"2022-04-06\",\"2022-04-07\",\"2022-04-08\",\"2022-04-11\",\"2022-04-12\",\"2022-04-13\",\"2022-04-14\",\"2022-04-18\",\"2022-04-19\",\"2022-04-20\",\"2022-04-21\",\"2022-04-22\",\"2022-04-25\",\"2022-04-26\",\"2022-04-27\",\"2022-04-28\",\"2022-04-29\",\"2022-05-02\",\"2022-05-03\",\"2022-05-04\",\"2022-05-05\",\"2022-05-06\",\"2022-05-09\",\"2022-05-10\",\"2022-05-11\",\"2022-05-12\",\"2022-05-13\",\"2022-05-16\",\"2022-05-17\",\"2022-05-18\",\"2022-05-19\",\"2022-05-20\",\"2022-05-23\",\"2022-05-24\",\"2022-05-25\",\"2022-05-26\",\"2022-05-27\",\"2022-05-31\",\"2022-06-01\",\"2022-06-02\",\"2022-06-03\",\"2022-06-06\",\"2022-06-07\",\"2022-06-08\",\"2022-06-09\",\"2022-06-10\",\"2022-06-13\",\"2022-06-14\",\"2022-06-15\",\"2022-06-16\",\"2022-06-17\",\"2022-06-21\",\"2022-06-22\",\"2022-06-23\",\"2022-06-24\",\"2022-06-27\",\"2022-06-28\",\"2022-06-29\",\"2022-06-30\",\"2022-07-01\",\"2022-07-05\",\"2022-07-06\",\"2022-07-07\",\"2022-07-08\",\"2022-07-11\",\"2022-07-12\",\"2022-07-13\",\"2022-07-14\",\"2022-07-15\",\"2022-07-18\",\"2022-07-19\",\"2022-07-20\",\"2022-07-21\",\"2022-07-22\",\"2022-07-25\",\"2022-07-26\",\"2022-07-27\",\"2022-07-28\",\"2022-07-29\",\"2022-08-01\",\"2022-08-02\",\"2022-08-03\",\"2022-08-04\",\"2022-08-05\",\"2022-08-08\",\"2022-08-09\",\"2022-08-10\",\"2022-08-11\",\"2022-08-12\",\"2022-08-15\",\"2022-08-16\",\"2022-08-17\",\"2022-08-18\",\"2022-08-19\",\"2022-08-22\",\"2022-08-23\",\"2022-08-24\",\"2022-08-25\",\"2022-08-26\",\"2022-08-29\",\"2022-08-30\",\"2022-08-31\",\"2022-09-01\",\"2022-09-02\",\"2022-09-06\",\"2022-09-07\",\"2022-09-08\",\"2022-09-09\",\"2022-09-12\",\"2022-09-13\",\"2022-09-14\",\"2022-09-15\",\"2022-09-16\",\"2022-09-19\",\"2022-09-20\",\"2022-09-21\",\"2022-09-22\",\"2022-09-23\",\"2022-09-26\",\"2022-09-27\",\"2022-09-28\",\"2022-09-29\",\"2022-09-30\",\"2022-10-03\",\"2022-10-04\",\"2022-10-05\",\"2022-10-06\",\"2022-10-07\",\"2022-10-10\",\"2022-10-11\",\"2022-10-12\",\"2022-10-13\",\"2022-10-14\",\"2022-10-17\",\"2022-10-18\",\"2022-10-19\",\"2022-10-20\",\"2022-10-21\",\"2022-10-24\",\"2022-10-25\",\"2022-10-26\",\"2022-10-27\",\"2022-10-28\",\"2022-10-31\",\"2022-11-01\",\"2022-11-02\",\"2022-11-03\",\"2022-11-04\",\"2022-11-07\",\"2022-11-08\",\"2022-11-09\",\"2022-11-10\",\"2022-11-11\",\"2022-11-14\",\"2022-11-15\",\"2022-11-16\",\"2022-11-17\",\"2022-11-18\",\"2022-11-21\",\"2022-11-22\",\"2022-11-23\",\"2022-11-25\",\"2022-11-28\",\"2022-11-29\",\"2022-11-30\",\"2022-12-01\",\"2022-12-02\",\"2022-12-05\",\"2022-12-06\",\"2022-12-07\",\"2022-12-08\",\"2022-12-09\",\"2022-12-12\",\"2022-12-13\",\"2022-12-14\",\"2022-12-15\",\"2022-12-16\",\"2022-12-19\",\"2022-12-20\",\"2022-12-21\",\"2022-12-22\",\"2022-12-23\",\"2022-12-27\",\"2022-12-28\",\"2022-12-29\",\"2022-12-30\",\"2023-01-03\",\"2023-01-04\",\"2023-01-05\",\"2023-01-06\",\"2023-01-09\",\"2023-01-10\",\"2023-01-11\",\"2023-01-12\",\"2023-01-13\",\"2023-01-17\",\"2023-01-18\",\"2023-01-19\",\"2023-01-20\",\"2023-01-23\",\"2023-01-24\",\"2023-01-25\",\"2023-01-26\",\"2023-01-27\",\"2023-01-30\",\"2023-01-31\",\"2023-02-01\",\"2023-02-02\",\"2023-02-03\",\"2023-02-06\",\"2023-02-07\",\"2023-02-08\",\"2023-02-09\",\"2023-02-10\",\"2023-02-13\",\"2023-02-14\",\"2023-02-15\",\"2023-02-16\",\"2023-02-17\",\"2023-02-21\",\"2023-02-22\",\"2023-02-23\",\"2023-02-24\",\"2023-02-27\",\"2023-02-28\",\"2023-03-01\",\"2023-03-02\",\"2023-03-03\",\"2023-03-06\",\"2023-03-07\",\"2023-03-08\",\"2023-03-09\",\"2023-03-10\",\"2023-03-13\",\"2023-03-14\",\"2023-03-15\",\"2023-03-16\",\"2023-03-17\",\"2023-03-20\",\"2023-03-21\",\"2023-03-22\",\"2023-03-23\",\"2023-03-24\",\"2023-03-27\",\"2023-03-28\",\"2023-03-29\",\"2023-03-30\",\"2023-03-31\",\"2023-04-03\",\"2023-04-04\",\"2023-04-05\",\"2023-04-06\",\"2023-04-10\",\"2023-04-11\",\"2023-04-12\",\"2023-04-13\",\"2023-04-14\",\"2023-04-17\",\"2023-04-18\",\"2023-04-19\",\"2023-04-20\",\"2023-04-21\",\"2023-04-24\",\"2023-04-25\",\"2023-04-26\",\"2023-04-27\",\"2023-04-28\",\"2023-05-01\",\"2023-05-02\",\"2023-05-03\",\"2023-05-04\",\"2023-05-05\",\"2023-05-08\",\"2023-05-09\",\"2023-05-10\"],\"type\":\"candlestick\"}],                        {\"template\":{\"data\":{\"histogram2dcontour\":[{\"type\":\"histogram2dcontour\",\"colorbar\":{\"outlinewidth\":0,\"ticks\":\"\"},\"colorscale\":[[0.0,\"#0d0887\"],[0.1111111111111111,\"#46039f\"],[0.2222222222222222,\"#7201a8\"],[0.3333333333333333,\"#9c179e\"],[0.4444444444444444,\"#bd3786\"],[0.5555555555555556,\"#d8576b\"],[0.6666666666666666,\"#ed7953\"],[0.7777777777777778,\"#fb9f3a\"],[0.8888888888888888,\"#fdca26\"],[1.0,\"#f0f921\"]]}],\"choropleth\":[{\"type\":\"choropleth\",\"colorbar\":{\"outlinewidth\":0,\"ticks\":\"\"}}],\"histogram2d\":[{\"type\":\"histogram2d\",\"colorbar\":{\"outlinewidth\":0,\"ticks\":\"\"},\"colorscale\":[[0.0,\"#0d0887\"],[0.1111111111111111,\"#46039f\"],[0.2222222222222222,\"#7201a8\"],[0.3333333333333333,\"#9c179e\"],[0.4444444444444444,\"#bd3786\"],[0.5555555555555556,\"#d8576b\"],[0.6666666666666666,\"#ed7953\"],[0.7777777777777778,\"#fb9f3a\"],[0.8888888888888888,\"#fdca26\"],[1.0,\"#f0f921\"]]}],\"heatmap\":[{\"type\":\"heatmap\",\"colorbar\":{\"outlinewidth\":0,\"ticks\":\"\"},\"colorscale\":[[0.0,\"#0d0887\"],[0.1111111111111111,\"#46039f\"],[0.2222222222222222,\"#7201a8\"],[0.3333333333333333,\"#9c179e\"],[0.4444444444444444,\"#bd3786\"],[0.5555555555555556,\"#d8576b\"],[0.6666666666666666,\"#ed7953\"],[0.7777777777777778,\"#fb9f3a\"],[0.8888888888888888,\"#fdca26\"],[1.0,\"#f0f921\"]]}],\"heatmapgl\":[{\"type\":\"heatmapgl\",\"colorbar\":{\"outlinewidth\":0,\"ticks\":\"\"},\"colorscale\":[[0.0,\"#0d0887\"],[0.1111111111111111,\"#46039f\"],[0.2222222222222222,\"#7201a8\"],[0.3333333333333333,\"#9c179e\"],[0.4444444444444444,\"#bd3786\"],[0.5555555555555556,\"#d8576b\"],[0.6666666666666666,\"#ed7953\"],[0.7777777777777778,\"#fb9f3a\"],[0.8888888888888888,\"#fdca26\"],[1.0,\"#f0f921\"]]}],\"contourcarpet\":[{\"type\":\"contourcarpet\",\"colorbar\":{\"outlinewidth\":0,\"ticks\":\"\"}}],\"contour\":[{\"type\":\"contour\",\"colorbar\":{\"outlinewidth\":0,\"ticks\":\"\"},\"colorscale\":[[0.0,\"#0d0887\"],[0.1111111111111111,\"#46039f\"],[0.2222222222222222,\"#7201a8\"],[0.3333333333333333,\"#9c179e\"],[0.4444444444444444,\"#bd3786\"],[0.5555555555555556,\"#d8576b\"],[0.6666666666666666,\"#ed7953\"],[0.7777777777777778,\"#fb9f3a\"],[0.8888888888888888,\"#fdca26\"],[1.0,\"#f0f921\"]]}],\"surface\":[{\"type\":\"surface\",\"colorbar\":{\"outlinewidth\":0,\"ticks\":\"\"},\"colorscale\":[[0.0,\"#0d0887\"],[0.1111111111111111,\"#46039f\"],[0.2222222222222222,\"#7201a8\"],[0.3333333333333333,\"#9c179e\"],[0.4444444444444444,\"#bd3786\"],[0.5555555555555556,\"#d8576b\"],[0.6666666666666666,\"#ed7953\"],[0.7777777777777778,\"#fb9f3a\"],[0.8888888888888888,\"#fdca26\"],[1.0,\"#f0f921\"]]}],\"mesh3d\":[{\"type\":\"mesh3d\",\"colorbar\":{\"outlinewidth\":0,\"ticks\":\"\"}}],\"scatter\":[{\"fillpattern\":{\"fillmode\":\"overlay\",\"size\":10,\"solidity\":0.2},\"type\":\"scatter\"}],\"parcoords\":[{\"type\":\"parcoords\",\"line\":{\"colorbar\":{\"outlinewidth\":0,\"ticks\":\"\"}}}],\"scatterpolargl\":[{\"type\":\"scatterpolargl\",\"marker\":{\"colorbar\":{\"outlinewidth\":0,\"ticks\":\"\"}}}],\"bar\":[{\"error_x\":{\"color\":\"#2a3f5f\"},\"error_y\":{\"color\":\"#2a3f5f\"},\"marker\":{\"line\":{\"color\":\"#E5ECF6\",\"width\":0.5},\"pattern\":{\"fillmode\":\"overlay\",\"size\":10,\"solidity\":0.2}},\"type\":\"bar\"}],\"scattergeo\":[{\"type\":\"scattergeo\",\"marker\":{\"colorbar\":{\"outlinewidth\":0,\"ticks\":\"\"}}}],\"scatterpolar\":[{\"type\":\"scatterpolar\",\"marker\":{\"colorbar\":{\"outlinewidth\":0,\"ticks\":\"\"}}}],\"histogram\":[{\"marker\":{\"pattern\":{\"fillmode\":\"overlay\",\"size\":10,\"solidity\":0.2}},\"type\":\"histogram\"}],\"scattergl\":[{\"type\":\"scattergl\",\"marker\":{\"colorbar\":{\"outlinewidth\":0,\"ticks\":\"\"}}}],\"scatter3d\":[{\"type\":\"scatter3d\",\"line\":{\"colorbar\":{\"outlinewidth\":0,\"ticks\":\"\"}},\"marker\":{\"colorbar\":{\"outlinewidth\":0,\"ticks\":\"\"}}}],\"scattermapbox\":[{\"type\":\"scattermapbox\",\"marker\":{\"colorbar\":{\"outlinewidth\":0,\"ticks\":\"\"}}}],\"scatterternary\":[{\"type\":\"scatterternary\",\"marker\":{\"colorbar\":{\"outlinewidth\":0,\"ticks\":\"\"}}}],\"scattercarpet\":[{\"type\":\"scattercarpet\",\"marker\":{\"colorbar\":{\"outlinewidth\":0,\"ticks\":\"\"}}}],\"carpet\":[{\"aaxis\":{\"endlinecolor\":\"#2a3f5f\",\"gridcolor\":\"white\",\"linecolor\":\"white\",\"minorgridcolor\":\"white\",\"startlinecolor\":\"#2a3f5f\"},\"baxis\":{\"endlinecolor\":\"#2a3f5f\",\"gridcolor\":\"white\",\"linecolor\":\"white\",\"minorgridcolor\":\"white\",\"startlinecolor\":\"#2a3f5f\"},\"type\":\"carpet\"}],\"table\":[{\"cells\":{\"fill\":{\"color\":\"#EBF0F8\"},\"line\":{\"color\":\"white\"}},\"header\":{\"fill\":{\"color\":\"#C8D4E3\"},\"line\":{\"color\":\"white\"}},\"type\":\"table\"}],\"barpolar\":[{\"marker\":{\"line\":{\"color\":\"#E5ECF6\",\"width\":0.5},\"pattern\":{\"fillmode\":\"overlay\",\"size\":10,\"solidity\":0.2}},\"type\":\"barpolar\"}],\"pie\":[{\"automargin\":true,\"type\":\"pie\"}]},\"layout\":{\"autotypenumbers\":\"strict\",\"colorway\":[\"#636efa\",\"#EF553B\",\"#00cc96\",\"#ab63fa\",\"#FFA15A\",\"#19d3f3\",\"#FF6692\",\"#B6E880\",\"#FF97FF\",\"#FECB52\"],\"font\":{\"color\":\"#2a3f5f\"},\"hovermode\":\"closest\",\"hoverlabel\":{\"align\":\"left\"},\"paper_bgcolor\":\"white\",\"plot_bgcolor\":\"#E5ECF6\",\"polar\":{\"bgcolor\":\"#E5ECF6\",\"angularaxis\":{\"gridcolor\":\"white\",\"linecolor\":\"white\",\"ticks\":\"\"},\"radialaxis\":{\"gridcolor\":\"white\",\"linecolor\":\"white\",\"ticks\":\"\"}},\"ternary\":{\"bgcolor\":\"#E5ECF6\",\"aaxis\":{\"gridcolor\":\"white\",\"linecolor\":\"white\",\"ticks\":\"\"},\"baxis\":{\"gridcolor\":\"white\",\"linecolor\":\"white\",\"ticks\":\"\"},\"caxis\":{\"gridcolor\":\"white\",\"linecolor\":\"white\",\"ticks\":\"\"}},\"coloraxis\":{\"colorbar\":{\"outlinewidth\":0,\"ticks\":\"\"}},\"colorscale\":{\"sequential\":[[0.0,\"#0d0887\"],[0.1111111111111111,\"#46039f\"],[0.2222222222222222,\"#7201a8\"],[0.3333333333333333,\"#9c179e\"],[0.4444444444444444,\"#bd3786\"],[0.5555555555555556,\"#d8576b\"],[0.6666666666666666,\"#ed7953\"],[0.7777777777777778,\"#fb9f3a\"],[0.8888888888888888,\"#fdca26\"],[1.0,\"#f0f921\"]],\"sequentialminus\":[[0.0,\"#0d0887\"],[0.1111111111111111,\"#46039f\"],[0.2222222222222222,\"#7201a8\"],[0.3333333333333333,\"#9c179e\"],[0.4444444444444444,\"#bd3786\"],[0.5555555555555556,\"#d8576b\"],[0.6666666666666666,\"#ed7953\"],[0.7777777777777778,\"#fb9f3a\"],[0.8888888888888888,\"#fdca26\"],[1.0,\"#f0f921\"]],\"diverging\":[[0,\"#8e0152\"],[0.1,\"#c51b7d\"],[0.2,\"#de77ae\"],[0.3,\"#f1b6da\"],[0.4,\"#fde0ef\"],[0.5,\"#f7f7f7\"],[0.6,\"#e6f5d0\"],[0.7,\"#b8e186\"],[0.8,\"#7fbc41\"],[0.9,\"#4d9221\"],[1,\"#276419\"]]},\"xaxis\":{\"gridcolor\":\"white\",\"linecolor\":\"white\",\"ticks\":\"\",\"title\":{\"standoff\":15},\"zerolinecolor\":\"white\",\"automargin\":true,\"zerolinewidth\":2},\"yaxis\":{\"gridcolor\":\"white\",\"linecolor\":\"white\",\"ticks\":\"\",\"title\":{\"standoff\":15},\"zerolinecolor\":\"white\",\"automargin\":true,\"zerolinewidth\":2},\"scene\":{\"xaxis\":{\"backgroundcolor\":\"#E5ECF6\",\"gridcolor\":\"white\",\"linecolor\":\"white\",\"showbackground\":true,\"ticks\":\"\",\"zerolinecolor\":\"white\",\"gridwidth\":2},\"yaxis\":{\"backgroundcolor\":\"#E5ECF6\",\"gridcolor\":\"white\",\"linecolor\":\"white\",\"showbackground\":true,\"ticks\":\"\",\"zerolinecolor\":\"white\",\"gridwidth\":2},\"zaxis\":{\"backgroundcolor\":\"#E5ECF6\",\"gridcolor\":\"white\",\"linecolor\":\"white\",\"showbackground\":true,\"ticks\":\"\",\"zerolinecolor\":\"white\",\"gridwidth\":2}},\"shapedefaults\":{\"line\":{\"color\":\"#2a3f5f\"}},\"annotationdefaults\":{\"arrowcolor\":\"#2a3f5f\",\"arrowhead\":0,\"arrowwidth\":1},\"geo\":{\"bgcolor\":\"white\",\"landcolor\":\"#E5ECF6\",\"subunitcolor\":\"white\",\"showland\":true,\"showlakes\":true,\"lakecolor\":\"white\"},\"title\":{\"x\":0.05},\"mapbox\":{\"style\":\"light\"}}}},                        {\"responsive\": true}                    ).then(function(){\n",
              "                            \n",
              "var gd = document.getElementById('b8f690a7-6cc1-487c-aa3f-b4d1cb2e0b14');\n",
              "var x = new MutationObserver(function (mutations, observer) {{\n",
              "        var display = window.getComputedStyle(gd).display;\n",
              "        if (!display || display === 'none') {{\n",
              "            console.log([gd, 'removed!']);\n",
              "            Plotly.purge(gd);\n",
              "            observer.disconnect();\n",
              "        }}\n",
              "}});\n",
              "\n",
              "// Listen for the removal of the full notebook cells\n",
              "var notebookContainer = gd.closest('#notebook-container');\n",
              "if (notebookContainer) {{\n",
              "    x.observe(notebookContainer, {childList: true});\n",
              "}}\n",
              "\n",
              "// Listen for the clearing of the current output cell\n",
              "var outputEl = gd.closest('.output');\n",
              "if (outputEl) {{\n",
              "    x.observe(outputEl, {childList: true});\n",
              "}}\n",
              "\n",
              "                        })                };                            </script>        </div>\n",
              "</body>\n",
              "</html>"
            ]
          },
          "metadata": {}
        }
      ]
    },
    {
      "cell_type": "code",
      "source": [
        "# Using plotly.express\n",
        "import plotly.express as px\n",
        "\n",
        "df2 = px.data.stocks()\n",
        "fig = px.line(df2, x='date', y=\"GOOG\")\n",
        "fig.show()"
      ],
      "metadata": {
        "colab": {
          "base_uri": "https://localhost:8080/",
          "height": 542
        },
        "id": "aeD0bl9FWBjo",
        "outputId": "b01553b8-3218-4e6b-ba94-d62c917b5bde"
      },
      "id": "aeD0bl9FWBjo",
      "execution_count": null,
      "outputs": [
        {
          "output_type": "display_data",
          "data": {
            "text/html": [
              "<html>\n",
              "<head><meta charset=\"utf-8\" /></head>\n",
              "<body>\n",
              "    <div>            <script src=\"https://cdnjs.cloudflare.com/ajax/libs/mathjax/2.7.5/MathJax.js?config=TeX-AMS-MML_SVG\"></script><script type=\"text/javascript\">if (window.MathJax && window.MathJax.Hub && window.MathJax.Hub.Config) {window.MathJax.Hub.Config({SVG: {font: \"STIX-Web\"}});}</script>                <script type=\"text/javascript\">window.PlotlyConfig = {MathJaxConfig: 'local'};</script>\n",
              "        <script src=\"https://cdn.plot.ly/plotly-2.18.2.min.js\"></script>                <div id=\"0f906235-f6f3-45f1-9acb-15c30c2694e2\" class=\"plotly-graph-div\" style=\"height:525px; width:100%;\"></div>            <script type=\"text/javascript\">                                    window.PLOTLYENV=window.PLOTLYENV || {};                                    if (document.getElementById(\"0f906235-f6f3-45f1-9acb-15c30c2694e2\")) {                    Plotly.newPlot(                        \"0f906235-f6f3-45f1-9acb-15c30c2694e2\",                        [{\"hovertemplate\":\"date=%{x}<br>GOOG=%{y}<extra></extra>\",\"legendgroup\":\"\",\"line\":{\"color\":\"#636efa\",\"dash\":\"solid\"},\"marker\":{\"symbol\":\"circle\"},\"mode\":\"lines\",\"name\":\"\",\"orientation\":\"v\",\"showlegend\":false,\"x\":[\"2018-01-01\",\"2018-01-08\",\"2018-01-15\",\"2018-01-22\",\"2018-01-29\",\"2018-02-05\",\"2018-02-12\",\"2018-02-19\",\"2018-02-26\",\"2018-03-05\",\"2018-03-12\",\"2018-03-19\",\"2018-03-26\",\"2018-04-02\",\"2018-04-09\",\"2018-04-16\",\"2018-04-23\",\"2018-04-30\",\"2018-05-07\",\"2018-05-14\",\"2018-05-21\",\"2018-05-28\",\"2018-06-04\",\"2018-06-11\",\"2018-06-18\",\"2018-06-25\",\"2018-07-02\",\"2018-07-09\",\"2018-07-16\",\"2018-07-23\",\"2018-07-30\",\"2018-08-06\",\"2018-08-13\",\"2018-08-20\",\"2018-08-27\",\"2018-09-03\",\"2018-09-10\",\"2018-09-17\",\"2018-09-24\",\"2018-10-01\",\"2018-10-08\",\"2018-10-15\",\"2018-10-22\",\"2018-10-29\",\"2018-11-05\",\"2018-11-12\",\"2018-11-19\",\"2018-11-26\",\"2018-12-03\",\"2018-12-10\",\"2018-12-17\",\"2018-12-24\",\"2018-12-31\",\"2019-01-07\",\"2019-01-14\",\"2019-01-21\",\"2019-01-28\",\"2019-02-04\",\"2019-02-11\",\"2019-02-18\",\"2019-02-25\",\"2019-03-04\",\"2019-03-11\",\"2019-03-18\",\"2019-03-25\",\"2019-04-01\",\"2019-04-08\",\"2019-04-15\",\"2019-04-22\",\"2019-04-29\",\"2019-05-06\",\"2019-05-13\",\"2019-05-20\",\"2019-05-27\",\"2019-06-03\",\"2019-06-10\",\"2019-06-17\",\"2019-06-24\",\"2019-07-01\",\"2019-07-08\",\"2019-07-15\",\"2019-07-22\",\"2019-07-29\",\"2019-08-05\",\"2019-08-12\",\"2019-08-19\",\"2019-08-26\",\"2019-09-02\",\"2019-09-09\",\"2019-09-16\",\"2019-09-23\",\"2019-09-30\",\"2019-10-07\",\"2019-10-14\",\"2019-10-21\",\"2019-10-28\",\"2019-11-04\",\"2019-11-11\",\"2019-11-18\",\"2019-11-25\",\"2019-12-02\",\"2019-12-09\",\"2019-12-16\",\"2019-12-23\",\"2019-12-30\"],\"xaxis\":\"x\",\"y\":[1.0,1.018172278347936,1.032007866452698,1.066782783389724,1.0087731636550117,0.9415276737437316,0.99325918262539,1.0222821547641083,0.9788520214265992,1.0524482730908842,1.0303929312465263,0.926821104067592,0.9360932452590338,0.913638710861412,0.93380695379017,0.9734447261178653,0.9345146364100892,0.9509902470625956,0.9963982380519172,0.9674568868105002,0.9758943718805396,1.015668254641377,1.0169111849053498,1.0453898287179595,1.0483111519067918,1.0121753574512644,1.0344211867653972,1.0785588920381208,1.075011617811375,1.1236312044424703,1.1102129167272332,1.1228237368393843,1.0895729410299655,1.1074367837463466,1.1052048693141154,1.0567939333314087,1.0637798374890872,1.0579370795194665,1.0827776350267664,1.0500077089175164,1.007121903906116,0.9947651405743836,0.9720929301886708,0.959681788913054,0.9672663993407256,0.9630385756700248,0.9289168536315806,0.992923504040418,0.9404389054995582,0.945446952912676,0.8886892896888904,0.9408925313390586,0.9714034098401132,0.9591373489949891,0.9963982380519172,0.989802500200548,1.0077298024501202,0.9934950771344468,1.0103608540932627,1.0073850422758417,1.035165084150587,1.0363716889645844,1.0746032883264525,1.0936918990354445,1.064487521016258,1.095188886079836,1.1049145977684258,1.1216987538299403,1.1541874899828073,1.075456162061569,1.0562859304552756,1.0544986709579427,1.0283425342867192,1.001270175031893,0.9671666152648106,0.98468558802946,1.0178275181736574,0.980657443195294,1.0266368965939394,1.0387124690620373,1.025285100664745,1.1344366027859267,1.0832494231376286,1.0778240762422375,1.068379555417282,1.0445098208996275,1.0779056980467905,1.0931748145700046,1.12459294475006,1.115856106545024,1.1114649285805127,1.0968672799119472,1.10271900878617,1.129972884606169,1.1477913211905195,1.155602744537941,1.189742629754999,1.2110630442115171,1.1751993590303178,1.183927115646047,1.216279741365772,1.222820990588552,1.22441776261611,1.2265044859331442,1.213013658002661],\"yaxis\":\"y\",\"type\":\"scatter\"}],                        {\"template\":{\"data\":{\"histogram2dcontour\":[{\"type\":\"histogram2dcontour\",\"colorbar\":{\"outlinewidth\":0,\"ticks\":\"\"},\"colorscale\":[[0.0,\"#0d0887\"],[0.1111111111111111,\"#46039f\"],[0.2222222222222222,\"#7201a8\"],[0.3333333333333333,\"#9c179e\"],[0.4444444444444444,\"#bd3786\"],[0.5555555555555556,\"#d8576b\"],[0.6666666666666666,\"#ed7953\"],[0.7777777777777778,\"#fb9f3a\"],[0.8888888888888888,\"#fdca26\"],[1.0,\"#f0f921\"]]}],\"choropleth\":[{\"type\":\"choropleth\",\"colorbar\":{\"outlinewidth\":0,\"ticks\":\"\"}}],\"histogram2d\":[{\"type\":\"histogram2d\",\"colorbar\":{\"outlinewidth\":0,\"ticks\":\"\"},\"colorscale\":[[0.0,\"#0d0887\"],[0.1111111111111111,\"#46039f\"],[0.2222222222222222,\"#7201a8\"],[0.3333333333333333,\"#9c179e\"],[0.4444444444444444,\"#bd3786\"],[0.5555555555555556,\"#d8576b\"],[0.6666666666666666,\"#ed7953\"],[0.7777777777777778,\"#fb9f3a\"],[0.8888888888888888,\"#fdca26\"],[1.0,\"#f0f921\"]]}],\"heatmap\":[{\"type\":\"heatmap\",\"colorbar\":{\"outlinewidth\":0,\"ticks\":\"\"},\"colorscale\":[[0.0,\"#0d0887\"],[0.1111111111111111,\"#46039f\"],[0.2222222222222222,\"#7201a8\"],[0.3333333333333333,\"#9c179e\"],[0.4444444444444444,\"#bd3786\"],[0.5555555555555556,\"#d8576b\"],[0.6666666666666666,\"#ed7953\"],[0.7777777777777778,\"#fb9f3a\"],[0.8888888888888888,\"#fdca26\"],[1.0,\"#f0f921\"]]}],\"heatmapgl\":[{\"type\":\"heatmapgl\",\"colorbar\":{\"outlinewidth\":0,\"ticks\":\"\"},\"colorscale\":[[0.0,\"#0d0887\"],[0.1111111111111111,\"#46039f\"],[0.2222222222222222,\"#7201a8\"],[0.3333333333333333,\"#9c179e\"],[0.4444444444444444,\"#bd3786\"],[0.5555555555555556,\"#d8576b\"],[0.6666666666666666,\"#ed7953\"],[0.7777777777777778,\"#fb9f3a\"],[0.8888888888888888,\"#fdca26\"],[1.0,\"#f0f921\"]]}],\"contourcarpet\":[{\"type\":\"contourcarpet\",\"colorbar\":{\"outlinewidth\":0,\"ticks\":\"\"}}],\"contour\":[{\"type\":\"contour\",\"colorbar\":{\"outlinewidth\":0,\"ticks\":\"\"},\"colorscale\":[[0.0,\"#0d0887\"],[0.1111111111111111,\"#46039f\"],[0.2222222222222222,\"#7201a8\"],[0.3333333333333333,\"#9c179e\"],[0.4444444444444444,\"#bd3786\"],[0.5555555555555556,\"#d8576b\"],[0.6666666666666666,\"#ed7953\"],[0.7777777777777778,\"#fb9f3a\"],[0.8888888888888888,\"#fdca26\"],[1.0,\"#f0f921\"]]}],\"surface\":[{\"type\":\"surface\",\"colorbar\":{\"outlinewidth\":0,\"ticks\":\"\"},\"colorscale\":[[0.0,\"#0d0887\"],[0.1111111111111111,\"#46039f\"],[0.2222222222222222,\"#7201a8\"],[0.3333333333333333,\"#9c179e\"],[0.4444444444444444,\"#bd3786\"],[0.5555555555555556,\"#d8576b\"],[0.6666666666666666,\"#ed7953\"],[0.7777777777777778,\"#fb9f3a\"],[0.8888888888888888,\"#fdca26\"],[1.0,\"#f0f921\"]]}],\"mesh3d\":[{\"type\":\"mesh3d\",\"colorbar\":{\"outlinewidth\":0,\"ticks\":\"\"}}],\"scatter\":[{\"fillpattern\":{\"fillmode\":\"overlay\",\"size\":10,\"solidity\":0.2},\"type\":\"scatter\"}],\"parcoords\":[{\"type\":\"parcoords\",\"line\":{\"colorbar\":{\"outlinewidth\":0,\"ticks\":\"\"}}}],\"scatterpolargl\":[{\"type\":\"scatterpolargl\",\"marker\":{\"colorbar\":{\"outlinewidth\":0,\"ticks\":\"\"}}}],\"bar\":[{\"error_x\":{\"color\":\"#2a3f5f\"},\"error_y\":{\"color\":\"#2a3f5f\"},\"marker\":{\"line\":{\"color\":\"#E5ECF6\",\"width\":0.5},\"pattern\":{\"fillmode\":\"overlay\",\"size\":10,\"solidity\":0.2}},\"type\":\"bar\"}],\"scattergeo\":[{\"type\":\"scattergeo\",\"marker\":{\"colorbar\":{\"outlinewidth\":0,\"ticks\":\"\"}}}],\"scatterpolar\":[{\"type\":\"scatterpolar\",\"marker\":{\"colorbar\":{\"outlinewidth\":0,\"ticks\":\"\"}}}],\"histogram\":[{\"marker\":{\"pattern\":{\"fillmode\":\"overlay\",\"size\":10,\"solidity\":0.2}},\"type\":\"histogram\"}],\"scattergl\":[{\"type\":\"scattergl\",\"marker\":{\"colorbar\":{\"outlinewidth\":0,\"ticks\":\"\"}}}],\"scatter3d\":[{\"type\":\"scatter3d\",\"line\":{\"colorbar\":{\"outlinewidth\":0,\"ticks\":\"\"}},\"marker\":{\"colorbar\":{\"outlinewidth\":0,\"ticks\":\"\"}}}],\"scattermapbox\":[{\"type\":\"scattermapbox\",\"marker\":{\"colorbar\":{\"outlinewidth\":0,\"ticks\":\"\"}}}],\"scatterternary\":[{\"type\":\"scatterternary\",\"marker\":{\"colorbar\":{\"outlinewidth\":0,\"ticks\":\"\"}}}],\"scattercarpet\":[{\"type\":\"scattercarpet\",\"marker\":{\"colorbar\":{\"outlinewidth\":0,\"ticks\":\"\"}}}],\"carpet\":[{\"aaxis\":{\"endlinecolor\":\"#2a3f5f\",\"gridcolor\":\"white\",\"linecolor\":\"white\",\"minorgridcolor\":\"white\",\"startlinecolor\":\"#2a3f5f\"},\"baxis\":{\"endlinecolor\":\"#2a3f5f\",\"gridcolor\":\"white\",\"linecolor\":\"white\",\"minorgridcolor\":\"white\",\"startlinecolor\":\"#2a3f5f\"},\"type\":\"carpet\"}],\"table\":[{\"cells\":{\"fill\":{\"color\":\"#EBF0F8\"},\"line\":{\"color\":\"white\"}},\"header\":{\"fill\":{\"color\":\"#C8D4E3\"},\"line\":{\"color\":\"white\"}},\"type\":\"table\"}],\"barpolar\":[{\"marker\":{\"line\":{\"color\":\"#E5ECF6\",\"width\":0.5},\"pattern\":{\"fillmode\":\"overlay\",\"size\":10,\"solidity\":0.2}},\"type\":\"barpolar\"}],\"pie\":[{\"automargin\":true,\"type\":\"pie\"}]},\"layout\":{\"autotypenumbers\":\"strict\",\"colorway\":[\"#636efa\",\"#EF553B\",\"#00cc96\",\"#ab63fa\",\"#FFA15A\",\"#19d3f3\",\"#FF6692\",\"#B6E880\",\"#FF97FF\",\"#FECB52\"],\"font\":{\"color\":\"#2a3f5f\"},\"hovermode\":\"closest\",\"hoverlabel\":{\"align\":\"left\"},\"paper_bgcolor\":\"white\",\"plot_bgcolor\":\"#E5ECF6\",\"polar\":{\"bgcolor\":\"#E5ECF6\",\"angularaxis\":{\"gridcolor\":\"white\",\"linecolor\":\"white\",\"ticks\":\"\"},\"radialaxis\":{\"gridcolor\":\"white\",\"linecolor\":\"white\",\"ticks\":\"\"}},\"ternary\":{\"bgcolor\":\"#E5ECF6\",\"aaxis\":{\"gridcolor\":\"white\",\"linecolor\":\"white\",\"ticks\":\"\"},\"baxis\":{\"gridcolor\":\"white\",\"linecolor\":\"white\",\"ticks\":\"\"},\"caxis\":{\"gridcolor\":\"white\",\"linecolor\":\"white\",\"ticks\":\"\"}},\"coloraxis\":{\"colorbar\":{\"outlinewidth\":0,\"ticks\":\"\"}},\"colorscale\":{\"sequential\":[[0.0,\"#0d0887\"],[0.1111111111111111,\"#46039f\"],[0.2222222222222222,\"#7201a8\"],[0.3333333333333333,\"#9c179e\"],[0.4444444444444444,\"#bd3786\"],[0.5555555555555556,\"#d8576b\"],[0.6666666666666666,\"#ed7953\"],[0.7777777777777778,\"#fb9f3a\"],[0.8888888888888888,\"#fdca26\"],[1.0,\"#f0f921\"]],\"sequentialminus\":[[0.0,\"#0d0887\"],[0.1111111111111111,\"#46039f\"],[0.2222222222222222,\"#7201a8\"],[0.3333333333333333,\"#9c179e\"],[0.4444444444444444,\"#bd3786\"],[0.5555555555555556,\"#d8576b\"],[0.6666666666666666,\"#ed7953\"],[0.7777777777777778,\"#fb9f3a\"],[0.8888888888888888,\"#fdca26\"],[1.0,\"#f0f921\"]],\"diverging\":[[0,\"#8e0152\"],[0.1,\"#c51b7d\"],[0.2,\"#de77ae\"],[0.3,\"#f1b6da\"],[0.4,\"#fde0ef\"],[0.5,\"#f7f7f7\"],[0.6,\"#e6f5d0\"],[0.7,\"#b8e186\"],[0.8,\"#7fbc41\"],[0.9,\"#4d9221\"],[1,\"#276419\"]]},\"xaxis\":{\"gridcolor\":\"white\",\"linecolor\":\"white\",\"ticks\":\"\",\"title\":{\"standoff\":15},\"zerolinecolor\":\"white\",\"automargin\":true,\"zerolinewidth\":2},\"yaxis\":{\"gridcolor\":\"white\",\"linecolor\":\"white\",\"ticks\":\"\",\"title\":{\"standoff\":15},\"zerolinecolor\":\"white\",\"automargin\":true,\"zerolinewidth\":2},\"scene\":{\"xaxis\":{\"backgroundcolor\":\"#E5ECF6\",\"gridcolor\":\"white\",\"linecolor\":\"white\",\"showbackground\":true,\"ticks\":\"\",\"zerolinecolor\":\"white\",\"gridwidth\":2},\"yaxis\":{\"backgroundcolor\":\"#E5ECF6\",\"gridcolor\":\"white\",\"linecolor\":\"white\",\"showbackground\":true,\"ticks\":\"\",\"zerolinecolor\":\"white\",\"gridwidth\":2},\"zaxis\":{\"backgroundcolor\":\"#E5ECF6\",\"gridcolor\":\"white\",\"linecolor\":\"white\",\"showbackground\":true,\"ticks\":\"\",\"zerolinecolor\":\"white\",\"gridwidth\":2}},\"shapedefaults\":{\"line\":{\"color\":\"#2a3f5f\"}},\"annotationdefaults\":{\"arrowcolor\":\"#2a3f5f\",\"arrowhead\":0,\"arrowwidth\":1},\"geo\":{\"bgcolor\":\"white\",\"landcolor\":\"#E5ECF6\",\"subunitcolor\":\"white\",\"showland\":true,\"showlakes\":true,\"lakecolor\":\"white\"},\"title\":{\"x\":0.05},\"mapbox\":{\"style\":\"light\"}}},\"xaxis\":{\"anchor\":\"y\",\"domain\":[0.0,1.0],\"title\":{\"text\":\"date\"}},\"yaxis\":{\"anchor\":\"x\",\"domain\":[0.0,1.0],\"title\":{\"text\":\"GOOG\"}},\"legend\":{\"tracegroupgap\":0},\"margin\":{\"t\":60}},                        {\"responsive\": true}                    ).then(function(){\n",
              "                            \n",
              "var gd = document.getElementById('0f906235-f6f3-45f1-9acb-15c30c2694e2');\n",
              "var x = new MutationObserver(function (mutations, observer) {{\n",
              "        var display = window.getComputedStyle(gd).display;\n",
              "        if (!display || display === 'none') {{\n",
              "            console.log([gd, 'removed!']);\n",
              "            Plotly.purge(gd);\n",
              "            observer.disconnect();\n",
              "        }}\n",
              "}});\n",
              "\n",
              "// Listen for the removal of the full notebook cells\n",
              "var notebookContainer = gd.closest('#notebook-container');\n",
              "if (notebookContainer) {{\n",
              "    x.observe(notebookContainer, {childList: true});\n",
              "}}\n",
              "\n",
              "// Listen for the clearing of the current output cell\n",
              "var outputEl = gd.closest('.output');\n",
              "if (outputEl) {{\n",
              "    x.observe(outputEl, {childList: true});\n",
              "}}\n",
              "\n",
              "                        })                };                            </script>        </div>\n",
              "</body>\n",
              "</html>"
            ]
          },
          "metadata": {}
        }
      ]
    },
    {
      "cell_type": "code",
      "source": [
        "df2.columns"
      ],
      "metadata": {
        "colab": {
          "base_uri": "https://localhost:8080/"
        },
        "id": "rLsbg9OyWTy4",
        "outputId": "e0045564-36c6-48e6-e5e3-1c8570fb1523"
      },
      "id": "rLsbg9OyWTy4",
      "execution_count": null,
      "outputs": [
        {
          "output_type": "execute_result",
          "data": {
            "text/plain": [
              "Index(['date', 'GOOG', 'AAPL', 'AMZN', 'FB', 'NFLX', 'MSFT'], dtype='object')"
            ]
          },
          "metadata": {},
          "execution_count": 82
        }
      ]
    },
    {
      "cell_type": "code",
      "source": [
        "df2.head(2)"
      ],
      "metadata": {
        "colab": {
          "base_uri": "https://localhost:8080/",
          "height": 112
        },
        "id": "-TJJb8PZWXVQ",
        "outputId": "d7e2df5b-f465-4832-a157-e380638045fa"
      },
      "id": "-TJJb8PZWXVQ",
      "execution_count": null,
      "outputs": [
        {
          "output_type": "execute_result",
          "data": {
            "text/plain": [
              "         date      GOOG      AAPL      AMZN        FB      NFLX      MSFT\n",
              "0  2018-01-01  1.000000  1.000000  1.000000  1.000000  1.000000  1.000000\n",
              "1  2018-01-08  1.018172  1.011943  1.061881  0.959968  1.053526  1.015988"
            ],
            "text/html": [
              "\n",
              "  <div id=\"df-c979a814-8d9d-446e-9ae6-b2082f1bd7c6\">\n",
              "    <div class=\"colab-df-container\">\n",
              "      <div>\n",
              "<style scoped>\n",
              "    .dataframe tbody tr th:only-of-type {\n",
              "        vertical-align: middle;\n",
              "    }\n",
              "\n",
              "    .dataframe tbody tr th {\n",
              "        vertical-align: top;\n",
              "    }\n",
              "\n",
              "    .dataframe thead th {\n",
              "        text-align: right;\n",
              "    }\n",
              "</style>\n",
              "<table border=\"1\" class=\"dataframe\">\n",
              "  <thead>\n",
              "    <tr style=\"text-align: right;\">\n",
              "      <th></th>\n",
              "      <th>date</th>\n",
              "      <th>GOOG</th>\n",
              "      <th>AAPL</th>\n",
              "      <th>AMZN</th>\n",
              "      <th>FB</th>\n",
              "      <th>NFLX</th>\n",
              "      <th>MSFT</th>\n",
              "    </tr>\n",
              "  </thead>\n",
              "  <tbody>\n",
              "    <tr>\n",
              "      <th>0</th>\n",
              "      <td>2018-01-01</td>\n",
              "      <td>1.000000</td>\n",
              "      <td>1.000000</td>\n",
              "      <td>1.000000</td>\n",
              "      <td>1.000000</td>\n",
              "      <td>1.000000</td>\n",
              "      <td>1.000000</td>\n",
              "    </tr>\n",
              "    <tr>\n",
              "      <th>1</th>\n",
              "      <td>2018-01-08</td>\n",
              "      <td>1.018172</td>\n",
              "      <td>1.011943</td>\n",
              "      <td>1.061881</td>\n",
              "      <td>0.959968</td>\n",
              "      <td>1.053526</td>\n",
              "      <td>1.015988</td>\n",
              "    </tr>\n",
              "  </tbody>\n",
              "</table>\n",
              "</div>\n",
              "      <button class=\"colab-df-convert\" onclick=\"convertToInteractive('df-c979a814-8d9d-446e-9ae6-b2082f1bd7c6')\"\n",
              "              title=\"Convert this dataframe to an interactive table.\"\n",
              "              style=\"display:none;\">\n",
              "        \n",
              "  <svg xmlns=\"http://www.w3.org/2000/svg\" height=\"24px\"viewBox=\"0 0 24 24\"\n",
              "       width=\"24px\">\n",
              "    <path d=\"M0 0h24v24H0V0z\" fill=\"none\"/>\n",
              "    <path d=\"M18.56 5.44l.94 2.06.94-2.06 2.06-.94-2.06-.94-.94-2.06-.94 2.06-2.06.94zm-11 1L8.5 8.5l.94-2.06 2.06-.94-2.06-.94L8.5 2.5l-.94 2.06-2.06.94zm10 10l.94 2.06.94-2.06 2.06-.94-2.06-.94-.94-2.06-.94 2.06-2.06.94z\"/><path d=\"M17.41 7.96l-1.37-1.37c-.4-.4-.92-.59-1.43-.59-.52 0-1.04.2-1.43.59L10.3 9.45l-7.72 7.72c-.78.78-.78 2.05 0 2.83L4 21.41c.39.39.9.59 1.41.59.51 0 1.02-.2 1.41-.59l7.78-7.78 2.81-2.81c.8-.78.8-2.07 0-2.86zM5.41 20L4 18.59l7.72-7.72 1.47 1.35L5.41 20z\"/>\n",
              "  </svg>\n",
              "      </button>\n",
              "      \n",
              "  <style>\n",
              "    .colab-df-container {\n",
              "      display:flex;\n",
              "      flex-wrap:wrap;\n",
              "      gap: 12px;\n",
              "    }\n",
              "\n",
              "    .colab-df-convert {\n",
              "      background-color: #E8F0FE;\n",
              "      border: none;\n",
              "      border-radius: 50%;\n",
              "      cursor: pointer;\n",
              "      display: none;\n",
              "      fill: #1967D2;\n",
              "      height: 32px;\n",
              "      padding: 0 0 0 0;\n",
              "      width: 32px;\n",
              "    }\n",
              "\n",
              "    .colab-df-convert:hover {\n",
              "      background-color: #E2EBFA;\n",
              "      box-shadow: 0px 1px 2px rgba(60, 64, 67, 0.3), 0px 1px 3px 1px rgba(60, 64, 67, 0.15);\n",
              "      fill: #174EA6;\n",
              "    }\n",
              "\n",
              "    [theme=dark] .colab-df-convert {\n",
              "      background-color: #3B4455;\n",
              "      fill: #D2E3FC;\n",
              "    }\n",
              "\n",
              "    [theme=dark] .colab-df-convert:hover {\n",
              "      background-color: #434B5C;\n",
              "      box-shadow: 0px 1px 3px 1px rgba(0, 0, 0, 0.15);\n",
              "      filter: drop-shadow(0px 1px 2px rgba(0, 0, 0, 0.3));\n",
              "      fill: #FFFFFF;\n",
              "    }\n",
              "  </style>\n",
              "\n",
              "      <script>\n",
              "        const buttonEl =\n",
              "          document.querySelector('#df-c979a814-8d9d-446e-9ae6-b2082f1bd7c6 button.colab-df-convert');\n",
              "        buttonEl.style.display =\n",
              "          google.colab.kernel.accessAllowed ? 'block' : 'none';\n",
              "\n",
              "        async function convertToInteractive(key) {\n",
              "          const element = document.querySelector('#df-c979a814-8d9d-446e-9ae6-b2082f1bd7c6');\n",
              "          const dataTable =\n",
              "            await google.colab.kernel.invokeFunction('convertToInteractive',\n",
              "                                                     [key], {});\n",
              "          if (!dataTable) return;\n",
              "\n",
              "          const docLinkHtml = 'Like what you see? Visit the ' +\n",
              "            '<a target=\"_blank\" href=https://colab.research.google.com/notebooks/data_table.ipynb>data table notebook</a>'\n",
              "            + ' to learn more about interactive tables.';\n",
              "          element.innerHTML = '';\n",
              "          dataTable['output_type'] = 'display_data';\n",
              "          await google.colab.output.renderOutput(dataTable, element);\n",
              "          const docLink = document.createElement('div');\n",
              "          docLink.innerHTML = docLinkHtml;\n",
              "          element.appendChild(docLink);\n",
              "        }\n",
              "      </script>\n",
              "    </div>\n",
              "  </div>\n",
              "  "
            ]
          },
          "metadata": {},
          "execution_count": 93
        }
      ]
    },
    {
      "cell_type": "code",
      "source": [
        "df2['GOOG']"
      ],
      "metadata": {
        "colab": {
          "base_uri": "https://localhost:8080/"
        },
        "id": "S1xXa26wW0FR",
        "outputId": "b15ea3cc-5dd1-49fb-b18f-072dc100e42c"
      },
      "id": "S1xXa26wW0FR",
      "execution_count": null,
      "outputs": [
        {
          "output_type": "execute_result",
          "data": {
            "text/plain": [
              "0      1.000000\n",
              "1      1.018172\n",
              "2      1.032008\n",
              "3      1.066783\n",
              "4      1.008773\n",
              "         ...   \n",
              "100    1.216280\n",
              "101    1.222821\n",
              "102    1.224418\n",
              "103    1.226504\n",
              "104    1.213014\n",
              "Name: GOOG, Length: 105, dtype: float64"
            ]
          },
          "metadata": {},
          "execution_count": 84
        }
      ]
    },
    {
      "cell_type": "code",
      "source": [
        "df_symbol.columns"
      ],
      "metadata": {
        "colab": {
          "base_uri": "https://localhost:8080/"
        },
        "id": "kdVG1vZUaGTF",
        "outputId": "d425611b-79be-4aa1-c58b-13acd27a19ab"
      },
      "id": "kdVG1vZUaGTF",
      "execution_count": null,
      "outputs": [
        {
          "output_type": "execute_result",
          "data": {
            "text/plain": [
              "Index(['Date', 'Open', 'High', 'Low', 'Close', 'Volume'], dtype='object')"
            ]
          },
          "metadata": {},
          "execution_count": 85
        }
      ]
    },
    {
      "cell_type": "code",
      "source": [
        "df_symbol['Close']"
      ],
      "metadata": {
        "colab": {
          "base_uri": "https://localhost:8080/"
        },
        "id": "_azjDtmpZvj0",
        "outputId": "74a821cd-c9ac-4b9f-f7d5-8235b09e46fe"
      },
      "id": "_azjDtmpZvj0",
      "execution_count": null,
      "outputs": [
        {
          "output_type": "execute_result",
          "data": {
            "text/plain": [
              "0      163.519501\n",
              "1      161.613998\n",
              "2      161.589996\n",
              "3      162.384003\n",
              "4      160.154007\n",
              "          ...    \n",
              "495    104.000000\n",
              "496    105.660004\n",
              "497    105.830002\n",
              "498    106.620003\n",
              "499    110.190002\n",
              "Name: Close, Length: 500, dtype: float64"
            ]
          },
          "metadata": {},
          "execution_count": 86
        }
      ]
    },
    {
      "cell_type": "code",
      "source": [
        "# Using plotly.express\n",
        "import plotly.express as px\n",
        "fig = px.line(df_symbol, x='Date', y=\"Close\") #contains GOOG daily price series\n",
        "fig.show()"
      ],
      "metadata": {
        "colab": {
          "base_uri": "https://localhost:8080/",
          "height": 542
        },
        "id": "q0vsa1hiZ2b1",
        "outputId": "55837397-011f-4b15-acfd-4f105104e653"
      },
      "id": "q0vsa1hiZ2b1",
      "execution_count": null,
      "outputs": [
        {
          "output_type": "display_data",
          "data": {
            "text/html": [
              "<html>\n",
              "<head><meta charset=\"utf-8\" /></head>\n",
              "<body>\n",
              "    <div>            <script src=\"https://cdnjs.cloudflare.com/ajax/libs/mathjax/2.7.5/MathJax.js?config=TeX-AMS-MML_SVG\"></script><script type=\"text/javascript\">if (window.MathJax && window.MathJax.Hub && window.MathJax.Hub.Config) {window.MathJax.Hub.Config({SVG: {font: \"STIX-Web\"}});}</script>                <script type=\"text/javascript\">window.PlotlyConfig = {MathJaxConfig: 'local'};</script>\n",
              "        <script src=\"https://cdn.plot.ly/plotly-2.18.2.min.js\"></script>                <div id=\"082e2170-ebc2-45f8-81e4-ad8ab33a2922\" class=\"plotly-graph-div\" style=\"height:525px; width:100%;\"></div>            <script type=\"text/javascript\">                                    window.PLOTLYENV=window.PLOTLYENV || {};                                    if (document.getElementById(\"082e2170-ebc2-45f8-81e4-ad8ab33a2922\")) {                    Plotly.newPlot(                        \"082e2170-ebc2-45f8-81e4-ad8ab33a2922\",                        [{\"hovertemplate\":\"Date=%{x}<br>Close=%{y}<extra></extra>\",\"legendgroup\":\"\",\"line\":{\"color\":\"#636efa\",\"dash\":\"solid\"},\"marker\":{\"symbol\":\"circle\"},\"mode\":\"lines\",\"name\":\"\",\"orientation\":\"v\",\"showlegend\":false,\"x\":[\"2021-05-17\",\"2021-05-18\",\"2021-05-19\",\"2021-05-20\",\"2021-05-21\",\"2021-05-24\",\"2021-05-25\",\"2021-05-26\",\"2021-05-27\",\"2021-05-28\",\"2021-06-01\",\"2021-06-02\",\"2021-06-03\",\"2021-06-04\",\"2021-06-07\",\"2021-06-08\",\"2021-06-09\",\"2021-06-10\",\"2021-06-11\",\"2021-06-14\",\"2021-06-15\",\"2021-06-16\",\"2021-06-17\",\"2021-06-18\",\"2021-06-21\",\"2021-06-22\",\"2021-06-23\",\"2021-06-24\",\"2021-06-25\",\"2021-06-28\",\"2021-06-29\",\"2021-06-30\",\"2021-07-01\",\"2021-07-02\",\"2021-07-06\",\"2021-07-07\",\"2021-07-08\",\"2021-07-09\",\"2021-07-12\",\"2021-07-13\",\"2021-07-14\",\"2021-07-15\",\"2021-07-16\",\"2021-07-19\",\"2021-07-20\",\"2021-07-21\",\"2021-07-22\",\"2021-07-23\",\"2021-07-26\",\"2021-07-27\",\"2021-07-28\",\"2021-07-29\",\"2021-07-30\",\"2021-08-02\",\"2021-08-03\",\"2021-08-04\",\"2021-08-05\",\"2021-08-06\",\"2021-08-09\",\"2021-08-10\",\"2021-08-11\",\"2021-08-12\",\"2021-08-13\",\"2021-08-16\",\"2021-08-17\",\"2021-08-18\",\"2021-08-19\",\"2021-08-20\",\"2021-08-23\",\"2021-08-24\",\"2021-08-25\",\"2021-08-26\",\"2021-08-27\",\"2021-08-30\",\"2021-08-31\",\"2021-09-01\",\"2021-09-02\",\"2021-09-03\",\"2021-09-07\",\"2021-09-08\",\"2021-09-09\",\"2021-09-10\",\"2021-09-13\",\"2021-09-14\",\"2021-09-15\",\"2021-09-16\",\"2021-09-17\",\"2021-09-20\",\"2021-09-21\",\"2021-09-22\",\"2021-09-23\",\"2021-09-24\",\"2021-09-27\",\"2021-09-28\",\"2021-09-29\",\"2021-09-30\",\"2021-10-01\",\"2021-10-04\",\"2021-10-05\",\"2021-10-06\",\"2021-10-07\",\"2021-10-08\",\"2021-10-11\",\"2021-10-12\",\"2021-10-13\",\"2021-10-14\",\"2021-10-15\",\"2021-10-18\",\"2021-10-19\",\"2021-10-20\",\"2021-10-21\",\"2021-10-22\",\"2021-10-25\",\"2021-10-26\",\"2021-10-27\",\"2021-10-28\",\"2021-10-29\",\"2021-11-01\",\"2021-11-02\",\"2021-11-03\",\"2021-11-04\",\"2021-11-05\",\"2021-11-08\",\"2021-11-09\",\"2021-11-10\",\"2021-11-11\",\"2021-11-12\",\"2021-11-15\",\"2021-11-16\",\"2021-11-17\",\"2021-11-18\",\"2021-11-19\",\"2021-11-22\",\"2021-11-23\",\"2021-11-24\",\"2021-11-26\",\"2021-11-29\",\"2021-11-30\",\"2021-12-01\",\"2021-12-02\",\"2021-12-03\",\"2021-12-06\",\"2021-12-07\",\"2021-12-08\",\"2021-12-09\",\"2021-12-10\",\"2021-12-13\",\"2021-12-14\",\"2021-12-15\",\"2021-12-16\",\"2021-12-17\",\"2021-12-20\",\"2021-12-21\",\"2021-12-22\",\"2021-12-23\",\"2021-12-27\",\"2021-12-28\",\"2021-12-29\",\"2021-12-30\",\"2021-12-31\",\"2022-01-03\",\"2022-01-04\",\"2022-01-05\",\"2022-01-06\",\"2022-01-07\",\"2022-01-10\",\"2022-01-11\",\"2022-01-12\",\"2022-01-13\",\"2022-01-14\",\"2022-01-18\",\"2022-01-19\",\"2022-01-20\",\"2022-01-21\",\"2022-01-24\",\"2022-01-25\",\"2022-01-26\",\"2022-01-27\",\"2022-01-28\",\"2022-01-31\",\"2022-02-01\",\"2022-02-02\",\"2022-02-03\",\"2022-02-04\",\"2022-02-07\",\"2022-02-08\",\"2022-02-09\",\"2022-02-10\",\"2022-02-11\",\"2022-02-14\",\"2022-02-15\",\"2022-02-16\",\"2022-02-17\",\"2022-02-18\",\"2022-02-22\",\"2022-02-23\",\"2022-02-24\",\"2022-02-25\",\"2022-02-28\",\"2022-03-01\",\"2022-03-02\",\"2022-03-03\",\"2022-03-04\",\"2022-03-07\",\"2022-03-08\",\"2022-03-09\",\"2022-03-10\",\"2022-03-11\",\"2022-03-14\",\"2022-03-15\",\"2022-03-16\",\"2022-03-17\",\"2022-03-18\",\"2022-03-21\",\"2022-03-22\",\"2022-03-23\",\"2022-03-24\",\"2022-03-25\",\"2022-03-28\",\"2022-03-29\",\"2022-03-30\",\"2022-03-31\",\"2022-04-01\",\"2022-04-04\",\"2022-04-05\",\"2022-04-06\",\"2022-04-07\",\"2022-04-08\",\"2022-04-11\",\"2022-04-12\",\"2022-04-13\",\"2022-04-14\",\"2022-04-18\",\"2022-04-19\",\"2022-04-20\",\"2022-04-21\",\"2022-04-22\",\"2022-04-25\",\"2022-04-26\",\"2022-04-27\",\"2022-04-28\",\"2022-04-29\",\"2022-05-02\",\"2022-05-03\",\"2022-05-04\",\"2022-05-05\",\"2022-05-06\",\"2022-05-09\",\"2022-05-10\",\"2022-05-11\",\"2022-05-12\",\"2022-05-13\",\"2022-05-16\",\"2022-05-17\",\"2022-05-18\",\"2022-05-19\",\"2022-05-20\",\"2022-05-23\",\"2022-05-24\",\"2022-05-25\",\"2022-05-26\",\"2022-05-27\",\"2022-05-31\",\"2022-06-01\",\"2022-06-02\",\"2022-06-03\",\"2022-06-06\",\"2022-06-07\",\"2022-06-08\",\"2022-06-09\",\"2022-06-10\",\"2022-06-13\",\"2022-06-14\",\"2022-06-15\",\"2022-06-16\",\"2022-06-17\",\"2022-06-21\",\"2022-06-22\",\"2022-06-23\",\"2022-06-24\",\"2022-06-27\",\"2022-06-28\",\"2022-06-29\",\"2022-06-30\",\"2022-07-01\",\"2022-07-05\",\"2022-07-06\",\"2022-07-07\",\"2022-07-08\",\"2022-07-11\",\"2022-07-12\",\"2022-07-13\",\"2022-07-14\",\"2022-07-15\",\"2022-07-18\",\"2022-07-19\",\"2022-07-20\",\"2022-07-21\",\"2022-07-22\",\"2022-07-25\",\"2022-07-26\",\"2022-07-27\",\"2022-07-28\",\"2022-07-29\",\"2022-08-01\",\"2022-08-02\",\"2022-08-03\",\"2022-08-04\",\"2022-08-05\",\"2022-08-08\",\"2022-08-09\",\"2022-08-10\",\"2022-08-11\",\"2022-08-12\",\"2022-08-15\",\"2022-08-16\",\"2022-08-17\",\"2022-08-18\",\"2022-08-19\",\"2022-08-22\",\"2022-08-23\",\"2022-08-24\",\"2022-08-25\",\"2022-08-26\",\"2022-08-29\",\"2022-08-30\",\"2022-08-31\",\"2022-09-01\",\"2022-09-02\",\"2022-09-06\",\"2022-09-07\",\"2022-09-08\",\"2022-09-09\",\"2022-09-12\",\"2022-09-13\",\"2022-09-14\",\"2022-09-15\",\"2022-09-16\",\"2022-09-19\",\"2022-09-20\",\"2022-09-21\",\"2022-09-22\",\"2022-09-23\",\"2022-09-26\",\"2022-09-27\",\"2022-09-28\",\"2022-09-29\",\"2022-09-30\",\"2022-10-03\",\"2022-10-04\",\"2022-10-05\",\"2022-10-06\",\"2022-10-07\",\"2022-10-10\",\"2022-10-11\",\"2022-10-12\",\"2022-10-13\",\"2022-10-14\",\"2022-10-17\",\"2022-10-18\",\"2022-10-19\",\"2022-10-20\",\"2022-10-21\",\"2022-10-24\",\"2022-10-25\",\"2022-10-26\",\"2022-10-27\",\"2022-10-28\",\"2022-10-31\",\"2022-11-01\",\"2022-11-02\",\"2022-11-03\",\"2022-11-04\",\"2022-11-07\",\"2022-11-08\",\"2022-11-09\",\"2022-11-10\",\"2022-11-11\",\"2022-11-14\",\"2022-11-15\",\"2022-11-16\",\"2022-11-17\",\"2022-11-18\",\"2022-11-21\",\"2022-11-22\",\"2022-11-23\",\"2022-11-25\",\"2022-11-28\",\"2022-11-29\",\"2022-11-30\",\"2022-12-01\",\"2022-12-02\",\"2022-12-05\",\"2022-12-06\",\"2022-12-07\",\"2022-12-08\",\"2022-12-09\",\"2022-12-12\",\"2022-12-13\",\"2022-12-14\",\"2022-12-15\",\"2022-12-16\",\"2022-12-19\",\"2022-12-20\",\"2022-12-21\",\"2022-12-22\",\"2022-12-23\",\"2022-12-27\",\"2022-12-28\",\"2022-12-29\",\"2022-12-30\",\"2023-01-03\",\"2023-01-04\",\"2023-01-05\",\"2023-01-06\",\"2023-01-09\",\"2023-01-10\",\"2023-01-11\",\"2023-01-12\",\"2023-01-13\",\"2023-01-17\",\"2023-01-18\",\"2023-01-19\",\"2023-01-20\",\"2023-01-23\",\"2023-01-24\",\"2023-01-25\",\"2023-01-26\",\"2023-01-27\",\"2023-01-30\",\"2023-01-31\",\"2023-02-01\",\"2023-02-02\",\"2023-02-03\",\"2023-02-06\",\"2023-02-07\",\"2023-02-08\",\"2023-02-09\",\"2023-02-10\",\"2023-02-13\",\"2023-02-14\",\"2023-02-15\",\"2023-02-16\",\"2023-02-17\",\"2023-02-21\",\"2023-02-22\",\"2023-02-23\",\"2023-02-24\",\"2023-02-27\",\"2023-02-28\",\"2023-03-01\",\"2023-03-02\",\"2023-03-03\",\"2023-03-06\",\"2023-03-07\",\"2023-03-08\",\"2023-03-09\",\"2023-03-10\",\"2023-03-13\",\"2023-03-14\",\"2023-03-15\",\"2023-03-16\",\"2023-03-17\",\"2023-03-20\",\"2023-03-21\",\"2023-03-22\",\"2023-03-23\",\"2023-03-24\",\"2023-03-27\",\"2023-03-28\",\"2023-03-29\",\"2023-03-30\",\"2023-03-31\",\"2023-04-03\",\"2023-04-04\",\"2023-04-05\",\"2023-04-06\",\"2023-04-10\",\"2023-04-11\",\"2023-04-12\",\"2023-04-13\",\"2023-04-14\",\"2023-04-17\",\"2023-04-18\",\"2023-04-19\",\"2023-04-20\",\"2023-04-21\",\"2023-04-24\",\"2023-04-25\",\"2023-04-26\",\"2023-04-27\",\"2023-04-28\",\"2023-05-01\",\"2023-05-02\",\"2023-05-03\",\"2023-05-04\",\"2023-05-05\",\"2023-05-08\",\"2023-05-09\",\"2023-05-10\"],\"xaxis\":\"x\",\"y\":[163.51950073242188,161.61399841308594,161.58999633789062,162.38400268554688,160.1540069580078,162.24949645996094,162.95249938964844,163.25799560546875,161.5054931640625,161.15350341796875,160.9324951171875,161.69949340820312,159.35049438476562,160.31100463867188,159.90049743652344,163.20550537109375,164.0574951171875,167.4824981689453,167.3415069580078,169.19349670410156,169.156494140625,170.7624969482422,174.46200561523438,174.34500122070312,172.697998046875,175.27200317382812,175.1909942626953,172.45399475097656,170.072998046875,172.1945037841797,172.40699768066406,172.00799560546875,171.64849853515625,175.5489959716797,183.78700256347656,184.82899475097656,186.57049560546875,185.9669952392578,185.9275054931641,183.8679962158203,184.08399963378903,181.55999755859372,178.68150329589844,177.47950744628906,178.6595001220703,179.25999450683594,181.9015045166016,182.83200073242188,184.99099731445312,181.3195037841797,181.51600646972656,179.99600219726562,166.37950134277344,166.57400512695312,168.31199645996094,167.73599243164062,168.79949951171875,167.2469940185547,167.093505859375,166.03399658203125,164.60549926757812,165.1750030517578,164.69850158691406,164.94949340820312,162.09800720214844,160.06100463867188,159.3874969482422,159.99749755859375,163.2935028076172,165.28900146484375,164.95899963378906,165.8000030517578,167.48150634765625,171.07850646972656,173.5395050048828,173.9499969482422,173.156005859375,173.90249633789062,175.46449279785156,176.27499389648438,174.20799255371094,173.45750427246094,172.85850524902344,172.5,173.7895050048828,174.41200256347656,173.12600708007812,167.7864990234375,167.18150329589844,169.00250244140625,170.8000030517578,171.2760009765625,170.2899932861328,165.79800415039062,165.05599975585938,164.2519989013672,164.16299438476562,159.48899841308594,161.0500030517578,163.10049438476562,165.1215057373047,164.43099975585938,162.31500244140625,162.3665008544922,164.21400451660156,164.9929962158203,170.4510040283203,172.33700561523438,172.20750427246094,170.7530059814453,171.75050354003906,166.77749633789062,166.01849365234375,168.80349731445312,169.62449645996094,172.32850646972656,168.6215057373047,165.90550231933594,165.6374969482422,169.1999969482422,173.85000610351562,175.94949340820312,174.44900512695312,178.81149291992188,174.1024932861328,173.625,176.25750732421875,177.28399658203125,177.03500366210938,177.4499969482422,184.8029937744141,183.82850646972656,178.6284942626953,179.0019989013672,179.02049255371094,175.22799682617188,178.07850646972656,175.35350036621094,172.18600463867188,171.8679962158203,169.489501953125,171.36849975585938,176.1645050048828,176.1580047607422,174.17100524902344,172.21200561523438,169.5675048828125,169.0915069580078,173.31500244140625,168.87100219726562,170.0175018310547,167.07899475097656,170.41700744628906,171.03700256347656,171.06849670410156,169.66949462890625,170.66099548339844,169.2010040283203,168.64450073242188,166.7169952392578,170.4044952392578,167.52200317382812,164.35699462890625,163.25399780273438,162.5540008544922,161.48599243164062,165.36199951171875,165.20700073242188,161.21400451660156,162.13800048828125,158.91749572753906,156.2989959716797,151.66749572753906,142.64300537109375,144.54400634765625,139.98599243164062,138.87249755859375,139.6374969482422,143.97799682617188,149.57350158691406,151.19349670410156,150.6125030517578,138.8455047607422,157.63949584960938,157.9355010986328,161.4134979248047,161.1894989013672,159.0034942626953,153.2935028076172,155.16700744628906,156.510498046875,158.10049438476562,154.65249633789062,152.60150146484375,150.19749450683594,144.82699584960938,151.35800170898438,153.7884979248047,153.56300354003906,151.14199829101562,152.05250549316406,147.89849853515625,145.64100646972656,137.4530029296875,136.01449584960938,139.2790069580078,146.8175048828125,145.52450561523438,141.85299682617188,147.3665008544922,153.10400390625,157.23899841308594,161.25050354003906,161.4915008544922,164.88900756835938,163.4080047607422,163.64950561523438,164.77349853515625,168.99049377441406,169.31500244140625,166.30099487304688,162.99749755859375,163.55999755859375,168.34649658203125,164.05499267578125,158.75599670410156,157.7845001220703,154.4604949951172,151.1219940185547,150.78750610351562,155.54100036621094,151.7064971923828,152.78500366210938,158.11549377441406,153.9980010986328,148.29600524902344,144.35000610351562,146.07400512695312,139.39100646972656,138.16700744628906,144.59649658203125,124.28150177001952,124.5,124.25350189208984,125.92849731445312,116.40699768066406,114.77249908447266,108.78900146484376,108.85900115966795,105.37200164794922,106.93049621582033,113.05500030517578,110.8105010986328,115.36849975585938,107.1125030517578,107.31900024414062,107.59100341796876,107.55699920654295,104.0999984741211,106.7750015258789,111.07749938964844,115.14649963378906,120.20950317382812,121.68399810791016,125.51100158691406,122.3499984741211,124.79000091552734,123.0,121.18000030517578,116.1500015258789,109.6500015258789,103.66999816894533,102.30999755859376,107.66999816894533,103.66000366210938,106.22000122070312,108.68000030517578,108.9499969482422,112.44000244140624,116.45999908447266,113.22000122070312,107.4000015258789,108.91999816894533,106.20999908447266,109.55999755859376,113.5,114.33000183105467,116.33000183105467,115.54000091552734,111.75,109.22000122070312,110.4000015258789,110.62999725341795,113.5500030517578,113.76000213623048,118.20999908447266,122.7699966430664,124.62999725341795,122.41999816894533,121.13999938964844,114.80999755859376,120.97000122070312,122.27999877929688,134.9499969482422,135.38999938964844,134.16000366210938,139.52000427246094,142.57000732421875,140.8000030517578,139.41000366210938,137.8300018310547,142.69000244140625,140.63999938964844,143.5500030517578,143.17999267578125,144.77999877929688,142.10000610351562,142.3000030517578,138.22999572753906,133.22000122070312,133.6199951171875,133.8000030517578,137.27999877929688,130.75,129.7899932861328,128.72999572753906,126.7699966430664,127.81999969482422,127.51000213623048,126.11000061035156,129.47999572753906,129.82000732421875,133.27000427246094,136.4499969482422,126.81999969482422,128.5500030517578,126.27999877929688,123.52999877929688,124.66000366210938,122.19000244140624,118.54000091552734,117.30999755859376,113.77999877929688,115.1500015258789,114.41000366210938,118.01000213623048,114.8000030517578,113.0,115.87999725341795,121.08999633789062,120.9499969482422,120.3000030517578,114.55999755859376,113.66999816894533,112.20999908447266,112.9000015258789,112.52999877929688,106.9000015258789,113.79000091552734,116.36000061035156,115.06999969482422,115.25,119.31999969482422,119.81999969482422,120.5999984741211,115.66000366210938,110.95999908447266,103.41000366210938,102.44000244140624,96.79000091552734,92.12000274658205,89.30000305175781,90.9800033569336,90.52999877929688,89.9800033569336,86.13999938964844,96.62999725341795,100.79000091552734,98.48999786376952,98.94000244140624,97.12000274658205,94.8499984741211,94.13999938964844,92.45999908447266,93.1999969482422,94.12999725341795,93.41000366210938,93.9499969482422,92.41999816894533,96.54000091552734,95.5,94.12999725341795,91.01000213623048,88.25,88.45999908447266,90.3499984741211,89.08999633789062,90.5500030517578,92.48999786376952,91.58000183105467,88.44999694824219,87.86000061035156,84.91999816894531,85.19000244140625,86.7699966430664,83.79000091552734,85.25,83.04000091552734,81.81999969482422,84.18000030517578,84.0,85.81999969482422,85.13999938964844,83.12000274658203,86.08000183105469,87.36000061035156,89.87000274658203,95.08999633789062,95.2699966430664,98.12000274658205,96.0500030517578,95.45999908447266,93.68000030517578,97.25,97.5199966430664,96.31999969482422,97.18000030517578,99.22000122070312,102.23999786376952,100.5500030517578,103.12999725341795,105.1500015258789,112.91000366210938,103.38999938964844,102.18000030517578,102.11000061035156,100.0500030517578,98.23999786376952,97.61000061035156,99.54000091552734,99.6999969482422,101.16000366210938,98.1500015258789,97.1999969482422,94.58000183105467,95.79000091552734,95.81999969482422,93.5,93.76000213623048,94.2300033569336,92.16999816894533,92.12999725341795,94.9000015258789,93.75,93.5500030517578,93.91999816894533,92.25,90.7300033569336,92.43000030517578,94.87999725341795,96.1999969482422,100.04000091552734,98.9499969482422,97.70999908447266,100.61000061035156,98.6999969482422,98.70999908447266,98.12999725341795,98.04000091552734,97.23999786376952,100.25,102.0,103.29000091552734,102.41000366210938,103.9499969482422,101.0999984741211,102.05999755859376,102.16999816894533,99.91999816894533,97.83000183105467,102.4000015258789,102.51000213623048,102.73999786376952,102.3000030517578,104.3000030517578,103.80999755859376,106.95999908447266,106.20999908447266,102.56999969482422,104.9800033569336,109.81999969482422,105.4499969482422,102.0500030517578,103.62999725341795,103.6500015258789,104.0,105.66000366210938,105.83000183105467,106.62000274658205,110.19000244140624],\"yaxis\":\"y\",\"type\":\"scatter\"}],                        {\"template\":{\"data\":{\"histogram2dcontour\":[{\"type\":\"histogram2dcontour\",\"colorbar\":{\"outlinewidth\":0,\"ticks\":\"\"},\"colorscale\":[[0.0,\"#0d0887\"],[0.1111111111111111,\"#46039f\"],[0.2222222222222222,\"#7201a8\"],[0.3333333333333333,\"#9c179e\"],[0.4444444444444444,\"#bd3786\"],[0.5555555555555556,\"#d8576b\"],[0.6666666666666666,\"#ed7953\"],[0.7777777777777778,\"#fb9f3a\"],[0.8888888888888888,\"#fdca26\"],[1.0,\"#f0f921\"]]}],\"choropleth\":[{\"type\":\"choropleth\",\"colorbar\":{\"outlinewidth\":0,\"ticks\":\"\"}}],\"histogram2d\":[{\"type\":\"histogram2d\",\"colorbar\":{\"outlinewidth\":0,\"ticks\":\"\"},\"colorscale\":[[0.0,\"#0d0887\"],[0.1111111111111111,\"#46039f\"],[0.2222222222222222,\"#7201a8\"],[0.3333333333333333,\"#9c179e\"],[0.4444444444444444,\"#bd3786\"],[0.5555555555555556,\"#d8576b\"],[0.6666666666666666,\"#ed7953\"],[0.7777777777777778,\"#fb9f3a\"],[0.8888888888888888,\"#fdca26\"],[1.0,\"#f0f921\"]]}],\"heatmap\":[{\"type\":\"heatmap\",\"colorbar\":{\"outlinewidth\":0,\"ticks\":\"\"},\"colorscale\":[[0.0,\"#0d0887\"],[0.1111111111111111,\"#46039f\"],[0.2222222222222222,\"#7201a8\"],[0.3333333333333333,\"#9c179e\"],[0.4444444444444444,\"#bd3786\"],[0.5555555555555556,\"#d8576b\"],[0.6666666666666666,\"#ed7953\"],[0.7777777777777778,\"#fb9f3a\"],[0.8888888888888888,\"#fdca26\"],[1.0,\"#f0f921\"]]}],\"heatmapgl\":[{\"type\":\"heatmapgl\",\"colorbar\":{\"outlinewidth\":0,\"ticks\":\"\"},\"colorscale\":[[0.0,\"#0d0887\"],[0.1111111111111111,\"#46039f\"],[0.2222222222222222,\"#7201a8\"],[0.3333333333333333,\"#9c179e\"],[0.4444444444444444,\"#bd3786\"],[0.5555555555555556,\"#d8576b\"],[0.6666666666666666,\"#ed7953\"],[0.7777777777777778,\"#fb9f3a\"],[0.8888888888888888,\"#fdca26\"],[1.0,\"#f0f921\"]]}],\"contourcarpet\":[{\"type\":\"contourcarpet\",\"colorbar\":{\"outlinewidth\":0,\"ticks\":\"\"}}],\"contour\":[{\"type\":\"contour\",\"colorbar\":{\"outlinewidth\":0,\"ticks\":\"\"},\"colorscale\":[[0.0,\"#0d0887\"],[0.1111111111111111,\"#46039f\"],[0.2222222222222222,\"#7201a8\"],[0.3333333333333333,\"#9c179e\"],[0.4444444444444444,\"#bd3786\"],[0.5555555555555556,\"#d8576b\"],[0.6666666666666666,\"#ed7953\"],[0.7777777777777778,\"#fb9f3a\"],[0.8888888888888888,\"#fdca26\"],[1.0,\"#f0f921\"]]}],\"surface\":[{\"type\":\"surface\",\"colorbar\":{\"outlinewidth\":0,\"ticks\":\"\"},\"colorscale\":[[0.0,\"#0d0887\"],[0.1111111111111111,\"#46039f\"],[0.2222222222222222,\"#7201a8\"],[0.3333333333333333,\"#9c179e\"],[0.4444444444444444,\"#bd3786\"],[0.5555555555555556,\"#d8576b\"],[0.6666666666666666,\"#ed7953\"],[0.7777777777777778,\"#fb9f3a\"],[0.8888888888888888,\"#fdca26\"],[1.0,\"#f0f921\"]]}],\"mesh3d\":[{\"type\":\"mesh3d\",\"colorbar\":{\"outlinewidth\":0,\"ticks\":\"\"}}],\"scatter\":[{\"fillpattern\":{\"fillmode\":\"overlay\",\"size\":10,\"solidity\":0.2},\"type\":\"scatter\"}],\"parcoords\":[{\"type\":\"parcoords\",\"line\":{\"colorbar\":{\"outlinewidth\":0,\"ticks\":\"\"}}}],\"scatterpolargl\":[{\"type\":\"scatterpolargl\",\"marker\":{\"colorbar\":{\"outlinewidth\":0,\"ticks\":\"\"}}}],\"bar\":[{\"error_x\":{\"color\":\"#2a3f5f\"},\"error_y\":{\"color\":\"#2a3f5f\"},\"marker\":{\"line\":{\"color\":\"#E5ECF6\",\"width\":0.5},\"pattern\":{\"fillmode\":\"overlay\",\"size\":10,\"solidity\":0.2}},\"type\":\"bar\"}],\"scattergeo\":[{\"type\":\"scattergeo\",\"marker\":{\"colorbar\":{\"outlinewidth\":0,\"ticks\":\"\"}}}],\"scatterpolar\":[{\"type\":\"scatterpolar\",\"marker\":{\"colorbar\":{\"outlinewidth\":0,\"ticks\":\"\"}}}],\"histogram\":[{\"marker\":{\"pattern\":{\"fillmode\":\"overlay\",\"size\":10,\"solidity\":0.2}},\"type\":\"histogram\"}],\"scattergl\":[{\"type\":\"scattergl\",\"marker\":{\"colorbar\":{\"outlinewidth\":0,\"ticks\":\"\"}}}],\"scatter3d\":[{\"type\":\"scatter3d\",\"line\":{\"colorbar\":{\"outlinewidth\":0,\"ticks\":\"\"}},\"marker\":{\"colorbar\":{\"outlinewidth\":0,\"ticks\":\"\"}}}],\"scattermapbox\":[{\"type\":\"scattermapbox\",\"marker\":{\"colorbar\":{\"outlinewidth\":0,\"ticks\":\"\"}}}],\"scatterternary\":[{\"type\":\"scatterternary\",\"marker\":{\"colorbar\":{\"outlinewidth\":0,\"ticks\":\"\"}}}],\"scattercarpet\":[{\"type\":\"scattercarpet\",\"marker\":{\"colorbar\":{\"outlinewidth\":0,\"ticks\":\"\"}}}],\"carpet\":[{\"aaxis\":{\"endlinecolor\":\"#2a3f5f\",\"gridcolor\":\"white\",\"linecolor\":\"white\",\"minorgridcolor\":\"white\",\"startlinecolor\":\"#2a3f5f\"},\"baxis\":{\"endlinecolor\":\"#2a3f5f\",\"gridcolor\":\"white\",\"linecolor\":\"white\",\"minorgridcolor\":\"white\",\"startlinecolor\":\"#2a3f5f\"},\"type\":\"carpet\"}],\"table\":[{\"cells\":{\"fill\":{\"color\":\"#EBF0F8\"},\"line\":{\"color\":\"white\"}},\"header\":{\"fill\":{\"color\":\"#C8D4E3\"},\"line\":{\"color\":\"white\"}},\"type\":\"table\"}],\"barpolar\":[{\"marker\":{\"line\":{\"color\":\"#E5ECF6\",\"width\":0.5},\"pattern\":{\"fillmode\":\"overlay\",\"size\":10,\"solidity\":0.2}},\"type\":\"barpolar\"}],\"pie\":[{\"automargin\":true,\"type\":\"pie\"}]},\"layout\":{\"autotypenumbers\":\"strict\",\"colorway\":[\"#636efa\",\"#EF553B\",\"#00cc96\",\"#ab63fa\",\"#FFA15A\",\"#19d3f3\",\"#FF6692\",\"#B6E880\",\"#FF97FF\",\"#FECB52\"],\"font\":{\"color\":\"#2a3f5f\"},\"hovermode\":\"closest\",\"hoverlabel\":{\"align\":\"left\"},\"paper_bgcolor\":\"white\",\"plot_bgcolor\":\"#E5ECF6\",\"polar\":{\"bgcolor\":\"#E5ECF6\",\"angularaxis\":{\"gridcolor\":\"white\",\"linecolor\":\"white\",\"ticks\":\"\"},\"radialaxis\":{\"gridcolor\":\"white\",\"linecolor\":\"white\",\"ticks\":\"\"}},\"ternary\":{\"bgcolor\":\"#E5ECF6\",\"aaxis\":{\"gridcolor\":\"white\",\"linecolor\":\"white\",\"ticks\":\"\"},\"baxis\":{\"gridcolor\":\"white\",\"linecolor\":\"white\",\"ticks\":\"\"},\"caxis\":{\"gridcolor\":\"white\",\"linecolor\":\"white\",\"ticks\":\"\"}},\"coloraxis\":{\"colorbar\":{\"outlinewidth\":0,\"ticks\":\"\"}},\"colorscale\":{\"sequential\":[[0.0,\"#0d0887\"],[0.1111111111111111,\"#46039f\"],[0.2222222222222222,\"#7201a8\"],[0.3333333333333333,\"#9c179e\"],[0.4444444444444444,\"#bd3786\"],[0.5555555555555556,\"#d8576b\"],[0.6666666666666666,\"#ed7953\"],[0.7777777777777778,\"#fb9f3a\"],[0.8888888888888888,\"#fdca26\"],[1.0,\"#f0f921\"]],\"sequentialminus\":[[0.0,\"#0d0887\"],[0.1111111111111111,\"#46039f\"],[0.2222222222222222,\"#7201a8\"],[0.3333333333333333,\"#9c179e\"],[0.4444444444444444,\"#bd3786\"],[0.5555555555555556,\"#d8576b\"],[0.6666666666666666,\"#ed7953\"],[0.7777777777777778,\"#fb9f3a\"],[0.8888888888888888,\"#fdca26\"],[1.0,\"#f0f921\"]],\"diverging\":[[0,\"#8e0152\"],[0.1,\"#c51b7d\"],[0.2,\"#de77ae\"],[0.3,\"#f1b6da\"],[0.4,\"#fde0ef\"],[0.5,\"#f7f7f7\"],[0.6,\"#e6f5d0\"],[0.7,\"#b8e186\"],[0.8,\"#7fbc41\"],[0.9,\"#4d9221\"],[1,\"#276419\"]]},\"xaxis\":{\"gridcolor\":\"white\",\"linecolor\":\"white\",\"ticks\":\"\",\"title\":{\"standoff\":15},\"zerolinecolor\":\"white\",\"automargin\":true,\"zerolinewidth\":2},\"yaxis\":{\"gridcolor\":\"white\",\"linecolor\":\"white\",\"ticks\":\"\",\"title\":{\"standoff\":15},\"zerolinecolor\":\"white\",\"automargin\":true,\"zerolinewidth\":2},\"scene\":{\"xaxis\":{\"backgroundcolor\":\"#E5ECF6\",\"gridcolor\":\"white\",\"linecolor\":\"white\",\"showbackground\":true,\"ticks\":\"\",\"zerolinecolor\":\"white\",\"gridwidth\":2},\"yaxis\":{\"backgroundcolor\":\"#E5ECF6\",\"gridcolor\":\"white\",\"linecolor\":\"white\",\"showbackground\":true,\"ticks\":\"\",\"zerolinecolor\":\"white\",\"gridwidth\":2},\"zaxis\":{\"backgroundcolor\":\"#E5ECF6\",\"gridcolor\":\"white\",\"linecolor\":\"white\",\"showbackground\":true,\"ticks\":\"\",\"zerolinecolor\":\"white\",\"gridwidth\":2}},\"shapedefaults\":{\"line\":{\"color\":\"#2a3f5f\"}},\"annotationdefaults\":{\"arrowcolor\":\"#2a3f5f\",\"arrowhead\":0,\"arrowwidth\":1},\"geo\":{\"bgcolor\":\"white\",\"landcolor\":\"#E5ECF6\",\"subunitcolor\":\"white\",\"showland\":true,\"showlakes\":true,\"lakecolor\":\"white\"},\"title\":{\"x\":0.05},\"mapbox\":{\"style\":\"light\"}}},\"xaxis\":{\"anchor\":\"y\",\"domain\":[0.0,1.0],\"title\":{\"text\":\"Date\"}},\"yaxis\":{\"anchor\":\"x\",\"domain\":[0.0,1.0],\"title\":{\"text\":\"Close\"}},\"legend\":{\"tracegroupgap\":0},\"margin\":{\"t\":60}},                        {\"responsive\": true}                    ).then(function(){\n",
              "                            \n",
              "var gd = document.getElementById('082e2170-ebc2-45f8-81e4-ad8ab33a2922');\n",
              "var x = new MutationObserver(function (mutations, observer) {{\n",
              "        var display = window.getComputedStyle(gd).display;\n",
              "        if (!display || display === 'none') {{\n",
              "            console.log([gd, 'removed!']);\n",
              "            Plotly.purge(gd);\n",
              "            observer.disconnect();\n",
              "        }}\n",
              "}});\n",
              "\n",
              "// Listen for the removal of the full notebook cells\n",
              "var notebookContainer = gd.closest('#notebook-container');\n",
              "if (notebookContainer) {{\n",
              "    x.observe(notebookContainer, {childList: true});\n",
              "}}\n",
              "\n",
              "// Listen for the clearing of the current output cell\n",
              "var outputEl = gd.closest('.output');\n",
              "if (outputEl) {{\n",
              "    x.observe(outputEl, {childList: true});\n",
              "}}\n",
              "\n",
              "                        })                };                            </script>        </div>\n",
              "</body>\n",
              "</html>"
            ]
          },
          "metadata": {}
        }
      ]
    },
    {
      "cell_type": "markdown",
      "source": [
        "#Plotting the Clustered Stocks\n"
      ],
      "metadata": {
        "id": "0H5FRhn9KfZp"
      },
      "id": "0H5FRhn9KfZp"
    },
    {
      "cell_type": "code",
      "source": [
        "#generate a Date column in gdf\n",
        "def getDateColumn():\n",
        "  df = pd.read_csv('CAT')  #CHOOSE an equity or vehicle for which you possess a Date index\n",
        "  return df['Date']  #pandas series"
      ],
      "metadata": {
        "id": "hQ6W45x-HlE8"
      },
      "id": "hQ6W45x-HlE8",
      "execution_count": null,
      "outputs": []
    },
    {
      "cell_type": "code",
      "source": [
        "symUpper = [x.upper() for x in sym] #make all symbols in sym to uppercase\n",
        "# print(symUpper)\n",
        "gdf = pd.DataFrame(columns=symUpper) #form a new global dataframe, gdf, for purpose of graphing\n",
        "gdf['Date'] = getDateColumn()            #get a common index for dates, for every commodity or equity\n",
        "for i in range(len(symUpper)):           #iterate the length of the uppercase symbols\n",
        "  df_x = pd.read_csv( symUpper[i])       #create one dataframe to hold the csv contents\n",
        "  gdf[symUpper[i]] = df_x['Close']       #extract the price series from the 'Closed' column\n",
        "print(gdf.head(3))                       #print the resulting top three rows from the new gdf\n",
        "# print(gdf.columns)\n"
      ],
      "metadata": {
        "colab": {
          "base_uri": "https://localhost:8080/"
        },
        "id": "Y4rb7eofDjgw",
        "outputId": "cbc8ad1f-d883-4467-8280-3cdd6edb1ca1"
      },
      "id": "Y4rb7eofDjgw",
      "execution_count": null,
      "outputs": [
        {
          "output_type": "stream",
          "name": "stdout",
          "text": [
            "         AMZN         CAT          HD       INTC         JPM         LMT  \\\n",
            "0  163.519501  234.190872  305.472809  51.665337  155.389923  370.419891   \n",
            "1  161.613998  229.101227  302.360870  51.207787  153.200684  366.726318   \n",
            "2  161.589996  226.613815  300.165375  51.693344  152.030533  365.135254   \n",
            "\n",
            "         RTX         TGT        VLO        XOM        Date  \n",
            "0  82.638496  202.336761  76.143669  57.699772  2021-05-17  \n",
            "1  81.502541  199.524109  74.240555  56.066845  2021-05-18  \n",
            "2  81.340263  211.683243  72.094872  54.721542  2021-05-19  \n"
          ]
        }
      ]
    },
    {
      "cell_type": "code",
      "source": [
        "fig = px.line(gdf, x=\"Date\", y=gdf.columns,\n",
        "              hover_data={\"Date\": \"|%B %d, %Y\"},\n",
        "              title='Study of Defence, Service, and Infastructure Sectors in the Market')\n",
        "fig.update_xaxes(\n",
        "    dtick=\"M1\",\n",
        "    tickformat=\"%b\\n%Y\")\n",
        "fig.show()"
      ],
      "metadata": {
        "colab": {
          "base_uri": "https://localhost:8080/",
          "height": 542
        },
        "id": "-w16P8BxHAu5",
        "outputId": "e2a32859-6ecc-4c19-daba-9055174a2223"
      },
      "id": "-w16P8BxHAu5",
      "execution_count": null,
      "outputs": [
        {
          "output_type": "display_data",
          "data": {
            "text/html": [
              "<html>\n",
              "<head><meta charset=\"utf-8\" /></head>\n",
              "<body>\n",
              "    <div>            <script src=\"https://cdnjs.cloudflare.com/ajax/libs/mathjax/2.7.5/MathJax.js?config=TeX-AMS-MML_SVG\"></script><script type=\"text/javascript\">if (window.MathJax && window.MathJax.Hub && window.MathJax.Hub.Config) {window.MathJax.Hub.Config({SVG: {font: \"STIX-Web\"}});}</script>                <script type=\"text/javascript\">window.PlotlyConfig = {MathJaxConfig: 'local'};</script>\n",
              "        <script src=\"https://cdn.plot.ly/plotly-2.18.2.min.js\"></script>                <div id=\"71938791-abf5-42eb-8765-3d165f173d27\" class=\"plotly-graph-div\" style=\"height:525px; width:100%;\"></div>            <script type=\"text/javascript\">                                    window.PLOTLYENV=window.PLOTLYENV || {};                                    if (document.getElementById(\"71938791-abf5-42eb-8765-3d165f173d27\")) {                    Plotly.newPlot(                        \"71938791-abf5-42eb-8765-3d165f173d27\",                        [{\"hovertemplate\":\"variable=AMZN<br>Date=%{x|%B %d, %Y}<br>value=%{y}<extra></extra>\",\"legendgroup\":\"AMZN\",\"line\":{\"color\":\"#636efa\",\"dash\":\"solid\"},\"marker\":{\"symbol\":\"circle\"},\"mode\":\"lines\",\"name\":\"AMZN\",\"showlegend\":true,\"x\":[\"2021-05-17\",\"2021-05-18\",\"2021-05-19\",\"2021-05-20\",\"2021-05-21\",\"2021-05-24\",\"2021-05-25\",\"2021-05-26\",\"2021-05-27\",\"2021-05-28\",\"2021-06-01\",\"2021-06-02\",\"2021-06-03\",\"2021-06-04\",\"2021-06-07\",\"2021-06-08\",\"2021-06-09\",\"2021-06-10\",\"2021-06-11\",\"2021-06-14\",\"2021-06-15\",\"2021-06-16\",\"2021-06-17\",\"2021-06-18\",\"2021-06-21\",\"2021-06-22\",\"2021-06-23\",\"2021-06-24\",\"2021-06-25\",\"2021-06-28\",\"2021-06-29\",\"2021-06-30\",\"2021-07-01\",\"2021-07-02\",\"2021-07-06\",\"2021-07-07\",\"2021-07-08\",\"2021-07-09\",\"2021-07-12\",\"2021-07-13\",\"2021-07-14\",\"2021-07-15\",\"2021-07-16\",\"2021-07-19\",\"2021-07-20\",\"2021-07-21\",\"2021-07-22\",\"2021-07-23\",\"2021-07-26\",\"2021-07-27\",\"2021-07-28\",\"2021-07-29\",\"2021-07-30\",\"2021-08-02\",\"2021-08-03\",\"2021-08-04\",\"2021-08-05\",\"2021-08-06\",\"2021-08-09\",\"2021-08-10\",\"2021-08-11\",\"2021-08-12\",\"2021-08-13\",\"2021-08-16\",\"2021-08-17\",\"2021-08-18\",\"2021-08-19\",\"2021-08-20\",\"2021-08-23\",\"2021-08-24\",\"2021-08-25\",\"2021-08-26\",\"2021-08-27\",\"2021-08-30\",\"2021-08-31\",\"2021-09-01\",\"2021-09-02\",\"2021-09-03\",\"2021-09-07\",\"2021-09-08\",\"2021-09-09\",\"2021-09-10\",\"2021-09-13\",\"2021-09-14\",\"2021-09-15\",\"2021-09-16\",\"2021-09-17\",\"2021-09-20\",\"2021-09-21\",\"2021-09-22\",\"2021-09-23\",\"2021-09-24\",\"2021-09-27\",\"2021-09-28\",\"2021-09-29\",\"2021-09-30\",\"2021-10-01\",\"2021-10-04\",\"2021-10-05\",\"2021-10-06\",\"2021-10-07\",\"2021-10-08\",\"2021-10-11\",\"2021-10-12\",\"2021-10-13\",\"2021-10-14\",\"2021-10-15\",\"2021-10-18\",\"2021-10-19\",\"2021-10-20\",\"2021-10-21\",\"2021-10-22\",\"2021-10-25\",\"2021-10-26\",\"2021-10-27\",\"2021-10-28\",\"2021-10-29\",\"2021-11-01\",\"2021-11-02\",\"2021-11-03\",\"2021-11-04\",\"2021-11-05\",\"2021-11-08\",\"2021-11-09\",\"2021-11-10\",\"2021-11-11\",\"2021-11-12\",\"2021-11-15\",\"2021-11-16\",\"2021-11-17\",\"2021-11-18\",\"2021-11-19\",\"2021-11-22\",\"2021-11-23\",\"2021-11-24\",\"2021-11-26\",\"2021-11-29\",\"2021-11-30\",\"2021-12-01\",\"2021-12-02\",\"2021-12-03\",\"2021-12-06\",\"2021-12-07\",\"2021-12-08\",\"2021-12-09\",\"2021-12-10\",\"2021-12-13\",\"2021-12-14\",\"2021-12-15\",\"2021-12-16\",\"2021-12-17\",\"2021-12-20\",\"2021-12-21\",\"2021-12-22\",\"2021-12-23\",\"2021-12-27\",\"2021-12-28\",\"2021-12-29\",\"2021-12-30\",\"2021-12-31\",\"2022-01-03\",\"2022-01-04\",\"2022-01-05\",\"2022-01-06\",\"2022-01-07\",\"2022-01-10\",\"2022-01-11\",\"2022-01-12\",\"2022-01-13\",\"2022-01-14\",\"2022-01-18\",\"2022-01-19\",\"2022-01-20\",\"2022-01-21\",\"2022-01-24\",\"2022-01-25\",\"2022-01-26\",\"2022-01-27\",\"2022-01-28\",\"2022-01-31\",\"2022-02-01\",\"2022-02-02\",\"2022-02-03\",\"2022-02-04\",\"2022-02-07\",\"2022-02-08\",\"2022-02-09\",\"2022-02-10\",\"2022-02-11\",\"2022-02-14\",\"2022-02-15\",\"2022-02-16\",\"2022-02-17\",\"2022-02-18\",\"2022-02-22\",\"2022-02-23\",\"2022-02-24\",\"2022-02-25\",\"2022-02-28\",\"2022-03-01\",\"2022-03-02\",\"2022-03-03\",\"2022-03-04\",\"2022-03-07\",\"2022-03-08\",\"2022-03-09\",\"2022-03-10\",\"2022-03-11\",\"2022-03-14\",\"2022-03-15\",\"2022-03-16\",\"2022-03-17\",\"2022-03-18\",\"2022-03-21\",\"2022-03-22\",\"2022-03-23\",\"2022-03-24\",\"2022-03-25\",\"2022-03-28\",\"2022-03-29\",\"2022-03-30\",\"2022-03-31\",\"2022-04-01\",\"2022-04-04\",\"2022-04-05\",\"2022-04-06\",\"2022-04-07\",\"2022-04-08\",\"2022-04-11\",\"2022-04-12\",\"2022-04-13\",\"2022-04-14\",\"2022-04-18\",\"2022-04-19\",\"2022-04-20\",\"2022-04-21\",\"2022-04-22\",\"2022-04-25\",\"2022-04-26\",\"2022-04-27\",\"2022-04-28\",\"2022-04-29\",\"2022-05-02\",\"2022-05-03\",\"2022-05-04\",\"2022-05-05\",\"2022-05-06\",\"2022-05-09\",\"2022-05-10\",\"2022-05-11\",\"2022-05-12\",\"2022-05-13\",\"2022-05-16\",\"2022-05-17\",\"2022-05-18\",\"2022-05-19\",\"2022-05-20\",\"2022-05-23\",\"2022-05-24\",\"2022-05-25\",\"2022-05-26\",\"2022-05-27\",\"2022-05-31\",\"2022-06-01\",\"2022-06-02\",\"2022-06-03\",\"2022-06-06\",\"2022-06-07\",\"2022-06-08\",\"2022-06-09\",\"2022-06-10\",\"2022-06-13\",\"2022-06-14\",\"2022-06-15\",\"2022-06-16\",\"2022-06-17\",\"2022-06-21\",\"2022-06-22\",\"2022-06-23\",\"2022-06-24\",\"2022-06-27\",\"2022-06-28\",\"2022-06-29\",\"2022-06-30\",\"2022-07-01\",\"2022-07-05\",\"2022-07-06\",\"2022-07-07\",\"2022-07-08\",\"2022-07-11\",\"2022-07-12\",\"2022-07-13\",\"2022-07-14\",\"2022-07-15\",\"2022-07-18\",\"2022-07-19\",\"2022-07-20\",\"2022-07-21\",\"2022-07-22\",\"2022-07-25\",\"2022-07-26\",\"2022-07-27\",\"2022-07-28\",\"2022-07-29\",\"2022-08-01\",\"2022-08-02\",\"2022-08-03\",\"2022-08-04\",\"2022-08-05\",\"2022-08-08\",\"2022-08-09\",\"2022-08-10\",\"2022-08-11\",\"2022-08-12\",\"2022-08-15\",\"2022-08-16\",\"2022-08-17\",\"2022-08-18\",\"2022-08-19\",\"2022-08-22\",\"2022-08-23\",\"2022-08-24\",\"2022-08-25\",\"2022-08-26\",\"2022-08-29\",\"2022-08-30\",\"2022-08-31\",\"2022-09-01\",\"2022-09-02\",\"2022-09-06\",\"2022-09-07\",\"2022-09-08\",\"2022-09-09\",\"2022-09-12\",\"2022-09-13\",\"2022-09-14\",\"2022-09-15\",\"2022-09-16\",\"2022-09-19\",\"2022-09-20\",\"2022-09-21\",\"2022-09-22\",\"2022-09-23\",\"2022-09-26\",\"2022-09-27\",\"2022-09-28\",\"2022-09-29\",\"2022-09-30\",\"2022-10-03\",\"2022-10-04\",\"2022-10-05\",\"2022-10-06\",\"2022-10-07\",\"2022-10-10\",\"2022-10-11\",\"2022-10-12\",\"2022-10-13\",\"2022-10-14\",\"2022-10-17\",\"2022-10-18\",\"2022-10-19\",\"2022-10-20\",\"2022-10-21\",\"2022-10-24\",\"2022-10-25\",\"2022-10-26\",\"2022-10-27\",\"2022-10-28\",\"2022-10-31\",\"2022-11-01\",\"2022-11-02\",\"2022-11-03\",\"2022-11-04\",\"2022-11-07\",\"2022-11-08\",\"2022-11-09\",\"2022-11-10\",\"2022-11-11\",\"2022-11-14\",\"2022-11-15\",\"2022-11-16\",\"2022-11-17\",\"2022-11-18\",\"2022-11-21\",\"2022-11-22\",\"2022-11-23\",\"2022-11-25\",\"2022-11-28\",\"2022-11-29\",\"2022-11-30\",\"2022-12-01\",\"2022-12-02\",\"2022-12-05\",\"2022-12-06\",\"2022-12-07\",\"2022-12-08\",\"2022-12-09\",\"2022-12-12\",\"2022-12-13\",\"2022-12-14\",\"2022-12-15\",\"2022-12-16\",\"2022-12-19\",\"2022-12-20\",\"2022-12-21\",\"2022-12-22\",\"2022-12-23\",\"2022-12-27\",\"2022-12-28\",\"2022-12-29\",\"2022-12-30\",\"2023-01-03\",\"2023-01-04\",\"2023-01-05\",\"2023-01-06\",\"2023-01-09\",\"2023-01-10\",\"2023-01-11\",\"2023-01-12\",\"2023-01-13\",\"2023-01-17\",\"2023-01-18\",\"2023-01-19\",\"2023-01-20\",\"2023-01-23\",\"2023-01-24\",\"2023-01-25\",\"2023-01-26\",\"2023-01-27\",\"2023-01-30\",\"2023-01-31\",\"2023-02-01\",\"2023-02-02\",\"2023-02-03\",\"2023-02-06\",\"2023-02-07\",\"2023-02-08\",\"2023-02-09\",\"2023-02-10\",\"2023-02-13\",\"2023-02-14\",\"2023-02-15\",\"2023-02-16\",\"2023-02-17\",\"2023-02-21\",\"2023-02-22\",\"2023-02-23\",\"2023-02-24\",\"2023-02-27\",\"2023-02-28\",\"2023-03-01\",\"2023-03-02\",\"2023-03-03\",\"2023-03-06\",\"2023-03-07\",\"2023-03-08\",\"2023-03-09\",\"2023-03-10\",\"2023-03-13\",\"2023-03-14\",\"2023-03-15\",\"2023-03-16\",\"2023-03-17\",\"2023-03-20\",\"2023-03-21\",\"2023-03-22\",\"2023-03-23\",\"2023-03-24\",\"2023-03-27\",\"2023-03-28\",\"2023-03-29\",\"2023-03-30\",\"2023-03-31\",\"2023-04-03\",\"2023-04-04\",\"2023-04-05\",\"2023-04-06\",\"2023-04-10\",\"2023-04-11\",\"2023-04-12\",\"2023-04-13\",\"2023-04-14\",\"2023-04-17\",\"2023-04-18\",\"2023-04-19\",\"2023-04-20\",\"2023-04-21\",\"2023-04-24\",\"2023-04-25\",\"2023-04-26\",\"2023-04-27\",\"2023-04-28\",\"2023-05-01\",\"2023-05-02\",\"2023-05-03\",\"2023-05-04\",\"2023-05-05\",\"2023-05-08\",\"2023-05-09\",\"2023-05-10\"],\"xaxis\":\"x\",\"y\":[163.51950073242188,161.61399841308594,161.58999633789062,162.38400268554688,160.1540069580078,162.24949645996094,162.95249938964844,163.25799560546875,161.5054931640625,161.15350341796875,160.9324951171875,161.69949340820312,159.35049438476562,160.31100463867188,159.90049743652344,163.20550537109375,164.0574951171875,167.4824981689453,167.3415069580078,169.19349670410156,169.156494140625,170.7624969482422,174.46200561523438,174.34500122070312,172.697998046875,175.27200317382812,175.1909942626953,172.45399475097656,170.072998046875,172.1945037841797,172.40699768066406,172.00799560546875,171.64849853515625,175.5489959716797,183.78700256347656,184.82899475097656,186.57049560546875,185.9669952392578,185.9275054931641,183.8679962158203,184.08399963378903,181.55999755859372,178.68150329589844,177.47950744628906,178.6595001220703,179.25999450683594,181.9015045166016,182.83200073242188,184.99099731445312,181.3195037841797,181.51600646972656,179.99600219726562,166.37950134277344,166.57400512695312,168.31199645996094,167.73599243164062,168.79949951171875,167.2469940185547,167.093505859375,166.03399658203125,164.60549926757812,165.1750030517578,164.69850158691406,164.94949340820312,162.09800720214844,160.06100463867188,159.3874969482422,159.99749755859375,163.2935028076172,165.28900146484375,164.95899963378906,165.8000030517578,167.48150634765625,171.07850646972656,173.5395050048828,173.9499969482422,173.156005859375,173.90249633789062,175.46449279785156,176.27499389648438,174.20799255371094,173.45750427246094,172.85850524902344,172.5,173.7895050048828,174.41200256347656,173.12600708007812,167.7864990234375,167.18150329589844,169.00250244140625,170.8000030517578,171.2760009765625,170.2899932861328,165.79800415039062,165.05599975585938,164.2519989013672,164.16299438476562,159.48899841308594,161.0500030517578,163.10049438476562,165.1215057373047,164.43099975585938,162.31500244140625,162.3665008544922,164.21400451660156,164.9929962158203,170.4510040283203,172.33700561523438,172.20750427246094,170.7530059814453,171.75050354003906,166.77749633789062,166.01849365234375,168.80349731445312,169.62449645996094,172.32850646972656,168.6215057373047,165.90550231933594,165.6374969482422,169.1999969482422,173.85000610351562,175.94949340820312,174.44900512695312,178.81149291992188,174.1024932861328,173.625,176.25750732421875,177.28399658203125,177.03500366210938,177.4499969482422,184.8029937744141,183.82850646972656,178.6284942626953,179.0019989013672,179.02049255371094,175.22799682617188,178.07850646972656,175.35350036621094,172.18600463867188,171.8679962158203,169.489501953125,171.36849975585938,176.1645050048828,176.1580047607422,174.17100524902344,172.21200561523438,169.5675048828125,169.0915069580078,173.31500244140625,168.87100219726562,170.0175018310547,167.07899475097656,170.41700744628906,171.03700256347656,171.06849670410156,169.66949462890625,170.66099548339844,169.2010040283203,168.64450073242188,166.7169952392578,170.4044952392578,167.52200317382812,164.35699462890625,163.25399780273438,162.5540008544922,161.48599243164062,165.36199951171875,165.20700073242188,161.21400451660156,162.13800048828125,158.91749572753906,156.2989959716797,151.66749572753906,142.64300537109375,144.54400634765625,139.98599243164062,138.87249755859375,139.6374969482422,143.97799682617188,149.57350158691406,151.19349670410156,150.6125030517578,138.8455047607422,157.63949584960938,157.9355010986328,161.4134979248047,161.1894989013672,159.0034942626953,153.2935028076172,155.16700744628906,156.510498046875,158.10049438476562,154.65249633789062,152.60150146484375,150.19749450683594,144.82699584960938,151.35800170898438,153.7884979248047,153.56300354003906,151.14199829101562,152.05250549316406,147.89849853515625,145.64100646972656,137.4530029296875,136.01449584960938,139.2790069580078,146.8175048828125,145.52450561523438,141.85299682617188,147.3665008544922,153.10400390625,157.23899841308594,161.25050354003906,161.4915008544922,164.88900756835938,163.4080047607422,163.64950561523438,164.77349853515625,168.99049377441406,169.31500244140625,166.30099487304688,162.99749755859375,163.55999755859375,168.34649658203125,164.05499267578125,158.75599670410156,157.7845001220703,154.4604949951172,151.1219940185547,150.78750610351562,155.54100036621094,151.7064971923828,152.78500366210938,158.11549377441406,153.9980010986328,148.29600524902344,144.35000610351562,146.07400512695312,139.39100646972656,138.16700744628906,144.59649658203125,124.28150177001952,124.5,124.25350189208984,125.92849731445312,116.40699768066406,114.77249908447266,108.78900146484376,108.85900115966795,105.37200164794922,106.93049621582033,113.05500030517578,110.8105010986328,115.36849975585938,107.1125030517578,107.31900024414062,107.59100341796876,107.55699920654295,104.0999984741211,106.7750015258789,111.07749938964844,115.14649963378906,120.20950317382812,121.68399810791016,125.51100158691406,122.3499984741211,124.79000091552734,123.0,121.18000030517578,116.1500015258789,109.6500015258789,103.66999816894533,102.30999755859376,107.66999816894533,103.66000366210938,106.22000122070312,108.68000030517578,108.9499969482422,112.44000244140624,116.45999908447266,113.22000122070312,107.4000015258789,108.91999816894533,106.20999908447266,109.55999755859376,113.5,114.33000183105467,116.33000183105467,115.54000091552734,111.75,109.22000122070312,110.4000015258789,110.62999725341795,113.5500030517578,113.76000213623048,118.20999908447266,122.7699966430664,124.62999725341795,122.41999816894533,121.13999938964844,114.80999755859376,120.97000122070312,122.27999877929688,134.9499969482422,135.38999938964844,134.16000366210938,139.52000427246094,142.57000732421875,140.8000030517578,139.41000366210938,137.8300018310547,142.69000244140625,140.63999938964844,143.5500030517578,143.17999267578125,144.77999877929688,142.10000610351562,142.3000030517578,138.22999572753906,133.22000122070312,133.6199951171875,133.8000030517578,137.27999877929688,130.75,129.7899932861328,128.72999572753906,126.7699966430664,127.81999969482422,127.51000213623048,126.11000061035156,129.47999572753906,129.82000732421875,133.27000427246094,136.4499969482422,126.81999969482422,128.5500030517578,126.27999877929688,123.52999877929688,124.66000366210938,122.19000244140624,118.54000091552734,117.30999755859376,113.77999877929688,115.1500015258789,114.41000366210938,118.01000213623048,114.8000030517578,113.0,115.87999725341795,121.08999633789062,120.9499969482422,120.3000030517578,114.55999755859376,113.66999816894533,112.20999908447266,112.9000015258789,112.52999877929688,106.9000015258789,113.79000091552734,116.36000061035156,115.06999969482422,115.25,119.31999969482422,119.81999969482422,120.5999984741211,115.66000366210938,110.95999908447266,103.41000366210938,102.44000244140624,96.79000091552734,92.12000274658205,89.30000305175781,90.9800033569336,90.52999877929688,89.9800033569336,86.13999938964844,96.62999725341795,100.79000091552734,98.48999786376952,98.94000244140624,97.12000274658205,94.8499984741211,94.13999938964844,92.45999908447266,93.1999969482422,94.12999725341795,93.41000366210938,93.9499969482422,92.41999816894533,96.54000091552734,95.5,94.12999725341795,91.01000213623048,88.25,88.45999908447266,90.3499984741211,89.08999633789062,90.5500030517578,92.48999786376952,91.58000183105467,88.44999694824219,87.86000061035156,84.91999816894531,85.19000244140625,86.7699966430664,83.79000091552734,85.25,83.04000091552734,81.81999969482422,84.18000030517578,84.0,85.81999969482422,85.13999938964844,83.12000274658203,86.08000183105469,87.36000061035156,89.87000274658203,95.08999633789062,95.2699966430664,98.12000274658205,96.0500030517578,95.45999908447266,93.68000030517578,97.25,97.5199966430664,96.31999969482422,97.18000030517578,99.22000122070312,102.23999786376952,100.5500030517578,103.12999725341795,105.1500015258789,112.91000366210938,103.38999938964844,102.18000030517578,102.11000061035156,100.0500030517578,98.23999786376952,97.61000061035156,99.54000091552734,99.6999969482422,101.16000366210938,98.1500015258789,97.1999969482422,94.58000183105467,95.79000091552734,95.81999969482422,93.5,93.76000213623048,94.2300033569336,92.16999816894533,92.12999725341795,94.9000015258789,93.75,93.5500030517578,93.91999816894533,92.25,90.7300033569336,92.43000030517578,94.87999725341795,96.1999969482422,100.04000091552734,98.9499969482422,97.70999908447266,100.61000061035156,98.6999969482422,98.70999908447266,98.12999725341795,98.04000091552734,97.23999786376952,100.25,102.0,103.29000091552734,102.41000366210938,103.9499969482422,101.0999984741211,102.05999755859376,102.16999816894533,99.91999816894533,97.83000183105467,102.4000015258789,102.51000213623048,102.73999786376952,102.3000030517578,104.3000030517578,103.80999755859376,106.95999908447266,106.20999908447266,102.56999969482422,104.9800033569336,109.81999969482422,105.4499969482422,102.0500030517578,103.62999725341795,103.6500015258789,104.0,105.66000366210938,105.83000183105467,106.62000274658205,110.19000244140624],\"yaxis\":\"y\",\"type\":\"scattergl\"},{\"hovertemplate\":\"variable=CAT<br>Date=%{x|%B %d, %Y}<br>value=%{y}<extra></extra>\",\"legendgroup\":\"CAT\",\"line\":{\"color\":\"#EF553B\",\"dash\":\"solid\"},\"marker\":{\"symbol\":\"circle\"},\"mode\":\"lines\",\"name\":\"CAT\",\"showlegend\":true,\"x\":[\"2021-05-17\",\"2021-05-18\",\"2021-05-19\",\"2021-05-20\",\"2021-05-21\",\"2021-05-24\",\"2021-05-25\",\"2021-05-26\",\"2021-05-27\",\"2021-05-28\",\"2021-06-01\",\"2021-06-02\",\"2021-06-03\",\"2021-06-04\",\"2021-06-07\",\"2021-06-08\",\"2021-06-09\",\"2021-06-10\",\"2021-06-11\",\"2021-06-14\",\"2021-06-15\",\"2021-06-16\",\"2021-06-17\",\"2021-06-18\",\"2021-06-21\",\"2021-06-22\",\"2021-06-23\",\"2021-06-24\",\"2021-06-25\",\"2021-06-28\",\"2021-06-29\",\"2021-06-30\",\"2021-07-01\",\"2021-07-02\",\"2021-07-06\",\"2021-07-07\",\"2021-07-08\",\"2021-07-09\",\"2021-07-12\",\"2021-07-13\",\"2021-07-14\",\"2021-07-15\",\"2021-07-16\",\"2021-07-19\",\"2021-07-20\",\"2021-07-21\",\"2021-07-22\",\"2021-07-23\",\"2021-07-26\",\"2021-07-27\",\"2021-07-28\",\"2021-07-29\",\"2021-07-30\",\"2021-08-02\",\"2021-08-03\",\"2021-08-04\",\"2021-08-05\",\"2021-08-06\",\"2021-08-09\",\"2021-08-10\",\"2021-08-11\",\"2021-08-12\",\"2021-08-13\",\"2021-08-16\",\"2021-08-17\",\"2021-08-18\",\"2021-08-19\",\"2021-08-20\",\"2021-08-23\",\"2021-08-24\",\"2021-08-25\",\"2021-08-26\",\"2021-08-27\",\"2021-08-30\",\"2021-08-31\",\"2021-09-01\",\"2021-09-02\",\"2021-09-03\",\"2021-09-07\",\"2021-09-08\",\"2021-09-09\",\"2021-09-10\",\"2021-09-13\",\"2021-09-14\",\"2021-09-15\",\"2021-09-16\",\"2021-09-17\",\"2021-09-20\",\"2021-09-21\",\"2021-09-22\",\"2021-09-23\",\"2021-09-24\",\"2021-09-27\",\"2021-09-28\",\"2021-09-29\",\"2021-09-30\",\"2021-10-01\",\"2021-10-04\",\"2021-10-05\",\"2021-10-06\",\"2021-10-07\",\"2021-10-08\",\"2021-10-11\",\"2021-10-12\",\"2021-10-13\",\"2021-10-14\",\"2021-10-15\",\"2021-10-18\",\"2021-10-19\",\"2021-10-20\",\"2021-10-21\",\"2021-10-22\",\"2021-10-25\",\"2021-10-26\",\"2021-10-27\",\"2021-10-28\",\"2021-10-29\",\"2021-11-01\",\"2021-11-02\",\"2021-11-03\",\"2021-11-04\",\"2021-11-05\",\"2021-11-08\",\"2021-11-09\",\"2021-11-10\",\"2021-11-11\",\"2021-11-12\",\"2021-11-15\",\"2021-11-16\",\"2021-11-17\",\"2021-11-18\",\"2021-11-19\",\"2021-11-22\",\"2021-11-23\",\"2021-11-24\",\"2021-11-26\",\"2021-11-29\",\"2021-11-30\",\"2021-12-01\",\"2021-12-02\",\"2021-12-03\",\"2021-12-06\",\"2021-12-07\",\"2021-12-08\",\"2021-12-09\",\"2021-12-10\",\"2021-12-13\",\"2021-12-14\",\"2021-12-15\",\"2021-12-16\",\"2021-12-17\",\"2021-12-20\",\"2021-12-21\",\"2021-12-22\",\"2021-12-23\",\"2021-12-27\",\"2021-12-28\",\"2021-12-29\",\"2021-12-30\",\"2021-12-31\",\"2022-01-03\",\"2022-01-04\",\"2022-01-05\",\"2022-01-06\",\"2022-01-07\",\"2022-01-10\",\"2022-01-11\",\"2022-01-12\",\"2022-01-13\",\"2022-01-14\",\"2022-01-18\",\"2022-01-19\",\"2022-01-20\",\"2022-01-21\",\"2022-01-24\",\"2022-01-25\",\"2022-01-26\",\"2022-01-27\",\"2022-01-28\",\"2022-01-31\",\"2022-02-01\",\"2022-02-02\",\"2022-02-03\",\"2022-02-04\",\"2022-02-07\",\"2022-02-08\",\"2022-02-09\",\"2022-02-10\",\"2022-02-11\",\"2022-02-14\",\"2022-02-15\",\"2022-02-16\",\"2022-02-17\",\"2022-02-18\",\"2022-02-22\",\"2022-02-23\",\"2022-02-24\",\"2022-02-25\",\"2022-02-28\",\"2022-03-01\",\"2022-03-02\",\"2022-03-03\",\"2022-03-04\",\"2022-03-07\",\"2022-03-08\",\"2022-03-09\",\"2022-03-10\",\"2022-03-11\",\"2022-03-14\",\"2022-03-15\",\"2022-03-16\",\"2022-03-17\",\"2022-03-18\",\"2022-03-21\",\"2022-03-22\",\"2022-03-23\",\"2022-03-24\",\"2022-03-25\",\"2022-03-28\",\"2022-03-29\",\"2022-03-30\",\"2022-03-31\",\"2022-04-01\",\"2022-04-04\",\"2022-04-05\",\"2022-04-06\",\"2022-04-07\",\"2022-04-08\",\"2022-04-11\",\"2022-04-12\",\"2022-04-13\",\"2022-04-14\",\"2022-04-18\",\"2022-04-19\",\"2022-04-20\",\"2022-04-21\",\"2022-04-22\",\"2022-04-25\",\"2022-04-26\",\"2022-04-27\",\"2022-04-28\",\"2022-04-29\",\"2022-05-02\",\"2022-05-03\",\"2022-05-04\",\"2022-05-05\",\"2022-05-06\",\"2022-05-09\",\"2022-05-10\",\"2022-05-11\",\"2022-05-12\",\"2022-05-13\",\"2022-05-16\",\"2022-05-17\",\"2022-05-18\",\"2022-05-19\",\"2022-05-20\",\"2022-05-23\",\"2022-05-24\",\"2022-05-25\",\"2022-05-26\",\"2022-05-27\",\"2022-05-31\",\"2022-06-01\",\"2022-06-02\",\"2022-06-03\",\"2022-06-06\",\"2022-06-07\",\"2022-06-08\",\"2022-06-09\",\"2022-06-10\",\"2022-06-13\",\"2022-06-14\",\"2022-06-15\",\"2022-06-16\",\"2022-06-17\",\"2022-06-21\",\"2022-06-22\",\"2022-06-23\",\"2022-06-24\",\"2022-06-27\",\"2022-06-28\",\"2022-06-29\",\"2022-06-30\",\"2022-07-01\",\"2022-07-05\",\"2022-07-06\",\"2022-07-07\",\"2022-07-08\",\"2022-07-11\",\"2022-07-12\",\"2022-07-13\",\"2022-07-14\",\"2022-07-15\",\"2022-07-18\",\"2022-07-19\",\"2022-07-20\",\"2022-07-21\",\"2022-07-22\",\"2022-07-25\",\"2022-07-26\",\"2022-07-27\",\"2022-07-28\",\"2022-07-29\",\"2022-08-01\",\"2022-08-02\",\"2022-08-03\",\"2022-08-04\",\"2022-08-05\",\"2022-08-08\",\"2022-08-09\",\"2022-08-10\",\"2022-08-11\",\"2022-08-12\",\"2022-08-15\",\"2022-08-16\",\"2022-08-17\",\"2022-08-18\",\"2022-08-19\",\"2022-08-22\",\"2022-08-23\",\"2022-08-24\",\"2022-08-25\",\"2022-08-26\",\"2022-08-29\",\"2022-08-30\",\"2022-08-31\",\"2022-09-01\",\"2022-09-02\",\"2022-09-06\",\"2022-09-07\",\"2022-09-08\",\"2022-09-09\",\"2022-09-12\",\"2022-09-13\",\"2022-09-14\",\"2022-09-15\",\"2022-09-16\",\"2022-09-19\",\"2022-09-20\",\"2022-09-21\",\"2022-09-22\",\"2022-09-23\",\"2022-09-26\",\"2022-09-27\",\"2022-09-28\",\"2022-09-29\",\"2022-09-30\",\"2022-10-03\",\"2022-10-04\",\"2022-10-05\",\"2022-10-06\",\"2022-10-07\",\"2022-10-10\",\"2022-10-11\",\"2022-10-12\",\"2022-10-13\",\"2022-10-14\",\"2022-10-17\",\"2022-10-18\",\"2022-10-19\",\"2022-10-20\",\"2022-10-21\",\"2022-10-24\",\"2022-10-25\",\"2022-10-26\",\"2022-10-27\",\"2022-10-28\",\"2022-10-31\",\"2022-11-01\",\"2022-11-02\",\"2022-11-03\",\"2022-11-04\",\"2022-11-07\",\"2022-11-08\",\"2022-11-09\",\"2022-11-10\",\"2022-11-11\",\"2022-11-14\",\"2022-11-15\",\"2022-11-16\",\"2022-11-17\",\"2022-11-18\",\"2022-11-21\",\"2022-11-22\",\"2022-11-23\",\"2022-11-25\",\"2022-11-28\",\"2022-11-29\",\"2022-11-30\",\"2022-12-01\",\"2022-12-02\",\"2022-12-05\",\"2022-12-06\",\"2022-12-07\",\"2022-12-08\",\"2022-12-09\",\"2022-12-12\",\"2022-12-13\",\"2022-12-14\",\"2022-12-15\",\"2022-12-16\",\"2022-12-19\",\"2022-12-20\",\"2022-12-21\",\"2022-12-22\",\"2022-12-23\",\"2022-12-27\",\"2022-12-28\",\"2022-12-29\",\"2022-12-30\",\"2023-01-03\",\"2023-01-04\",\"2023-01-05\",\"2023-01-06\",\"2023-01-09\",\"2023-01-10\",\"2023-01-11\",\"2023-01-12\",\"2023-01-13\",\"2023-01-17\",\"2023-01-18\",\"2023-01-19\",\"2023-01-20\",\"2023-01-23\",\"2023-01-24\",\"2023-01-25\",\"2023-01-26\",\"2023-01-27\",\"2023-01-30\",\"2023-01-31\",\"2023-02-01\",\"2023-02-02\",\"2023-02-03\",\"2023-02-06\",\"2023-02-07\",\"2023-02-08\",\"2023-02-09\",\"2023-02-10\",\"2023-02-13\",\"2023-02-14\",\"2023-02-15\",\"2023-02-16\",\"2023-02-17\",\"2023-02-21\",\"2023-02-22\",\"2023-02-23\",\"2023-02-24\",\"2023-02-27\",\"2023-02-28\",\"2023-03-01\",\"2023-03-02\",\"2023-03-03\",\"2023-03-06\",\"2023-03-07\",\"2023-03-08\",\"2023-03-09\",\"2023-03-10\",\"2023-03-13\",\"2023-03-14\",\"2023-03-15\",\"2023-03-16\",\"2023-03-17\",\"2023-03-20\",\"2023-03-21\",\"2023-03-22\",\"2023-03-23\",\"2023-03-24\",\"2023-03-27\",\"2023-03-28\",\"2023-03-29\",\"2023-03-30\",\"2023-03-31\",\"2023-04-03\",\"2023-04-04\",\"2023-04-05\",\"2023-04-06\",\"2023-04-10\",\"2023-04-11\",\"2023-04-12\",\"2023-04-13\",\"2023-04-14\",\"2023-04-17\",\"2023-04-18\",\"2023-04-19\",\"2023-04-20\",\"2023-04-21\",\"2023-04-24\",\"2023-04-25\",\"2023-04-26\",\"2023-04-27\",\"2023-04-28\",\"2023-05-01\",\"2023-05-02\",\"2023-05-03\",\"2023-05-04\",\"2023-05-05\",\"2023-05-08\",\"2023-05-09\",\"2023-05-10\"],\"xaxis\":\"x\",\"y\":[234.1908721923828,229.10122680664065,226.6138153076172,224.81521606445312,226.9677734375,228.6994171142578,226.9008026123047,227.41744995117188,230.83287048339844,230.6415252685547,232.24876403808597,232.91848754882807,233.2819976806641,233.4542388916016,229.3786773681641,229.7613525390625,224.4899444580078,215.9561462402344,211.1439514160156,209.5271148681641,209.9576568603516,207.75721740722656,200.3810577392578,199.8166046142578,203.978271484375,203.90171813964844,204.5331268310547,209.84283447265625,206.94403076171875,206.90577697753903,205.7864227294922,208.20689392089844,207.32672119140625,208.3312530517578,204.27484130859372,205.3941802978516,202.92588806152344,208.0059814453125,209.11573791503903,205.8725128173828,202.47622680664065,202.25619506835935,198.94601440429688,195.3295135498047,200.02325439453125,202.6875457763672,201.17747497558597,201.5333251953125,202.97610473632807,201.88922119140625,203.3704376220703,204.44772338867188,198.85943603515625,197.33013916015625,200.54266357421875,196.7145538330078,199.28265380859372,200.39837646484372,200.91775512695312,205.90008544921875,213.20040893554688,211.8346099853516,210.22833251953125,209.4011688232422,205.29412841796875,201.8026428222656,196.647216796875,197.11851501464844,201.15821838378903,204.47653198242188,206.5637359619141,203.1781005859375,204.70741271972656,203.3800506591797,202.82220458984372,200.02325439453125,203.69747924804688,202.3412933349609,200.282958984375,198.8786773681641,197.5802001953125,197.1858367919922,198.33042907714844,194.60812377929688,197.8783721923828,195.8296813964844,192.1266021728516,183.53741455078125,182.5948028564453,184.0471954345703,189.1160430908203,189.3084259033203,192.3670654296875,192.89605712890625,190.318359375,184.6435394287109,186.91346740722656,185.75927734375,185.1532745361328,184.53770446777344,188.27926635742188,187.71177673339844,185.52838134765625,182.67176818847656,181.7291259765625,186.91346740722656,191.4244537353516,190.61648559570312,193.4635467529297,196.39715576171875,194.42539978027344,194.057861328125,195.5666046142578,193.08106994628903,189.68637084960935,197.3848419189453,197.30747985839844,198.6324615478516,200.31529235839844,196.8625946044922,196.9012908935547,199.11605834960935,207.21104431152344,202.9169158935547,199.88009643554688,201.67898559570312,202.39468383789065,200.8859100341797,198.68081665039065,196.31134033203125,194.8025665283203,193.8547821044922,195.7310333251953,198.5841217041016,200.26695251464844,192.20095825195312,189.4832763671875,186.9976959228516,185.17947387695312,190.3246612548828,191.3015289306641,194.6671600341797,197.77171325683597,197.4815826416016,197.42355346679688,196.77557373046875,194.6381683349609,195.0153350830078,195.89547729492188,199.39651489257807,194.75421142578125,189.03839111328125,191.79476928710935,195.50857543945312,199.42552185058597,199.59963989257807,199.8317108154297,200.51840209960935,199.30946350097656,199.9477996826172,200.19923400878903,210.91522216796875,212.5303497314453,214.6967620849609,216.82449340820312,214.35824584960935,212.7237701416016,215.09329223632807,219.54217529296875,221.4184112548828,222.3178558349609,215.41783142089844,210.52947998046875,208.0609893798828,208.29425048828125,208.27479553222656,208.25537109375,206.195068359375,195.4951171875,195.88385009765625,199.5671539306641,199.16867065429688,194.94119262695312,192.82257080078125,194.1928558349609,195.8255615234375,197.86642456054688,197.3513336181641,195.5728912353516,194.26089477539065,197.68174743652344,197.90528869628903,189.2559356689453,186.5444793701172,185.8253326416016,181.4131774902344,179.4889373779297,181.7921905517578,182.29754638671875,177.6813201904297,187.1859130859375,189.3628387451172,190.15000915527344,191.1607208251953,204.0861968994141,203.87237548828125,205.8257598876953,208.7801513671875,209.37298583984372,210.36427307128903,209.99496459960935,215.45669555664065,214.6889495849609,217.4101104736328,216.43826293945312,215.91346740722656,215.9523468017578,217.0699462890625,215.60247802734372,214.81529235839844,216.7978363037109,216.545166015625,213.5810394287109,214.5917510986328,209.9366455078125,210.12130737304688,209.8200225830078,210.918212890625,209.96578979492188,210.5974884033203,212.123291015625,221.39463806152344,223.44520568847656,225.6221466064453,228.45989990234372,226.0205841064453,211.2168426513672,211.60745239257807,205.3578643798828,208.93185424804688,207.44757080078125,205.5921936035156,207.08627319335935,208.59983825683597,217.3590240478516,210.8555603027344,209.60562133789065,201.4420928955078,198.2196502685547,200.38748168945312,198.2587127685547,199.5281524658203,202.32095336914065,208.0822906494141,203.05332946777344,201.90103149414065,193.1711578369141,199.35238647460935,200.817138671875,204.39112854003903,207.9846343994141,212.03712463378903,210.7774353027344,212.4570159912109,214.8299102783203,217.6617431640625,218.3745880126953,221.7630615234375,224.3996124267578,218.4136505126953,210.12315368652344,202.01824951171875,201.8327178955078,201.15890502929688,190.21234130859372,188.1128692626953,191.75523376464844,183.41590881347656,174.47117614746094,181.13092041015625,183.1815643310547,183.03509521484372,179.1681365966797,174.55906677246094,174.10009765625,169.6765594482422,168.2606201171875,176.0433349609375,174.89108276367188,170.90696716308594,170.389404296875,169.7839813232422,165.9463348388672,169.3054962158203,169.41290283203125,176.49267578125,176.96466064453125,177.96762084960938,175.63719177246094,178.77394104003906,178.20361328125,182.156494140625,184.70323181152344,194.9394073486328,191.60601806640625,180.44554138183597,179.8162384033203,180.5733642578125,182.2941436767578,182.70713806152344,182.9234619140625,187.5351409912109,190.76036071777344,193.5529327392578,192.67779541015625,194.2215881347656,192.65814208984372,194.054443359375,192.3336639404297,188.55776977539065,193.91677856445312,190.917724609375,195.5588836669922,188.7151031494141,188.5774383544922,183.8182678222656,181.62551879882807,179.39341735839844,177.81028747558594,177.6431427001953,177.8397979736328,180.09156799316406,186.32569885253903,189.18707275390625,181.232177734375,181.5664978027344,179.44259643554688,176.4730224609375,179.06893920898438,175.01773071289062,169.07858276367188,167.70196533203125,161.49734497070312,159.9043731689453,159.72740173339844,164.9585418701172,163.12962341308594,161.33999633789062,168.37060546875,176.63034057617188,175.4011993408203,175.82403564453125,174.5850830078125,175.68637084960938,176.7483367919922,176.5025177001953,180.08172607421875,175.21438598632812,177.7808074951172,180.48487854003903,181.3305206298828,177.52513122558594,188.2950439453125,189.36412048339844,192.8683013916016,194.9668426513672,209.99322509765625,217.120361328125,214.26950073242188,216.2888641357422,212.3689422607422,217.0411529541016,225.54425048828125,226.2965545654297,227.48440551757807,223.2576141357422,230.0977020263672,234.0968170166016,234.10671997070312,232.21603393554688,230.0679931640625,228.1080474853516,229.0880126953125,229.82052612304688,234.8590087890625,234.5224609375,233.31480407714844,229.94921875,232.7406768798828,234.0176239013672,233.30491638183597,233.74046325683597,230.2164764404297,225.97979736328125,226.66281127929688,228.5831756591797,224.9899139404297,230.70152282714844,233.10693359375,232.10714721679688,228.3258056640625,230.36497497558597,229.93930053710935,232.76046752929688,239.2837829589844,235.13616943359372,237.44259643554688,240.67950439453125,236.9575653076172,237.76927185058597,237.1357421875,236.46263122558597,238.9175262451172,237.8484649658203,246.3416290283203,244.12429809570312,247.9749298095703,248.1927032470703,252.48878479003903,255.84446716308597,253.666748046875,250.26156616210935,244.4232482910156,248.36187744140625,251.33572387695312,256.2192077636719,257.04473876953125,260.7048645019531,263.11181640625,260.0882263183594,250.9279327392578,248.1927795410156,243.57781982421875,246.42237854003903,250.0626220703125,248.3121337890625,247.52639770507807,244.95037841796875,246.33287048339844,246.81027221679688,243.04074096679688,247.35731506347656,245.1890869140625,246.4522247314453,239.41046142578125,236.60568237304688,236.66534423828125,234.89495849609372,238.68438720703125,238.2567138671875,247.3274688720703,250.8185272216797,253.9316253662109,252.6088104248047,244.81114196777344,247.3772125244141,239.6591033935547,225.78440856933597,223.48687744140625,224.4516448974609,216.0870513916016,217.52923583984372,213.8491973876953,219.1205902099609,223.7057037353516,218.7625274658203,218.2552947998047,215.83839416503903,216.82305908203125,218.97140502929688,221.7960662841797,223.32774353027344,227.6045379638672,228.62896728515625,216.27603149414065,212.377197265625,208.0407257080078,214.36639404296875,219.40902709960935,219.3095550537109,220.47325134277344,222.47238159179688,224.0239715576172,223.98419189453125,223.4371490478516,221.07000732421875,220.2700042724609,223.42999267578125,218.6300048828125,216.19000244140625,214.3300018310547,218.8000030517578,217.2700042724609,215.1499938964844,215.63999938964844,210.3800048828125,215.08999633789065,214.7899932861328,213.4900054931641,213.1699981689453],\"yaxis\":\"y\",\"type\":\"scattergl\"},{\"hovertemplate\":\"variable=HD<br>Date=%{x|%B %d, %Y}<br>value=%{y}<extra></extra>\",\"legendgroup\":\"HD\",\"line\":{\"color\":\"#00cc96\",\"dash\":\"solid\"},\"marker\":{\"symbol\":\"circle\"},\"mode\":\"lines\",\"name\":\"HD\",\"showlegend\":true,\"x\":[\"2021-05-17\",\"2021-05-18\",\"2021-05-19\",\"2021-05-20\",\"2021-05-21\",\"2021-05-24\",\"2021-05-25\",\"2021-05-26\",\"2021-05-27\",\"2021-05-28\",\"2021-06-01\",\"2021-06-02\",\"2021-06-03\",\"2021-06-04\",\"2021-06-07\",\"2021-06-08\",\"2021-06-09\",\"2021-06-10\",\"2021-06-11\",\"2021-06-14\",\"2021-06-15\",\"2021-06-16\",\"2021-06-17\",\"2021-06-18\",\"2021-06-21\",\"2021-06-22\",\"2021-06-23\",\"2021-06-24\",\"2021-06-25\",\"2021-06-28\",\"2021-06-29\",\"2021-06-30\",\"2021-07-01\",\"2021-07-02\",\"2021-07-06\",\"2021-07-07\",\"2021-07-08\",\"2021-07-09\",\"2021-07-12\",\"2021-07-13\",\"2021-07-14\",\"2021-07-15\",\"2021-07-16\",\"2021-07-19\",\"2021-07-20\",\"2021-07-21\",\"2021-07-22\",\"2021-07-23\",\"2021-07-26\",\"2021-07-27\",\"2021-07-28\",\"2021-07-29\",\"2021-07-30\",\"2021-08-02\",\"2021-08-03\",\"2021-08-04\",\"2021-08-05\",\"2021-08-06\",\"2021-08-09\",\"2021-08-10\",\"2021-08-11\",\"2021-08-12\",\"2021-08-13\",\"2021-08-16\",\"2021-08-17\",\"2021-08-18\",\"2021-08-19\",\"2021-08-20\",\"2021-08-23\",\"2021-08-24\",\"2021-08-25\",\"2021-08-26\",\"2021-08-27\",\"2021-08-30\",\"2021-08-31\",\"2021-09-01\",\"2021-09-02\",\"2021-09-03\",\"2021-09-07\",\"2021-09-08\",\"2021-09-09\",\"2021-09-10\",\"2021-09-13\",\"2021-09-14\",\"2021-09-15\",\"2021-09-16\",\"2021-09-17\",\"2021-09-20\",\"2021-09-21\",\"2021-09-22\",\"2021-09-23\",\"2021-09-24\",\"2021-09-27\",\"2021-09-28\",\"2021-09-29\",\"2021-09-30\",\"2021-10-01\",\"2021-10-04\",\"2021-10-05\",\"2021-10-06\",\"2021-10-07\",\"2021-10-08\",\"2021-10-11\",\"2021-10-12\",\"2021-10-13\",\"2021-10-14\",\"2021-10-15\",\"2021-10-18\",\"2021-10-19\",\"2021-10-20\",\"2021-10-21\",\"2021-10-22\",\"2021-10-25\",\"2021-10-26\",\"2021-10-27\",\"2021-10-28\",\"2021-10-29\",\"2021-11-01\",\"2021-11-02\",\"2021-11-03\",\"2021-11-04\",\"2021-11-05\",\"2021-11-08\",\"2021-11-09\",\"2021-11-10\",\"2021-11-11\",\"2021-11-12\",\"2021-11-15\",\"2021-11-16\",\"2021-11-17\",\"2021-11-18\",\"2021-11-19\",\"2021-11-22\",\"2021-11-23\",\"2021-11-24\",\"2021-11-26\",\"2021-11-29\",\"2021-11-30\",\"2021-12-01\",\"2021-12-02\",\"2021-12-03\",\"2021-12-06\",\"2021-12-07\",\"2021-12-08\",\"2021-12-09\",\"2021-12-10\",\"2021-12-13\",\"2021-12-14\",\"2021-12-15\",\"2021-12-16\",\"2021-12-17\",\"2021-12-20\",\"2021-12-21\",\"2021-12-22\",\"2021-12-23\",\"2021-12-27\",\"2021-12-28\",\"2021-12-29\",\"2021-12-30\",\"2021-12-31\",\"2022-01-03\",\"2022-01-04\",\"2022-01-05\",\"2022-01-06\",\"2022-01-07\",\"2022-01-10\",\"2022-01-11\",\"2022-01-12\",\"2022-01-13\",\"2022-01-14\",\"2022-01-18\",\"2022-01-19\",\"2022-01-20\",\"2022-01-21\",\"2022-01-24\",\"2022-01-25\",\"2022-01-26\",\"2022-01-27\",\"2022-01-28\",\"2022-01-31\",\"2022-02-01\",\"2022-02-02\",\"2022-02-03\",\"2022-02-04\",\"2022-02-07\",\"2022-02-08\",\"2022-02-09\",\"2022-02-10\",\"2022-02-11\",\"2022-02-14\",\"2022-02-15\",\"2022-02-16\",\"2022-02-17\",\"2022-02-18\",\"2022-02-22\",\"2022-02-23\",\"2022-02-24\",\"2022-02-25\",\"2022-02-28\",\"2022-03-01\",\"2022-03-02\",\"2022-03-03\",\"2022-03-04\",\"2022-03-07\",\"2022-03-08\",\"2022-03-09\",\"2022-03-10\",\"2022-03-11\",\"2022-03-14\",\"2022-03-15\",\"2022-03-16\",\"2022-03-17\",\"2022-03-18\",\"2022-03-21\",\"2022-03-22\",\"2022-03-23\",\"2022-03-24\",\"2022-03-25\",\"2022-03-28\",\"2022-03-29\",\"2022-03-30\",\"2022-03-31\",\"2022-04-01\",\"2022-04-04\",\"2022-04-05\",\"2022-04-06\",\"2022-04-07\",\"2022-04-08\",\"2022-04-11\",\"2022-04-12\",\"2022-04-13\",\"2022-04-14\",\"2022-04-18\",\"2022-04-19\",\"2022-04-20\",\"2022-04-21\",\"2022-04-22\",\"2022-04-25\",\"2022-04-26\",\"2022-04-27\",\"2022-04-28\",\"2022-04-29\",\"2022-05-02\",\"2022-05-03\",\"2022-05-04\",\"2022-05-05\",\"2022-05-06\",\"2022-05-09\",\"2022-05-10\",\"2022-05-11\",\"2022-05-12\",\"2022-05-13\",\"2022-05-16\",\"2022-05-17\",\"2022-05-18\",\"2022-05-19\",\"2022-05-20\",\"2022-05-23\",\"2022-05-24\",\"2022-05-25\",\"2022-05-26\",\"2022-05-27\",\"2022-05-31\",\"2022-06-01\",\"2022-06-02\",\"2022-06-03\",\"2022-06-06\",\"2022-06-07\",\"2022-06-08\",\"2022-06-09\",\"2022-06-10\",\"2022-06-13\",\"2022-06-14\",\"2022-06-15\",\"2022-06-16\",\"2022-06-17\",\"2022-06-21\",\"2022-06-22\",\"2022-06-23\",\"2022-06-24\",\"2022-06-27\",\"2022-06-28\",\"2022-06-29\",\"2022-06-30\",\"2022-07-01\",\"2022-07-05\",\"2022-07-06\",\"2022-07-07\",\"2022-07-08\",\"2022-07-11\",\"2022-07-12\",\"2022-07-13\",\"2022-07-14\",\"2022-07-15\",\"2022-07-18\",\"2022-07-19\",\"2022-07-20\",\"2022-07-21\",\"2022-07-22\",\"2022-07-25\",\"2022-07-26\",\"2022-07-27\",\"2022-07-28\",\"2022-07-29\",\"2022-08-01\",\"2022-08-02\",\"2022-08-03\",\"2022-08-04\",\"2022-08-05\",\"2022-08-08\",\"2022-08-09\",\"2022-08-10\",\"2022-08-11\",\"2022-08-12\",\"2022-08-15\",\"2022-08-16\",\"2022-08-17\",\"2022-08-18\",\"2022-08-19\",\"2022-08-22\",\"2022-08-23\",\"2022-08-24\",\"2022-08-25\",\"2022-08-26\",\"2022-08-29\",\"2022-08-30\",\"2022-08-31\",\"2022-09-01\",\"2022-09-02\",\"2022-09-06\",\"2022-09-07\",\"2022-09-08\",\"2022-09-09\",\"2022-09-12\",\"2022-09-13\",\"2022-09-14\",\"2022-09-15\",\"2022-09-16\",\"2022-09-19\",\"2022-09-20\",\"2022-09-21\",\"2022-09-22\",\"2022-09-23\",\"2022-09-26\",\"2022-09-27\",\"2022-09-28\",\"2022-09-29\",\"2022-09-30\",\"2022-10-03\",\"2022-10-04\",\"2022-10-05\",\"2022-10-06\",\"2022-10-07\",\"2022-10-10\",\"2022-10-11\",\"2022-10-12\",\"2022-10-13\",\"2022-10-14\",\"2022-10-17\",\"2022-10-18\",\"2022-10-19\",\"2022-10-20\",\"2022-10-21\",\"2022-10-24\",\"2022-10-25\",\"2022-10-26\",\"2022-10-27\",\"2022-10-28\",\"2022-10-31\",\"2022-11-01\",\"2022-11-02\",\"2022-11-03\",\"2022-11-04\",\"2022-11-07\",\"2022-11-08\",\"2022-11-09\",\"2022-11-10\",\"2022-11-11\",\"2022-11-14\",\"2022-11-15\",\"2022-11-16\",\"2022-11-17\",\"2022-11-18\",\"2022-11-21\",\"2022-11-22\",\"2022-11-23\",\"2022-11-25\",\"2022-11-28\",\"2022-11-29\",\"2022-11-30\",\"2022-12-01\",\"2022-12-02\",\"2022-12-05\",\"2022-12-06\",\"2022-12-07\",\"2022-12-08\",\"2022-12-09\",\"2022-12-12\",\"2022-12-13\",\"2022-12-14\",\"2022-12-15\",\"2022-12-16\",\"2022-12-19\",\"2022-12-20\",\"2022-12-21\",\"2022-12-22\",\"2022-12-23\",\"2022-12-27\",\"2022-12-28\",\"2022-12-29\",\"2022-12-30\",\"2023-01-03\",\"2023-01-04\",\"2023-01-05\",\"2023-01-06\",\"2023-01-09\",\"2023-01-10\",\"2023-01-11\",\"2023-01-12\",\"2023-01-13\",\"2023-01-17\",\"2023-01-18\",\"2023-01-19\",\"2023-01-20\",\"2023-01-23\",\"2023-01-24\",\"2023-01-25\",\"2023-01-26\",\"2023-01-27\",\"2023-01-30\",\"2023-01-31\",\"2023-02-01\",\"2023-02-02\",\"2023-02-03\",\"2023-02-06\",\"2023-02-07\",\"2023-02-08\",\"2023-02-09\",\"2023-02-10\",\"2023-02-13\",\"2023-02-14\",\"2023-02-15\",\"2023-02-16\",\"2023-02-17\",\"2023-02-21\",\"2023-02-22\",\"2023-02-23\",\"2023-02-24\",\"2023-02-27\",\"2023-02-28\",\"2023-03-01\",\"2023-03-02\",\"2023-03-03\",\"2023-03-06\",\"2023-03-07\",\"2023-03-08\",\"2023-03-09\",\"2023-03-10\",\"2023-03-13\",\"2023-03-14\",\"2023-03-15\",\"2023-03-16\",\"2023-03-17\",\"2023-03-20\",\"2023-03-21\",\"2023-03-22\",\"2023-03-23\",\"2023-03-24\",\"2023-03-27\",\"2023-03-28\",\"2023-03-29\",\"2023-03-30\",\"2023-03-31\",\"2023-04-03\",\"2023-04-04\",\"2023-04-05\",\"2023-04-06\",\"2023-04-10\",\"2023-04-11\",\"2023-04-12\",\"2023-04-13\",\"2023-04-14\",\"2023-04-17\",\"2023-04-18\",\"2023-04-19\",\"2023-04-20\",\"2023-04-21\",\"2023-04-24\",\"2023-04-25\",\"2023-04-26\",\"2023-04-27\",\"2023-04-28\",\"2023-05-01\",\"2023-05-02\",\"2023-05-03\",\"2023-05-04\",\"2023-05-05\",\"2023-05-08\",\"2023-05-09\",\"2023-05-10\"],\"xaxis\":\"x\",\"y\":[305.4728088378906,302.3608703613281,300.1653747558594,301.54949951171875,301.4254455566406,300.53765869140625,302.3608703613281,302.9145812988281,304.28912353515625,304.4227294921875,301.9408569335937,300.5686950683594,298.8414611816406,298.4383850097656,297.4308776855469,298.3328552246094,294.9167785644531,295.8475952148437,298.2081298828125,296.8168029785156,294.062744140625,290.5411071777344,290.8673400878906,290.3779602050781,295.1662902832031,300.0696716308594,299.0717163085937,299.2348327636719,300.9525451660156,301.5762023925781,305.37615966796875,305.9999084472656,308.5428161621094,309.6559143066406,306.3549499511719,310.4043884277344,305.6640625,309.070556640625,308.7347106933594,304.2342834472656,306.3165283203125,309.6654968261719,308.5428161621094,305.980712890625,312.19873046875,313.1679077148437,313.455810546875,319.3860168457031,317.7931213378906,314.03155517578125,312.3618469238281,314.1947021484375,314.9239501953125,313.9931640625,318.5224304199219,316.958251953125,319.64508056640625,316.5072631835937,315.470947265625,318.0809631347656,323.3778381347656,320.5183410644531,317.9274597167969,321.5066833496094,307.78472900390625,308.5523986816406,309.8477783203125,315.9315490722656,314.4921569824219,311.7669677734375,310.7881774902344,308.4852294921875,310.3084411621094,313.8780212402344,312.9952392578125,312.1368408203125,316.0910949707031,318.59869384765625,317.2581481933594,319.7945861816406,319.9778747558594,320.1514892578125,323.527099609375,321.2799072265625,321.52099609375,324.43365478515625,323.73931884765625,319.43780517578125,322.3407897949219,323.9900207519531,323.970703125,325.4945678710937,329.2752380371094,321.9356994628906,324.9544982910156,316.5926818847656,318.1357421875,314.86627197265625,317.769287109375,318.61798095703125,325.48492431640625,322.4565124511719,324.9931030273437,325.7935485839844,326.2565002441406,331.8214111328125,337.9553527832031,342.3918762207031,345.26593017578125,345.4974365234375,351.66033935546875,352.9815979003906,358.0643005371094,356.0775451660156,359.0866394042969,358.3632507324219,358.5271911621094,353.45416259765625,354.23541259765625,355.8556823730469,358.9515686035156,355.3059387207031,355.4891662597656,357.4759521484375,355.47955322265625,354.5633239746094,359.3855895996094,357.8906555175781,378.3853759765625,380.8158264160156,391.4248352050781,394.1638793945313,394.2603759765625,393.8552551269531,397.46234130859375,388.3868408203125,392.3603820800781,386.37109375,387.7850646972656,394.9031066894531,394.94183349609375,402.5828857421875,403.0477294921875,398.2733154296875,398.3604431152344,402.2923583984375,392.4529113769531,389.5088806152344,394.94183349609375,386.9231262207031,375.737548828125,377.1127624511719,378.1489868164063,383.1559143066406,384.5407409667969,391.3392028808594,393.4020080566406,397.876220703125,397.004638671875,401.9146423339844,395.7456665039063,399.8131408691406,394.3898620605469,392.9566040039063,381.18988037109375,375.2339782714844,374.4689636230469,377.1127624511719,374.7691345214844,360.26177978515625,355.1484375,348.3402404785156,338.5492248535156,338.0844116210937,352.3302307128906,347.65264892578125,346.0062866210937,345.18310546875,354.9740905761719,355.4002380371094,357.0659484863281,361.937255859375,353.2986755371094,348.3209228515625,346.0740661621094,350.0350036621094,352.87255859375,343.8854064941406,339.23687744140625,340.4667663574219,342.1131286621094,339.04315185546875,336.96099853515625,335.9247436523437,306.1935119628906,298.71710205078125,303.3559265136719,306.6583557128906,305.8642272949219,310.144775390625,317.0400390625,314.1250305175781,314.0281982421875,312.585205078125,306.7454833984375,309.0448303222656,309.76580810546875,308.6453857421875,310.1749572753906,320.0932922363281,322.40234375,327.7121887207031,331.9796142578125,320.9019470214844,321.252685546875,308.8986511230469,307.661376953125,302.69244384765625,306.19989013671875,309.5417175292969,300.5295104980469,291.63427734375,294.1284484863281,297.7236022949219,297.0220642089844,290.86456298828125,294.96630859375,303.11138916015625,298.8342590332031,298.4153137207031,302.43914794921875,296.6907958984375,292.4916381835937,299.886474609375,307.03778076171875,302.38067626953125,292.3941650390625,297.1000366210937,292.2480773925781,293.84588623046875,303.74468994140625,292.6767578125,299.07781982421875,297.1195068359375,307.2033996582031,291.4198913574219,286.7433166503906,289.3934020996094,283.6743469238281,275.68511962890625,282.2421264648437,288.4190979003906,288.380126953125,293.2126159667969,277.8480834960937,280.3617248535156,279.8063659667969,278.6761779785156,280.5176086425781,286.0223388671875,295.0248107910156,300.5295104980469,294.96630859375,291.3779296875,299.8881225585937,299.11358642578125,297.9468994140625,295.8683166503906,291.71124267578125,293.9956970214844,283.5834045410156,277.6222839355469,273.2201232910156,274.2593994140625,268.11199951171875,265.4353942871094,263.9353332519531,263.7196044921875,270.03369140625,277.4654235839844,277.1614990234375,264.86669921875,268.51397705078125,268.9061584472656,273.6220703125,278.1811828613281,278.0340881347656,281.083251953125,280.8675842285156,280.7891845703125,279.5439453125,281.56365966796875,283.8187255859375,286.69140625,287.3188781738281,293.9662475585937,296.387939453125,299.0351867675781,300.5941162109375,300.16265869140625,292.3485412597656,293.06427001953125,293.7701721191406,295.0545959472656,299.8391418457031,294.8290710449219,300.3783874511719,301.1627502441406,303.6334533691406,305.8688659667969,299.2410888671875,305.4864807128906,304.6139221191406,308.73175048828125,308.45721435546875,320.9775085449219,319.38922119140625,318.8499450683594,315.0360412597656,306.1041564941406,300.89801025390625,302.0843505859375,303.7217102050781,292.2701416015625,290.5249328613281,287.3678894042969,284.6244812011719,289.50933837890625,288.0586853027344,285.729736328125,293.5553894042969,295.95343017578125,295.8251037597656,293.6244812011719,274.27252197265625,272.7034606933594,267.9666442871094,272.3383178710937,276.7297668457031,270.56201171875,267.9962463378906,265.59820556640625,267.37451171875,263.0718994140625,265.15411376953125,278.4764709472656,274.667236328125,272.3087158203125,279.96661376953125,285.7494812011719,286.0356750488281,286.5685729980469,280.57843017578125,278.7428894042969,279.1672668457031,276.82843017578125,279.1080322265625,272.7922668457031,277.5587158203125,281.3087158203125,271.8646240234375,265.9139709472656,271.90411376953125,279.53240966796875,286.4402770996094,286.33172607421875,287.229736328125,294.7198486328125,292.2330322265625,292.1639404296875,284.930419921875,277.7955627441406,280.2922668457031,286.4501037597656,287.3087158203125,282.9764709472656,307.59814453125,310.7955017089844,302.88104248046875,307.8251037597656,310.7658996582031,307.341552734375,309.05865478515625,312.6112670898437,320.6047058105469,317.279052734375,322.0849304199219,314.72314453125,311.80206298828125,321.6606750488281,324.7185363769531,325.63189697265625,317.7787780761719,315.1676940917969,317.8482666015625,321.75994873046875,318.1759033203125,325.6220092773437,330.4967041015625,331.0328063964844,325.2447204589844,321.0153503417969,315.0485534667969,312.5764465332031,317.0639343261719,313.8472595214844,316.4385070800781,317.2525939941406,313.4600524902344,318.1064147949219,313.589111328125,313.6387634277344,317.4313049316406,313.2019348144531,315.2471008300781,315.52508544921875,318.3248291015625,326.6346435546875,327.4983825683594,328.8287658691406,325.1752319335937,321.3628234863281,308.6449279785156,312.7352905273437,313.2118530273437,315.4059753417969,314.97906494140625,311.5538635253906,314.41314697265625,311.9807434082031,321.8393859863281,325.731201171875,337.3470764160156,329.1166687011719,326.9027099609375,322.8619689941406,318.4836730957031,313.2813415527344,314.2642517089844,321.2039794921875,316.140625,318.3843994140625,318.930419921875,315.6640930175781,293.37548828125,294.16973876953125,297.1581115722656,294.52716064453125,293.8818359375,294.40802001953125,288.6993713378906,290.913330078125,296.3042907714844,296.0660095214844,288.6100158691406,291.489990234375,288.0,286.3099975585937,286.5199890136719,285.57000732421875,287.9700012207031,286.7300109863281,288.3900146484375,289.260009765625,289.42999267578125,282.6099853515625,283.9100036621094,283.0199890136719,281.2699890136719,280.82000732421875,283.3599853515625,285.3599853515625,295.1199951171875,297.7300109863281,294.9599914550781,288.6700134277344,288.6099853515625,291.1700134277344,293.7699890136719,290.44000244140625,292.1499938964844,292.19000244140625,295.3999938964844,298.95001220703125,296.9100036621094,298.57000732421875,300.0400085449219,301.6400146484375,296.3299865722656,288.07000732421875,293.92999267578125,300.5400085449219,297.70001220703125,294.2799987792969,293.0799865722656,285.75,289.6199951171875,287.92999267578125,290.5799865722656,289.0299987792969],\"yaxis\":\"y\",\"type\":\"scattergl\"},{\"hovertemplate\":\"variable=INTC<br>Date=%{x|%B %d, %Y}<br>value=%{y}<extra></extra>\",\"legendgroup\":\"INTC\",\"line\":{\"color\":\"#ab63fa\",\"dash\":\"solid\"},\"marker\":{\"symbol\":\"circle\"},\"mode\":\"lines\",\"name\":\"INTC\",\"showlegend\":true,\"x\":[\"2021-05-17\",\"2021-05-18\",\"2021-05-19\",\"2021-05-20\",\"2021-05-21\",\"2021-05-24\",\"2021-05-25\",\"2021-05-26\",\"2021-05-27\",\"2021-05-28\",\"2021-06-01\",\"2021-06-02\",\"2021-06-03\",\"2021-06-04\",\"2021-06-07\",\"2021-06-08\",\"2021-06-09\",\"2021-06-10\",\"2021-06-11\",\"2021-06-14\",\"2021-06-15\",\"2021-06-16\",\"2021-06-17\",\"2021-06-18\",\"2021-06-21\",\"2021-06-22\",\"2021-06-23\",\"2021-06-24\",\"2021-06-25\",\"2021-06-28\",\"2021-06-29\",\"2021-06-30\",\"2021-07-01\",\"2021-07-02\",\"2021-07-06\",\"2021-07-07\",\"2021-07-08\",\"2021-07-09\",\"2021-07-12\",\"2021-07-13\",\"2021-07-14\",\"2021-07-15\",\"2021-07-16\",\"2021-07-19\",\"2021-07-20\",\"2021-07-21\",\"2021-07-22\",\"2021-07-23\",\"2021-07-26\",\"2021-07-27\",\"2021-07-28\",\"2021-07-29\",\"2021-07-30\",\"2021-08-02\",\"2021-08-03\",\"2021-08-04\",\"2021-08-05\",\"2021-08-06\",\"2021-08-09\",\"2021-08-10\",\"2021-08-11\",\"2021-08-12\",\"2021-08-13\",\"2021-08-16\",\"2021-08-17\",\"2021-08-18\",\"2021-08-19\",\"2021-08-20\",\"2021-08-23\",\"2021-08-24\",\"2021-08-25\",\"2021-08-26\",\"2021-08-27\",\"2021-08-30\",\"2021-08-31\",\"2021-09-01\",\"2021-09-02\",\"2021-09-03\",\"2021-09-07\",\"2021-09-08\",\"2021-09-09\",\"2021-09-10\",\"2021-09-13\",\"2021-09-14\",\"2021-09-15\",\"2021-09-16\",\"2021-09-17\",\"2021-09-20\",\"2021-09-21\",\"2021-09-22\",\"2021-09-23\",\"2021-09-24\",\"2021-09-27\",\"2021-09-28\",\"2021-09-29\",\"2021-09-30\",\"2021-10-01\",\"2021-10-04\",\"2021-10-05\",\"2021-10-06\",\"2021-10-07\",\"2021-10-08\",\"2021-10-11\",\"2021-10-12\",\"2021-10-13\",\"2021-10-14\",\"2021-10-15\",\"2021-10-18\",\"2021-10-19\",\"2021-10-20\",\"2021-10-21\",\"2021-10-22\",\"2021-10-25\",\"2021-10-26\",\"2021-10-27\",\"2021-10-28\",\"2021-10-29\",\"2021-11-01\",\"2021-11-02\",\"2021-11-03\",\"2021-11-04\",\"2021-11-05\",\"2021-11-08\",\"2021-11-09\",\"2021-11-10\",\"2021-11-11\",\"2021-11-12\",\"2021-11-15\",\"2021-11-16\",\"2021-11-17\",\"2021-11-18\",\"2021-11-19\",\"2021-11-22\",\"2021-11-23\",\"2021-11-24\",\"2021-11-26\",\"2021-11-29\",\"2021-11-30\",\"2021-12-01\",\"2021-12-02\",\"2021-12-03\",\"2021-12-06\",\"2021-12-07\",\"2021-12-08\",\"2021-12-09\",\"2021-12-10\",\"2021-12-13\",\"2021-12-14\",\"2021-12-15\",\"2021-12-16\",\"2021-12-17\",\"2021-12-20\",\"2021-12-21\",\"2021-12-22\",\"2021-12-23\",\"2021-12-27\",\"2021-12-28\",\"2021-12-29\",\"2021-12-30\",\"2021-12-31\",\"2022-01-03\",\"2022-01-04\",\"2022-01-05\",\"2022-01-06\",\"2022-01-07\",\"2022-01-10\",\"2022-01-11\",\"2022-01-12\",\"2022-01-13\",\"2022-01-14\",\"2022-01-18\",\"2022-01-19\",\"2022-01-20\",\"2022-01-21\",\"2022-01-24\",\"2022-01-25\",\"2022-01-26\",\"2022-01-27\",\"2022-01-28\",\"2022-01-31\",\"2022-02-01\",\"2022-02-02\",\"2022-02-03\",\"2022-02-04\",\"2022-02-07\",\"2022-02-08\",\"2022-02-09\",\"2022-02-10\",\"2022-02-11\",\"2022-02-14\",\"2022-02-15\",\"2022-02-16\",\"2022-02-17\",\"2022-02-18\",\"2022-02-22\",\"2022-02-23\",\"2022-02-24\",\"2022-02-25\",\"2022-02-28\",\"2022-03-01\",\"2022-03-02\",\"2022-03-03\",\"2022-03-04\",\"2022-03-07\",\"2022-03-08\",\"2022-03-09\",\"2022-03-10\",\"2022-03-11\",\"2022-03-14\",\"2022-03-15\",\"2022-03-16\",\"2022-03-17\",\"2022-03-18\",\"2022-03-21\",\"2022-03-22\",\"2022-03-23\",\"2022-03-24\",\"2022-03-25\",\"2022-03-28\",\"2022-03-29\",\"2022-03-30\",\"2022-03-31\",\"2022-04-01\",\"2022-04-04\",\"2022-04-05\",\"2022-04-06\",\"2022-04-07\",\"2022-04-08\",\"2022-04-11\",\"2022-04-12\",\"2022-04-13\",\"2022-04-14\",\"2022-04-18\",\"2022-04-19\",\"2022-04-20\",\"2022-04-21\",\"2022-04-22\",\"2022-04-25\",\"2022-04-26\",\"2022-04-27\",\"2022-04-28\",\"2022-04-29\",\"2022-05-02\",\"2022-05-03\",\"2022-05-04\",\"2022-05-05\",\"2022-05-06\",\"2022-05-09\",\"2022-05-10\",\"2022-05-11\",\"2022-05-12\",\"2022-05-13\",\"2022-05-16\",\"2022-05-17\",\"2022-05-18\",\"2022-05-19\",\"2022-05-20\",\"2022-05-23\",\"2022-05-24\",\"2022-05-25\",\"2022-05-26\",\"2022-05-27\",\"2022-05-31\",\"2022-06-01\",\"2022-06-02\",\"2022-06-03\",\"2022-06-06\",\"2022-06-07\",\"2022-06-08\",\"2022-06-09\",\"2022-06-10\",\"2022-06-13\",\"2022-06-14\",\"2022-06-15\",\"2022-06-16\",\"2022-06-17\",\"2022-06-21\",\"2022-06-22\",\"2022-06-23\",\"2022-06-24\",\"2022-06-27\",\"2022-06-28\",\"2022-06-29\",\"2022-06-30\",\"2022-07-01\",\"2022-07-05\",\"2022-07-06\",\"2022-07-07\",\"2022-07-08\",\"2022-07-11\",\"2022-07-12\",\"2022-07-13\",\"2022-07-14\",\"2022-07-15\",\"2022-07-18\",\"2022-07-19\",\"2022-07-20\",\"2022-07-21\",\"2022-07-22\",\"2022-07-25\",\"2022-07-26\",\"2022-07-27\",\"2022-07-28\",\"2022-07-29\",\"2022-08-01\",\"2022-08-02\",\"2022-08-03\",\"2022-08-04\",\"2022-08-05\",\"2022-08-08\",\"2022-08-09\",\"2022-08-10\",\"2022-08-11\",\"2022-08-12\",\"2022-08-15\",\"2022-08-16\",\"2022-08-17\",\"2022-08-18\",\"2022-08-19\",\"2022-08-22\",\"2022-08-23\",\"2022-08-24\",\"2022-08-25\",\"2022-08-26\",\"2022-08-29\",\"2022-08-30\",\"2022-08-31\",\"2022-09-01\",\"2022-09-02\",\"2022-09-06\",\"2022-09-07\",\"2022-09-08\",\"2022-09-09\",\"2022-09-12\",\"2022-09-13\",\"2022-09-14\",\"2022-09-15\",\"2022-09-16\",\"2022-09-19\",\"2022-09-20\",\"2022-09-21\",\"2022-09-22\",\"2022-09-23\",\"2022-09-26\",\"2022-09-27\",\"2022-09-28\",\"2022-09-29\",\"2022-09-30\",\"2022-10-03\",\"2022-10-04\",\"2022-10-05\",\"2022-10-06\",\"2022-10-07\",\"2022-10-10\",\"2022-10-11\",\"2022-10-12\",\"2022-10-13\",\"2022-10-14\",\"2022-10-17\",\"2022-10-18\",\"2022-10-19\",\"2022-10-20\",\"2022-10-21\",\"2022-10-24\",\"2022-10-25\",\"2022-10-26\",\"2022-10-27\",\"2022-10-28\",\"2022-10-31\",\"2022-11-01\",\"2022-11-02\",\"2022-11-03\",\"2022-11-04\",\"2022-11-07\",\"2022-11-08\",\"2022-11-09\",\"2022-11-10\",\"2022-11-11\",\"2022-11-14\",\"2022-11-15\",\"2022-11-16\",\"2022-11-17\",\"2022-11-18\",\"2022-11-21\",\"2022-11-22\",\"2022-11-23\",\"2022-11-25\",\"2022-11-28\",\"2022-11-29\",\"2022-11-30\",\"2022-12-01\",\"2022-12-02\",\"2022-12-05\",\"2022-12-06\",\"2022-12-07\",\"2022-12-08\",\"2022-12-09\",\"2022-12-12\",\"2022-12-13\",\"2022-12-14\",\"2022-12-15\",\"2022-12-16\",\"2022-12-19\",\"2022-12-20\",\"2022-12-21\",\"2022-12-22\",\"2022-12-23\",\"2022-12-27\",\"2022-12-28\",\"2022-12-29\",\"2022-12-30\",\"2023-01-03\",\"2023-01-04\",\"2023-01-05\",\"2023-01-06\",\"2023-01-09\",\"2023-01-10\",\"2023-01-11\",\"2023-01-12\",\"2023-01-13\",\"2023-01-17\",\"2023-01-18\",\"2023-01-19\",\"2023-01-20\",\"2023-01-23\",\"2023-01-24\",\"2023-01-25\",\"2023-01-26\",\"2023-01-27\",\"2023-01-30\",\"2023-01-31\",\"2023-02-01\",\"2023-02-02\",\"2023-02-03\",\"2023-02-06\",\"2023-02-07\",\"2023-02-08\",\"2023-02-09\",\"2023-02-10\",\"2023-02-13\",\"2023-02-14\",\"2023-02-15\",\"2023-02-16\",\"2023-02-17\",\"2023-02-21\",\"2023-02-22\",\"2023-02-23\",\"2023-02-24\",\"2023-02-27\",\"2023-02-28\",\"2023-03-01\",\"2023-03-02\",\"2023-03-03\",\"2023-03-06\",\"2023-03-07\",\"2023-03-08\",\"2023-03-09\",\"2023-03-10\",\"2023-03-13\",\"2023-03-14\",\"2023-03-15\",\"2023-03-16\",\"2023-03-17\",\"2023-03-20\",\"2023-03-21\",\"2023-03-22\",\"2023-03-23\",\"2023-03-24\",\"2023-03-27\",\"2023-03-28\",\"2023-03-29\",\"2023-03-30\",\"2023-03-31\",\"2023-04-03\",\"2023-04-04\",\"2023-04-05\",\"2023-04-06\",\"2023-04-10\",\"2023-04-11\",\"2023-04-12\",\"2023-04-13\",\"2023-04-14\",\"2023-04-17\",\"2023-04-18\",\"2023-04-19\",\"2023-04-20\",\"2023-04-21\",\"2023-04-24\",\"2023-04-25\",\"2023-04-26\",\"2023-04-27\",\"2023-04-28\",\"2023-05-01\",\"2023-05-02\",\"2023-05-03\",\"2023-05-04\",\"2023-05-05\",\"2023-05-08\",\"2023-05-09\",\"2023-05-10\"],\"xaxis\":\"x\",\"y\":[51.66533660888672,51.207786560058594,51.69334411621094,52.24427032470703,52.36566162109375,53.18737411499024,53.10333633422852,53.150020599365234,53.906375885009766,53.33677673339844,53.122013092041016,53.67293930053711,52.51506423950195,53.57021713256836,53.30876541137695,53.224727630615234,53.224727630615234,53.57955932617188,54.01842498779297,54.33590698242188,54.1491584777832,53.430152893066406,53.39280319213867,51.98281097412109,52.1695671081543,52.1695671081543,51.59996795654297,52.3563232421875,52.2069206237793,53.67293930053711,52.99127578735352,52.421688079833984,52.30030059814453,53.0006217956543,52.374996185302734,52.25360870361328,51.72135925292969,52.28162384033203,52.97261047363281,53.10333633422852,52.77651596069336,52.11354446411133,51.32917785644531,51.02103042602539,51.58129501342773,52.5057258605957,52.25360870361328,49.48965835571289,50.71289443969727,49.65773391723633,49.55501174926758,50.14329528808594,50.16196823120117,50.12461471557617,50.47945022583008,50.33005142211914,50.647708892822266,50.6759033203125,50.79808044433594,50.694705963134766,50.882659912109375,50.31876754760742,50.27177810668945,50.25298690795898,49.519901275634766,49.04998779296875,49.284950256347656,48.880821228027344,50.02741622924805,50.57252502441406,50.57252502441406,49.93343734741211,50.647708892822266,50.694705963134766,50.8074836730957,50.44094467163086,50.497337341308594,50.29057312011719,50.422149658203125,50.34696578979492,50.18719482421875,50.6007194519043,51.68153381347656,51.23980331420898,51.803707122802734,51.53115081787109,50.99544525146485,49.79246520996094,49.68907165527344,50.28117752075195,50.77928924560547,50.95785903930664,51.37137985229492,50.75109100341797,50.27177810668945,50.07441329956055,50.6195182800293,50.25298690795898,50.70410537719727,50.73229217529297,50.92026138305664,50.57252502441406,50.22478103637695,49.031192779541016,49.11577606201172,50.657108306884766,51.18341445922852,51.192813873291016,51.8882942199707,52.03866958618164,52.63075637817383,46.48423767089844,46.43725204467773,45.3752326965332,45.008697509765625,45.18727111816406,46.05191802978516,46.56882095336914,46.86017608642578,47.35828399658203,47.61192321777344,48.1891975402832,48.78541564941406,48.45418930053711,48.03778076171875,47.82011795043945,47.61192321777344,47.62137985229492,47.89582824707031,47.53620529174805,47.01569747924805,46.86428451538086,47.15766143798828,46.46680450439453,47.091407775878906,46.163970947265625,47.31854248046875,46.56143951416016,45.99361801147461,46.84535598754883,46.60876083374024,48.25545120239258,49.75071334838867,48.97468948364258,47.77280044555664,47.876895904541016,47.31854248046875,47.03463363647461,47.95261001586914,48.1040267944336,47.90528869628906,46.93999099731445,48.04724884033203,48.23652267456055,48.55828475952149,49.15450286865234,48.98414993286133,49.0504035949707,48.96522903442383,48.73809814453125,50.35639190673828,50.29014587402344,50.98099136352539,51.11348342895508,50.57405471801758,52.2491340637207,52.91159439086914,52.750709533691406,51.993614196777344,52.71285629272461,51.8232650756836,50.74440002441406,49.249141693115234,49.249141693115234,49.15450286865234,48.26491165161133,48.91790390014648,45.47311782836914,45.17028045654297,46.20182037353516,46.32485580444336,46.85481643676758,45.69078063964844,45.7813720703125,45.9434814453125,46.54423522949219,47.59317398071289,46.5919189453125,45.41901016235352,45.37133407592773,46.19141006469727,45.99116134643555,45.361793518066406,42.94923782348633,42.61548614501953,42.57734680175781,44.55125427246094,45.49530029296875,45.48576354980469,44.64661407470703,46.6014518737793,45.70508575439453,45.83858871459961,45.46669769287109,45.29505157470703,45.41901016235352,44.49404144287109,43.70257186889648,42.33895111083984,42.72991943359375,44.465431213378906,44.951759338378906,45.24737548828125,45.19015121459961,46.14373779296875,46.02930450439453,49.22379302978516,49.42405700683594,49.118896484375,49.82455062866211,49.04261779785156,47.25942611694336,45.876731872558594,46.916133880615234,45.89580535888672,45.33319091796875,45.35226440429688,44.83732986450195,44.40821838378906,44.34146499633789,44.82778930664063,43.549991607666016,44.47497177124024,45.70508575439453,45.876731872558594,45.29505157470703,44.37961196899414,44.87547302246094,43.406959533691406,43.12088394165039,44.66568756103516,41.56654739379883,42.872955322265625,42.96831512451172,44.37961196899414,42.86585235595703,42.57751083374024,41.39533996582031,42.29878616333008,41.164676666259766,41.17428207397461,41.90473175048828,41.40495300292969,42.67362976074219,40.70333480834961,40.376556396484375,40.030555725097656,40.366943359375,40.04977416992188,40.55916976928711,41.789398193359375,42.81779098510742,42.69284439086914,42.39490509033203,43.09651565551758,41.70289611816406,41.65484237670898,41.83745956420898,39.62688446044922,38.45431900024414,37.65658950805664,36.30141830444336,36.4552001953125,37.14720153808594,35.88813400268555,35.53252410888672,36.262977600097656,35.92658233642578,35.95541763305664,37.10875701904297,37.12797927856445,36.3110237121582,35.840084075927734,35.95541763305664,34.92701721191406,35.26340866088867,35.5517463684082,36.65702819824219,36.51286697387695,35.75357818603516,35.763187408447266,35.763187408447266,36.243751525878906,37.11836242675781,37.204864501953125,38.65615081787109,38.98293685913086,39.03099060058594,37.67581558227539,37.63737106323242,37.44514465332031,38.61771011352539,38.16598510742188,34.898189544677734,35.52291488647461,34.60984802246094,35.10001754760742,34.61946105957031,34.35734176635742,34.34763717651367,33.51272964477539,34.33792495727539,34.5515022277832,35.056331634521484,35.279624938964844,35.133995056152344,34.735958099365234,35.143707275390625,34.34763717651367,32.85256576538086,32.9593620300293,32.87198638916016,33.87192916870117,32.38657760620117,31.978832244873047,31.31867408752441,30.98859214782715,30.8332633972168,30.30901908874512,29.47411346435547,29.755651473999023,29.85273551940918,30.542015075683597,30.63909721374512,28.435338973999023,28.32854652404785,27.99846649169922,28.38679313659668,28.58095932006836,28.11496353149414,27.63926124572754,27.25093460083008,26.716983795166016,26.18303108215332,26.105363845825195,26.338361740112305,25.610246658325195,25.018047332763672,26.18303108215332,26.89173126220703,26.83348274230957,26.386903762817383,24.969505310058597,24.46468162536621,24.309349060058597,24.59088516235352,25.649080276489254,25.153961181640625,25.649080276489254,25.115129470825195,25.241334915161133,25.319000244140625,26.18303108215332,26.386903762817383,26.610191345214844,26.41602897644043,25.50345802307129,28.22175407409668,27.60042953491211,27.47422218322754,26.61989974975586,26.59077453613281,27.746898651123047,27.953523635864254,28.02239990234375,27.077823638916016,29.28183364868164,29.94106674194336,29.86235237121582,30.21656608581543,29.05552864074707,29.409744262695312,29.390064239501957,28.475008010864254,29.34086799621582,29.193279266357425,28.868581771850582,28.26838111877441,28.43564987182617,29.58685111999512,29.3507080078125,28.937456130981445,28.701311111450195,28.140470504760746,27.87480735778809,27.983041763305664,27.7862548828125,28.229026794433597,28.26838111877441,27.805932998657227,26.713768005371094,26.487462997436523,26.35955238342285,26.01517677307129,26.398910522460938,25.55272674560547,25.670801162719727,25.52321052551269,25.129638671875,25.78886985778809,26.00533676147461,26.30051612854004,27.235252380371094,27.11717987060547,28.26838111877441,28.839061737060547,28.96697425842285,29.370386123657227,29.803316116333008,29.626209259033203,29.12440490722656,28.347095489501957,27.963363647460938,28.750507354736328,29.78363800048828,29.43926048278809,29.222797393798828,29.606529235839844,27.70754051208496,27.50091552734375,27.805932998657227,28.60291862487793,29.704923629760746,29.83283424377441,28.57299423217773,28.9315242767334,28.124828338623047,27.616907119750977,27.686622619628903,28.433563232421875,28.523195266723636,28.73233985900879,28.084991455078125,27.497398376464844,25.953718185424805,25.366125106811523,25.50555419921875,25.0374698638916,24.79844856262207,24.82832717895508,25.226696014404297,26.093149185180664,26.29233169555664,25.884004592895508,25.425880432128903,25.87404441833496,26.33216857910156,27.10898780822754,26.840089797973636,27.89576530456543,28.29413414001465,30.05691719055176,29.688425064086918,29.04107666015625,28.343929290771484,28.015275955200195,28.91160774230957,29.24026107788086,29.06099510192871,29.17054748535156,31.391450881958008,31.95912742614746,32.53675842285156,32.755863189697266,32.96500396728516,32.69610977172852,32.67619323730469,32.38737487792969,32.21806335449219,31.88941192626953,31.998964309692383,31.75994110107422,32.0089225769043,31.70018577575684,31.022958755493164,30.73414421081543,30.17642593383789,29.53903579711914,28.762216567993164,28.9315242767334,29.738222122192383,30.933326721191406,30.17642593383789,29.648588180541992,30.524999618530277,31.239999771118164,30.989999771118164,30.770000457763672,30.100000381469727,29.96999931335449],\"yaxis\":\"y\",\"type\":\"scattergl\"},{\"hovertemplate\":\"variable=JPM<br>Date=%{x|%B %d, %Y}<br>value=%{y}<extra></extra>\",\"legendgroup\":\"JPM\",\"line\":{\"color\":\"#FFA15A\",\"dash\":\"solid\"},\"marker\":{\"symbol\":\"circle\"},\"mode\":\"lines\",\"name\":\"JPM\",\"showlegend\":true,\"x\":[\"2021-05-17\",\"2021-05-18\",\"2021-05-19\",\"2021-05-20\",\"2021-05-21\",\"2021-05-24\",\"2021-05-25\",\"2021-05-26\",\"2021-05-27\",\"2021-05-28\",\"2021-06-01\",\"2021-06-02\",\"2021-06-03\",\"2021-06-04\",\"2021-06-07\",\"2021-06-08\",\"2021-06-09\",\"2021-06-10\",\"2021-06-11\",\"2021-06-14\",\"2021-06-15\",\"2021-06-16\",\"2021-06-17\",\"2021-06-18\",\"2021-06-21\",\"2021-06-22\",\"2021-06-23\",\"2021-06-24\",\"2021-06-25\",\"2021-06-28\",\"2021-06-29\",\"2021-06-30\",\"2021-07-01\",\"2021-07-02\",\"2021-07-06\",\"2021-07-07\",\"2021-07-08\",\"2021-07-09\",\"2021-07-12\",\"2021-07-13\",\"2021-07-14\",\"2021-07-15\",\"2021-07-16\",\"2021-07-19\",\"2021-07-20\",\"2021-07-21\",\"2021-07-22\",\"2021-07-23\",\"2021-07-26\",\"2021-07-27\",\"2021-07-28\",\"2021-07-29\",\"2021-07-30\",\"2021-08-02\",\"2021-08-03\",\"2021-08-04\",\"2021-08-05\",\"2021-08-06\",\"2021-08-09\",\"2021-08-10\",\"2021-08-11\",\"2021-08-12\",\"2021-08-13\",\"2021-08-16\",\"2021-08-17\",\"2021-08-18\",\"2021-08-19\",\"2021-08-20\",\"2021-08-23\",\"2021-08-24\",\"2021-08-25\",\"2021-08-26\",\"2021-08-27\",\"2021-08-30\",\"2021-08-31\",\"2021-09-01\",\"2021-09-02\",\"2021-09-03\",\"2021-09-07\",\"2021-09-08\",\"2021-09-09\",\"2021-09-10\",\"2021-09-13\",\"2021-09-14\",\"2021-09-15\",\"2021-09-16\",\"2021-09-17\",\"2021-09-20\",\"2021-09-21\",\"2021-09-22\",\"2021-09-23\",\"2021-09-24\",\"2021-09-27\",\"2021-09-28\",\"2021-09-29\",\"2021-09-30\",\"2021-10-01\",\"2021-10-04\",\"2021-10-05\",\"2021-10-06\",\"2021-10-07\",\"2021-10-08\",\"2021-10-11\",\"2021-10-12\",\"2021-10-13\",\"2021-10-14\",\"2021-10-15\",\"2021-10-18\",\"2021-10-19\",\"2021-10-20\",\"2021-10-21\",\"2021-10-22\",\"2021-10-25\",\"2021-10-26\",\"2021-10-27\",\"2021-10-28\",\"2021-10-29\",\"2021-11-01\",\"2021-11-02\",\"2021-11-03\",\"2021-11-04\",\"2021-11-05\",\"2021-11-08\",\"2021-11-09\",\"2021-11-10\",\"2021-11-11\",\"2021-11-12\",\"2021-11-15\",\"2021-11-16\",\"2021-11-17\",\"2021-11-18\",\"2021-11-19\",\"2021-11-22\",\"2021-11-23\",\"2021-11-24\",\"2021-11-26\",\"2021-11-29\",\"2021-11-30\",\"2021-12-01\",\"2021-12-02\",\"2021-12-03\",\"2021-12-06\",\"2021-12-07\",\"2021-12-08\",\"2021-12-09\",\"2021-12-10\",\"2021-12-13\",\"2021-12-14\",\"2021-12-15\",\"2021-12-16\",\"2021-12-17\",\"2021-12-20\",\"2021-12-21\",\"2021-12-22\",\"2021-12-23\",\"2021-12-27\",\"2021-12-28\",\"2021-12-29\",\"2021-12-30\",\"2021-12-31\",\"2022-01-03\",\"2022-01-04\",\"2022-01-05\",\"2022-01-06\",\"2022-01-07\",\"2022-01-10\",\"2022-01-11\",\"2022-01-12\",\"2022-01-13\",\"2022-01-14\",\"2022-01-18\",\"2022-01-19\",\"2022-01-20\",\"2022-01-21\",\"2022-01-24\",\"2022-01-25\",\"2022-01-26\",\"2022-01-27\",\"2022-01-28\",\"2022-01-31\",\"2022-02-01\",\"2022-02-02\",\"2022-02-03\",\"2022-02-04\",\"2022-02-07\",\"2022-02-08\",\"2022-02-09\",\"2022-02-10\",\"2022-02-11\",\"2022-02-14\",\"2022-02-15\",\"2022-02-16\",\"2022-02-17\",\"2022-02-18\",\"2022-02-22\",\"2022-02-23\",\"2022-02-24\",\"2022-02-25\",\"2022-02-28\",\"2022-03-01\",\"2022-03-02\",\"2022-03-03\",\"2022-03-04\",\"2022-03-07\",\"2022-03-08\",\"2022-03-09\",\"2022-03-10\",\"2022-03-11\",\"2022-03-14\",\"2022-03-15\",\"2022-03-16\",\"2022-03-17\",\"2022-03-18\",\"2022-03-21\",\"2022-03-22\",\"2022-03-23\",\"2022-03-24\",\"2022-03-25\",\"2022-03-28\",\"2022-03-29\",\"2022-03-30\",\"2022-03-31\",\"2022-04-01\",\"2022-04-04\",\"2022-04-05\",\"2022-04-06\",\"2022-04-07\",\"2022-04-08\",\"2022-04-11\",\"2022-04-12\",\"2022-04-13\",\"2022-04-14\",\"2022-04-18\",\"2022-04-19\",\"2022-04-20\",\"2022-04-21\",\"2022-04-22\",\"2022-04-25\",\"2022-04-26\",\"2022-04-27\",\"2022-04-28\",\"2022-04-29\",\"2022-05-02\",\"2022-05-03\",\"2022-05-04\",\"2022-05-05\",\"2022-05-06\",\"2022-05-09\",\"2022-05-10\",\"2022-05-11\",\"2022-05-12\",\"2022-05-13\",\"2022-05-16\",\"2022-05-17\",\"2022-05-18\",\"2022-05-19\",\"2022-05-20\",\"2022-05-23\",\"2022-05-24\",\"2022-05-25\",\"2022-05-26\",\"2022-05-27\",\"2022-05-31\",\"2022-06-01\",\"2022-06-02\",\"2022-06-03\",\"2022-06-06\",\"2022-06-07\",\"2022-06-08\",\"2022-06-09\",\"2022-06-10\",\"2022-06-13\",\"2022-06-14\",\"2022-06-15\",\"2022-06-16\",\"2022-06-17\",\"2022-06-21\",\"2022-06-22\",\"2022-06-23\",\"2022-06-24\",\"2022-06-27\",\"2022-06-28\",\"2022-06-29\",\"2022-06-30\",\"2022-07-01\",\"2022-07-05\",\"2022-07-06\",\"2022-07-07\",\"2022-07-08\",\"2022-07-11\",\"2022-07-12\",\"2022-07-13\",\"2022-07-14\",\"2022-07-15\",\"2022-07-18\",\"2022-07-19\",\"2022-07-20\",\"2022-07-21\",\"2022-07-22\",\"2022-07-25\",\"2022-07-26\",\"2022-07-27\",\"2022-07-28\",\"2022-07-29\",\"2022-08-01\",\"2022-08-02\",\"2022-08-03\",\"2022-08-04\",\"2022-08-05\",\"2022-08-08\",\"2022-08-09\",\"2022-08-10\",\"2022-08-11\",\"2022-08-12\",\"2022-08-15\",\"2022-08-16\",\"2022-08-17\",\"2022-08-18\",\"2022-08-19\",\"2022-08-22\",\"2022-08-23\",\"2022-08-24\",\"2022-08-25\",\"2022-08-26\",\"2022-08-29\",\"2022-08-30\",\"2022-08-31\",\"2022-09-01\",\"2022-09-02\",\"2022-09-06\",\"2022-09-07\",\"2022-09-08\",\"2022-09-09\",\"2022-09-12\",\"2022-09-13\",\"2022-09-14\",\"2022-09-15\",\"2022-09-16\",\"2022-09-19\",\"2022-09-20\",\"2022-09-21\",\"2022-09-22\",\"2022-09-23\",\"2022-09-26\",\"2022-09-27\",\"2022-09-28\",\"2022-09-29\",\"2022-09-30\",\"2022-10-03\",\"2022-10-04\",\"2022-10-05\",\"2022-10-06\",\"2022-10-07\",\"2022-10-10\",\"2022-10-11\",\"2022-10-12\",\"2022-10-13\",\"2022-10-14\",\"2022-10-17\",\"2022-10-18\",\"2022-10-19\",\"2022-10-20\",\"2022-10-21\",\"2022-10-24\",\"2022-10-25\",\"2022-10-26\",\"2022-10-27\",\"2022-10-28\",\"2022-10-31\",\"2022-11-01\",\"2022-11-02\",\"2022-11-03\",\"2022-11-04\",\"2022-11-07\",\"2022-11-08\",\"2022-11-09\",\"2022-11-10\",\"2022-11-11\",\"2022-11-14\",\"2022-11-15\",\"2022-11-16\",\"2022-11-17\",\"2022-11-18\",\"2022-11-21\",\"2022-11-22\",\"2022-11-23\",\"2022-11-25\",\"2022-11-28\",\"2022-11-29\",\"2022-11-30\",\"2022-12-01\",\"2022-12-02\",\"2022-12-05\",\"2022-12-06\",\"2022-12-07\",\"2022-12-08\",\"2022-12-09\",\"2022-12-12\",\"2022-12-13\",\"2022-12-14\",\"2022-12-15\",\"2022-12-16\",\"2022-12-19\",\"2022-12-20\",\"2022-12-21\",\"2022-12-22\",\"2022-12-23\",\"2022-12-27\",\"2022-12-28\",\"2022-12-29\",\"2022-12-30\",\"2023-01-03\",\"2023-01-04\",\"2023-01-05\",\"2023-01-06\",\"2023-01-09\",\"2023-01-10\",\"2023-01-11\",\"2023-01-12\",\"2023-01-13\",\"2023-01-17\",\"2023-01-18\",\"2023-01-19\",\"2023-01-20\",\"2023-01-23\",\"2023-01-24\",\"2023-01-25\",\"2023-01-26\",\"2023-01-27\",\"2023-01-30\",\"2023-01-31\",\"2023-02-01\",\"2023-02-02\",\"2023-02-03\",\"2023-02-06\",\"2023-02-07\",\"2023-02-08\",\"2023-02-09\",\"2023-02-10\",\"2023-02-13\",\"2023-02-14\",\"2023-02-15\",\"2023-02-16\",\"2023-02-17\",\"2023-02-21\",\"2023-02-22\",\"2023-02-23\",\"2023-02-24\",\"2023-02-27\",\"2023-02-28\",\"2023-03-01\",\"2023-03-02\",\"2023-03-03\",\"2023-03-06\",\"2023-03-07\",\"2023-03-08\",\"2023-03-09\",\"2023-03-10\",\"2023-03-13\",\"2023-03-14\",\"2023-03-15\",\"2023-03-16\",\"2023-03-17\",\"2023-03-20\",\"2023-03-21\",\"2023-03-22\",\"2023-03-23\",\"2023-03-24\",\"2023-03-27\",\"2023-03-28\",\"2023-03-29\",\"2023-03-30\",\"2023-03-31\",\"2023-04-03\",\"2023-04-04\",\"2023-04-05\",\"2023-04-06\",\"2023-04-10\",\"2023-04-11\",\"2023-04-12\",\"2023-04-13\",\"2023-04-14\",\"2023-04-17\",\"2023-04-18\",\"2023-04-19\",\"2023-04-20\",\"2023-04-21\",\"2023-04-24\",\"2023-04-25\",\"2023-04-26\",\"2023-04-27\",\"2023-04-28\",\"2023-05-01\",\"2023-05-02\",\"2023-05-03\",\"2023-05-04\",\"2023-05-05\",\"2023-05-08\",\"2023-05-09\",\"2023-05-10\"],\"xaxis\":\"x\",\"y\":[155.38992309570312,153.20068359375,152.03053283691406,151.76634216308594,153.49317932128906,154.3236083984375,152.72886657714844,152.7099609375,155.0879669189453,154.98414611816406,156.69215393066406,156.70159912109375,156.8053741455078,157.06019592285156,156.32412719726562,155.7013397216797,153.75743103027344,151.3605194091797,151.25674438476562,148.69003295898438,146.43472290039062,147.4633331298828,143.20745849609375,139.58387756347656,141.9524383544922,141.74484252929688,142.60353088378906,143.91519165039062,145.36843872070312,145.63262939453125,145.453369140625,146.77442932128906,148.2276611328125,148.0852813720703,145.59869384765625,145.76953125,143.25445556640625,147.8385467529297,149.95498657226562,147.72463989257812,147.22161865234375,147.54432678222656,144.17507934570312,139.48660278320312,142.08709716796875,145.0767059326172,143.24496459960938,142.96975708007812,143.92831420898438,143.73849487304688,143.97576904296875,145.20957946777344,144.0516815185547,143.47274780273438,145.10516357421875,143.53919982910156,145.3519287109375,149.4804229736328,149.31907653808594,151.15081787109375,152.9541015625,153.55198669433594,151.8341827392578,150.83761596679688,149.015380859375,147.65821838378906,146.42440795898438,146.8419952392578,148.72119140625,149.64178466796875,152.726318359375,153.51405334472656,154.74786376953125,152.270751953125,151.80569458007812,151.58741760253906,152.28973388671875,151.36912536621094,151.10337829589844,150.42953491210938,151.08441162109375,149.34756469726562,151.72027587890625,149.07235717773438,150.10684204101562,150.04039001464844,149.6512908935547,145.171630859375,145.19058227539062,147.97142028808594,152.97303771972656,154.73837280273438,158.4777374267578,157.62356567382812,157.5001983642578,155.35528564453125,158.62013244628906,158.4492645263672,161.0367889404297,161.38050842285156,162.4021453857422,162.52627563476562,159.1080780029297,157.88592529296875,153.7229766845703,156.08135986328125,159.07943725585938,159.02215576171875,160.9508514404297,163.1182403564453,161.8388214111328,164.0157470703125,163.21372985839844,163.65292358398438,160.2443084716797,162.6599578857422,162.211181640625,162.125244140625,162.76495361328125,162.822265625,160.68350219726562,160.45436096191406,161.41868591308594,160.19654846191406,160.0437774658203,160.0342254638672,159.31813049316406,159.03170776367188,157.88592529296875,157.03616333007812,155.68035888671875,153.64662170410156,156.92160034179688,160.6739501953125,159.4136199951172,154.6109619140625,153.94259643554688,151.65106201171875,150.75357055664062,153.9235076904297,151.13546752929688,152.9209747314453,155.2220458984375,153.4461212158203,153.20741271972656,152.59634399414062,150.78221130371094,151.93753051757812,150.80133056640625,153.15966796875,149.6746368408203,146.98211669921875,149.03492736816406,149.6173553466797,150.1520538330078,151.01136779785156,151.4696807861328,151.3932647705078,151.31690979003906,151.19277954101562,154.39134216308594,160.2443084716797,157.31471252441406,158.9860076904297,160.56126403808594,160.7149658203125,160.87826538085938,161.7907257080078,161.5890350341797,151.65719604492188,145.29855346679688,143.05091857910156,141.8310546875,139.35289001464844,139.22802734375,140.7456512451172,142.08078002929688,139.5738067626953,140.82247924804688,142.7339324951172,145.18325805664062,144.0210418701172,142.82998657226562,146.53762817382812,147.02749633789062,149.79379272460938,150.4181365966797,149.79379272460938,147.8439178466797,146.47036743164062,148.61233520507812,148.8813018798828,145.45220947265625,146.13418579101562,145.87486267089844,142.8203887939453,138.8438262939453,142.12879943847656,136.20237731933594,131.06356811523438,133.7818603515625,132.83091735839844,129.09449768066406,124.109375,123.23529052734376,128.17239379882812,126.6547622680664,123.802001953125,125.0314712524414,127.2502670288086,132.9365692138672,134.61749267578125,134.56947326660156,134.1372528076172,136.99000549316406,134.26210021972656,135.1361846923828,136.31761169433594,135.30906677246094,135.60682678222656,134.99209594726562,130.93870544433594,129.96856689453125,130.54489135742188,129.0256805419922,127.23555755615234,126.84846496582033,129.17083740234375,128.69668579101562,127.28392791748048,123.18112182617188,122.03929138183594,124.30358123779295,126.87750244140624,127.32262420654295,126.33562469482422,122.70696258544922,122.6682586669922,119.03958892822266,117.49136352539062,119.34923553466795,115.49800872802734,116.552734375,119.0492706298828,122.98757934570312,119.91046905517578,119.71694946289062,117.91712951660156,115.04322814941406,114.31748962402344,114.22071838378906,115.23674011230467,114.43360900878906,118.2267837524414,116.2043914794922,114.48198699951172,113.54337310791016,120.56846618652344,122.27152252197266,123.123046875,125.25186920166016,127.02267456054688,127.95159912109376,125.70667266845705,127.72903442382812,125.94857788085938,125.53248596191406,125.86149597167967,123.85845947265624,121.25550079345705,115.68186950683594,112.237060546875,110.36949920654295,111.67581939697266,109.75989532470705,109.37283325195312,112.08223724365234,111.45326232910156,110.23402404785156,113.5240249633789,112.61443328857422,112.0725555419922,111.5693817138672,108.96642303466795,110.35982513427734,109.9400634765625,109.22742462158205,111.9900894165039,111.63865661621094,110.17434692382812,110.28173065185548,109.24695587158205,105.42999267578124,110.26220703125,109.12980651855467,111.8338851928711,111.81437683105467,112.57581329345705,112.02913665771484,112.47818756103516,110.72101593017578,112.4977035522461,112.07794189453124,112.61485290527344,111.49221801757812,109.75457763671876,110.906494140625,109.68624114990234,113.00534057617188,111.6288833618164,112.6343765258789,115.57275390625,117.28111267089844,119.2237548828125,119.5458984375,120.68805694580078,119.6728057861328,118.7454071044922,115.80703735351562,113.89368438720705,112.7710418701172,113.0443878173828,115.72895050048828,111.94126892089844,111.66793823242188,111.68746948242188,111.02364349365234,111.78507995605467,111.00411224365234,111.0334014892578,113.14200592041016,115.77776336669922,116.33419036865234,117.71063995361328,113.6203384399414,113.35677337646484,115.06513214111328,114.2939224243164,115.34822845458984,113.07367706298828,109.81314086914062,108.56360626220705,106.5428695678711,104.24878692626952,103.3311538696289,105.42024230957033,103.6337890625,102.0132827758789,105.16642761230467,110.08648681640624,108.72727966308594,106.51116180419922,104.38370513916016,103.40860748291016,100.42425537109376,102.04940032958984,107.72264099121094,109.51522827148438,114.1148910522461,117.04999542236328,114.75509643554688,114.3808135986328,120.3889389038086,120.53667449951172,120.8518524169922,122.24061584472656,122.72323608398438,124.1809539794922,123.98396301269533,126.21976470947266,125.05754089355467,125.2840805053711,128.71165466308594,129.39126586914062,129.47006225585938,127.78583526611328,133.04537963867188,133.26206970214844,131.89300537109375,130.9376220703125,131.1149139404297,130.54364013671875,131.8240509033203,131.04595947265625,133.0059814453125,134.42430114746094,134.68038940429688,132.32638549804688,134.5030975341797,136.0986785888672,134.1879119873047,133.1241912841797,129.39126586914062,129.60794067382812,129.51930236816406,130.87852478027344,130.16937255859375,132.18849182128906,132.06045532226562,131.40054321289062,128.14041137695312,127.34259033203124,128.1009979248047,128.7215118408203,130.16937255859375,128.6919708251953,129.30262756347656,129.75570678710938,130.46484375,131.21340942382812,132.0801544189453,133.08477783203125,134.3258056640625,134.29605102539062,136.86587524414062,136.30030822753906,137.52073669433594,138.54270935058594,138.40380859375,141.89639282226562,139.70359802246094,135.5065460205078,133.70071411132812,134.02813720703125,136.2010955810547,137.3719024658203,138.03668212890625,138.88998413085938,139.2273406982422,138.04661560058594,138.87014770507812,138.50302124023438,137.85809326171875,139.9913330078125,140.81488037109375,142.53140258789062,141.52926635742188,139.32655334472656,139.9417266845703,141.45982360839844,142.0849151611328,142.68023681640625,140.71566772460938,141.13238525390625,138.54270935058594,137.4810333251953,138.5823974609375,139.83258056640625,141.05300903320312,142.23374938964844,141.43997192382812,139.9715118408203,142.5413360595703,141.70787048339844,137.5405731201172,136.72695922851562,129.32504272460938,132.60926818847656,130.22796630859375,133.57171630859375,127.26124572753906,129.7318572998047,124.830322265625,126.14997100830078,129.53341674804688,126.18965911865234,125.85230255126952,123.93733978271484,127.48946380615234,127.87642669677734,128.1343994140625,127.7474365234375,129.2952880859375,129.14645385742188,127.41999816894533,127.61000061035156,127.47000122070312,127.88999938964844,128.52000427246094,128.5,128.99000549316406,138.72999572753906,139.8300018310547,141.39999389648438,141.22000122070312,140.80999755859375,140.5399932861328,140.72999572753906,137.6699981689453,135.22999572753906,137.0500030517578,138.24000549316406,141.1999969482422,138.9199981689453,135.97999572753906,134.1199951171875,136.74000549316406,137.07000732421875,136.41000366210938,136.47999572753906],\"yaxis\":\"y\",\"type\":\"scattergl\"},{\"hovertemplate\":\"variable=LMT<br>Date=%{x|%B %d, %Y}<br>value=%{y}<extra></extra>\",\"legendgroup\":\"LMT\",\"line\":{\"color\":\"#19d3f3\",\"dash\":\"solid\"},\"marker\":{\"symbol\":\"circle\"},\"mode\":\"lines\",\"name\":\"LMT\",\"showlegend\":true,\"x\":[\"2021-05-17\",\"2021-05-18\",\"2021-05-19\",\"2021-05-20\",\"2021-05-21\",\"2021-05-24\",\"2021-05-25\",\"2021-05-26\",\"2021-05-27\",\"2021-05-28\",\"2021-06-01\",\"2021-06-02\",\"2021-06-03\",\"2021-06-04\",\"2021-06-07\",\"2021-06-08\",\"2021-06-09\",\"2021-06-10\",\"2021-06-11\",\"2021-06-14\",\"2021-06-15\",\"2021-06-16\",\"2021-06-17\",\"2021-06-18\",\"2021-06-21\",\"2021-06-22\",\"2021-06-23\",\"2021-06-24\",\"2021-06-25\",\"2021-06-28\",\"2021-06-29\",\"2021-06-30\",\"2021-07-01\",\"2021-07-02\",\"2021-07-06\",\"2021-07-07\",\"2021-07-08\",\"2021-07-09\",\"2021-07-12\",\"2021-07-13\",\"2021-07-14\",\"2021-07-15\",\"2021-07-16\",\"2021-07-19\",\"2021-07-20\",\"2021-07-21\",\"2021-07-22\",\"2021-07-23\",\"2021-07-26\",\"2021-07-27\",\"2021-07-28\",\"2021-07-29\",\"2021-07-30\",\"2021-08-02\",\"2021-08-03\",\"2021-08-04\",\"2021-08-05\",\"2021-08-06\",\"2021-08-09\",\"2021-08-10\",\"2021-08-11\",\"2021-08-12\",\"2021-08-13\",\"2021-08-16\",\"2021-08-17\",\"2021-08-18\",\"2021-08-19\",\"2021-08-20\",\"2021-08-23\",\"2021-08-24\",\"2021-08-25\",\"2021-08-26\",\"2021-08-27\",\"2021-08-30\",\"2021-08-31\",\"2021-09-01\",\"2021-09-02\",\"2021-09-03\",\"2021-09-07\",\"2021-09-08\",\"2021-09-09\",\"2021-09-10\",\"2021-09-13\",\"2021-09-14\",\"2021-09-15\",\"2021-09-16\",\"2021-09-17\",\"2021-09-20\",\"2021-09-21\",\"2021-09-22\",\"2021-09-23\",\"2021-09-24\",\"2021-09-27\",\"2021-09-28\",\"2021-09-29\",\"2021-09-30\",\"2021-10-01\",\"2021-10-04\",\"2021-10-05\",\"2021-10-06\",\"2021-10-07\",\"2021-10-08\",\"2021-10-11\",\"2021-10-12\",\"2021-10-13\",\"2021-10-14\",\"2021-10-15\",\"2021-10-18\",\"2021-10-19\",\"2021-10-20\",\"2021-10-21\",\"2021-10-22\",\"2021-10-25\",\"2021-10-26\",\"2021-10-27\",\"2021-10-28\",\"2021-10-29\",\"2021-11-01\",\"2021-11-02\",\"2021-11-03\",\"2021-11-04\",\"2021-11-05\",\"2021-11-08\",\"2021-11-09\",\"2021-11-10\",\"2021-11-11\",\"2021-11-12\",\"2021-11-15\",\"2021-11-16\",\"2021-11-17\",\"2021-11-18\",\"2021-11-19\",\"2021-11-22\",\"2021-11-23\",\"2021-11-24\",\"2021-11-26\",\"2021-11-29\",\"2021-11-30\",\"2021-12-01\",\"2021-12-02\",\"2021-12-03\",\"2021-12-06\",\"2021-12-07\",\"2021-12-08\",\"2021-12-09\",\"2021-12-10\",\"2021-12-13\",\"2021-12-14\",\"2021-12-15\",\"2021-12-16\",\"2021-12-17\",\"2021-12-20\",\"2021-12-21\",\"2021-12-22\",\"2021-12-23\",\"2021-12-27\",\"2021-12-28\",\"2021-12-29\",\"2021-12-30\",\"2021-12-31\",\"2022-01-03\",\"2022-01-04\",\"2022-01-05\",\"2022-01-06\",\"2022-01-07\",\"2022-01-10\",\"2022-01-11\",\"2022-01-12\",\"2022-01-13\",\"2022-01-14\",\"2022-01-18\",\"2022-01-19\",\"2022-01-20\",\"2022-01-21\",\"2022-01-24\",\"2022-01-25\",\"2022-01-26\",\"2022-01-27\",\"2022-01-28\",\"2022-01-31\",\"2022-02-01\",\"2022-02-02\",\"2022-02-03\",\"2022-02-04\",\"2022-02-07\",\"2022-02-08\",\"2022-02-09\",\"2022-02-10\",\"2022-02-11\",\"2022-02-14\",\"2022-02-15\",\"2022-02-16\",\"2022-02-17\",\"2022-02-18\",\"2022-02-22\",\"2022-02-23\",\"2022-02-24\",\"2022-02-25\",\"2022-02-28\",\"2022-03-01\",\"2022-03-02\",\"2022-03-03\",\"2022-03-04\",\"2022-03-07\",\"2022-03-08\",\"2022-03-09\",\"2022-03-10\",\"2022-03-11\",\"2022-03-14\",\"2022-03-15\",\"2022-03-16\",\"2022-03-17\",\"2022-03-18\",\"2022-03-21\",\"2022-03-22\",\"2022-03-23\",\"2022-03-24\",\"2022-03-25\",\"2022-03-28\",\"2022-03-29\",\"2022-03-30\",\"2022-03-31\",\"2022-04-01\",\"2022-04-04\",\"2022-04-05\",\"2022-04-06\",\"2022-04-07\",\"2022-04-08\",\"2022-04-11\",\"2022-04-12\",\"2022-04-13\",\"2022-04-14\",\"2022-04-18\",\"2022-04-19\",\"2022-04-20\",\"2022-04-21\",\"2022-04-22\",\"2022-04-25\",\"2022-04-26\",\"2022-04-27\",\"2022-04-28\",\"2022-04-29\",\"2022-05-02\",\"2022-05-03\",\"2022-05-04\",\"2022-05-05\",\"2022-05-06\",\"2022-05-09\",\"2022-05-10\",\"2022-05-11\",\"2022-05-12\",\"2022-05-13\",\"2022-05-16\",\"2022-05-17\",\"2022-05-18\",\"2022-05-19\",\"2022-05-20\",\"2022-05-23\",\"2022-05-24\",\"2022-05-25\",\"2022-05-26\",\"2022-05-27\",\"2022-05-31\",\"2022-06-01\",\"2022-06-02\",\"2022-06-03\",\"2022-06-06\",\"2022-06-07\",\"2022-06-08\",\"2022-06-09\",\"2022-06-10\",\"2022-06-13\",\"2022-06-14\",\"2022-06-15\",\"2022-06-16\",\"2022-06-17\",\"2022-06-21\",\"2022-06-22\",\"2022-06-23\",\"2022-06-24\",\"2022-06-27\",\"2022-06-28\",\"2022-06-29\",\"2022-06-30\",\"2022-07-01\",\"2022-07-05\",\"2022-07-06\",\"2022-07-07\",\"2022-07-08\",\"2022-07-11\",\"2022-07-12\",\"2022-07-13\",\"2022-07-14\",\"2022-07-15\",\"2022-07-18\",\"2022-07-19\",\"2022-07-20\",\"2022-07-21\",\"2022-07-22\",\"2022-07-25\",\"2022-07-26\",\"2022-07-27\",\"2022-07-28\",\"2022-07-29\",\"2022-08-01\",\"2022-08-02\",\"2022-08-03\",\"2022-08-04\",\"2022-08-05\",\"2022-08-08\",\"2022-08-09\",\"2022-08-10\",\"2022-08-11\",\"2022-08-12\",\"2022-08-15\",\"2022-08-16\",\"2022-08-17\",\"2022-08-18\",\"2022-08-19\",\"2022-08-22\",\"2022-08-23\",\"2022-08-24\",\"2022-08-25\",\"2022-08-26\",\"2022-08-29\",\"2022-08-30\",\"2022-08-31\",\"2022-09-01\",\"2022-09-02\",\"2022-09-06\",\"2022-09-07\",\"2022-09-08\",\"2022-09-09\",\"2022-09-12\",\"2022-09-13\",\"2022-09-14\",\"2022-09-15\",\"2022-09-16\",\"2022-09-19\",\"2022-09-20\",\"2022-09-21\",\"2022-09-22\",\"2022-09-23\",\"2022-09-26\",\"2022-09-27\",\"2022-09-28\",\"2022-09-29\",\"2022-09-30\",\"2022-10-03\",\"2022-10-04\",\"2022-10-05\",\"2022-10-06\",\"2022-10-07\",\"2022-10-10\",\"2022-10-11\",\"2022-10-12\",\"2022-10-13\",\"2022-10-14\",\"2022-10-17\",\"2022-10-18\",\"2022-10-19\",\"2022-10-20\",\"2022-10-21\",\"2022-10-24\",\"2022-10-25\",\"2022-10-26\",\"2022-10-27\",\"2022-10-28\",\"2022-10-31\",\"2022-11-01\",\"2022-11-02\",\"2022-11-03\",\"2022-11-04\",\"2022-11-07\",\"2022-11-08\",\"2022-11-09\",\"2022-11-10\",\"2022-11-11\",\"2022-11-14\",\"2022-11-15\",\"2022-11-16\",\"2022-11-17\",\"2022-11-18\",\"2022-11-21\",\"2022-11-22\",\"2022-11-23\",\"2022-11-25\",\"2022-11-28\",\"2022-11-29\",\"2022-11-30\",\"2022-12-01\",\"2022-12-02\",\"2022-12-05\",\"2022-12-06\",\"2022-12-07\",\"2022-12-08\",\"2022-12-09\",\"2022-12-12\",\"2022-12-13\",\"2022-12-14\",\"2022-12-15\",\"2022-12-16\",\"2022-12-19\",\"2022-12-20\",\"2022-12-21\",\"2022-12-22\",\"2022-12-23\",\"2022-12-27\",\"2022-12-28\",\"2022-12-29\",\"2022-12-30\",\"2023-01-03\",\"2023-01-04\",\"2023-01-05\",\"2023-01-06\",\"2023-01-09\",\"2023-01-10\",\"2023-01-11\",\"2023-01-12\",\"2023-01-13\",\"2023-01-17\",\"2023-01-18\",\"2023-01-19\",\"2023-01-20\",\"2023-01-23\",\"2023-01-24\",\"2023-01-25\",\"2023-01-26\",\"2023-01-27\",\"2023-01-30\",\"2023-01-31\",\"2023-02-01\",\"2023-02-02\",\"2023-02-03\",\"2023-02-06\",\"2023-02-07\",\"2023-02-08\",\"2023-02-09\",\"2023-02-10\",\"2023-02-13\",\"2023-02-14\",\"2023-02-15\",\"2023-02-16\",\"2023-02-17\",\"2023-02-21\",\"2023-02-22\",\"2023-02-23\",\"2023-02-24\",\"2023-02-27\",\"2023-02-28\",\"2023-03-01\",\"2023-03-02\",\"2023-03-03\",\"2023-03-06\",\"2023-03-07\",\"2023-03-08\",\"2023-03-09\",\"2023-03-10\",\"2023-03-13\",\"2023-03-14\",\"2023-03-15\",\"2023-03-16\",\"2023-03-17\",\"2023-03-20\",\"2023-03-21\",\"2023-03-22\",\"2023-03-23\",\"2023-03-24\",\"2023-03-27\",\"2023-03-28\",\"2023-03-29\",\"2023-03-30\",\"2023-03-31\",\"2023-04-03\",\"2023-04-04\",\"2023-04-05\",\"2023-04-06\",\"2023-04-10\",\"2023-04-11\",\"2023-04-12\",\"2023-04-13\",\"2023-04-14\",\"2023-04-17\",\"2023-04-18\",\"2023-04-19\",\"2023-04-20\",\"2023-04-21\",\"2023-04-24\",\"2023-04-25\",\"2023-04-26\",\"2023-04-27\",\"2023-04-28\",\"2023-05-01\",\"2023-05-02\",\"2023-05-03\",\"2023-05-04\",\"2023-05-05\",\"2023-05-08\",\"2023-05-09\",\"2023-05-10\"],\"xaxis\":\"x\",\"y\":[370.4198913574219,366.726318359375,365.13525390625,367.7681274414063,366.726318359375,367.1903991699219,365.4288635253906,363.7999267578125,366.8873596191406,364.4178771972656,364.1509094238281,367.1734008789063,369.3282775878906,375.7642211914063,373.2947387695313,370.4533386230469,368.8038024902344,369.6810302734375,369.6810302734375,371.00634765625,371.6642456054688,365.752685546875,365.0852661132813,361.54791259765625,364.7039489746094,364.6848449707031,359.7743835449219,360.1558532714844,364.2367248535156,362.386962890625,356.04638671875,360.7470397949219,362.5299987792969,363.7408447265625,361.0521240234375,365.6382751464844,362.2439575195313,365.2854614257813,361.4334411621094,360.2607116699219,359.2881774902344,360.6515808105469,359.59332275390625,354.7114562988281,362.3011169433594,363.1688537597656,362.2534790039063,363.0543823242188,350.9262084960937,357.2954406738281,355.4647216796875,355.2644958496094,354.37774658203125,351.16455078125,352.2610778808594,344.8144226074219,343.994384765625,345.205322265625,344.2423400878906,345.3865051269531,346.3971862792969,343.0123596191406,341.3247375488281,343.48907470703125,344.7762756347656,340.0089111328125,337.5585021972656,340.5523986816406,340.7239990234375,342.2972717285156,342.05889892578125,344.7952880859375,345.14813232421875,345.205322265625,345.5414733886719,342.52593994140625,343.8608093261719,341.8920593261719,335.3615417480469,337.5320129394531,335.1022644042969,332.1731262207031,332.58612060546875,330.69415283203125,331.39520263671875,327.9667053222656,327.46734619140625,325.0471496582031,322.7326354980469,328.1875915527344,330.5597229003906,335.6688537597656,339.356689453125,338.19464111328125,336.4083557128906,331.42401123046875,334.0170288085937,332.2787475585937,333.9690246582031,336.1202697753906,337.8393249511719,339.73126220703125,342.92926025390625,343.92803955078125,347.4237976074219,347.72149658203125,351.1308288574219,350.535400390625,356.3648376464844,356.4224853515625,358.3528747558594,359.7549743652344,361.4163818359375,318.7567443847656,317.8251647949219,318.25738525390625,319.1504821777344,317.8155822753906,313.3786926269531,318.2189025878906,322.2044677734375,326.4205017089844,328.235595703125,324.7686767578125,324.25006103515625,322.5790405273437,325.6233825683594,327.4096984863281,326.8814697265625,328.437255859375,328.5236511230469,327.9091186523437,331.3088073730469,331.5008239746094,329.9642333984375,329.13836669921875,327.7073974609375,322.7593078613281,318.0145568847656,320.0577087402344,323.2337646484375,329.1889038085937,328.4239501953125,330.2734069824219,332.7135925292969,333.9530639648437,334.6017761230469,334.68896484375,333.5075988769531,333.914306640625,333.23651123046875,326.7294006347656,329.97320556640625,332.2681884765625,336.0252380371094,339.18194580078125,342.5420227050781,343.0455322265625,342.3773498535156,344.1493835449219,343.1326599121094,350.5209045410156,346.7929077148437,346.6573791503906,348.72955322265625,351.74102783203125,352.60284423828125,349.852783203125,353.60986328125,360.8141479492188,364.6099243164063,365.3748779296875,363.24462890625,359.43914794921875,361.5016174316406,374.9031677246094,378.8442077636719,376.7526245117188,380.6936950683594,376.8010559082031,374.7482299804688,375.0677490234375,377.35302734375,376.9946899414063,379.9093017578125,383.49212646484375,382.0396118164063,373.2182312011719,383.6373596191406,374.7095031738281,370.1099853515625,374.6417236328125,376.4524230957031,374.2156372070313,373.9638977050781,376.5783386230469,383.1725463867188,396.5159301757813,422.94775390625,445.1871032714844,438.7424926757813,436.6170349121094,446.6885986328125,454.4884948730469,437.75775146484375,437.4945068359375,433.24359130859375,428.05670166015625,433.3313598632813,437.4457702636719,410.7994995117188,417.86810302734375,415.5184020996094,428.9926452636719,429.5679016113281,434.111328125,438.4792175292969,442.3109436035156,433.8481140136719,426.21392822265625,434.7938232421875,430.357666015625,434.8230895996094,432.90234375,436.0515441894531,443.2079162597656,453.864501953125,449.9743041992188,452.6360168457031,455.85345458984375,457.4524230957031,455.960693359375,455.7462158203125,448.3948059082031,442.5156555175781,428.5442199707031,434.6378479003906,431.8103637695313,434.9302978515625,433.8481140136719,430.6598815917969,421.309814453125,420.0325622558594,423.8934631347656,434.5890808105469,432.0638427734375,438.186767578125,427.8616638183594,428.14447021484375,429.3923950195313,423.718017578125,424.2835083007813,426.6039123535156,429.9676513671875,423.4644470214844,414.9723815917969,413.5391845703125,422.1970520019531,431.7031555175781,436.3440246582031,436.7828063964844,439.2884826660156,431.783203125,430.9885559082031,432.7642822265625,434.3144226074219,435.0208129882813,447.6669006347656,435.0208129882813,424.5330505371094,422.0509338378906,415.9093627929688,408.2962036132813,406.2653198242188,397.1315002441406,396.3662414550781,411.0333557128906,407.58978271484375,402.8511657714844,411.1118774414063,411.31787109375,412.7502746582031,410.9647216796875,421.8252868652344,425.3179321289063,407.3935852050781,417.832275390625,414.2022705078125,412.3970947265625,411.1413269042969,406.1574401855469,400.2807312011719,392.7362060546875,390.8427429199219,379.9527587890625,382.9941101074219,387.7425231933594,387.7229309082031,387.2716369628906,392.2358703613281,389.3024291992188,390.999755859375,398.3970642089844,405.9808044433594,411.3473205566406,420.6675720214844,421.177734375,420.0299072265625,418.3424072265625,415.8406677246094,420.4419250488281,421.8546752929688,420.73626708984375,426.0242614746094,429.7229919433594,431.832275390625,433.2352294921875,431.0376281738281,431.7047424316406,424.150390625,424.9254760742188,425.5043029785156,430.3410339355469,422.97314453125,421.550537109375,417.0669860839844,414.8943481445313,417.36328125,413.37347412109375,412.5932922363281,414.9240112304688,414.4400634765625,416.2967224121094,413.4425964355469,404.2481689453125,411.4575500488281,408.4552917480469,409.1466369628906,411.3489074707031,415.3584899902344,414.9832153320313,416.8398742675781,407.9417419433594,402.5890502929688,394.7772216796875,395.0339965820313,384.9507751464844,381.4942321777344,394.7772216796875,401.0681457519531,397.5128784179688,394.64886474609375,398.94482421875,404.8999938964844,405.9567260742188,392.4860534667969,400.9200134277344,384.5755004882813,392.3774108886719,426.4787292480469,434.4978942871094,438.8235168457031,448.9660339355469,451.7806396484375,454.437255859375,456.8173522949219,466.0710144042969,478.850341796875,480.6378784179688,479.6009216308594,476.07525634765625,478.8009643554688,475.6900939941406,482.5636901855469,487.9855346679688,479.156494140625,484.6770935058594,458.1011962890625,456.3038024902344,461.4490966796875,460.4516296386719,466.9005737304688,470.9002990722656,474.9691467285156,473.5470275878906,475.0975341796875,477.4578552246094,477.2109375,478.0899353027344,482.15435791015625,480.6637268066406,493.1252746582031,487.6000671386719,480.9717712402344,478.1893310546875,482.3431701660156,480.5544128417969,483.27728271484375,477.2154235839844,482.15435791015625,475.7944030761719,478.775634765625,478.775634765625,483.10833740234375,484.5989379882813,476.3011779785156,480.2662353515625,482.46240234375,480.1966552734375,484.002685546875,483.4461975097656,474.5422668457031,473.5187072753906,474.0851440429688,470.2790832519531,456.1182556152344,459.3976135253906,460.1031799316406,458.8510437011719,447.01556396484375,444.3622741699219,438.5091247558594,436.5614013671875,440.5065612792969,438.5190734863281,446.4193420410156,451.3184814453125,456.9331359863281,456.7244567871094,457.708251953125,460.361572265625,459.3578796386719,454.32952880859375,456.2077026367188,466.1650085449219,465.3998107910156,466.7115478515625,467.1488037109375,477.8215942382813,478.9544982910156,478.5669250488281,477.5036315917969,468.3015441894531,472.6541442871094,476.19189453125,476.5297546386719,476.0825500488281,477.3943176269531,476.489990234375,474.260009765625,474.3299865722656,478.30999755859375,477.8900146484375,480.1700134277344,478.6600036621094,479.5,475.8500061035156,475.5,477.3299865722656,478.8699951171875,473.30999755859375,473.239990234375,465.8699951171875,475.7000122070313,474.760009765625,468.8999938964844,467.8999938964844,474.5400085449219,473.3900146484375,471.4400024414063,474.1900024414063,473.1799926757813,472.7300109863281,486.6199951171875,488.5400085449219,489.989990234375,490.1700134277344,496.75,487.8399963378906,488.1000061035156,492.1400146484375,487.989990234375,489.6400146484375,501.4100036621094,495.1600036621094,490.6000061035156,482.5499877929688,480.9200134277344,475.5799865722656,461.6199951171875,465.0,464.4500122070313,469.4299926757813,458.8900146484375,453.0700073242188,451.9299926757813,455.5400085449219,450.9599914550781,452.0400085449219,453.1499938964844],\"yaxis\":\"y\",\"type\":\"scattergl\"},{\"hovertemplate\":\"variable=RTX<br>Date=%{x|%B %d, %Y}<br>value=%{y}<extra></extra>\",\"legendgroup\":\"RTX\",\"line\":{\"color\":\"#FF6692\",\"dash\":\"solid\"},\"marker\":{\"symbol\":\"circle\"},\"mode\":\"lines\",\"name\":\"RTX\",\"showlegend\":true,\"x\":[\"2021-05-17\",\"2021-05-18\",\"2021-05-19\",\"2021-05-20\",\"2021-05-21\",\"2021-05-24\",\"2021-05-25\",\"2021-05-26\",\"2021-05-27\",\"2021-05-28\",\"2021-06-01\",\"2021-06-02\",\"2021-06-03\",\"2021-06-04\",\"2021-06-07\",\"2021-06-08\",\"2021-06-09\",\"2021-06-10\",\"2021-06-11\",\"2021-06-14\",\"2021-06-15\",\"2021-06-16\",\"2021-06-17\",\"2021-06-18\",\"2021-06-21\",\"2021-06-22\",\"2021-06-23\",\"2021-06-24\",\"2021-06-25\",\"2021-06-28\",\"2021-06-29\",\"2021-06-30\",\"2021-07-01\",\"2021-07-02\",\"2021-07-06\",\"2021-07-07\",\"2021-07-08\",\"2021-07-09\",\"2021-07-12\",\"2021-07-13\",\"2021-07-14\",\"2021-07-15\",\"2021-07-16\",\"2021-07-19\",\"2021-07-20\",\"2021-07-21\",\"2021-07-22\",\"2021-07-23\",\"2021-07-26\",\"2021-07-27\",\"2021-07-28\",\"2021-07-29\",\"2021-07-30\",\"2021-08-02\",\"2021-08-03\",\"2021-08-04\",\"2021-08-05\",\"2021-08-06\",\"2021-08-09\",\"2021-08-10\",\"2021-08-11\",\"2021-08-12\",\"2021-08-13\",\"2021-08-16\",\"2021-08-17\",\"2021-08-18\",\"2021-08-19\",\"2021-08-20\",\"2021-08-23\",\"2021-08-24\",\"2021-08-25\",\"2021-08-26\",\"2021-08-27\",\"2021-08-30\",\"2021-08-31\",\"2021-09-01\",\"2021-09-02\",\"2021-09-03\",\"2021-09-07\",\"2021-09-08\",\"2021-09-09\",\"2021-09-10\",\"2021-09-13\",\"2021-09-14\",\"2021-09-15\",\"2021-09-16\",\"2021-09-17\",\"2021-09-20\",\"2021-09-21\",\"2021-09-22\",\"2021-09-23\",\"2021-09-24\",\"2021-09-27\",\"2021-09-28\",\"2021-09-29\",\"2021-09-30\",\"2021-10-01\",\"2021-10-04\",\"2021-10-05\",\"2021-10-06\",\"2021-10-07\",\"2021-10-08\",\"2021-10-11\",\"2021-10-12\",\"2021-10-13\",\"2021-10-14\",\"2021-10-15\",\"2021-10-18\",\"2021-10-19\",\"2021-10-20\",\"2021-10-21\",\"2021-10-22\",\"2021-10-25\",\"2021-10-26\",\"2021-10-27\",\"2021-10-28\",\"2021-10-29\",\"2021-11-01\",\"2021-11-02\",\"2021-11-03\",\"2021-11-04\",\"2021-11-05\",\"2021-11-08\",\"2021-11-09\",\"2021-11-10\",\"2021-11-11\",\"2021-11-12\",\"2021-11-15\",\"2021-11-16\",\"2021-11-17\",\"2021-11-18\",\"2021-11-19\",\"2021-11-22\",\"2021-11-23\",\"2021-11-24\",\"2021-11-26\",\"2021-11-29\",\"2021-11-30\",\"2021-12-01\",\"2021-12-02\",\"2021-12-03\",\"2021-12-06\",\"2021-12-07\",\"2021-12-08\",\"2021-12-09\",\"2021-12-10\",\"2021-12-13\",\"2021-12-14\",\"2021-12-15\",\"2021-12-16\",\"2021-12-17\",\"2021-12-20\",\"2021-12-21\",\"2021-12-22\",\"2021-12-23\",\"2021-12-27\",\"2021-12-28\",\"2021-12-29\",\"2021-12-30\",\"2021-12-31\",\"2022-01-03\",\"2022-01-04\",\"2022-01-05\",\"2022-01-06\",\"2022-01-07\",\"2022-01-10\",\"2022-01-11\",\"2022-01-12\",\"2022-01-13\",\"2022-01-14\",\"2022-01-18\",\"2022-01-19\",\"2022-01-20\",\"2022-01-21\",\"2022-01-24\",\"2022-01-25\",\"2022-01-26\",\"2022-01-27\",\"2022-01-28\",\"2022-01-31\",\"2022-02-01\",\"2022-02-02\",\"2022-02-03\",\"2022-02-04\",\"2022-02-07\",\"2022-02-08\",\"2022-02-09\",\"2022-02-10\",\"2022-02-11\",\"2022-02-14\",\"2022-02-15\",\"2022-02-16\",\"2022-02-17\",\"2022-02-18\",\"2022-02-22\",\"2022-02-23\",\"2022-02-24\",\"2022-02-25\",\"2022-02-28\",\"2022-03-01\",\"2022-03-02\",\"2022-03-03\",\"2022-03-04\",\"2022-03-07\",\"2022-03-08\",\"2022-03-09\",\"2022-03-10\",\"2022-03-11\",\"2022-03-14\",\"2022-03-15\",\"2022-03-16\",\"2022-03-17\",\"2022-03-18\",\"2022-03-21\",\"2022-03-22\",\"2022-03-23\",\"2022-03-24\",\"2022-03-25\",\"2022-03-28\",\"2022-03-29\",\"2022-03-30\",\"2022-03-31\",\"2022-04-01\",\"2022-04-04\",\"2022-04-05\",\"2022-04-06\",\"2022-04-07\",\"2022-04-08\",\"2022-04-11\",\"2022-04-12\",\"2022-04-13\",\"2022-04-14\",\"2022-04-18\",\"2022-04-19\",\"2022-04-20\",\"2022-04-21\",\"2022-04-22\",\"2022-04-25\",\"2022-04-26\",\"2022-04-27\",\"2022-04-28\",\"2022-04-29\",\"2022-05-02\",\"2022-05-03\",\"2022-05-04\",\"2022-05-05\",\"2022-05-06\",\"2022-05-09\",\"2022-05-10\",\"2022-05-11\",\"2022-05-12\",\"2022-05-13\",\"2022-05-16\",\"2022-05-17\",\"2022-05-18\",\"2022-05-19\",\"2022-05-20\",\"2022-05-23\",\"2022-05-24\",\"2022-05-25\",\"2022-05-26\",\"2022-05-27\",\"2022-05-31\",\"2022-06-01\",\"2022-06-02\",\"2022-06-03\",\"2022-06-06\",\"2022-06-07\",\"2022-06-08\",\"2022-06-09\",\"2022-06-10\",\"2022-06-13\",\"2022-06-14\",\"2022-06-15\",\"2022-06-16\",\"2022-06-17\",\"2022-06-21\",\"2022-06-22\",\"2022-06-23\",\"2022-06-24\",\"2022-06-27\",\"2022-06-28\",\"2022-06-29\",\"2022-06-30\",\"2022-07-01\",\"2022-07-05\",\"2022-07-06\",\"2022-07-07\",\"2022-07-08\",\"2022-07-11\",\"2022-07-12\",\"2022-07-13\",\"2022-07-14\",\"2022-07-15\",\"2022-07-18\",\"2022-07-19\",\"2022-07-20\",\"2022-07-21\",\"2022-07-22\",\"2022-07-25\",\"2022-07-26\",\"2022-07-27\",\"2022-07-28\",\"2022-07-29\",\"2022-08-01\",\"2022-08-02\",\"2022-08-03\",\"2022-08-04\",\"2022-08-05\",\"2022-08-08\",\"2022-08-09\",\"2022-08-10\",\"2022-08-11\",\"2022-08-12\",\"2022-08-15\",\"2022-08-16\",\"2022-08-17\",\"2022-08-18\",\"2022-08-19\",\"2022-08-22\",\"2022-08-23\",\"2022-08-24\",\"2022-08-25\",\"2022-08-26\",\"2022-08-29\",\"2022-08-30\",\"2022-08-31\",\"2022-09-01\",\"2022-09-02\",\"2022-09-06\",\"2022-09-07\",\"2022-09-08\",\"2022-09-09\",\"2022-09-12\",\"2022-09-13\",\"2022-09-14\",\"2022-09-15\",\"2022-09-16\",\"2022-09-19\",\"2022-09-20\",\"2022-09-21\",\"2022-09-22\",\"2022-09-23\",\"2022-09-26\",\"2022-09-27\",\"2022-09-28\",\"2022-09-29\",\"2022-09-30\",\"2022-10-03\",\"2022-10-04\",\"2022-10-05\",\"2022-10-06\",\"2022-10-07\",\"2022-10-10\",\"2022-10-11\",\"2022-10-12\",\"2022-10-13\",\"2022-10-14\",\"2022-10-17\",\"2022-10-18\",\"2022-10-19\",\"2022-10-20\",\"2022-10-21\",\"2022-10-24\",\"2022-10-25\",\"2022-10-26\",\"2022-10-27\",\"2022-10-28\",\"2022-10-31\",\"2022-11-01\",\"2022-11-02\",\"2022-11-03\",\"2022-11-04\",\"2022-11-07\",\"2022-11-08\",\"2022-11-09\",\"2022-11-10\",\"2022-11-11\",\"2022-11-14\",\"2022-11-15\",\"2022-11-16\",\"2022-11-17\",\"2022-11-18\",\"2022-11-21\",\"2022-11-22\",\"2022-11-23\",\"2022-11-25\",\"2022-11-28\",\"2022-11-29\",\"2022-11-30\",\"2022-12-01\",\"2022-12-02\",\"2022-12-05\",\"2022-12-06\",\"2022-12-07\",\"2022-12-08\",\"2022-12-09\",\"2022-12-12\",\"2022-12-13\",\"2022-12-14\",\"2022-12-15\",\"2022-12-16\",\"2022-12-19\",\"2022-12-20\",\"2022-12-21\",\"2022-12-22\",\"2022-12-23\",\"2022-12-27\",\"2022-12-28\",\"2022-12-29\",\"2022-12-30\",\"2023-01-03\",\"2023-01-04\",\"2023-01-05\",\"2023-01-06\",\"2023-01-09\",\"2023-01-10\",\"2023-01-11\",\"2023-01-12\",\"2023-01-13\",\"2023-01-17\",\"2023-01-18\",\"2023-01-19\",\"2023-01-20\",\"2023-01-23\",\"2023-01-24\",\"2023-01-25\",\"2023-01-26\",\"2023-01-27\",\"2023-01-30\",\"2023-01-31\",\"2023-02-01\",\"2023-02-02\",\"2023-02-03\",\"2023-02-06\",\"2023-02-07\",\"2023-02-08\",\"2023-02-09\",\"2023-02-10\",\"2023-02-13\",\"2023-02-14\",\"2023-02-15\",\"2023-02-16\",\"2023-02-17\",\"2023-02-21\",\"2023-02-22\",\"2023-02-23\",\"2023-02-24\",\"2023-02-27\",\"2023-02-28\",\"2023-03-01\",\"2023-03-02\",\"2023-03-03\",\"2023-03-06\",\"2023-03-07\",\"2023-03-08\",\"2023-03-09\",\"2023-03-10\",\"2023-03-13\",\"2023-03-14\",\"2023-03-15\",\"2023-03-16\",\"2023-03-17\",\"2023-03-20\",\"2023-03-21\",\"2023-03-22\",\"2023-03-23\",\"2023-03-24\",\"2023-03-27\",\"2023-03-28\",\"2023-03-29\",\"2023-03-30\",\"2023-03-31\",\"2023-04-03\",\"2023-04-04\",\"2023-04-05\",\"2023-04-06\",\"2023-04-10\",\"2023-04-11\",\"2023-04-12\",\"2023-04-13\",\"2023-04-14\",\"2023-04-17\",\"2023-04-18\",\"2023-04-19\",\"2023-04-20\",\"2023-04-21\",\"2023-04-24\",\"2023-04-25\",\"2023-04-26\",\"2023-04-27\",\"2023-04-28\",\"2023-05-01\",\"2023-05-02\",\"2023-05-03\",\"2023-05-04\",\"2023-05-05\",\"2023-05-08\",\"2023-05-09\",\"2023-05-10\"],\"xaxis\":\"x\",\"y\":[82.63849639892578,81.5025405883789,81.34026336669922,81.84925079345703,82.4062271118164,83.04965209960938,82.83839416503906,83.06885528564453,85.09516143798828,85.19120025634766,85.4600830078125,85.11437225341797,85.16239166259766,85.48889923095703,85.44087982177734,85.90184020996094,85.32565307617188,84.74944305419922,85.28722381591797,85.2008056640625,85.85384368896484,84.92230224609375,83.67386627197266,82.5118637084961,84.50935363769531,83.91394805908203,83.1648941040039,83.40498352050781,83.28014373779297,81.73399353027344,81.09056854248047,81.92606353759766,82.79996490478516,83.26091766357422,82.34861755371094,82.4254379272461,82.0509033203125,82.95361328125,82.79996490478516,81.94527435302734,81.54193878173828,81.60916137695312,80.2166748046875,77.83504486083984,81.4363021850586,83.14568328857422,82.41583251953125,82.4062271118164,82.54067993164062,84.72064208984375,83.74110412597656,84.17325592041016,83.50100708007812,83.17449951171875,84.48055267333984,82.41583251953125,83.43378448486328,84.10601806640625,83.6258544921875,84.17325592041016,85.10477447509766,84.49015808105469,83.78911590576172,83.6834716796875,83.17449951171875,82.08932495117188,80.52423858642578,81.20052337646484,82.07966613769531,82.53372955322266,82.82355499267578,81.88644409179688,82.5047378540039,81.92508697509766,81.88644409179688,81.24881744384766,81.67390441894531,80.81407165527344,80.18610382080078,80.0605239868164,80.82373046875,80.18610382080078,80.80441284179688,79.9349136352539,81.99271392822266,81.17152404785156,80.5628890991211,80.62085723876953,80.2923812866211,82.37914276123047,83.80897521972656,84.205078125,84.37897491455078,83.89591979980469,84.04083251953125,83.04576873779297,84.51422882080078,84.71711730957031,85.71218872070312,86.24353790283203,87.09371185302734,87.54776763916016,86.84251403808594,86.67828369140625,86.63964080810547,86.14691925048828,87.83760070800781,87.72167205810547,88.13709259033203,88.57183074951172,88.50421142578125,88.74573516845703,88.20471954345703,86.13726806640625,86.13726806640625,86.16625213623047,85.84744262695312,85.54795837402344,84.82337951660156,85.66388702392578,85.0745620727539,88.08879852294922,87.63471984863281,87.90522766113281,87.12268829345703,86.03099822998047,85.84744262695312,86.32083129882812,85.88609313964844,84.4852523803711,84.45609283447266,83.01788330078125,84.34919738769531,84.84480285644531,84.72818756103516,80.65648651123047,80.59818267822266,78.63522338867188,76.81802368164062,79.35433197021484,78.81985473632812,81.39503479003906,82.60973358154297,84.05766296386719,83.7272720336914,83.7272720336914,81.94893646240234,81.14237213134766,81.07435607910156,80.36495208740234,79.95681762695312,78.74211120605469,81.31729125976562,81.6962661743164,82.50285339355469,82.83323669433594,83.59122467041016,83.46489715576172,83.37743377685547,83.63008880615234,84.51439666748047,87.47826385498047,87.04097747802734,87.51714324951172,87.88642120361328,87.19647216796875,88.15850830078125,88.49862670898438,88.97479248046875,89.72305297851562,88.18766784667969,87.16731262207031,85.86515808105469,84.74762725830078,85.63192749023438,87.76008605957031,86.4676513671875,86.7591781616211,87.77953338623047,87.64347839355469,88.16824340820312,89.92713165283203,90.1894989013672,90.38385009765624,91.37505340576172,92.38568878173828,93.2894287109375,92.37596893310548,92.58004760742188,90.92804718017578,91.38477325439452,92.07472229003906,91.69573974609376,90.73369598388672,90.89888763427734,89.63560485839844,92.09806060791016,95.87969207763672,100.3551254272461,100.38445281982422,98.43987274169922,97.5506591796875,97.31613159179688,95.94810485839844,92.68436431884766,96.27056884765624,96.26080322265624,94.70709228515624,94.82435607910156,95.39111328125,93.6126708984375,95.51815032958984,95.29339599609376,97.65814971923828,99.06526184082033,98.918701171875,99.38772583007812,100.09129333496094,99.27046966552734,98.7721176147461,98.52783203125,96.8080062866211,97.88289642333984,97.0327606201172,96.55394744873048,96.21192932128906,98.67440032958984,98.1076431274414,99.7786102294922,100.25740051269533,101.00984191894533,101.88927459716795,101.91859436035156,102.1628875732422,102.57329559326172,99.40727996826172,98.1955795288086,97.33567810058594,96.9252700805664,96.583251953125,95.84061431884766,92.74300384521484,92.0687484741211,93.22179412841795,95.52791595458984,94.12079620361328,93.12409210205078,89.65513610839844,89.59651947021484,88.9222640991211,89.39131164550781,89.82125854492188,90.36846923828124,92.78207397460938,90.4955062866211,88.71626281738281,88.54915618896484,90.2694091796875,91.62596130371094,91.97000885009766,93.38553619384766,95.06648254394533,93.50350189208984,93.19876861572266,94.6044692993164,94.69293975830078,95.55797576904295,98.8019027709961,97.5436553955078,95.72509765625,93.86721801757812,90.38736724853516,89.76808166503906,90.71176147460938,87.99866485595703,87.36954498291016,91.34088897705078,90.98699951171876,90.20060729980467,92.59912872314452,93.19876861572266,92.18627166748048,91.71443176269533,94.47667694091795,95.37120819091795,91.34088897705078,92.32389068603516,92.34355926513672,93.50350189208984,93.10047149658205,92.89404296875,90.24974822998048,88.54915618896484,89.67961883544922,88.27391815185547,92.22560119628906,93.21843719482422,93.27740478515624,92.60896301269533,92.96285247802734,88.70643615722656,88.73591613769531,90.81989288330078,91.62596130371094,91.65544891357422,92.1567840576172,92.92352294921876,91.20326232910156,91.4490203857422,89.6501235961914,90.3775405883789,91.83238983154295,91.56698608398438,93.39537048339844,94.496337890625,93.43470001220705,93.3757095336914,93.64266967773438,92.3474349975586,90.74568176269533,91.38835906982422,92.25843811035156,95.04666137695312,92.46607208251952,91.08186340332033,89.80638885498047,88.73855590820312,87.03794860839844,86.6029052734375,86.17774963378906,86.4644775390625,85.58451080322266,87.04783630371094,86.81053924560547,82.77651977539062,85.42631530761719,84.64521789550781,84.23983764648438,83.9926528930664,84.1904067993164,83.3697509765625,82.50955963134766,81.10556030273438,80.17615509033203,80.08717346191406,82.36125946044922,81.41206359863281,80.9374771118164,82.17339324951172,84.56612396240234,84.24972534179688,83.33020782470703,83.06324768066406,83.21155548095703,83.63671112060547,82.05474090576172,83.91355895996094,81.65924835205078,83.51806640625,86.37549591064453,86.64244842529297,86.25684356689453,87.54219818115234,88.71879577636719,87.36422729492188,89.4998779296875,90.76546478271484,94.0084991455078,93.75142669677734,94.47320556640624,93.08898162841795,93.73165893554688,94.14691925048828,95.08621215820312,95.1850814819336,94.05792999267578,96.73738861083984,92.59461975097656,91.90249633789062,94.7104949951172,93.2867202758789,94.01272583007812,94.83818817138672,95.673583984375,96.32003021240234,96.59849548339844,96.93663787841795,96.36975860595705,96.89685821533205,98.17980194091795,98.95552825927734,100.45726776123048,100.12907409667967,98.1897430419922,98.498046875,98.9455795288086,97.73225402832033,99.01519775390624,99.34339141845705,99.40306091308594,97.95105743408205,97.80187225341795,97.00625610351562,97.64275360107422,99.214111328125,97.970947265625,98.75662994384766,99.11465454101562,98.59749603271484,99.78099060058594,100.36775970458984,100.25836181640624,100.28819274902344,100.32797241210938,101.89933013916016,99.0549774169922,99.37322998046876,99.04503631591795,100.12907409667967,98.1400146484375,97.89138793945312,95.21610260009766,93.72431182861328,93.84365844726562,95.72331237792967,98.92569732666016,99.46273803710938,99.70142364501952,99.0549774169922,98.16985321044922,99.3036117553711,97.88143920898438,96.42942810058594,95.95205688476562,97.10570526123048,97.3344497680664,97.11565399169922,97.31455993652344,100.05945587158205,100.00972747802734,100.81529998779295,100.90480041503906,100.41748809814452,100.95453643798828,100.09923553466795,99.9600067138672,99.63999938964844,99.62000274658205,99.16000366210938,98.08999633789062,98.04000091552734,99.0,99.0199966430664,99.51000213623048,98.18000030517578,97.4000015258789,95.93000030517578,96.0,97.45999908447266,98.31999969482422,95.83000183105467,98.08000183105467,95.75,97.52999877929688,98.01000213623048,96.6999969482422,96.0,96.44000244140624,96.91000366210938,96.8000030517578,97.6999969482422,97.37000274658205,97.93000030517578,100.58000183105467,99.51000213623048,98.76000213623048,98.20999908447266,99.62000274658205,99.72000122070312,101.5199966430664,101.68000030517578,101.68000030517578,103.11000061035156,104.66000366210938,104.08999633789062,102.83999633789062,102.25,102.45999908447266,101.08999633789062,97.68000030517578,99.38999938964844,99.9000015258789,100.33000183105467,98.87000274658205,97.16000366210938,95.91999816894533,96.58000183105467,95.54000091552734,96.2699966430664,96.3000030517578],\"yaxis\":\"y\",\"type\":\"scattergl\"},{\"hovertemplate\":\"variable=TGT<br>Date=%{x|%B %d, %Y}<br>value=%{y}<extra></extra>\",\"legendgroup\":\"TGT\",\"line\":{\"color\":\"#B6E880\",\"dash\":\"solid\"},\"marker\":{\"symbol\":\"circle\"},\"mode\":\"lines\",\"name\":\"TGT\",\"showlegend\":true,\"x\":[\"2021-05-17\",\"2021-05-18\",\"2021-05-19\",\"2021-05-20\",\"2021-05-21\",\"2021-05-24\",\"2021-05-25\",\"2021-05-26\",\"2021-05-27\",\"2021-05-28\",\"2021-06-01\",\"2021-06-02\",\"2021-06-03\",\"2021-06-04\",\"2021-06-07\",\"2021-06-08\",\"2021-06-09\",\"2021-06-10\",\"2021-06-11\",\"2021-06-14\",\"2021-06-15\",\"2021-06-16\",\"2021-06-17\",\"2021-06-18\",\"2021-06-21\",\"2021-06-22\",\"2021-06-23\",\"2021-06-24\",\"2021-06-25\",\"2021-06-28\",\"2021-06-29\",\"2021-06-30\",\"2021-07-01\",\"2021-07-02\",\"2021-07-06\",\"2021-07-07\",\"2021-07-08\",\"2021-07-09\",\"2021-07-12\",\"2021-07-13\",\"2021-07-14\",\"2021-07-15\",\"2021-07-16\",\"2021-07-19\",\"2021-07-20\",\"2021-07-21\",\"2021-07-22\",\"2021-07-23\",\"2021-07-26\",\"2021-07-27\",\"2021-07-28\",\"2021-07-29\",\"2021-07-30\",\"2021-08-02\",\"2021-08-03\",\"2021-08-04\",\"2021-08-05\",\"2021-08-06\",\"2021-08-09\",\"2021-08-10\",\"2021-08-11\",\"2021-08-12\",\"2021-08-13\",\"2021-08-16\",\"2021-08-17\",\"2021-08-18\",\"2021-08-19\",\"2021-08-20\",\"2021-08-23\",\"2021-08-24\",\"2021-08-25\",\"2021-08-26\",\"2021-08-27\",\"2021-08-30\",\"2021-08-31\",\"2021-09-01\",\"2021-09-02\",\"2021-09-03\",\"2021-09-07\",\"2021-09-08\",\"2021-09-09\",\"2021-09-10\",\"2021-09-13\",\"2021-09-14\",\"2021-09-15\",\"2021-09-16\",\"2021-09-17\",\"2021-09-20\",\"2021-09-21\",\"2021-09-22\",\"2021-09-23\",\"2021-09-24\",\"2021-09-27\",\"2021-09-28\",\"2021-09-29\",\"2021-09-30\",\"2021-10-01\",\"2021-10-04\",\"2021-10-05\",\"2021-10-06\",\"2021-10-07\",\"2021-10-08\",\"2021-10-11\",\"2021-10-12\",\"2021-10-13\",\"2021-10-14\",\"2021-10-15\",\"2021-10-18\",\"2021-10-19\",\"2021-10-20\",\"2021-10-21\",\"2021-10-22\",\"2021-10-25\",\"2021-10-26\",\"2021-10-27\",\"2021-10-28\",\"2021-10-29\",\"2021-11-01\",\"2021-11-02\",\"2021-11-03\",\"2021-11-04\",\"2021-11-05\",\"2021-11-08\",\"2021-11-09\",\"2021-11-10\",\"2021-11-11\",\"2021-11-12\",\"2021-11-15\",\"2021-11-16\",\"2021-11-17\",\"2021-11-18\",\"2021-11-19\",\"2021-11-22\",\"2021-11-23\",\"2021-11-24\",\"2021-11-26\",\"2021-11-29\",\"2021-11-30\",\"2021-12-01\",\"2021-12-02\",\"2021-12-03\",\"2021-12-06\",\"2021-12-07\",\"2021-12-08\",\"2021-12-09\",\"2021-12-10\",\"2021-12-13\",\"2021-12-14\",\"2021-12-15\",\"2021-12-16\",\"2021-12-17\",\"2021-12-20\",\"2021-12-21\",\"2021-12-22\",\"2021-12-23\",\"2021-12-27\",\"2021-12-28\",\"2021-12-29\",\"2021-12-30\",\"2021-12-31\",\"2022-01-03\",\"2022-01-04\",\"2022-01-05\",\"2022-01-06\",\"2022-01-07\",\"2022-01-10\",\"2022-01-11\",\"2022-01-12\",\"2022-01-13\",\"2022-01-14\",\"2022-01-18\",\"2022-01-19\",\"2022-01-20\",\"2022-01-21\",\"2022-01-24\",\"2022-01-25\",\"2022-01-26\",\"2022-01-27\",\"2022-01-28\",\"2022-01-31\",\"2022-02-01\",\"2022-02-02\",\"2022-02-03\",\"2022-02-04\",\"2022-02-07\",\"2022-02-08\",\"2022-02-09\",\"2022-02-10\",\"2022-02-11\",\"2022-02-14\",\"2022-02-15\",\"2022-02-16\",\"2022-02-17\",\"2022-02-18\",\"2022-02-22\",\"2022-02-23\",\"2022-02-24\",\"2022-02-25\",\"2022-02-28\",\"2022-03-01\",\"2022-03-02\",\"2022-03-03\",\"2022-03-04\",\"2022-03-07\",\"2022-03-08\",\"2022-03-09\",\"2022-03-10\",\"2022-03-11\",\"2022-03-14\",\"2022-03-15\",\"2022-03-16\",\"2022-03-17\",\"2022-03-18\",\"2022-03-21\",\"2022-03-22\",\"2022-03-23\",\"2022-03-24\",\"2022-03-25\",\"2022-03-28\",\"2022-03-29\",\"2022-03-30\",\"2022-03-31\",\"2022-04-01\",\"2022-04-04\",\"2022-04-05\",\"2022-04-06\",\"2022-04-07\",\"2022-04-08\",\"2022-04-11\",\"2022-04-12\",\"2022-04-13\",\"2022-04-14\",\"2022-04-18\",\"2022-04-19\",\"2022-04-20\",\"2022-04-21\",\"2022-04-22\",\"2022-04-25\",\"2022-04-26\",\"2022-04-27\",\"2022-04-28\",\"2022-04-29\",\"2022-05-02\",\"2022-05-03\",\"2022-05-04\",\"2022-05-05\",\"2022-05-06\",\"2022-05-09\",\"2022-05-10\",\"2022-05-11\",\"2022-05-12\",\"2022-05-13\",\"2022-05-16\",\"2022-05-17\",\"2022-05-18\",\"2022-05-19\",\"2022-05-20\",\"2022-05-23\",\"2022-05-24\",\"2022-05-25\",\"2022-05-26\",\"2022-05-27\",\"2022-05-31\",\"2022-06-01\",\"2022-06-02\",\"2022-06-03\",\"2022-06-06\",\"2022-06-07\",\"2022-06-08\",\"2022-06-09\",\"2022-06-10\",\"2022-06-13\",\"2022-06-14\",\"2022-06-15\",\"2022-06-16\",\"2022-06-17\",\"2022-06-21\",\"2022-06-22\",\"2022-06-23\",\"2022-06-24\",\"2022-06-27\",\"2022-06-28\",\"2022-06-29\",\"2022-06-30\",\"2022-07-01\",\"2022-07-05\",\"2022-07-06\",\"2022-07-07\",\"2022-07-08\",\"2022-07-11\",\"2022-07-12\",\"2022-07-13\",\"2022-07-14\",\"2022-07-15\",\"2022-07-18\",\"2022-07-19\",\"2022-07-20\",\"2022-07-21\",\"2022-07-22\",\"2022-07-25\",\"2022-07-26\",\"2022-07-27\",\"2022-07-28\",\"2022-07-29\",\"2022-08-01\",\"2022-08-02\",\"2022-08-03\",\"2022-08-04\",\"2022-08-05\",\"2022-08-08\",\"2022-08-09\",\"2022-08-10\",\"2022-08-11\",\"2022-08-12\",\"2022-08-15\",\"2022-08-16\",\"2022-08-17\",\"2022-08-18\",\"2022-08-19\",\"2022-08-22\",\"2022-08-23\",\"2022-08-24\",\"2022-08-25\",\"2022-08-26\",\"2022-08-29\",\"2022-08-30\",\"2022-08-31\",\"2022-09-01\",\"2022-09-02\",\"2022-09-06\",\"2022-09-07\",\"2022-09-08\",\"2022-09-09\",\"2022-09-12\",\"2022-09-13\",\"2022-09-14\",\"2022-09-15\",\"2022-09-16\",\"2022-09-19\",\"2022-09-20\",\"2022-09-21\",\"2022-09-22\",\"2022-09-23\",\"2022-09-26\",\"2022-09-27\",\"2022-09-28\",\"2022-09-29\",\"2022-09-30\",\"2022-10-03\",\"2022-10-04\",\"2022-10-05\",\"2022-10-06\",\"2022-10-07\",\"2022-10-10\",\"2022-10-11\",\"2022-10-12\",\"2022-10-13\",\"2022-10-14\",\"2022-10-17\",\"2022-10-18\",\"2022-10-19\",\"2022-10-20\",\"2022-10-21\",\"2022-10-24\",\"2022-10-25\",\"2022-10-26\",\"2022-10-27\",\"2022-10-28\",\"2022-10-31\",\"2022-11-01\",\"2022-11-02\",\"2022-11-03\",\"2022-11-04\",\"2022-11-07\",\"2022-11-08\",\"2022-11-09\",\"2022-11-10\",\"2022-11-11\",\"2022-11-14\",\"2022-11-15\",\"2022-11-16\",\"2022-11-17\",\"2022-11-18\",\"2022-11-21\",\"2022-11-22\",\"2022-11-23\",\"2022-11-25\",\"2022-11-28\",\"2022-11-29\",\"2022-11-30\",\"2022-12-01\",\"2022-12-02\",\"2022-12-05\",\"2022-12-06\",\"2022-12-07\",\"2022-12-08\",\"2022-12-09\",\"2022-12-12\",\"2022-12-13\",\"2022-12-14\",\"2022-12-15\",\"2022-12-16\",\"2022-12-19\",\"2022-12-20\",\"2022-12-21\",\"2022-12-22\",\"2022-12-23\",\"2022-12-27\",\"2022-12-28\",\"2022-12-29\",\"2022-12-30\",\"2023-01-03\",\"2023-01-04\",\"2023-01-05\",\"2023-01-06\",\"2023-01-09\",\"2023-01-10\",\"2023-01-11\",\"2023-01-12\",\"2023-01-13\",\"2023-01-17\",\"2023-01-18\",\"2023-01-19\",\"2023-01-20\",\"2023-01-23\",\"2023-01-24\",\"2023-01-25\",\"2023-01-26\",\"2023-01-27\",\"2023-01-30\",\"2023-01-31\",\"2023-02-01\",\"2023-02-02\",\"2023-02-03\",\"2023-02-06\",\"2023-02-07\",\"2023-02-08\",\"2023-02-09\",\"2023-02-10\",\"2023-02-13\",\"2023-02-14\",\"2023-02-15\",\"2023-02-16\",\"2023-02-17\",\"2023-02-21\",\"2023-02-22\",\"2023-02-23\",\"2023-02-24\",\"2023-02-27\",\"2023-02-28\",\"2023-03-01\",\"2023-03-02\",\"2023-03-03\",\"2023-03-06\",\"2023-03-07\",\"2023-03-08\",\"2023-03-09\",\"2023-03-10\",\"2023-03-13\",\"2023-03-14\",\"2023-03-15\",\"2023-03-16\",\"2023-03-17\",\"2023-03-20\",\"2023-03-21\",\"2023-03-22\",\"2023-03-23\",\"2023-03-24\",\"2023-03-27\",\"2023-03-28\",\"2023-03-29\",\"2023-03-30\",\"2023-03-31\",\"2023-04-03\",\"2023-04-04\",\"2023-04-05\",\"2023-04-06\",\"2023-04-10\",\"2023-04-11\",\"2023-04-12\",\"2023-04-13\",\"2023-04-14\",\"2023-04-17\",\"2023-04-18\",\"2023-04-19\",\"2023-04-20\",\"2023-04-21\",\"2023-04-24\",\"2023-04-25\",\"2023-04-26\",\"2023-04-27\",\"2023-04-28\",\"2023-05-01\",\"2023-05-02\",\"2023-05-03\",\"2023-05-04\",\"2023-05-05\",\"2023-05-08\",\"2023-05-09\",\"2023-05-10\"],\"xaxis\":\"x\",\"y\":[202.33676147460935,199.52410888671875,211.6832427978516,214.3702545166016,217.5598602294922,217.86917114257807,217.7628173828125,219.5122985839844,219.7635955810547,219.32864379882807,219.66696166992188,220.73980712890625,221.51303100585935,223.60079956054688,223.1658172607422,227.2350006103516,224.18069458007807,223.9100646972656,225.14727783203125,225.27291870117188,224.7896270751953,223.52345275878903,223.4847717285156,222.81787109375,225.9494781494141,229.2743988037109,229.3710479736328,231.81640625,232.502685546875,233.18890380859372,233.75917053222656,233.65286254882807,235.3249664306641,238.3309326171875,237.23873901367188,239.2685089111328,240.2640380859375,240.2640380859375,243.8015899658203,243.32797241210935,245.14508056640625,244.46849060058597,242.748046875,242.71905517578125,246.18896484375,247.48411560058597,248.41200256347656,252.2975311279297,252.1332244873047,249.71682739257807,248.80831909179688,252.90647888183597,252.31686401367188,248.6343231201172,253.42837524414065,251.81427001953125,252.6551513671875,251.38897705078125,253.63136291503903,255.2357940673828,254.21128845214844,253.1190948486328,252.79046630859372,254.3466033935547,246.9756317138672,240.11871337890625,238.0141143798828,245.7633056640625,244.9195251464844,243.0961761474609,243.58111572265625,241.4571228027344,241.6705017089844,241.84507751464844,239.5367889404297,238.94517517089844,238.4020538330078,236.947265625,235.4051818847656,238.6930084228516,238.043212890625,237.1703186035156,235.77374267578125,234.93963623046875,236.78237915039065,239.5076904296875,239.2361297607422,234.84266662597656,234.0376739501953,234.4838104248047,235.35667419433597,234.16375732421875,231.3899688720703,226.4048614501953,228.7422332763672,221.8755798339844,221.5361175537109,219.08238220214844,220.70204162597656,219.9940643310547,222.8939514160156,222.0016632080078,221.82708740234372,223.3013153076172,229.6150665283203,234.79417419433597,238.30506896972656,246.00575256347656,244.58978271484372,244.2406311035156,246.54888916015625,248.21707153320312,252.5038604736328,250.93267822265625,248.80870056152344,250.4380340576172,251.79586791992188,250.1471099853516,252.41661071777344,252.5620574951172,252.59117126464844,246.60711669921875,245.6954345703125,247.4702606201172,246.39373779296875,248.29466247558597,252.1837921142578,256.3639221191406,259.2445678710937,246.9922332763672,245.2891845703125,243.9753875732422,238.00982666015625,242.49615478515625,242.08743286132807,239.95616149902344,242.4766845703125,237.2993927001953,233.9419403076172,238.9148712158203,240.92935180664065,236.4527282714844,239.0413818359375,233.17312622070312,231.18783569335935,231.7912139892578,227.8887939453125,228.968994140625,230.30226135253903,218.75064086914065,217.320068359375,213.3105926513672,214.16700744628903,211.8994903564453,215.08175659179688,218.08888244628903,218.8771514892578,221.8064117431641,225.6894073486328,225.2320098876953,225.7283172607422,227.8887939453125,222.72119140625,225.1444396972656,224.58970642089844,221.31982421875,221.44635009765625,218.448974609375,219.77249145507807,215.46131896972656,214.10858154296875,217.8358459472656,215.7727203369141,211.42263793945312,214.66331481933597,208.9215545654297,206.03125,206.48863220214844,211.83135986328125,214.51730346679688,213.3495330810547,211.77297973632807,207.5007476806641,208.29872131347656,205.6224822998047,207.2379608154297,210.8289794921875,208.1040954589844,205.88525390625,202.9754638671875,202.4965362548828,203.11227416992188,199.388427734375,199.76959228515625,191.91134643554688,185.60716247558597,187.2198638916016,194.7164764404297,195.25405883789065,214.46958923339844,219.81593322753903,218.7799072265625,219.0340576171875,206.26925659179688,204.0896759033203,211.11715698242188,209.9247283935547,202.2912750244141,204.04080200195312,210.48182678222656,210.7164001464844,215.64247131347656,220.93995666503903,217.9589080810547,217.73410034179688,211.8208770751953,212.1336212158203,213.66815185546875,214.5575714111328,217.89047241210935,216.9424285888672,207.42259216308597,205.78057861328125,209.56309509277344,209.9344940185547,211.05848693847656,223.03158569335935,228.06517028808597,224.12625122070312,226.11036682128903,228.5343170166016,231.837890625,233.9783935546875,240.48785400390625,243.68392944335935,242.5599365234375,236.21661376953125,236.1970672607422,231.1537322998047,225.74874877929688,231.04620361328125,223.48118591308597,224.5856475830078,227.28323364257807,232.06268310546875,225.54347229003903,220.1189727783203,219.13177490234372,214.15684509277344,208.6638946533203,212.3584442138672,214.76284790039065,214.29367065429688,211.2807159423828,158.6077423095703,150.5797119140625,152.47384643554688,151.0409698486328,147.16436767578125,153.51416015625,160.168212890625,164.03500366210938,158.87274169921875,153.61231994628906,157.92076110839844,158.04832458496094,156.7037811279297,153.08233642578125,153.78895568847656,151.6789093017578,146.88955688476562,142.11984252929688,140.0490264892578,144.70098876953125,140.2355194091797,136.7122039794922,142.01190185546875,138.19415283203125,144.0826873779297,147.62562561035156,146.8306884765625,141.83523559570312,139.26388549804688,138.60635375976562,139.73500061035156,143.0031280517578,142.11984252929688,147.1741943359375,145.2407684326172,143.67050170898438,141.87448120117188,142.73814392089844,143.5723419189453,143.94528198242188,146.5853271484375,150.51100158691406,153.59268188476562,155.71255493164062,154.80966186523438,154.56430053710938,148.9897918701172,151.7279815673828,156.4584197998047,160.34486389160156,162.47454833984375,160.4429931640625,164.80052185058594,163.46578979492188,163.0437774658203,163.8681640625,162.0525360107422,166.5180206298828,166.44931030273438,169.2758026123047,170.16891479492188,177.9510040283203,173.1612548828125,170.89971923828125,164.96438598632812,159.94752502441406,159.9573974609375,161.1029815673828,165.41868591308594,158.62416076660156,156.71815490722656,158.7821807861328,158.34764099121094,162.79173278808594,162.55471801757812,161.54739379882812,168.66778564453125,169.7639923095703,171.49224853515625,171.68978881835938,164.17433166503906,163.3250274658203,162.95962524414062,162.05104064941406,162.7127227783203,158.04148864746094,157.05392456054688,151.05935668945312,150.7136993408203,146.86216735839844,146.62513732910156,153.9331817626953,149.90386962890625,146.546142578125,149.90386962890625,155.00965881347656,154.46649169921875,153.81468200683594,150.44705200195312,151.19761657714844,152.58021545410156,152.24444580078125,152.20492553710938,143.8796844482422,147.3954620361328,155.2762908935547,153.4591522216797,152.48146057128906,157.21192932128906,159.80926513671875,163.73980712890625,164.69775390625,164.8261260986328,165.43844604492188,162.2090606689453,162.54483032226562,158.20938110351562,157.81436157226562,157.646484375,157.88348388671875,159.6117401123047,151.08897399902344,162.3374481201172,171.16636657714844,171.1071014404297,177.86473083496094,154.50123596191406,161.00047302246094,161.8650665283203,157.03533935546875,156.8763427734375,162.39175415039062,162.3619384765625,164.33953857421875,165.3332977294922,166.02894592285156,164.0016632080078,163.1370849609375,153.96458435058594,154.08384704589844,152.8018798828125,153.24908447265625,151.3311004638672,149.09512329101562,149.9298858642578,151.55966186523438,146.68026733398438,145.5374298095703,143.74864196777344,142.3573760986328,141.41329956054688,140.46922302246094,142.25799560546875,144.64305114746094,144.8914794921875,147.44546508789062,148.1112823486328,150.78453063964844,151.76837158203125,153.29876708984375,159.1520538330078,155.37574768066406,154.99810791015625,157.9794158935547,158.7545623779297,163.5743408203125,161.0899200439453,159.8278350830078,158.10861206054688,161.19923400878906,163.60415649414062,162.5308837890625,163.186767578125,165.98919677734375,167.4599609375,167.62890625,171.06735229492188,175.97657775878906,179.89202880859375,175.65855407714844,172.7567596435547,173.6710205078125,170.7195281982422,170.30213928222656,168.9605712890625,172.24000549316406,171.1699981689453,176.02000427246094,174.5399932861328,173.22000122070312,166.22000122070312,165.72000122070312,165.5,166.9600067138672,166.80999755859375,168.5,162.39999389648438,165.94000244140625,166.0,165.1999969482422,162.82000732421875,163.50999450683594,160.63999938964844,158.17999267578125,157.9199981689453,158.3699951171875,159.1300048828125,163.0500030517578,159.36000061035156,163.24000549316406,162.7100067138672,157.47000122070312,156.1199951171875,156.22000122070312,159.3800048828125,159.77000427246094,158.11000061035156,160.27000427246094,165.6300048828125,166.05999755859375,166.0500030517578,165.24000549316406,165.5800018310547,169.0,169.5800018310547,163.50999450683594,163.27000427246094,161.0,162.6999969482422,162.39999389648438,162.50999450683594,160.27999877929688,162.17999267578125,163.94000244140625,157.61000061035156,155.4499969482422,158.14999389648438,157.75,157.1199951171875,155.72000122070312,154.57000732421875,152.52999877929688,156.3000030517578,156.5,157.4199981689453,157.72999572753906],\"yaxis\":\"y\",\"type\":\"scattergl\"},{\"hovertemplate\":\"variable=VLO<br>Date=%{x|%B %d, %Y}<br>value=%{y}<extra></extra>\",\"legendgroup\":\"VLO\",\"line\":{\"color\":\"#FF97FF\",\"dash\":\"solid\"},\"marker\":{\"symbol\":\"circle\"},\"mode\":\"lines\",\"name\":\"VLO\",\"showlegend\":true,\"x\":[\"2021-05-17\",\"2021-05-18\",\"2021-05-19\",\"2021-05-20\",\"2021-05-21\",\"2021-05-24\",\"2021-05-25\",\"2021-05-26\",\"2021-05-27\",\"2021-05-28\",\"2021-06-01\",\"2021-06-02\",\"2021-06-03\",\"2021-06-04\",\"2021-06-07\",\"2021-06-08\",\"2021-06-09\",\"2021-06-10\",\"2021-06-11\",\"2021-06-14\",\"2021-06-15\",\"2021-06-16\",\"2021-06-17\",\"2021-06-18\",\"2021-06-21\",\"2021-06-22\",\"2021-06-23\",\"2021-06-24\",\"2021-06-25\",\"2021-06-28\",\"2021-06-29\",\"2021-06-30\",\"2021-07-01\",\"2021-07-02\",\"2021-07-06\",\"2021-07-07\",\"2021-07-08\",\"2021-07-09\",\"2021-07-12\",\"2021-07-13\",\"2021-07-14\",\"2021-07-15\",\"2021-07-16\",\"2021-07-19\",\"2021-07-20\",\"2021-07-21\",\"2021-07-22\",\"2021-07-23\",\"2021-07-26\",\"2021-07-27\",\"2021-07-28\",\"2021-07-29\",\"2021-07-30\",\"2021-08-02\",\"2021-08-03\",\"2021-08-04\",\"2021-08-05\",\"2021-08-06\",\"2021-08-09\",\"2021-08-10\",\"2021-08-11\",\"2021-08-12\",\"2021-08-13\",\"2021-08-16\",\"2021-08-17\",\"2021-08-18\",\"2021-08-19\",\"2021-08-20\",\"2021-08-23\",\"2021-08-24\",\"2021-08-25\",\"2021-08-26\",\"2021-08-27\",\"2021-08-30\",\"2021-08-31\",\"2021-09-01\",\"2021-09-02\",\"2021-09-03\",\"2021-09-07\",\"2021-09-08\",\"2021-09-09\",\"2021-09-10\",\"2021-09-13\",\"2021-09-14\",\"2021-09-15\",\"2021-09-16\",\"2021-09-17\",\"2021-09-20\",\"2021-09-21\",\"2021-09-22\",\"2021-09-23\",\"2021-09-24\",\"2021-09-27\",\"2021-09-28\",\"2021-09-29\",\"2021-09-30\",\"2021-10-01\",\"2021-10-04\",\"2021-10-05\",\"2021-10-06\",\"2021-10-07\",\"2021-10-08\",\"2021-10-11\",\"2021-10-12\",\"2021-10-13\",\"2021-10-14\",\"2021-10-15\",\"2021-10-18\",\"2021-10-19\",\"2021-10-20\",\"2021-10-21\",\"2021-10-22\",\"2021-10-25\",\"2021-10-26\",\"2021-10-27\",\"2021-10-28\",\"2021-10-29\",\"2021-11-01\",\"2021-11-02\",\"2021-11-03\",\"2021-11-04\",\"2021-11-05\",\"2021-11-08\",\"2021-11-09\",\"2021-11-10\",\"2021-11-11\",\"2021-11-12\",\"2021-11-15\",\"2021-11-16\",\"2021-11-17\",\"2021-11-18\",\"2021-11-19\",\"2021-11-22\",\"2021-11-23\",\"2021-11-24\",\"2021-11-26\",\"2021-11-29\",\"2021-11-30\",\"2021-12-01\",\"2021-12-02\",\"2021-12-03\",\"2021-12-06\",\"2021-12-07\",\"2021-12-08\",\"2021-12-09\",\"2021-12-10\",\"2021-12-13\",\"2021-12-14\",\"2021-12-15\",\"2021-12-16\",\"2021-12-17\",\"2021-12-20\",\"2021-12-21\",\"2021-12-22\",\"2021-12-23\",\"2021-12-27\",\"2021-12-28\",\"2021-12-29\",\"2021-12-30\",\"2021-12-31\",\"2022-01-03\",\"2022-01-04\",\"2022-01-05\",\"2022-01-06\",\"2022-01-07\",\"2022-01-10\",\"2022-01-11\",\"2022-01-12\",\"2022-01-13\",\"2022-01-14\",\"2022-01-18\",\"2022-01-19\",\"2022-01-20\",\"2022-01-21\",\"2022-01-24\",\"2022-01-25\",\"2022-01-26\",\"2022-01-27\",\"2022-01-28\",\"2022-01-31\",\"2022-02-01\",\"2022-02-02\",\"2022-02-03\",\"2022-02-04\",\"2022-02-07\",\"2022-02-08\",\"2022-02-09\",\"2022-02-10\",\"2022-02-11\",\"2022-02-14\",\"2022-02-15\",\"2022-02-16\",\"2022-02-17\",\"2022-02-18\",\"2022-02-22\",\"2022-02-23\",\"2022-02-24\",\"2022-02-25\",\"2022-02-28\",\"2022-03-01\",\"2022-03-02\",\"2022-03-03\",\"2022-03-04\",\"2022-03-07\",\"2022-03-08\",\"2022-03-09\",\"2022-03-10\",\"2022-03-11\",\"2022-03-14\",\"2022-03-15\",\"2022-03-16\",\"2022-03-17\",\"2022-03-18\",\"2022-03-21\",\"2022-03-22\",\"2022-03-23\",\"2022-03-24\",\"2022-03-25\",\"2022-03-28\",\"2022-03-29\",\"2022-03-30\",\"2022-03-31\",\"2022-04-01\",\"2022-04-04\",\"2022-04-05\",\"2022-04-06\",\"2022-04-07\",\"2022-04-08\",\"2022-04-11\",\"2022-04-12\",\"2022-04-13\",\"2022-04-14\",\"2022-04-18\",\"2022-04-19\",\"2022-04-20\",\"2022-04-21\",\"2022-04-22\",\"2022-04-25\",\"2022-04-26\",\"2022-04-27\",\"2022-04-28\",\"2022-04-29\",\"2022-05-02\",\"2022-05-03\",\"2022-05-04\",\"2022-05-05\",\"2022-05-06\",\"2022-05-09\",\"2022-05-10\",\"2022-05-11\",\"2022-05-12\",\"2022-05-13\",\"2022-05-16\",\"2022-05-17\",\"2022-05-18\",\"2022-05-19\",\"2022-05-20\",\"2022-05-23\",\"2022-05-24\",\"2022-05-25\",\"2022-05-26\",\"2022-05-27\",\"2022-05-31\",\"2022-06-01\",\"2022-06-02\",\"2022-06-03\",\"2022-06-06\",\"2022-06-07\",\"2022-06-08\",\"2022-06-09\",\"2022-06-10\",\"2022-06-13\",\"2022-06-14\",\"2022-06-15\",\"2022-06-16\",\"2022-06-17\",\"2022-06-21\",\"2022-06-22\",\"2022-06-23\",\"2022-06-24\",\"2022-06-27\",\"2022-06-28\",\"2022-06-29\",\"2022-06-30\",\"2022-07-01\",\"2022-07-05\",\"2022-07-06\",\"2022-07-07\",\"2022-07-08\",\"2022-07-11\",\"2022-07-12\",\"2022-07-13\",\"2022-07-14\",\"2022-07-15\",\"2022-07-18\",\"2022-07-19\",\"2022-07-20\",\"2022-07-21\",\"2022-07-22\",\"2022-07-25\",\"2022-07-26\",\"2022-07-27\",\"2022-07-28\",\"2022-07-29\",\"2022-08-01\",\"2022-08-02\",\"2022-08-03\",\"2022-08-04\",\"2022-08-05\",\"2022-08-08\",\"2022-08-09\",\"2022-08-10\",\"2022-08-11\",\"2022-08-12\",\"2022-08-15\",\"2022-08-16\",\"2022-08-17\",\"2022-08-18\",\"2022-08-19\",\"2022-08-22\",\"2022-08-23\",\"2022-08-24\",\"2022-08-25\",\"2022-08-26\",\"2022-08-29\",\"2022-08-30\",\"2022-08-31\",\"2022-09-01\",\"2022-09-02\",\"2022-09-06\",\"2022-09-07\",\"2022-09-08\",\"2022-09-09\",\"2022-09-12\",\"2022-09-13\",\"2022-09-14\",\"2022-09-15\",\"2022-09-16\",\"2022-09-19\",\"2022-09-20\",\"2022-09-21\",\"2022-09-22\",\"2022-09-23\",\"2022-09-26\",\"2022-09-27\",\"2022-09-28\",\"2022-09-29\",\"2022-09-30\",\"2022-10-03\",\"2022-10-04\",\"2022-10-05\",\"2022-10-06\",\"2022-10-07\",\"2022-10-10\",\"2022-10-11\",\"2022-10-12\",\"2022-10-13\",\"2022-10-14\",\"2022-10-17\",\"2022-10-18\",\"2022-10-19\",\"2022-10-20\",\"2022-10-21\",\"2022-10-24\",\"2022-10-25\",\"2022-10-26\",\"2022-10-27\",\"2022-10-28\",\"2022-10-31\",\"2022-11-01\",\"2022-11-02\",\"2022-11-03\",\"2022-11-04\",\"2022-11-07\",\"2022-11-08\",\"2022-11-09\",\"2022-11-10\",\"2022-11-11\",\"2022-11-14\",\"2022-11-15\",\"2022-11-16\",\"2022-11-17\",\"2022-11-18\",\"2022-11-21\",\"2022-11-22\",\"2022-11-23\",\"2022-11-25\",\"2022-11-28\",\"2022-11-29\",\"2022-11-30\",\"2022-12-01\",\"2022-12-02\",\"2022-12-05\",\"2022-12-06\",\"2022-12-07\",\"2022-12-08\",\"2022-12-09\",\"2022-12-12\",\"2022-12-13\",\"2022-12-14\",\"2022-12-15\",\"2022-12-16\",\"2022-12-19\",\"2022-12-20\",\"2022-12-21\",\"2022-12-22\",\"2022-12-23\",\"2022-12-27\",\"2022-12-28\",\"2022-12-29\",\"2022-12-30\",\"2023-01-03\",\"2023-01-04\",\"2023-01-05\",\"2023-01-06\",\"2023-01-09\",\"2023-01-10\",\"2023-01-11\",\"2023-01-12\",\"2023-01-13\",\"2023-01-17\",\"2023-01-18\",\"2023-01-19\",\"2023-01-20\",\"2023-01-23\",\"2023-01-24\",\"2023-01-25\",\"2023-01-26\",\"2023-01-27\",\"2023-01-30\",\"2023-01-31\",\"2023-02-01\",\"2023-02-02\",\"2023-02-03\",\"2023-02-06\",\"2023-02-07\",\"2023-02-08\",\"2023-02-09\",\"2023-02-10\",\"2023-02-13\",\"2023-02-14\",\"2023-02-15\",\"2023-02-16\",\"2023-02-17\",\"2023-02-21\",\"2023-02-22\",\"2023-02-23\",\"2023-02-24\",\"2023-02-27\",\"2023-02-28\",\"2023-03-01\",\"2023-03-02\",\"2023-03-03\",\"2023-03-06\",\"2023-03-07\",\"2023-03-08\",\"2023-03-09\",\"2023-03-10\",\"2023-03-13\",\"2023-03-14\",\"2023-03-15\",\"2023-03-16\",\"2023-03-17\",\"2023-03-20\",\"2023-03-21\",\"2023-03-22\",\"2023-03-23\",\"2023-03-24\",\"2023-03-27\",\"2023-03-28\",\"2023-03-29\",\"2023-03-30\",\"2023-03-31\",\"2023-04-03\",\"2023-04-04\",\"2023-04-05\",\"2023-04-06\",\"2023-04-10\",\"2023-04-11\",\"2023-04-12\",\"2023-04-13\",\"2023-04-14\",\"2023-04-17\",\"2023-04-18\",\"2023-04-19\",\"2023-04-20\",\"2023-04-21\",\"2023-04-24\",\"2023-04-25\",\"2023-04-26\",\"2023-04-27\",\"2023-04-28\",\"2023-05-01\",\"2023-05-02\",\"2023-05-03\",\"2023-05-04\",\"2023-05-05\",\"2023-05-08\",\"2023-05-09\",\"2023-05-10\"],\"xaxis\":\"x\",\"y\":[76.14366912841797,74.24055480957031,72.0948715209961,71.82433319091797,72.02023315429688,73.0557632446289,72.1415023803711,73.7834243774414,75.3693618774414,75.00553131103516,76.66609954833984,78.72782135009766,77.7296142578125,77.65496826171875,77.14188385009766,77.67364501953125,76.43287658691406,76.44219970703125,75.8358154296875,76.45153045654297,76.77804565429688,75.99442291259766,73.30764770507812,70.91940307617188,74.61371612548828,75.54661560058594,75.42533874511719,76.24630737304688,76.58213806152344,72.50534057617188,71.75902557373047,72.84120178222656,72.58930969238281,72.83187103271484,69.68797302246094,67.45832824707031,65.5458755493164,67.44900512695312,66.87060546875,65.74179077148438,63.12966537475586,62.31803131103516,60.52684783935547,57.76545333862305,58.3718376159668,60.55484008789063,59.22078323364258,59.43535232543945,61.1425666809082,61.17988967895508,62.78448867797852,63.10166549682617,62.47661972045898,61.94486618041992,64.37974548339844,60.736328125,62.18423080444336,62.93184661865234,62.45866394042969,63.31038665771485,63.25359725952149,63.6415901184082,62.69525146484375,61.07701110839844,60.102272033691406,58.900421142578125,57.00773620605469,56.96987915039063,59.72373962402344,61.72998809814453,62.78042221069336,61.94763946533203,63.50911331176758,62.47760009765625,62.75202941894531,60.51866149902344,61.70159149169922,61.228424072265625,62.00442123413086,60.28208160400391,60.13066864013672,60.00764465332031,62.62901306152344,61.228424072265625,62.941314697265625,61.94763946533203,62.08012771606445,59.59125518798828,59.9224739074707,61.81515884399414,63.56589126586914,64.00121307373047,66.9822006225586,67.35126495361328,66.53740692138672,66.783447265625,69.6697998046875,70.99468994140625,70.31331634521484,71.32591247558594,71.82746887207031,74.3825912475586,73.62552642822266,74.68543243408203,73.94728088378906,74.92201232910156,74.43937683105469,73.93781280517578,75.84942626953125,76.69168090820312,77.60016632080078,76.64435577392578,78.25314331054688,77.48660278320312,74.44884490966797,74.25010681152344,73.18074035644531,73.8337173461914,71.78961944580078,71.80854797363281,72.25332641601562,73.73908996582031,73.60659790039062,74.0513916015625,72.73595428466797,73.07664489746094,72.47098541259766,73.19966888427734,73.75801849365234,70.39404296875,69.92443084716797,66.19628143310547,67.71054077148438,69.531494140625,69.91484832763672,65.18038177490234,65.33372497558594,64.1549072265625,64.50950622558594,68.20891571044922,66.80964660644531,67.48052978515625,68.64977264404297,67.77762603759766,67.38468933105469,67.9022216796875,65.38165283203125,65.35289764404297,65.40080261230469,65.88960266113281,65.83209991455078,65.83209991455078,68.35267639160156,68.33349609375,68.74560546875,70.08735656738281,71.4003677368164,71.54412078857422,71.18952178955078,71.98497772216797,73.9305191040039,75.24352264404297,74.9464111328125,76.82488250732422,77.62992095947266,77.65867614746094,80.36134338378906,80.8597183227539,79.89173889160156,81.65518188476562,82.07685852050781,80.70636749267578,78.02286529541016,75.9910659790039,75.32019805908203,77.78327178955078,77.91744232177734,78.56915283203125,78.02286529541016,79.5179672241211,82.94901275634766,83.95716094970703,82.48371124267578,84.04440307617188,86.88465118408203,85.77957153320312,86.11884307861328,87.13668823242188,89.18206787109375,86.9719009399414,85.81834411621094,85.34335327148438,84.37398529052734,84.06378936767578,83.21073913574219,83.70511627197266,81.2719955444336,82.27044677734375,80.95211029052734,78.16032409667969,81.0587387084961,81.61128234863281,83.34645080566406,81.43678283691406,87.76677703857422,84.4709243774414,86.83618927001953,88.86216735839844,87.77647399902344,81.82454681396484,82.33831024169922,86.36119079589844,87.66015625,91.37284088134766,90.72335815429688,92.59423828125,93.48606872558594,94.27125549316406,93.41820526123048,93.71871948242188,97.42170715332033,98.42985534667967,98.16812133789062,97.65435791015624,98.35230255126952,100.13594818115234,100.16502380371094,100.05840301513672,97.80946350097656,97.70281982421876,100.75634765625,101.64816284179688,106.97000885009766,104.43994903564452,104.75984954833984,101.6966323852539,99.8936004638672,97.7900619506836,101.91958618164062,106.15573120117188,111.99134063720705,108.06539916992188,113.028564453125,117.68154907226562,124.30233764648438,121.9758529663086,125.22323608398438,114.8218994140625,117.26472473144533,117.68495178222656,117.67517852783205,121.86772918701172,124.87777709960938,125.15142059326172,121.84819793701172,121.43772888183594,120.1868133544922,121.14454650878906,121.38886260986328,124.4477767944336,125.21005249023438,128.8162384033203,126.65645599365234,129.53944396972656,130.58514404296875,132.34425354003906,135.5399932861328,141.78485107421875,140.50460815429688,140.1527862548828,137.3186492919922,128.62078857421875,130.71217346191406,125.38597869873048,116.04310607910156,109.88619232177734,113.8246612548828,110.56051635742188,102.15584564208984,101.5694808959961,109.69073486328124,113.60965728759766,106.37773895263672,103.86610412597656,105.52749633789062,101.23719787597656,99.39989471435548,103.92474365234376,104.59906768798828,105.34181213378906,102.47835540771484,100.06446075439452,98.49102020263672,102.21448516845705,103.89541625976562,106.27022552490234,106.79796600341795,101.78448486328124,101.65743255615234,106.8370590209961,105.18544006347656,108.96754455566406,107.02274322509766,108.25411987304688,108.13684844970705,110.42369842529295,106.2831802368164,102.85247039794922,103.50311279296876,104.88328552246094,109.10267639160156,110.17723846435548,112.47423553466795,113.55867004394533,110.3645477294922,111.70528411865234,116.08241271972656,117.10768127441406,116.87108612060548,117.44286346435548,120.3806610107422,120.3905258178711,121.61296081542967,120.15391540527344,121.67211151123048,116.35843658447266,115.46133422851562,109.07310485839844,112.20806884765624,111.18279266357422,111.02506256103516,110.34483337402344,111.71514892578124,112.63197326660156,109.75333404541016,108.03797149658205,103.67071533203124,102.98062133789062,103.1876449584961,105.8987045288086,104.03546905517578,106.06629180908205,99.14571380615234,96.50366973876952,99.73721313476562,107.25916290283205,105.72125244140624,105.3367691040039,110.71945190429688,115.9148178100586,116.41759490966795,117.5315933227539,112.16863250732422,109.28998565673828,108.13655853271484,113.56851959228516,119.14836883544922,112.50382232666016,113.86427307128906,116.03311920166016,122.20446014404295,122.67766571044922,125.93092346191406,127.38996887207033,125.00424194335938,124.9450912475586,126.45343017578124,124.19586181640624,123.7719497680664,128.15892028808594,124.04798126220705,127.87303161621094,126.89705657958984,129.91371154785156,130.37705993652344,126.18724822998048,130.57421875,132.06285095214844,134.8626251220703,138.71725463867188,134.5476837158203,136.9104461669922,136.62254333496094,134.97457885742188,140.95094299316406,138.20101928710938,137.39688110351562,133.86268615722656,134.22007751464844,132.6515350341797,131.07305908203125,126.14900970458984,120.08329010009766,117.9985122680664,119.3188705444336,116.05271911621094,113.81902313232422,119.78546905517578,119.65641021728516,118.8622055053711,119.0508270263672,118.50481414794922,118.84235382080078,120.99662017822266,121.79082489013672,118.75300598144533,123.46857452392578,125.49378967285156,124.44147491455078,125.4044418334961,125.9405288696289,119.16996002197266,118.75300598144533,125.6724853515625,126.6354522705078,127.64806365966795,131.05319213867188,132.63168334960938,134.33921813964844,135.14334106445312,136.61260986328125,134.5377655029297,137.4663848876953,141.69549560546875,142.04296875,143.9788360595703,142.31101989746094,148.87310791015625,142.17202758789062,139.17391967773438,139.01507568359375,135.24261474609375,132.08566284179688,130.7752227783203,127.16161346435548,133.54501342773438,133.1479034423828,131.65878295898438,139.70999145507812,139.8000030517578,139.69000244140625,136.3699951171875,133.97000122070312,129.61000061035156,132.1999969482422,130.69000244140625,132.42999267578125,132.75,135.0500030517578,131.72999572753906,139.2899932861328,139.22999572753906,141.1699981689453,139.69000244140625,136.9600067138672,132.77000427246094,132.27999877929688,132.16000366210938,128.11000061035156,131.6199951171875,124.33000183105467,127.16999816894533,126.37000274658205,128.91000366210938,132.19000244140625,131.77000427246094,130.3800048828125,129.25999450683594,131.8800048828125,136.02000427246094,136.9499969482422,137.02000427246094,139.60000610351562,138.52999877929688,127.43000030517578,135.08999633789062,132.58999633789062,135.10000610351562,136.7100067138672,133.72000122070312,133.1300048828125,131.86000061035156,128.3000030517578,127.11000061035156,124.4000015258789,122.9499969482422,119.62999725341795,120.0,117.8499984741211,116.63999938964844,114.63999938964844,114.66999816894533,115.41000366210938,110.77999877929688,107.05999755859376,104.30999755859376,107.04000091552734,107.37999725341795,108.4000015258789,111.01000213623048],\"yaxis\":\"y\",\"type\":\"scattergl\"},{\"hovertemplate\":\"variable=XOM<br>Date=%{x|%B %d, %Y}<br>value=%{y}<extra></extra>\",\"legendgroup\":\"XOM\",\"line\":{\"color\":\"#FECB52\",\"dash\":\"solid\"},\"marker\":{\"symbol\":\"circle\"},\"mode\":\"lines\",\"name\":\"XOM\",\"showlegend\":true,\"x\":[\"2021-05-17\",\"2021-05-18\",\"2021-05-19\",\"2021-05-20\",\"2021-05-21\",\"2021-05-24\",\"2021-05-25\",\"2021-05-26\",\"2021-05-27\",\"2021-05-28\",\"2021-06-01\",\"2021-06-02\",\"2021-06-03\",\"2021-06-04\",\"2021-06-07\",\"2021-06-08\",\"2021-06-09\",\"2021-06-10\",\"2021-06-11\",\"2021-06-14\",\"2021-06-15\",\"2021-06-16\",\"2021-06-17\",\"2021-06-18\",\"2021-06-21\",\"2021-06-22\",\"2021-06-23\",\"2021-06-24\",\"2021-06-25\",\"2021-06-28\",\"2021-06-29\",\"2021-06-30\",\"2021-07-01\",\"2021-07-02\",\"2021-07-06\",\"2021-07-07\",\"2021-07-08\",\"2021-07-09\",\"2021-07-12\",\"2021-07-13\",\"2021-07-14\",\"2021-07-15\",\"2021-07-16\",\"2021-07-19\",\"2021-07-20\",\"2021-07-21\",\"2021-07-22\",\"2021-07-23\",\"2021-07-26\",\"2021-07-27\",\"2021-07-28\",\"2021-07-29\",\"2021-07-30\",\"2021-08-02\",\"2021-08-03\",\"2021-08-04\",\"2021-08-05\",\"2021-08-06\",\"2021-08-09\",\"2021-08-10\",\"2021-08-11\",\"2021-08-12\",\"2021-08-13\",\"2021-08-16\",\"2021-08-17\",\"2021-08-18\",\"2021-08-19\",\"2021-08-20\",\"2021-08-23\",\"2021-08-24\",\"2021-08-25\",\"2021-08-26\",\"2021-08-27\",\"2021-08-30\",\"2021-08-31\",\"2021-09-01\",\"2021-09-02\",\"2021-09-03\",\"2021-09-07\",\"2021-09-08\",\"2021-09-09\",\"2021-09-10\",\"2021-09-13\",\"2021-09-14\",\"2021-09-15\",\"2021-09-16\",\"2021-09-17\",\"2021-09-20\",\"2021-09-21\",\"2021-09-22\",\"2021-09-23\",\"2021-09-24\",\"2021-09-27\",\"2021-09-28\",\"2021-09-29\",\"2021-09-30\",\"2021-10-01\",\"2021-10-04\",\"2021-10-05\",\"2021-10-06\",\"2021-10-07\",\"2021-10-08\",\"2021-10-11\",\"2021-10-12\",\"2021-10-13\",\"2021-10-14\",\"2021-10-15\",\"2021-10-18\",\"2021-10-19\",\"2021-10-20\",\"2021-10-21\",\"2021-10-22\",\"2021-10-25\",\"2021-10-26\",\"2021-10-27\",\"2021-10-28\",\"2021-10-29\",\"2021-11-01\",\"2021-11-02\",\"2021-11-03\",\"2021-11-04\",\"2021-11-05\",\"2021-11-08\",\"2021-11-09\",\"2021-11-10\",\"2021-11-11\",\"2021-11-12\",\"2021-11-15\",\"2021-11-16\",\"2021-11-17\",\"2021-11-18\",\"2021-11-19\",\"2021-11-22\",\"2021-11-23\",\"2021-11-24\",\"2021-11-26\",\"2021-11-29\",\"2021-11-30\",\"2021-12-01\",\"2021-12-02\",\"2021-12-03\",\"2021-12-06\",\"2021-12-07\",\"2021-12-08\",\"2021-12-09\",\"2021-12-10\",\"2021-12-13\",\"2021-12-14\",\"2021-12-15\",\"2021-12-16\",\"2021-12-17\",\"2021-12-20\",\"2021-12-21\",\"2021-12-22\",\"2021-12-23\",\"2021-12-27\",\"2021-12-28\",\"2021-12-29\",\"2021-12-30\",\"2021-12-31\",\"2022-01-03\",\"2022-01-04\",\"2022-01-05\",\"2022-01-06\",\"2022-01-07\",\"2022-01-10\",\"2022-01-11\",\"2022-01-12\",\"2022-01-13\",\"2022-01-14\",\"2022-01-18\",\"2022-01-19\",\"2022-01-20\",\"2022-01-21\",\"2022-01-24\",\"2022-01-25\",\"2022-01-26\",\"2022-01-27\",\"2022-01-28\",\"2022-01-31\",\"2022-02-01\",\"2022-02-02\",\"2022-02-03\",\"2022-02-04\",\"2022-02-07\",\"2022-02-08\",\"2022-02-09\",\"2022-02-10\",\"2022-02-11\",\"2022-02-14\",\"2022-02-15\",\"2022-02-16\",\"2022-02-17\",\"2022-02-18\",\"2022-02-22\",\"2022-02-23\",\"2022-02-24\",\"2022-02-25\",\"2022-02-28\",\"2022-03-01\",\"2022-03-02\",\"2022-03-03\",\"2022-03-04\",\"2022-03-07\",\"2022-03-08\",\"2022-03-09\",\"2022-03-10\",\"2022-03-11\",\"2022-03-14\",\"2022-03-15\",\"2022-03-16\",\"2022-03-17\",\"2022-03-18\",\"2022-03-21\",\"2022-03-22\",\"2022-03-23\",\"2022-03-24\",\"2022-03-25\",\"2022-03-28\",\"2022-03-29\",\"2022-03-30\",\"2022-03-31\",\"2022-04-01\",\"2022-04-04\",\"2022-04-05\",\"2022-04-06\",\"2022-04-07\",\"2022-04-08\",\"2022-04-11\",\"2022-04-12\",\"2022-04-13\",\"2022-04-14\",\"2022-04-18\",\"2022-04-19\",\"2022-04-20\",\"2022-04-21\",\"2022-04-22\",\"2022-04-25\",\"2022-04-26\",\"2022-04-27\",\"2022-04-28\",\"2022-04-29\",\"2022-05-02\",\"2022-05-03\",\"2022-05-04\",\"2022-05-05\",\"2022-05-06\",\"2022-05-09\",\"2022-05-10\",\"2022-05-11\",\"2022-05-12\",\"2022-05-13\",\"2022-05-16\",\"2022-05-17\",\"2022-05-18\",\"2022-05-19\",\"2022-05-20\",\"2022-05-23\",\"2022-05-24\",\"2022-05-25\",\"2022-05-26\",\"2022-05-27\",\"2022-05-31\",\"2022-06-01\",\"2022-06-02\",\"2022-06-03\",\"2022-06-06\",\"2022-06-07\",\"2022-06-08\",\"2022-06-09\",\"2022-06-10\",\"2022-06-13\",\"2022-06-14\",\"2022-06-15\",\"2022-06-16\",\"2022-06-17\",\"2022-06-21\",\"2022-06-22\",\"2022-06-23\",\"2022-06-24\",\"2022-06-27\",\"2022-06-28\",\"2022-06-29\",\"2022-06-30\",\"2022-07-01\",\"2022-07-05\",\"2022-07-06\",\"2022-07-07\",\"2022-07-08\",\"2022-07-11\",\"2022-07-12\",\"2022-07-13\",\"2022-07-14\",\"2022-07-15\",\"2022-07-18\",\"2022-07-19\",\"2022-07-20\",\"2022-07-21\",\"2022-07-22\",\"2022-07-25\",\"2022-07-26\",\"2022-07-27\",\"2022-07-28\",\"2022-07-29\",\"2022-08-01\",\"2022-08-02\",\"2022-08-03\",\"2022-08-04\",\"2022-08-05\",\"2022-08-08\",\"2022-08-09\",\"2022-08-10\",\"2022-08-11\",\"2022-08-12\",\"2022-08-15\",\"2022-08-16\",\"2022-08-17\",\"2022-08-18\",\"2022-08-19\",\"2022-08-22\",\"2022-08-23\",\"2022-08-24\",\"2022-08-25\",\"2022-08-26\",\"2022-08-29\",\"2022-08-30\",\"2022-08-31\",\"2022-09-01\",\"2022-09-02\",\"2022-09-06\",\"2022-09-07\",\"2022-09-08\",\"2022-09-09\",\"2022-09-12\",\"2022-09-13\",\"2022-09-14\",\"2022-09-15\",\"2022-09-16\",\"2022-09-19\",\"2022-09-20\",\"2022-09-21\",\"2022-09-22\",\"2022-09-23\",\"2022-09-26\",\"2022-09-27\",\"2022-09-28\",\"2022-09-29\",\"2022-09-30\",\"2022-10-03\",\"2022-10-04\",\"2022-10-05\",\"2022-10-06\",\"2022-10-07\",\"2022-10-10\",\"2022-10-11\",\"2022-10-12\",\"2022-10-13\",\"2022-10-14\",\"2022-10-17\",\"2022-10-18\",\"2022-10-19\",\"2022-10-20\",\"2022-10-21\",\"2022-10-24\",\"2022-10-25\",\"2022-10-26\",\"2022-10-27\",\"2022-10-28\",\"2022-10-31\",\"2022-11-01\",\"2022-11-02\",\"2022-11-03\",\"2022-11-04\",\"2022-11-07\",\"2022-11-08\",\"2022-11-09\",\"2022-11-10\",\"2022-11-11\",\"2022-11-14\",\"2022-11-15\",\"2022-11-16\",\"2022-11-17\",\"2022-11-18\",\"2022-11-21\",\"2022-11-22\",\"2022-11-23\",\"2022-11-25\",\"2022-11-28\",\"2022-11-29\",\"2022-11-30\",\"2022-12-01\",\"2022-12-02\",\"2022-12-05\",\"2022-12-06\",\"2022-12-07\",\"2022-12-08\",\"2022-12-09\",\"2022-12-12\",\"2022-12-13\",\"2022-12-14\",\"2022-12-15\",\"2022-12-16\",\"2022-12-19\",\"2022-12-20\",\"2022-12-21\",\"2022-12-22\",\"2022-12-23\",\"2022-12-27\",\"2022-12-28\",\"2022-12-29\",\"2022-12-30\",\"2023-01-03\",\"2023-01-04\",\"2023-01-05\",\"2023-01-06\",\"2023-01-09\",\"2023-01-10\",\"2023-01-11\",\"2023-01-12\",\"2023-01-13\",\"2023-01-17\",\"2023-01-18\",\"2023-01-19\",\"2023-01-20\",\"2023-01-23\",\"2023-01-24\",\"2023-01-25\",\"2023-01-26\",\"2023-01-27\",\"2023-01-30\",\"2023-01-31\",\"2023-02-01\",\"2023-02-02\",\"2023-02-03\",\"2023-02-06\",\"2023-02-07\",\"2023-02-08\",\"2023-02-09\",\"2023-02-10\",\"2023-02-13\",\"2023-02-14\",\"2023-02-15\",\"2023-02-16\",\"2023-02-17\",\"2023-02-21\",\"2023-02-22\",\"2023-02-23\",\"2023-02-24\",\"2023-02-27\",\"2023-02-28\",\"2023-03-01\",\"2023-03-02\",\"2023-03-03\",\"2023-03-06\",\"2023-03-07\",\"2023-03-08\",\"2023-03-09\",\"2023-03-10\",\"2023-03-13\",\"2023-03-14\",\"2023-03-15\",\"2023-03-16\",\"2023-03-17\",\"2023-03-20\",\"2023-03-21\",\"2023-03-22\",\"2023-03-23\",\"2023-03-24\",\"2023-03-27\",\"2023-03-28\",\"2023-03-29\",\"2023-03-30\",\"2023-03-31\",\"2023-04-03\",\"2023-04-04\",\"2023-04-05\",\"2023-04-06\",\"2023-04-10\",\"2023-04-11\",\"2023-04-12\",\"2023-04-13\",\"2023-04-14\",\"2023-04-17\",\"2023-04-18\",\"2023-04-19\",\"2023-04-20\",\"2023-04-21\",\"2023-04-24\",\"2023-04-25\",\"2023-04-26\",\"2023-04-27\",\"2023-04-28\",\"2023-05-01\",\"2023-05-02\",\"2023-05-03\",\"2023-05-04\",\"2023-05-05\",\"2023-05-08\",\"2023-05-09\",\"2023-05-10\"],\"xaxis\":\"x\",\"y\":[57.69977188110352,56.06684494018555,54.72154235839844,54.59164810180664,54.66587066650391,55.30605697631836,54.053524017333984,54.68442916870117,54.33186340332031,54.15558242797852,56.09468078613281,56.54002380371094,56.76270294189453,57.0132064819336,56.642086029052734,57.64410781860352,58.12656021118164,58.219337463378906,57.68121337890625,57.58843994140625,59.68526458740234,59.471866607666016,57.51422119140625,56.03901672363281,58.07089614868164,59.18424987792969,59.62031936645508,59.86154556274414,59.9914436340332,58.460567474365234,58.09872817993164,58.5255126953125,58.6925163269043,58.60901641845703,56.93898010253906,56.04829025268555,55.79779052734375,56.80908966064453,56.75341796875,56.48435974121094,55.23182678222656,54.69371032714844,53.18139266967773,51.353633880615234,51.91958999633789,53.58962631225586,52.98656845092773,52.92161560058594,54.25763702392578,53.65457534790039,54.01641845703125,54.67515182495117,53.41334533691406,53.42262649536133,53.99786376953125,52.73605346679688,53.07006454467773,53.68240737915039,53.07006454467773,53.97930145263672,54.13703155517578,54.014591217041016,53.46832275390625,52.68659210205078,52.32869338989258,51.22673797607422,49.66328430175781,49.67270660400391,51.71649932861328,52.14033126831055,52.2345085144043,51.52812957763672,52.526485443115234,51.951961517333984,51.34918594360352,50.642799377441406,51.876609802246094,51.6788215637207,51.377437591552734,50.90651321411133,50.94419097900391,50.8405876159668,52.14974594116211,51.40569686889648,53.13867950439453,52.57357406616211,51.951961517333984,50.56745147705078,50.52036285400391,51.999053955078125,53.760292053222656,54.24063491821289,55.8511848449707,56.43512344360352,56.39745330810547,55.39909362792969,57.38638305664063,58.13043212890625,58.036251068115234,56.97197341918945,57.132083892822266,58.56369018554688,57.979740142822266,57.6783561706543,57.51823806762695,58.3941535949707,58.9498405456543,58.92158126831055,59.806915283203125,60.13655853271485,59.04402542114258,59.44901657104492,60.60747528076172,62.01082229614258,60.4002685546875,60.569801330566406,60.72050094604492,61.81303024291992,61.05014801025391,60.21190643310547,60.66399383544922,61.2385139465332,61.89780426025391,62.500579833984375,61.26927947998047,61.3838119506836,60.916114807128906,61.44108963012695,62.0615119934082,61.3838119506836,60.71567153930664,57.9094352722168,58.71121597290039,60.25750732421875,60.591583251953125,58.46304702758789,58.7875862121582,57.11720657348633,57.06948471069336,58.49168395996094,58.11943054199219,58.77803802490234,59.43663787841797,59.60844802856445,59.761173248291016,60.14296340942383,58.82575988769531,58.7398567199707,58.48214340209961,58.57759094238281,57.29855728149414,56.46814727783203,57.74717712402344,58.214881896972656,58.24351501464844,59.07392501831055,58.88302993774414,58.36759948730469,58.02397918701172,58.40578079223633,60.64885711669922,62.93011474609375,63.712799072265625,65.21135711669922,65.7458724975586,65.35453033447266,68.10348510742188,67.90303802490234,67.41625213623047,68.5998306274414,69.75476837158203,69.78340911865234,69.93611907958984,68.88618469238281,69.47797393798828,71.52059173583984,70.79517364501953,71.70195770263672,71.85466766357422,72.50372314453125,77.15213775634766,76.95169830322266,76.0544662475586,77.70574951171875,78.64115142822266,76.60807800292969,76.24134063720703,75.50788879394531,77.40909576416016,76.2220458984375,75.26661682128906,75.6140365600586,75.49823760986328,74.65861511230469,73.79003143310547,74.0892105102539,73.15308380126953,75.12184143066406,75.68158721923828,76.40541076660156,77.71791076660156,78.2101058959961,81.15360260009766,84.07780456542969,84.7147445678711,79.89900207519531,82.37925720214844,81.95462036132812,79.0207748413086,74.52349853515625,74.2436294555664,76.2220458984375,75.92285919189453,79.32960510253906,78.98217010498047,80.22711944580078,80.46839141845703,82.22483825683594,79.91829681396484,79.4936752319336,80.85443115234375,79.70598602294922,80.21748352050781,80.2560806274414,79.84109497070312,80.72896575927734,82.08008575439453,83.80757141113281,80.92198181152344,82.61087036132812,83.77861785888672,84.76300811767578,85.4578628540039,84.69544982910156,84.88846588134766,83.99093627929688,82.15727996826172,79.38751220703125,79.41646575927734,81.68440246582031,84.15499877929688,82.2730941772461,83.39259338378906,85.11042785644531,88.49785614013672,87.15640258789062,88.48822021484375,81.51068115234375,82.0511245727539,83.75932312011719,84.13956451416016,86.63546752929688,88.67314910888672,89.80410766601562,88.38066864013672,88.85839080810547,89.56036376953125,91.53955078125,92.03678131103516,93.88921356201172,94.220703125,95.14691925048828,93.59673309326172,95.39066314697266,95.22490692138672,96.60936737060548,96.36563110351562,100.7822265625,101.9716796875,99.7682647705078,97.945068359375,93.4504852294922,93.69422149658205,92.51451110839844,89.10213470458984,83.96405792236328,89.18988037109375,85.66050720214844,83.07684326171875,84.72454071044922,86.80120849609375,89.20938110351562,85.91400146484375,83.49607849121094,85.35826110839844,82.68685150146484,81.19515991210938,83.78857421875,83.92506408691406,83.49607849121094,82.3846206665039,82.71610260009766,81.05866241455078,82.42361450195312,83.9445571899414,86.06024169921875,87.00595092773438,85.55326080322266,84.9000244140625,87.7274398803711,87.38618469238281,89.27762603759766,90.3208465576172,94.5034408569336,92.11478424072266,91.7150421142578,88.74138641357422,85.00727844238281,86.23572540283203,86.72321319580078,88.32215118408203,89.1606216430664,91.7398681640625,92.5372543334961,90.88339233398438,90.03678131103516,90.76526641845705,92.91133880615234,92.6160125732422,92.5470962524414,96.47501373291016,97.04598999023438,97.5480499267578,96.34703826904295,98.56202697753906,94.81130981445312,94.1025161743164,92.4092788696289,94.1025161743164,93.47247314453124,92.6750717163086,93.43309783935548,94.99835205078124,96.09107971191406,93.84656524658205,96.15013885498048,93.35433959960938,91.75955200195312,91.74970245361328,91.00153350830078,89.53472137451172,89.16062927246094,84.41564178466797,82.67317962646484,84.40579223632812,87.47724151611328,87.300048828125,85.95136260986328,90.4896240234375,93.78749084472656,97.5775909423828,100.47183227539062,99.45785522460938,97.30194091796876,96.47501373291016,96.89832305908205,100.2847900390625,97.64649200439452,99.0542449951172,99.2314453125,102.17491149902344,102.31273651123048,104.21270751953124,104.9411849975586,104.23239135742188,105.47278594970705,105.87641143798828,108.97738647460938,109.0856704711914,110.16856384277344,107.9043426513672,109.37116241455078,110.56233215332033,111.87163543701172,112.22603607177734,107.20539855957033,108.78050231933594,112.17681121826172,112.5042953491211,113.25848388671876,112.0478057861328,112.1966552734375,111.2241439819336,110.12261962890624,113.30810546875,112.74246215820312,112.34551239013672,108.97147369384766,109.6958999633789,110.4897918701172,109.95391845703124,109.0210952758789,106.0340805053711,103.08675384521484,102.85851287841795,103.62263488769533,102.74935913085938,105.27987670898438,106.43102264404295,105.64705657958984,104.63484954833984,103.90049743652344,104.36690521240234,105.87530517578124,107.2348403930664,105.0714874267578,107.85010528564452,109.34857940673828,107.5523910522461,108.36613464355467,109.4577407836914,105.6966781616211,106.00431060791016,108.37606048583984,109.68597412109376,107.64170837402344,109.24933624267578,110.51956939697266,112.35543823242188,112.28597259521484,112.0676498413086,109.76536560058594,110.4699478149414,112.48444366455078,111.8989486694336,112.94093322753906,112.34551239013672,116.86077117919922,114.72718811035156,112.69284057617188,115.12413787841795,113.86383056640624,110.3012466430664,111.06536102294922,110.87681579589844,114.0424575805664,113.05008697509766,113.476806640625,118.26000213623048,117.8000030517578,116.41999816894533,116.06999969482422,115.7300033569336,111.27999877929688,111.16999816894533,109.7300033569336,110.73999786376952,110.75,110.5500030517578,109.91000366210938,110.88999938964844,111.4000015258789,112.80999755859376,113.80999755859376,111.61000061035156,109.9800033569336,109.12999725341795,107.77999877929688,106.54000091552734,106.94000244140624,101.62000274658205,101.02999877929688,99.83999633789062,102.4499969482422,107.04000091552734,104.58999633789062,103.41000366210938,103.52999877929688,105.8000030517578,107.12000274658205,108.95999908447266,109.48999786376952,109.66000366210938,116.12999725341795,115.0199966430664,116.98999786376952,115.0500030517578,114.54000091552734,115.3499984741211,115.2300033569336,115.7699966430664,116.0500030517578,114.6999969482422,116.94000244140624,116.56999969482422,115.63999938964844,116.01000213623048,118.1999969482422,116.5199966430664,115.4499969482422,116.83000183105467,118.33999633789062,114.66999816894533,110.0999984741211,107.93000030517578,106.04000091552734,108.68000030517578,109.11000061035156,109.13999938964844,107.73999786376952],\"yaxis\":\"y\",\"type\":\"scattergl\"}],                        {\"template\":{\"data\":{\"histogram2dcontour\":[{\"type\":\"histogram2dcontour\",\"colorbar\":{\"outlinewidth\":0,\"ticks\":\"\"},\"colorscale\":[[0.0,\"#0d0887\"],[0.1111111111111111,\"#46039f\"],[0.2222222222222222,\"#7201a8\"],[0.3333333333333333,\"#9c179e\"],[0.4444444444444444,\"#bd3786\"],[0.5555555555555556,\"#d8576b\"],[0.6666666666666666,\"#ed7953\"],[0.7777777777777778,\"#fb9f3a\"],[0.8888888888888888,\"#fdca26\"],[1.0,\"#f0f921\"]]}],\"choropleth\":[{\"type\":\"choropleth\",\"colorbar\":{\"outlinewidth\":0,\"ticks\":\"\"}}],\"histogram2d\":[{\"type\":\"histogram2d\",\"colorbar\":{\"outlinewidth\":0,\"ticks\":\"\"},\"colorscale\":[[0.0,\"#0d0887\"],[0.1111111111111111,\"#46039f\"],[0.2222222222222222,\"#7201a8\"],[0.3333333333333333,\"#9c179e\"],[0.4444444444444444,\"#bd3786\"],[0.5555555555555556,\"#d8576b\"],[0.6666666666666666,\"#ed7953\"],[0.7777777777777778,\"#fb9f3a\"],[0.8888888888888888,\"#fdca26\"],[1.0,\"#f0f921\"]]}],\"heatmap\":[{\"type\":\"heatmap\",\"colorbar\":{\"outlinewidth\":0,\"ticks\":\"\"},\"colorscale\":[[0.0,\"#0d0887\"],[0.1111111111111111,\"#46039f\"],[0.2222222222222222,\"#7201a8\"],[0.3333333333333333,\"#9c179e\"],[0.4444444444444444,\"#bd3786\"],[0.5555555555555556,\"#d8576b\"],[0.6666666666666666,\"#ed7953\"],[0.7777777777777778,\"#fb9f3a\"],[0.8888888888888888,\"#fdca26\"],[1.0,\"#f0f921\"]]}],\"heatmapgl\":[{\"type\":\"heatmapgl\",\"colorbar\":{\"outlinewidth\":0,\"ticks\":\"\"},\"colorscale\":[[0.0,\"#0d0887\"],[0.1111111111111111,\"#46039f\"],[0.2222222222222222,\"#7201a8\"],[0.3333333333333333,\"#9c179e\"],[0.4444444444444444,\"#bd3786\"],[0.5555555555555556,\"#d8576b\"],[0.6666666666666666,\"#ed7953\"],[0.7777777777777778,\"#fb9f3a\"],[0.8888888888888888,\"#fdca26\"],[1.0,\"#f0f921\"]]}],\"contourcarpet\":[{\"type\":\"contourcarpet\",\"colorbar\":{\"outlinewidth\":0,\"ticks\":\"\"}}],\"contour\":[{\"type\":\"contour\",\"colorbar\":{\"outlinewidth\":0,\"ticks\":\"\"},\"colorscale\":[[0.0,\"#0d0887\"],[0.1111111111111111,\"#46039f\"],[0.2222222222222222,\"#7201a8\"],[0.3333333333333333,\"#9c179e\"],[0.4444444444444444,\"#bd3786\"],[0.5555555555555556,\"#d8576b\"],[0.6666666666666666,\"#ed7953\"],[0.7777777777777778,\"#fb9f3a\"],[0.8888888888888888,\"#fdca26\"],[1.0,\"#f0f921\"]]}],\"surface\":[{\"type\":\"surface\",\"colorbar\":{\"outlinewidth\":0,\"ticks\":\"\"},\"colorscale\":[[0.0,\"#0d0887\"],[0.1111111111111111,\"#46039f\"],[0.2222222222222222,\"#7201a8\"],[0.3333333333333333,\"#9c179e\"],[0.4444444444444444,\"#bd3786\"],[0.5555555555555556,\"#d8576b\"],[0.6666666666666666,\"#ed7953\"],[0.7777777777777778,\"#fb9f3a\"],[0.8888888888888888,\"#fdca26\"],[1.0,\"#f0f921\"]]}],\"mesh3d\":[{\"type\":\"mesh3d\",\"colorbar\":{\"outlinewidth\":0,\"ticks\":\"\"}}],\"scatter\":[{\"fillpattern\":{\"fillmode\":\"overlay\",\"size\":10,\"solidity\":0.2},\"type\":\"scatter\"}],\"parcoords\":[{\"type\":\"parcoords\",\"line\":{\"colorbar\":{\"outlinewidth\":0,\"ticks\":\"\"}}}],\"scatterpolargl\":[{\"type\":\"scatterpolargl\",\"marker\":{\"colorbar\":{\"outlinewidth\":0,\"ticks\":\"\"}}}],\"bar\":[{\"error_x\":{\"color\":\"#2a3f5f\"},\"error_y\":{\"color\":\"#2a3f5f\"},\"marker\":{\"line\":{\"color\":\"#E5ECF6\",\"width\":0.5},\"pattern\":{\"fillmode\":\"overlay\",\"size\":10,\"solidity\":0.2}},\"type\":\"bar\"}],\"scattergeo\":[{\"type\":\"scattergeo\",\"marker\":{\"colorbar\":{\"outlinewidth\":0,\"ticks\":\"\"}}}],\"scatterpolar\":[{\"type\":\"scatterpolar\",\"marker\":{\"colorbar\":{\"outlinewidth\":0,\"ticks\":\"\"}}}],\"histogram\":[{\"marker\":{\"pattern\":{\"fillmode\":\"overlay\",\"size\":10,\"solidity\":0.2}},\"type\":\"histogram\"}],\"scattergl\":[{\"type\":\"scattergl\",\"marker\":{\"colorbar\":{\"outlinewidth\":0,\"ticks\":\"\"}}}],\"scatter3d\":[{\"type\":\"scatter3d\",\"line\":{\"colorbar\":{\"outlinewidth\":0,\"ticks\":\"\"}},\"marker\":{\"colorbar\":{\"outlinewidth\":0,\"ticks\":\"\"}}}],\"scattermapbox\":[{\"type\":\"scattermapbox\",\"marker\":{\"colorbar\":{\"outlinewidth\":0,\"ticks\":\"\"}}}],\"scatterternary\":[{\"type\":\"scatterternary\",\"marker\":{\"colorbar\":{\"outlinewidth\":0,\"ticks\":\"\"}}}],\"scattercarpet\":[{\"type\":\"scattercarpet\",\"marker\":{\"colorbar\":{\"outlinewidth\":0,\"ticks\":\"\"}}}],\"carpet\":[{\"aaxis\":{\"endlinecolor\":\"#2a3f5f\",\"gridcolor\":\"white\",\"linecolor\":\"white\",\"minorgridcolor\":\"white\",\"startlinecolor\":\"#2a3f5f\"},\"baxis\":{\"endlinecolor\":\"#2a3f5f\",\"gridcolor\":\"white\",\"linecolor\":\"white\",\"minorgridcolor\":\"white\",\"startlinecolor\":\"#2a3f5f\"},\"type\":\"carpet\"}],\"table\":[{\"cells\":{\"fill\":{\"color\":\"#EBF0F8\"},\"line\":{\"color\":\"white\"}},\"header\":{\"fill\":{\"color\":\"#C8D4E3\"},\"line\":{\"color\":\"white\"}},\"type\":\"table\"}],\"barpolar\":[{\"marker\":{\"line\":{\"color\":\"#E5ECF6\",\"width\":0.5},\"pattern\":{\"fillmode\":\"overlay\",\"size\":10,\"solidity\":0.2}},\"type\":\"barpolar\"}],\"pie\":[{\"automargin\":true,\"type\":\"pie\"}]},\"layout\":{\"autotypenumbers\":\"strict\",\"colorway\":[\"#636efa\",\"#EF553B\",\"#00cc96\",\"#ab63fa\",\"#FFA15A\",\"#19d3f3\",\"#FF6692\",\"#B6E880\",\"#FF97FF\",\"#FECB52\"],\"font\":{\"color\":\"#2a3f5f\"},\"hovermode\":\"closest\",\"hoverlabel\":{\"align\":\"left\"},\"paper_bgcolor\":\"white\",\"plot_bgcolor\":\"#E5ECF6\",\"polar\":{\"bgcolor\":\"#E5ECF6\",\"angularaxis\":{\"gridcolor\":\"white\",\"linecolor\":\"white\",\"ticks\":\"\"},\"radialaxis\":{\"gridcolor\":\"white\",\"linecolor\":\"white\",\"ticks\":\"\"}},\"ternary\":{\"bgcolor\":\"#E5ECF6\",\"aaxis\":{\"gridcolor\":\"white\",\"linecolor\":\"white\",\"ticks\":\"\"},\"baxis\":{\"gridcolor\":\"white\",\"linecolor\":\"white\",\"ticks\":\"\"},\"caxis\":{\"gridcolor\":\"white\",\"linecolor\":\"white\",\"ticks\":\"\"}},\"coloraxis\":{\"colorbar\":{\"outlinewidth\":0,\"ticks\":\"\"}},\"colorscale\":{\"sequential\":[[0.0,\"#0d0887\"],[0.1111111111111111,\"#46039f\"],[0.2222222222222222,\"#7201a8\"],[0.3333333333333333,\"#9c179e\"],[0.4444444444444444,\"#bd3786\"],[0.5555555555555556,\"#d8576b\"],[0.6666666666666666,\"#ed7953\"],[0.7777777777777778,\"#fb9f3a\"],[0.8888888888888888,\"#fdca26\"],[1.0,\"#f0f921\"]],\"sequentialminus\":[[0.0,\"#0d0887\"],[0.1111111111111111,\"#46039f\"],[0.2222222222222222,\"#7201a8\"],[0.3333333333333333,\"#9c179e\"],[0.4444444444444444,\"#bd3786\"],[0.5555555555555556,\"#d8576b\"],[0.6666666666666666,\"#ed7953\"],[0.7777777777777778,\"#fb9f3a\"],[0.8888888888888888,\"#fdca26\"],[1.0,\"#f0f921\"]],\"diverging\":[[0,\"#8e0152\"],[0.1,\"#c51b7d\"],[0.2,\"#de77ae\"],[0.3,\"#f1b6da\"],[0.4,\"#fde0ef\"],[0.5,\"#f7f7f7\"],[0.6,\"#e6f5d0\"],[0.7,\"#b8e186\"],[0.8,\"#7fbc41\"],[0.9,\"#4d9221\"],[1,\"#276419\"]]},\"xaxis\":{\"gridcolor\":\"white\",\"linecolor\":\"white\",\"ticks\":\"\",\"title\":{\"standoff\":15},\"zerolinecolor\":\"white\",\"automargin\":true,\"zerolinewidth\":2},\"yaxis\":{\"gridcolor\":\"white\",\"linecolor\":\"white\",\"ticks\":\"\",\"title\":{\"standoff\":15},\"zerolinecolor\":\"white\",\"automargin\":true,\"zerolinewidth\":2},\"scene\":{\"xaxis\":{\"backgroundcolor\":\"#E5ECF6\",\"gridcolor\":\"white\",\"linecolor\":\"white\",\"showbackground\":true,\"ticks\":\"\",\"zerolinecolor\":\"white\",\"gridwidth\":2},\"yaxis\":{\"backgroundcolor\":\"#E5ECF6\",\"gridcolor\":\"white\",\"linecolor\":\"white\",\"showbackground\":true,\"ticks\":\"\",\"zerolinecolor\":\"white\",\"gridwidth\":2},\"zaxis\":{\"backgroundcolor\":\"#E5ECF6\",\"gridcolor\":\"white\",\"linecolor\":\"white\",\"showbackground\":true,\"ticks\":\"\",\"zerolinecolor\":\"white\",\"gridwidth\":2}},\"shapedefaults\":{\"line\":{\"color\":\"#2a3f5f\"}},\"annotationdefaults\":{\"arrowcolor\":\"#2a3f5f\",\"arrowhead\":0,\"arrowwidth\":1},\"geo\":{\"bgcolor\":\"white\",\"landcolor\":\"#E5ECF6\",\"subunitcolor\":\"white\",\"showland\":true,\"showlakes\":true,\"lakecolor\":\"white\"},\"title\":{\"x\":0.05},\"mapbox\":{\"style\":\"light\"}}},\"xaxis\":{\"anchor\":\"y\",\"domain\":[0.0,1.0],\"title\":{\"text\":\"Date\"},\"dtick\":\"M1\",\"tickformat\":\"%b\\n%Y\"},\"yaxis\":{\"anchor\":\"x\",\"domain\":[0.0,1.0],\"title\":{\"text\":\"value\"}},\"legend\":{\"title\":{\"text\":\"variable\"},\"tracegroupgap\":0},\"title\":{\"text\":\"Study of Defence, Service, and Infastructure Sectors in the Market\"}},                        {\"responsive\": true}                    ).then(function(){\n",
              "                            \n",
              "var gd = document.getElementById('71938791-abf5-42eb-8765-3d165f173d27');\n",
              "var x = new MutationObserver(function (mutations, observer) {{\n",
              "        var display = window.getComputedStyle(gd).display;\n",
              "        if (!display || display === 'none') {{\n",
              "            console.log([gd, 'removed!']);\n",
              "            Plotly.purge(gd);\n",
              "            observer.disconnect();\n",
              "        }}\n",
              "}});\n",
              "\n",
              "// Listen for the removal of the full notebook cells\n",
              "var notebookContainer = gd.closest('#notebook-container');\n",
              "if (notebookContainer) {{\n",
              "    x.observe(notebookContainer, {childList: true});\n",
              "}}\n",
              "\n",
              "// Listen for the clearing of the current output cell\n",
              "var outputEl = gd.closest('.output');\n",
              "if (outputEl) {{\n",
              "    x.observe(outputEl, {childList: true});\n",
              "}}\n",
              "\n",
              "                        })                };                            </script>        </div>\n",
              "</body>\n",
              "</html>"
            ]
          },
          "metadata": {}
        }
      ]
    },
    {
      "cell_type": "code",
      "source": [
        "gdf.columns"
      ],
      "metadata": {
        "id": "QxZNzyPWJ1w2",
        "colab": {
          "base_uri": "https://localhost:8080/"
        },
        "outputId": "a3f5532e-ef3a-43c4-f299-12be4505d903"
      },
      "id": "QxZNzyPWJ1w2",
      "execution_count": null,
      "outputs": [
        {
          "output_type": "execute_result",
          "data": {
            "text/plain": [
              "Index(['AMZN', 'CAT', 'HD', 'INTC', 'JPM', 'LMT', 'RTX', 'TGT', 'VLO', 'XOM',\n",
              "       'Date'],\n",
              "      dtype='object')"
            ]
          },
          "metadata": {},
          "execution_count": 91
        }
      ]
    },
    {
      "cell_type": "code",
      "source": [
        "type(gdf.columns)"
      ],
      "metadata": {
        "colab": {
          "base_uri": "https://localhost:8080/"
        },
        "id": "93XsSiTPJywG",
        "outputId": "e711d7e1-c893-4379-bd29-90c6386eb640"
      },
      "id": "93XsSiTPJywG",
      "execution_count": null,
      "outputs": [
        {
          "output_type": "execute_result",
          "data": {
            "text/plain": [
              "pandas.core.indexes.base.Index"
            ]
          },
          "metadata": {},
          "execution_count": 92
        }
      ]
    }
  ],
  "metadata": {
    "kernelspec": {
      "display_name": "Python 3 (ipykernel)",
      "language": "python",
      "name": "python3"
    },
    "language_info": {
      "codemirror_mode": {
        "name": "ipython",
        "version": 3
      },
      "file_extension": ".py",
      "mimetype": "text/x-python",
      "name": "python",
      "nbconvert_exporter": "python",
      "pygments_lexer": "ipython3",
      "version": "3.8.10"
    },
    "colab": {
      "provenance": []
    }
  },
  "nbformat": 4,
  "nbformat_minor": 5
}